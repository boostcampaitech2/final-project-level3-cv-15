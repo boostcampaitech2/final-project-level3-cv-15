{
 "metadata": {
  "language_info": {
   "codemirror_mode": {
    "name": "ipython",
    "version": 3
   },
   "file_extension": ".py",
   "mimetype": "text/x-python",
   "name": "python",
   "nbconvert_exporter": "python",
   "pygments_lexer": "ipython3",
   "version": "3.8.8-final"
  },
  "orig_nbformat": 2,
  "kernelspec": {
   "name": "final_project",
   "display_name": "final_project",
   "language": "python"
  }
 },
 "nbformat": 4,
 "nbformat_minor": 2,
 "cells": [
  {
   "cell_type": "code",
   "execution_count": 1,
   "metadata": {},
   "outputs": [],
   "source": [
    "import zipfile\n",
    "import os\n",
    "import json\n",
    "import pandas as pd\n",
    "import numpy as np\n",
    "import cv2\n",
    "from tqdm import tqdm\n",
    "import matplotlib.pyplot as plt"
   ]
  },
  {
   "cell_type": "code",
   "execution_count": 2,
   "metadata": {},
   "outputs": [
    {
     "output_type": "stream",
     "name": "stdout",
     "text": [
      "['[라벨]1920_1080_night_train_d_1.zip', '[라벨]d_1920_1080_daylight_train_1.zip', '[라벨]d_1920_1080_daylight_train_10.zip', '[라벨]d_1920_1080_daylight_train_11.zip', '[라벨]d_1920_1080_daylight_train_12.zip', '[라벨]d_1920_1080_daylight_train_13.zip', '[라벨]d_1920_1080_daylight_train_14.zip', '[라벨]d_1920_1080_daylight_train_15.zip', '[라벨]d_1920_1080_daylight_train_16.zip', '[라벨]d_1920_1080_daylight_train_2.zip', '[라벨]d_1920_1080_daylight_train_3.zip', '[라벨]d_1920_1080_daylight_train_4.zip', '[라벨]d_1920_1080_daylight_train_5.zip', '[라벨]d_1920_1080_daylight_train_6.zip', '[라벨]d_1920_1080_daylight_train_7.zip', '[라벨]d_1920_1080_daylight_train_8.zip', '[라벨]d_1920_1080_daylight_train_9.zip', '[원천]d_1920_1080_daylight_train_1.zip', '[원천]d_1920_1080_daylight_train_10.zip', '[원천]d_1920_1080_daylight_train_2.zip']\n['[라벨]1920_1080_night_train_d_1.zip', '[라벨]d_1920_1080_daylight_train_1.zip', '[라벨]d_1920_1080_daylight_train_10.zip', '[라벨]d_1920_1080_daylight_train_11.zip', '[라벨]d_1920_1080_daylight_train_12.zip', '[라벨]d_1920_1080_daylight_train_13.zip', '[라벨]d_1920_1080_daylight_train_14.zip', '[라벨]d_1920_1080_daylight_train_15.zip', '[라벨]d_1920_1080_daylight_train_16.zip', '[라벨]d_1920_1080_daylight_train_2.zip', '[라벨]d_1920_1080_daylight_train_3.zip', '[라벨]d_1920_1080_daylight_train_4.zip', '[라벨]d_1920_1080_daylight_train_5.zip', '[라벨]d_1920_1080_daylight_train_6.zip', '[라벨]d_1920_1080_daylight_train_7.zip', '[라벨]d_1920_1080_daylight_train_8.zip', '[라벨]d_1920_1080_daylight_train_9.zip']\n"
     ]
    }
   ],
   "source": [
    "ZIP_ROOT = '/Users/sm/Downloads/차선-횡단보도 인지 영상(수도권)/Training'\n",
    "zip_list = [i for i in os.listdir(ZIP_ROOT) if i.endswith('.zip')]\n",
    "zip_list = sorted(zip_list)\n",
    "# remove later\n",
    "print(zip_list)\n",
    "zip_list = zip_list[:-3]\n",
    "print(zip_list)"
   ]
  },
  {
   "cell_type": "code",
   "execution_count": 3,
   "metadata": {},
   "outputs": [],
   "source": [
    "def coco_form():\n",
    "    coco_format = dict(\n",
    "        info=dict(\n",
    "            year=2021, version=\"1.0\", description=\"Crosswalk extraction\", contributor=\"AI Hub\", url=\"https://aihub.or.kr/aidata/27675\", date_created='2021-12-14 02:39:00'\n",
    "        ),\n",
    "        licenses=[\n",
    "            dict(id=0, name='', url='')\n",
    "        ],\n",
    "        categories=[\n",
    "            dict(id=0, name='background', supercategory=None),\n",
    "            dict(id=1, name='crosswalk', supercategory=None)\n",
    "        ],\n",
    "        images=[\n",
    "        ],\n",
    "        annotations=[\n",
    "        ]\n",
    "    )\n",
    "\n",
    "    return coco_format"
   ]
  },
  {
   "cell_type": "code",
   "execution_count": 5,
   "metadata": {
    "tags": []
   },
   "outputs": [
    {
     "output_type": "stream",
     "name": "stderr",
     "text": [
      "  0%|          | 0/17 [00:00<?, ?it/s][라벨]1920_1080_night_train_d_1.zip start len : 8729\n",
      "  6%|▌         | 1/17 [00:01<00:21,  1.31s/it][라벨]d_1920_1080_daylight_train_1.zip start len : 15000\n",
      "{'image': {'file_name': '14277614.jpg', 'image_size': [1080, 1920]}, 'annotations': [{'class': 'traffic_lane', 'attributes': [{'code': 'lane_color', 'value': 'white'}, {'code': 'lane_type', 'value': 'dotted'}], 'category': 'polyline', 'data': [{'x': 388, 'y': 953}, {'x': 640, 'y': 726}]}, {'class': 'traffic_lane', 'attributes': [{'code': 'lane_color', 'value': 'yellow'}, {'code': 'lane_type', 'value': 'solid'}], 'category': 'polyline', 'data': [{'x': 639, 'y': 724}, {'x': 741, 'y': 630}, {'x': 755, 'y': 617}]}, {'class': 'stop_line', 'attributes': [], 'category': 'polyline', 'data': [{'x': 696, 'y': 629}, {'x': 517, 'y': 628}]}, {'class': 'crosswalk', 'attributes': [], 'category': 'polygon', 'data': [{'x': 665, 'y': 622}, {'x': 741, 'y': 626}, {'x': 741, 'y': 608}, {'x': 662, 'y': 608}]}, {'class': 'traffic_lane', 'attributes': [{'code': 'lane_color', 'value': 'yellow'}, {'code': 'lane_type', 'value': 'solid'}], 'category': 'polyline', 'data': [{'x': 1492, 'y': 1077}, {'x': 1375, 'y': 969}, {'x': 1333, 'y': 922}]}, {'class': 'traffic_lane', 'attributes': [{'code': 'lane_color', 'value': 'yellow'}, {'code': 'lane_type', 'value': 'solid'}], 'category': 'polyline', 'data': [{'x': 1568, 'y': 1078}, {'x': 1308, 'y': 857}, {'x': 1240, 'y': 781}, {'x': 1241, 'y': 747}, {'x': 1273, 'y': 733}, {'x': 1298, 'y': 726}]}, {'class': 'traffic_lane', 'attributes': [{'code': 'lane_color', 'value': 'yellow'}, {'code': 'lane_type', 'value': 'solid'}], 'category': 'polyline', 'data': [{'x': 675, 'y': 707}, {'x': 802, 'y': 688}, {'x': 884, 'y': 674}, {'x': 974, 'y': 663}, {'x': 1151, 'y': 639}, {'x': 1178, 'y': 634}, {'x': 1297, 'y': 622}, {'x': 1360, 'y': 621}]}, {'class': 'crosswalk', 'attributes': [], 'category': 'polygon', 'data': [{'x': 1293, 'y': 609}, {'x': 1363, 'y': 611}, {'x': 1363, 'y': 604}]}, {'class': 'crosswalk', 'attributes': [], 'category': 'polygon', 'data': [{'x': 897, 'y': 582}, {'x': 897, 'y': 598}, {'x': 935, 'y': 602}, {'x': 1237, 'y': 596}, {'x': 1107, 'y': 580}]}, {'class': 'traffic_lane', 'attributes': [{'code': 'lane_color', 'value': 'white'}, {'code': 'lane_type', 'value': 'dotted'}], 'category': 'polyline', 'data': [{'x': 15, 'y': 689}, {'x': 2, 'y': 692}]}]}\n",
      " 12%|█▏        | 2/17 [00:04<00:32,  2.14s/it][라벨]d_1920_1080_daylight_train_10.zip start len : 15000\n",
      " 18%|█▊        | 3/17 [00:06<00:32,  2.29s/it][라벨]d_1920_1080_daylight_train_11.zip start len : 15000\n",
      " 24%|██▎       | 4/17 [00:08<00:28,  2.21s/it][라벨]d_1920_1080_daylight_train_12.zip start len : 15000\n",
      " 29%|██▉       | 5/17 [00:10<00:24,  2.05s/it][라벨]d_1920_1080_daylight_train_13.zip start len : 15000\n",
      " 35%|███▌      | 6/17 [00:12<00:24,  2.19s/it][라벨]d_1920_1080_daylight_train_14.zip start len : 15000\n",
      " 41%|████      | 7/17 [00:14<00:20,  2.08s/it][라벨]d_1920_1080_daylight_train_15.zip start len : 15000\n",
      " 47%|████▋     | 8/17 [00:17<00:19,  2.19s/it][라벨]d_1920_1080_daylight_train_16.zip start len : 7201\n",
      " 53%|█████▎    | 9/17 [00:18<00:14,  1.79s/it][라벨]d_1920_1080_daylight_train_2.zip start len : 15000\n",
      " 59%|█████▉    | 10/17 [00:20<00:15,  2.16s/it][라벨]d_1920_1080_daylight_train_3.zip start len : 15000\n",
      " 65%|██████▍   | 11/17 [00:23<00:14,  2.38s/it][라벨]d_1920_1080_daylight_train_4.zip start len : 15000\n",
      " 71%|███████   | 12/17 [00:25<00:10,  2.11s/it][라벨]d_1920_1080_daylight_train_5.zip start len : 15000\n",
      " 76%|███████▋  | 13/17 [00:27<00:07,  1.98s/it][라벨]d_1920_1080_daylight_train_6.zip start len : 15000\n",
      " 82%|████████▏ | 14/17 [00:30<00:06,  2.33s/it][라벨]d_1920_1080_daylight_train_7.zip start len : 15000\n",
      " 88%|████████▊ | 15/17 [00:31<00:04,  2.09s/it][라벨]d_1920_1080_daylight_train_8.zip start len : 15000\n",
      " 94%|█████████▍| 16/17 [00:33<00:02,  2.04s/it][라벨]d_1920_1080_daylight_train_9.zip start len : 15000\n",
      "100%|██████████| 17/17 [00:35<00:00,  2.07s/it]\n"
     ]
    }
   ],
   "source": [
    "# 각 annotation.json file 의 구조\n",
    "# dict_keys(['image', 'annotations'])\n",
    "# anno['image'] : dict(file_name='', image_size='')\n",
    "# anno['annotations'] = list(\n",
    "#                           dict(class='str',\n",
    "                                #traffic lane 만 존재하는 value 나머지는 빈 리스트값\n",
    "#                               attributes='dict(code='', value='')',\n",
    "                                # 횡단보도는 polygon 만 존재 \n",
    "#                               category='str in ['polyline', 'polygon']', \n",
    "#                               data='list(dict(x:='', y=''), dict(x:='', y=''))'\n",
    "#                               )\n",
    "# )\n",
    "coco_format = coco_form()\n",
    "\n",
    "dataframe_keylist = ['file_locate', 'file_name', 'class', 'coord']\n",
    "dataframe_value=[]\n",
    "# error_img = ['15337349', '14994218']\n",
    "error_img = ['14277614']\n",
    "get_info = []\n",
    "# image id index\n",
    "id_idx = 0\n",
    "anno_id_idx = 0\n",
    "\n",
    "for zip_file in tqdm(zip_list):\n",
    "    zip_file_name = zip_file.replace('라벨','원천')\n",
    "    with zipfile.ZipFile(os.path.join(ZIP_ROOT, zip_file), 'r') as target_zip:\n",
    "        json_list = target_zip.namelist()\n",
    "        print(f'{zip_file} start len : {len(json_list)}')\n",
    "        for json_file in json_list:\n",
    "            id_idx_flag = False\n",
    "            with target_zip.open(json_file, 'r') as extract_json:\n",
    "                json_info = json.load(extract_json)\n",
    "                if json_file.split('.')[0] in error_img:\n",
    "                    print(json_info)\n",
    "                    get_info.append(json_info)\n",
    "                for anno in json_info['annotations']:\n",
    "                    # 좌표정보\n",
    "                    segmentation_coord = []\n",
    "                    for coordinate in anno['data']:\n",
    "                        # mapping to 0 under 0\n",
    "                        x = 0 if coordinate['x'] < 0 else coordinate['x']\n",
    "                        y = 0 if coordinate['y'] < 0 else coordinate['y']\n",
    "\n",
    "                        # mapping 1920, 1080 over values\n",
    "                        x = 1919 if x >=1920 else coordinate['x']\n",
    "                        y = 1079 if y >=1080 else coordinate['y']\n",
    "\n",
    "                        segmentation_coord.append([x,y])\n",
    "\n",
    "                    if anno['class'] == 'crosswalk':\n",
    "                        #anno info append\n",
    "                        coco_format['annotations'].append(\n",
    "                            dict(id=anno_id_idx, image_id=id_idx, category_id=1, bbox=[], area=0, segmentation=segmentation_coord, iscrowd=0)\n",
    "                            )\n",
    "                        # anno index +=1\n",
    "                        anno_id_idx+=1\n",
    "                        # id add flag set True\n",
    "                        id_idx_flag = True\n",
    "                    \n",
    "                    # dataframe 생성용도(검증용)\n",
    "                    dataframe_value.append(\n",
    "                        [zip_file_name, json_info['image']['file_name'], anno['class'], segmentation_coord]\n",
    "                        )\n",
    "                        \n",
    "                if id_idx_flag:\n",
    "                    #image info append\n",
    "                    coco_format['images'].append(\n",
    "                        dict(license=0, url=None, file_name=json_info['image']['file_name'],\n",
    "                            height=json_info['image']['image_size'][0], width=json_info['image']['image_size'][1], data_captured=None, id=id_idx)\n",
    "                            )\n",
    "                    id_idx+=1\n",
    "                    \n"
   ]
  },
  {
   "cell_type": "code",
   "execution_count": 6,
   "metadata": {},
   "outputs": [
    {
     "output_type": "stream",
     "name": "stdout",
     "text": [
      "179417\n"
     ]
    },
    {
     "output_type": "execute_result",
     "data": {
      "text/plain": [
       "                                  file_locate     file_name      class  \\\n",
       "18          [원천]1920_1080_night_train_d_1.zip  15691903.jpg  crosswalk   \n",
       "40          [원천]1920_1080_night_train_d_1.zip  15484144.jpg  crosswalk   \n",
       "41          [원천]1920_1080_night_train_d_1.zip  15484144.jpg  crosswalk   \n",
       "52          [원천]1920_1080_night_train_d_1.zip  14427380.jpg  crosswalk   \n",
       "53          [원천]1920_1080_night_train_d_1.zip  14427380.jpg  crosswalk   \n",
       "...                                       ...           ...        ...   \n",
       "1683961  [원천]d_1920_1080_daylight_train_9.zip  14548161.jpg  crosswalk   \n",
       "1683962  [원천]d_1920_1080_daylight_train_9.zip  14548161.jpg  crosswalk   \n",
       "1683967  [원천]d_1920_1080_daylight_train_9.zip  14758492.jpg  crosswalk   \n",
       "1683968  [원천]d_1920_1080_daylight_train_9.zip  14758492.jpg  crosswalk   \n",
       "1683992  [원천]d_1920_1080_daylight_train_9.zip  14758082.jpg  crosswalk   \n",
       "\n",
       "                                                     coord  \n",
       "18       [[1112, 708], [628, 765], [330, 788], [3, 820]...  \n",
       "40       [[118, 806], [1644, 822], [1914, 817], [1919, ...  \n",
       "41       [[2, 636], [430, 623], [791, 615], [1343, 598]...  \n",
       "52       [[6, 639], [552, 587], [378, 572], [7, 578], [...  \n",
       "53       [[937, 602], [1219, 624], [1579, 653], [1527, ...  \n",
       "...                                                    ...  \n",
       "1683961  [[522, 612], [901, 601], [1074, 598], [1149, 6...  \n",
       "1683962  [[1318, 607], [1716, 601], [1716, 666], [1575,...  \n",
       "1683967     [[30, 635], [658, 563], [617, 558], [78, 619]]  \n",
       "1683968  [[1038, 520], [1276, 519], [1913, 515], [1917,...  \n",
       "1683992   [[160, 535], [478, 541], [473, 535], [154, 530]]  \n",
       "\n",
       "[179417 rows x 4 columns]"
      ],
      "text/html": "<div>\n<style scoped>\n    .dataframe tbody tr th:only-of-type {\n        vertical-align: middle;\n    }\n\n    .dataframe tbody tr th {\n        vertical-align: top;\n    }\n\n    .dataframe thead th {\n        text-align: right;\n    }\n</style>\n<table border=\"1\" class=\"dataframe\">\n  <thead>\n    <tr style=\"text-align: right;\">\n      <th></th>\n      <th>file_locate</th>\n      <th>file_name</th>\n      <th>class</th>\n      <th>coord</th>\n    </tr>\n  </thead>\n  <tbody>\n    <tr>\n      <th>18</th>\n      <td>[원천]1920_1080_night_train_d_1.zip</td>\n      <td>15691903.jpg</td>\n      <td>crosswalk</td>\n      <td>[[1112, 708], [628, 765], [330, 788], [3, 820]...</td>\n    </tr>\n    <tr>\n      <th>40</th>\n      <td>[원천]1920_1080_night_train_d_1.zip</td>\n      <td>15484144.jpg</td>\n      <td>crosswalk</td>\n      <td>[[118, 806], [1644, 822], [1914, 817], [1919, ...</td>\n    </tr>\n    <tr>\n      <th>41</th>\n      <td>[원천]1920_1080_night_train_d_1.zip</td>\n      <td>15484144.jpg</td>\n      <td>crosswalk</td>\n      <td>[[2, 636], [430, 623], [791, 615], [1343, 598]...</td>\n    </tr>\n    <tr>\n      <th>52</th>\n      <td>[원천]1920_1080_night_train_d_1.zip</td>\n      <td>14427380.jpg</td>\n      <td>crosswalk</td>\n      <td>[[6, 639], [552, 587], [378, 572], [7, 578], [...</td>\n    </tr>\n    <tr>\n      <th>53</th>\n      <td>[원천]1920_1080_night_train_d_1.zip</td>\n      <td>14427380.jpg</td>\n      <td>crosswalk</td>\n      <td>[[937, 602], [1219, 624], [1579, 653], [1527, ...</td>\n    </tr>\n    <tr>\n      <th>...</th>\n      <td>...</td>\n      <td>...</td>\n      <td>...</td>\n      <td>...</td>\n    </tr>\n    <tr>\n      <th>1683961</th>\n      <td>[원천]d_1920_1080_daylight_train_9.zip</td>\n      <td>14548161.jpg</td>\n      <td>crosswalk</td>\n      <td>[[522, 612], [901, 601], [1074, 598], [1149, 6...</td>\n    </tr>\n    <tr>\n      <th>1683962</th>\n      <td>[원천]d_1920_1080_daylight_train_9.zip</td>\n      <td>14548161.jpg</td>\n      <td>crosswalk</td>\n      <td>[[1318, 607], [1716, 601], [1716, 666], [1575,...</td>\n    </tr>\n    <tr>\n      <th>1683967</th>\n      <td>[원천]d_1920_1080_daylight_train_9.zip</td>\n      <td>14758492.jpg</td>\n      <td>crosswalk</td>\n      <td>[[30, 635], [658, 563], [617, 558], [78, 619]]</td>\n    </tr>\n    <tr>\n      <th>1683968</th>\n      <td>[원천]d_1920_1080_daylight_train_9.zip</td>\n      <td>14758492.jpg</td>\n      <td>crosswalk</td>\n      <td>[[1038, 520], [1276, 519], [1913, 515], [1917,...</td>\n    </tr>\n    <tr>\n      <th>1683992</th>\n      <td>[원천]d_1920_1080_daylight_train_9.zip</td>\n      <td>14758082.jpg</td>\n      <td>crosswalk</td>\n      <td>[[160, 535], [478, 541], [473, 535], [154, 530]]</td>\n    </tr>\n  </tbody>\n</table>\n<p>179417 rows × 4 columns</p>\n</div>"
     },
     "metadata": {},
     "execution_count": 6
    }
   ],
   "source": [
    "print(len(coco_format['annotations']))\n",
    "\n",
    "all_df = pd.DataFrame(dataframe_value, columns=dataframe_keylist)\n",
    "get_dist = all_df[all_df['class'] == 'crosswalk']\n",
    "get_dist"
   ]
  },
  {
   "cell_type": "code",
   "execution_count": 7,
   "metadata": {},
   "outputs": [
    {
     "output_type": "execute_result",
     "data": {
      "text/plain": [
       "[원천]d_1920_1080_daylight_train_2.zip     19492\n",
       "[원천]d_1920_1080_daylight_train_1.zip     15428\n",
       "[원천]d_1920_1080_daylight_train_14.zip    13138\n",
       "[원천]d_1920_1080_daylight_train_8.zip     13120\n",
       "[원천]d_1920_1080_daylight_train_5.zip     12683\n",
       "[원천]d_1920_1080_daylight_train_10.zip    12253\n",
       "[원천]d_1920_1080_daylight_train_13.zip    11885\n",
       "[원천]d_1920_1080_daylight_train_3.zip     10869\n",
       "[원천]d_1920_1080_daylight_train_4.zip     10777\n",
       "[원천]d_1920_1080_daylight_train_15.zip    10577\n",
       "[원천]d_1920_1080_daylight_train_11.zip     9183\n",
       "[원천]d_1920_1080_daylight_train_9.zip      8233\n",
       "[원천]d_1920_1080_daylight_train_12.zip     7701\n",
       "[원천]d_1920_1080_daylight_train_6.zip      7362\n",
       "[원천]d_1920_1080_daylight_train_7.zip      6379\n",
       "[원천]d_1920_1080_daylight_train_16.zip     6115\n",
       "[원천]1920_1080_night_train_d_1.zip         4222\n",
       "Name: file_locate, dtype: int64"
      ]
     },
     "metadata": {},
     "execution_count": 7
    }
   ],
   "source": [
    "# num of annotations\n",
    "get_dist['file_locate'].value_counts()"
   ]
  },
  {
   "cell_type": "code",
   "execution_count": 8,
   "metadata": {},
   "outputs": [
    {
     "output_type": "execute_result",
     "data": {
      "text/plain": [
       "file_locate\n",
       "[원천]1920_1080_night_train_d_1.zip         4222\n",
       "[원천]d_1920_1080_daylight_train_1.zip     15428\n",
       "[원천]d_1920_1080_daylight_train_10.zip    12253\n",
       "[원천]d_1920_1080_daylight_train_11.zip     9183\n",
       "[원천]d_1920_1080_daylight_train_12.zip     7701\n",
       "[원천]d_1920_1080_daylight_train_13.zip    11885\n",
       "[원천]d_1920_1080_daylight_train_14.zip    13138\n",
       "[원천]d_1920_1080_daylight_train_15.zip    10577\n",
       "[원천]d_1920_1080_daylight_train_16.zip     6115\n",
       "[원천]d_1920_1080_daylight_train_2.zip     19492\n",
       "[원천]d_1920_1080_daylight_train_3.zip     10869\n",
       "[원천]d_1920_1080_daylight_train_4.zip     10777\n",
       "[원천]d_1920_1080_daylight_train_5.zip     12683\n",
       "[원천]d_1920_1080_daylight_train_6.zip      7362\n",
       "[원천]d_1920_1080_daylight_train_7.zip      6379\n",
       "[원천]d_1920_1080_daylight_train_8.zip     13120\n",
       "[원천]d_1920_1080_daylight_train_9.zip      8233\n",
       "Name: file_name, dtype: int64"
      ]
     },
     "metadata": {},
     "execution_count": 8
    }
   ],
   "source": [
    "# num of images\n",
    "get_dist.groupby('file_locate')['file_name'].count()"
   ]
  },
  {
   "cell_type": "code",
   "execution_count": 72,
   "metadata": {},
   "outputs": [
    {
     "output_type": "execute_result",
     "data": {
      "text/plain": [
       "<matplotlib.image.AxesImage at 0x7fc35f49bfd0>"
      ]
     },
     "metadata": {},
     "execution_count": 72
    },
    {
     "output_type": "display_data",
     "data": {
      "text/plain": "<Figure size 432x288 with 1 Axes>",
      "image/svg+xml": "<?xml version=\"1.0\" encoding=\"utf-8\" standalone=\"no\"?>\n<!DOCTYPE svg PUBLIC \"-//W3C//DTD SVG 1.1//EN\"\n  \"http://www.w3.org/Graphics/SVG/1.1/DTD/svg11.dtd\">\n<svg xmlns:xlink=\"http://www.w3.org/1999/xlink\" width=\"381.65pt\" height=\"223.115156pt\" viewBox=\"0 0 381.65 223.115156\" xmlns=\"http://www.w3.org/2000/svg\" version=\"1.1\">\n <metadata>\n  <rdf:RDF xmlns:dc=\"http://purl.org/dc/elements/1.1/\" xmlns:cc=\"http://creativecommons.org/ns#\" xmlns:rdf=\"http://www.w3.org/1999/02/22-rdf-syntax-ns#\">\n   <cc:Work>\n    <dc:type rdf:resource=\"http://purl.org/dc/dcmitype/StillImage\"/>\n    <dc:date>2021-12-14T14:33:35.702990</dc:date>\n    <dc:format>image/svg+xml</dc:format>\n    <dc:creator>\n     <cc:Agent>\n      <dc:title>Matplotlib v3.5.0, https://matplotlib.org/</dc:title>\n     </cc:Agent>\n    </dc:creator>\n   </cc:Work>\n  </rdf:RDF>\n </metadata>\n <defs>\n  <style type=\"text/css\">*{stroke-linejoin: round; stroke-linecap: butt}</style>\n </defs>\n <g id=\"figure_1\">\n  <g id=\"patch_1\">\n   <path d=\"M -0 223.115156 \nL 381.65 223.115156 \nL 381.65 0 \nL -0 0 \nL -0 223.115156 \nz\n\" style=\"fill: none\"/>\n  </g>\n  <g id=\"axes_1\">\n   <g id=\"patch_2\">\n    <path d=\"M 39.65 199.237031 \nL 374.45 199.237031 \nL 374.45 10.912031 \nL 39.65 10.912031 \nz\n\" style=\"fill: #ffffff\"/>\n   </g>\n   <g clip-path=\"url(#p527608ab3f)\">\n    <image xlink:href=\"data:image/png;base64,\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\" id=\"imaged46f6c31f0\" transform=\"scale(1 -1)translate(0 -189)\" x=\"39.65\" y=\"-10.237031\" width=\"335\" height=\"189\"/>\n   </g>\n   <g id=\"matplotlib.axis_1\">\n    <g id=\"xtick_1\">\n     <g id=\"line2d_1\">\n      <defs>\n       <path id=\"mf320bb0273\" d=\"M 0 0 \nL 0 3.5 \n\" style=\"stroke: #000000; stroke-width: 0.8\"/>\n      </defs>\n      <g>\n       <use xlink:href=\"#mf320bb0273\" x=\"39.737188\" y=\"199.237031\" style=\"stroke: #000000; stroke-width: 0.8\"/>\n      </g>\n     </g>\n     <g id=\"text_1\">\n      <!-- 0 -->\n      <g transform=\"translate(36.555938 213.835469)scale(0.1 -0.1)\">\n       <defs>\n        <path id=\"DejaVuSans-30\" d=\"M 2034 4250 \nQ 1547 4250 1301 3770 \nQ 1056 3291 1056 2328 \nQ 1056 1369 1301 889 \nQ 1547 409 2034 409 \nQ 2525 409 2770 889 \nQ 3016 1369 3016 2328 \nQ 3016 3291 2770 3770 \nQ 2525 4250 2034 4250 \nz\nM 2034 4750 \nQ 2819 4750 3233 4129 \nQ 3647 3509 3647 2328 \nQ 3647 1150 3233 529 \nQ 2819 -91 2034 -91 \nQ 1250 -91 836 529 \nQ 422 1150 422 2328 \nQ 422 3509 836 4129 \nQ 1250 4750 2034 4750 \nz\n\" transform=\"scale(0.015625)\"/>\n       </defs>\n       <use xlink:href=\"#DejaVuSans-30\"/>\n      </g>\n     </g>\n    </g>\n    <g id=\"xtick_2\">\n     <g id=\"line2d_2\">\n      <g>\n       <use xlink:href=\"#mf320bb0273\" x=\"83.330938\" y=\"199.237031\" style=\"stroke: #000000; stroke-width: 0.8\"/>\n      </g>\n     </g>\n     <g id=\"text_2\">\n      <!-- 250 -->\n      <g transform=\"translate(73.787188 213.835469)scale(0.1 -0.1)\">\n       <defs>\n        <path id=\"DejaVuSans-32\" d=\"M 1228 531 \nL 3431 531 \nL 3431 0 \nL 469 0 \nL 469 531 \nQ 828 903 1448 1529 \nQ 2069 2156 2228 2338 \nQ 2531 2678 2651 2914 \nQ 2772 3150 2772 3378 \nQ 2772 3750 2511 3984 \nQ 2250 4219 1831 4219 \nQ 1534 4219 1204 4116 \nQ 875 4013 500 3803 \nL 500 4441 \nQ 881 4594 1212 4672 \nQ 1544 4750 1819 4750 \nQ 2544 4750 2975 4387 \nQ 3406 4025 3406 3419 \nQ 3406 3131 3298 2873 \nQ 3191 2616 2906 2266 \nQ 2828 2175 2409 1742 \nQ 1991 1309 1228 531 \nz\n\" transform=\"scale(0.015625)\"/>\n        <path id=\"DejaVuSans-35\" d=\"M 691 4666 \nL 3169 4666 \nL 3169 4134 \nL 1269 4134 \nL 1269 2991 \nQ 1406 3038 1543 3061 \nQ 1681 3084 1819 3084 \nQ 2600 3084 3056 2656 \nQ 3513 2228 3513 1497 \nQ 3513 744 3044 326 \nQ 2575 -91 1722 -91 \nQ 1428 -91 1123 -41 \nQ 819 9 494 109 \nL 494 744 \nQ 775 591 1075 516 \nQ 1375 441 1709 441 \nQ 2250 441 2565 725 \nQ 2881 1009 2881 1497 \nQ 2881 1984 2565 2268 \nQ 2250 2553 1709 2553 \nQ 1456 2553 1204 2497 \nQ 953 2441 691 2322 \nL 691 4666 \nz\n\" transform=\"scale(0.015625)\"/>\n       </defs>\n       <use xlink:href=\"#DejaVuSans-32\"/>\n       <use xlink:href=\"#DejaVuSans-35\" x=\"63.623047\"/>\n       <use xlink:href=\"#DejaVuSans-30\" x=\"127.246094\"/>\n      </g>\n     </g>\n    </g>\n    <g id=\"xtick_3\">\n     <g id=\"line2d_3\">\n      <g>\n       <use xlink:href=\"#mf320bb0273\" x=\"126.924688\" y=\"199.237031\" style=\"stroke: #000000; stroke-width: 0.8\"/>\n      </g>\n     </g>\n     <g id=\"text_3\">\n      <!-- 500 -->\n      <g transform=\"translate(117.380938 213.835469)scale(0.1 -0.1)\">\n       <use xlink:href=\"#DejaVuSans-35\"/>\n       <use xlink:href=\"#DejaVuSans-30\" x=\"63.623047\"/>\n       <use xlink:href=\"#DejaVuSans-30\" x=\"127.246094\"/>\n      </g>\n     </g>\n    </g>\n    <g id=\"xtick_4\">\n     <g id=\"line2d_4\">\n      <g>\n       <use xlink:href=\"#mf320bb0273\" x=\"170.518438\" y=\"199.237031\" style=\"stroke: #000000; stroke-width: 0.8\"/>\n      </g>\n     </g>\n     <g id=\"text_4\">\n      <!-- 750 -->\n      <g transform=\"translate(160.974688 213.835469)scale(0.1 -0.1)\">\n       <defs>\n        <path id=\"DejaVuSans-37\" d=\"M 525 4666 \nL 3525 4666 \nL 3525 4397 \nL 1831 0 \nL 1172 0 \nL 2766 4134 \nL 525 4134 \nL 525 4666 \nz\n\" transform=\"scale(0.015625)\"/>\n       </defs>\n       <use xlink:href=\"#DejaVuSans-37\"/>\n       <use xlink:href=\"#DejaVuSans-35\" x=\"63.623047\"/>\n       <use xlink:href=\"#DejaVuSans-30\" x=\"127.246094\"/>\n      </g>\n     </g>\n    </g>\n    <g id=\"xtick_5\">\n     <g id=\"line2d_5\">\n      <g>\n       <use xlink:href=\"#mf320bb0273\" x=\"214.112188\" y=\"199.237031\" style=\"stroke: #000000; stroke-width: 0.8\"/>\n      </g>\n     </g>\n     <g id=\"text_5\">\n      <!-- 1000 -->\n      <g transform=\"translate(201.387188 213.835469)scale(0.1 -0.1)\">\n       <defs>\n        <path id=\"DejaVuSans-31\" d=\"M 794 531 \nL 1825 531 \nL 1825 4091 \nL 703 3866 \nL 703 4441 \nL 1819 4666 \nL 2450 4666 \nL 2450 531 \nL 3481 531 \nL 3481 0 \nL 794 0 \nL 794 531 \nz\n\" transform=\"scale(0.015625)\"/>\n       </defs>\n       <use xlink:href=\"#DejaVuSans-31\"/>\n       <use xlink:href=\"#DejaVuSans-30\" x=\"63.623047\"/>\n       <use xlink:href=\"#DejaVuSans-30\" x=\"127.246094\"/>\n       <use xlink:href=\"#DejaVuSans-30\" x=\"190.869141\"/>\n      </g>\n     </g>\n    </g>\n    <g id=\"xtick_6\">\n     <g id=\"line2d_6\">\n      <g>\n       <use xlink:href=\"#mf320bb0273\" x=\"257.705938\" y=\"199.237031\" style=\"stroke: #000000; stroke-width: 0.8\"/>\n      </g>\n     </g>\n     <g id=\"text_6\">\n      <!-- 1250 -->\n      <g transform=\"translate(244.980938 213.835469)scale(0.1 -0.1)\">\n       <use xlink:href=\"#DejaVuSans-31\"/>\n       <use xlink:href=\"#DejaVuSans-32\" x=\"63.623047\"/>\n       <use xlink:href=\"#DejaVuSans-35\" x=\"127.246094\"/>\n       <use xlink:href=\"#DejaVuSans-30\" x=\"190.869141\"/>\n      </g>\n     </g>\n    </g>\n    <g id=\"xtick_7\">\n     <g id=\"line2d_7\">\n      <g>\n       <use xlink:href=\"#mf320bb0273\" x=\"301.299688\" y=\"199.237031\" style=\"stroke: #000000; stroke-width: 0.8\"/>\n      </g>\n     </g>\n     <g id=\"text_7\">\n      <!-- 1500 -->\n      <g transform=\"translate(288.574688 213.835469)scale(0.1 -0.1)\">\n       <use xlink:href=\"#DejaVuSans-31\"/>\n       <use xlink:href=\"#DejaVuSans-35\" x=\"63.623047\"/>\n       <use xlink:href=\"#DejaVuSans-30\" x=\"127.246094\"/>\n       <use xlink:href=\"#DejaVuSans-30\" x=\"190.869141\"/>\n      </g>\n     </g>\n    </g>\n    <g id=\"xtick_8\">\n     <g id=\"line2d_8\">\n      <g>\n       <use xlink:href=\"#mf320bb0273\" x=\"344.893438\" y=\"199.237031\" style=\"stroke: #000000; stroke-width: 0.8\"/>\n      </g>\n     </g>\n     <g id=\"text_8\">\n      <!-- 1750 -->\n      <g transform=\"translate(332.168438 213.835469)scale(0.1 -0.1)\">\n       <use xlink:href=\"#DejaVuSans-31\"/>\n       <use xlink:href=\"#DejaVuSans-37\" x=\"63.623047\"/>\n       <use xlink:href=\"#DejaVuSans-35\" x=\"127.246094\"/>\n       <use xlink:href=\"#DejaVuSans-30\" x=\"190.869141\"/>\n      </g>\n     </g>\n    </g>\n   </g>\n   <g id=\"matplotlib.axis_2\">\n    <g id=\"ytick_1\">\n     <g id=\"line2d_9\">\n      <defs>\n       <path id=\"m2ec321a42e\" d=\"M 0 0 \nL -3.5 0 \n\" style=\"stroke: #000000; stroke-width: 0.8\"/>\n      </defs>\n      <g>\n       <use xlink:href=\"#m2ec321a42e\" x=\"39.65\" y=\"10.999219\" style=\"stroke: #000000; stroke-width: 0.8\"/>\n      </g>\n     </g>\n     <g id=\"text_9\">\n      <!-- 0 -->\n      <g transform=\"translate(26.2875 14.798437)scale(0.1 -0.1)\">\n       <use xlink:href=\"#DejaVuSans-30\"/>\n      </g>\n     </g>\n    </g>\n    <g id=\"ytick_2\">\n     <g id=\"line2d_10\">\n      <g>\n       <use xlink:href=\"#m2ec321a42e\" x=\"39.65\" y=\"45.874219\" style=\"stroke: #000000; stroke-width: 0.8\"/>\n      </g>\n     </g>\n     <g id=\"text_10\">\n      <!-- 200 -->\n      <g transform=\"translate(13.5625 49.673438)scale(0.1 -0.1)\">\n       <use xlink:href=\"#DejaVuSans-32\"/>\n       <use xlink:href=\"#DejaVuSans-30\" x=\"63.623047\"/>\n       <use xlink:href=\"#DejaVuSans-30\" x=\"127.246094\"/>\n      </g>\n     </g>\n    </g>\n    <g id=\"ytick_3\">\n     <g id=\"line2d_11\">\n      <g>\n       <use xlink:href=\"#m2ec321a42e\" x=\"39.65\" y=\"80.749219\" style=\"stroke: #000000; stroke-width: 0.8\"/>\n      </g>\n     </g>\n     <g id=\"text_11\">\n      <!-- 400 -->\n      <g transform=\"translate(13.5625 84.548438)scale(0.1 -0.1)\">\n       <defs>\n        <path id=\"DejaVuSans-34\" d=\"M 2419 4116 \nL 825 1625 \nL 2419 1625 \nL 2419 4116 \nz\nM 2253 4666 \nL 3047 4666 \nL 3047 1625 \nL 3713 1625 \nL 3713 1100 \nL 3047 1100 \nL 3047 0 \nL 2419 0 \nL 2419 1100 \nL 313 1100 \nL 313 1709 \nL 2253 4666 \nz\n\" transform=\"scale(0.015625)\"/>\n       </defs>\n       <use xlink:href=\"#DejaVuSans-34\"/>\n       <use xlink:href=\"#DejaVuSans-30\" x=\"63.623047\"/>\n       <use xlink:href=\"#DejaVuSans-30\" x=\"127.246094\"/>\n      </g>\n     </g>\n    </g>\n    <g id=\"ytick_4\">\n     <g id=\"line2d_12\">\n      <g>\n       <use xlink:href=\"#m2ec321a42e\" x=\"39.65\" y=\"115.624219\" style=\"stroke: #000000; stroke-width: 0.8\"/>\n      </g>\n     </g>\n     <g id=\"text_12\">\n      <!-- 600 -->\n      <g transform=\"translate(13.5625 119.423438)scale(0.1 -0.1)\">\n       <defs>\n        <path id=\"DejaVuSans-36\" d=\"M 2113 2584 \nQ 1688 2584 1439 2293 \nQ 1191 2003 1191 1497 \nQ 1191 994 1439 701 \nQ 1688 409 2113 409 \nQ 2538 409 2786 701 \nQ 3034 994 3034 1497 \nQ 3034 2003 2786 2293 \nQ 2538 2584 2113 2584 \nz\nM 3366 4563 \nL 3366 3988 \nQ 3128 4100 2886 4159 \nQ 2644 4219 2406 4219 \nQ 1781 4219 1451 3797 \nQ 1122 3375 1075 2522 \nQ 1259 2794 1537 2939 \nQ 1816 3084 2150 3084 \nQ 2853 3084 3261 2657 \nQ 3669 2231 3669 1497 \nQ 3669 778 3244 343 \nQ 2819 -91 2113 -91 \nQ 1303 -91 875 529 \nQ 447 1150 447 2328 \nQ 447 3434 972 4092 \nQ 1497 4750 2381 4750 \nQ 2619 4750 2861 4703 \nQ 3103 4656 3366 4563 \nz\n\" transform=\"scale(0.015625)\"/>\n       </defs>\n       <use xlink:href=\"#DejaVuSans-36\"/>\n       <use xlink:href=\"#DejaVuSans-30\" x=\"63.623047\"/>\n       <use xlink:href=\"#DejaVuSans-30\" x=\"127.246094\"/>\n      </g>\n     </g>\n    </g>\n    <g id=\"ytick_5\">\n     <g id=\"line2d_13\">\n      <g>\n       <use xlink:href=\"#m2ec321a42e\" x=\"39.65\" y=\"150.499219\" style=\"stroke: #000000; stroke-width: 0.8\"/>\n      </g>\n     </g>\n     <g id=\"text_13\">\n      <!-- 800 -->\n      <g transform=\"translate(13.5625 154.298438)scale(0.1 -0.1)\">\n       <defs>\n        <path id=\"DejaVuSans-38\" d=\"M 2034 2216 \nQ 1584 2216 1326 1975 \nQ 1069 1734 1069 1313 \nQ 1069 891 1326 650 \nQ 1584 409 2034 409 \nQ 2484 409 2743 651 \nQ 3003 894 3003 1313 \nQ 3003 1734 2745 1975 \nQ 2488 2216 2034 2216 \nz\nM 1403 2484 \nQ 997 2584 770 2862 \nQ 544 3141 544 3541 \nQ 544 4100 942 4425 \nQ 1341 4750 2034 4750 \nQ 2731 4750 3128 4425 \nQ 3525 4100 3525 3541 \nQ 3525 3141 3298 2862 \nQ 3072 2584 2669 2484 \nQ 3125 2378 3379 2068 \nQ 3634 1759 3634 1313 \nQ 3634 634 3220 271 \nQ 2806 -91 2034 -91 \nQ 1263 -91 848 271 \nQ 434 634 434 1313 \nQ 434 1759 690 2068 \nQ 947 2378 1403 2484 \nz\nM 1172 3481 \nQ 1172 3119 1398 2916 \nQ 1625 2713 2034 2713 \nQ 2441 2713 2670 2916 \nQ 2900 3119 2900 3481 \nQ 2900 3844 2670 4047 \nQ 2441 4250 2034 4250 \nQ 1625 4250 1398 4047 \nQ 1172 3844 1172 3481 \nz\n\" transform=\"scale(0.015625)\"/>\n       </defs>\n       <use xlink:href=\"#DejaVuSans-38\"/>\n       <use xlink:href=\"#DejaVuSans-30\" x=\"63.623047\"/>\n       <use xlink:href=\"#DejaVuSans-30\" x=\"127.246094\"/>\n      </g>\n     </g>\n    </g>\n    <g id=\"ytick_6\">\n     <g id=\"line2d_14\">\n      <g>\n       <use xlink:href=\"#m2ec321a42e\" x=\"39.65\" y=\"185.374219\" style=\"stroke: #000000; stroke-width: 0.8\"/>\n      </g>\n     </g>\n     <g id=\"text_14\">\n      <!-- 1000 -->\n      <g transform=\"translate(7.2 189.173438)scale(0.1 -0.1)\">\n       <use xlink:href=\"#DejaVuSans-31\"/>\n       <use xlink:href=\"#DejaVuSans-30\" x=\"63.623047\"/>\n       <use xlink:href=\"#DejaVuSans-30\" x=\"127.246094\"/>\n       <use xlink:href=\"#DejaVuSans-30\" x=\"190.869141\"/>\n      </g>\n     </g>\n    </g>\n   </g>\n   <g id=\"patch_3\">\n    <path d=\"M 39.65 199.237031 \nL 39.65 10.912031 \n\" style=\"fill: none; stroke: #000000; stroke-width: 0.8; stroke-linejoin: miter; stroke-linecap: square\"/>\n   </g>\n   <g id=\"patch_4\">\n    <path d=\"M 374.45 199.237031 \nL 374.45 10.912031 \n\" style=\"fill: none; stroke: #000000; stroke-width: 0.8; stroke-linejoin: miter; stroke-linecap: square\"/>\n   </g>\n   <g id=\"patch_5\">\n    <path d=\"M 39.65 199.237031 \nL 374.45 199.237031 \n\" style=\"fill: none; stroke: #000000; stroke-width: 0.8; stroke-linejoin: miter; stroke-linecap: square\"/>\n   </g>\n   <g id=\"patch_6\">\n    <path d=\"M 39.65 10.912031 \nL 374.45 10.912031 \n\" style=\"fill: none; stroke: #000000; stroke-width: 0.8; stroke-linejoin: miter; stroke-linecap: square\"/>\n   </g>\n  </g>\n </g>\n <defs>\n  <clipPath id=\"p527608ab3f\">\n   <rect x=\"39.65\" y=\"10.912031\" width=\"334.8\" height=\"188.325\"/>\n  </clipPath>\n </defs>\n</svg>\n",
      "image/png": "[encoded data removed]"
     },
     "metadata": {
      "needs_background": "light"
     }
    }
   ],
   "source": [
    "#검증해야함 지금은 문제가 있다고 느껴짐\n",
    "a = np.zeros([1080,1920])\n",
    "\n",
    "a = cv2.fillPoly(a, [np.array(segmentation_coord)], (255,0,0))\n",
    "plt.imshow(a)"
   ]
  },
  {
   "cell_type": "code",
   "execution_count": 9,
   "metadata": {},
   "outputs": [],
   "source": [
    "save_file_name = 'line_crosswalk_(12_14)'\n",
    "all_df.to_csv(save_file_name+'.csv',header=True, index=False)\n",
    "with open(save_file_name+'.json', 'w') as f:\n",
    "    json.dump(coco_format, f, indent=4)"
   ]
  },
  {
   "cell_type": "code",
   "execution_count": 10,
   "metadata": {},
   "outputs": [],
   "source": [
    "save_file_name = 'line_crosswalk_(12_14)'\n",
    "get_dist.to_csv(save_file_name+'_filtered.csv', header=True, index=False, encoding='utf-8')"
   ]
  },
  {
   "cell_type": "code",
   "execution_count": 48,
   "metadata": {},
   "outputs": [
    {
     "output_type": "stream",
     "name": "stdout",
     "text": [
      "[0.02141203703703704, 0.026507844650205763, 0.11648019547325103]\n# annotations : 3\t detect coordinate : 3\n"
     ]
    },
    {
     "output_type": "execute_result",
     "data": {
      "text/plain": [
       "<matplotlib.image.AxesImage at 0x7fa8738ea430>"
      ]
     },
     "metadata": {},
     "execution_count": 48
    },
    {
     "output_type": "display_data",
     "data": {
      "text/plain": "<Figure size 864x648 with 1 Axes>",
      "image/svg+xml": "<?xml version=\"1.0\" encoding=\"utf-8\" standalone=\"no\"?>\n<!DOCTYPE svg PUBLIC \"-//W3C//DTD SVG 1.1//EN\"\n  \"http://www.w3.org/Graphics/SVG/1.1/DTD/svg11.dtd\">\n<svg xmlns:xlink=\"http://www.w3.org/1999/xlink\" width=\"716.45pt\" height=\"411.352969pt\" viewBox=\"0 0 716.45 411.352969\" xmlns=\"http://www.w3.org/2000/svg\" version=\"1.1\">\n <metadata>\n  <rdf:RDF xmlns:dc=\"http://purl.org/dc/elements/1.1/\" xmlns:cc=\"http://creativecommons.org/ns#\" xmlns:rdf=\"http://www.w3.org/1999/02/22-rdf-syntax-ns#\">\n   <cc:Work>\n    <dc:type rdf:resource=\"http://purl.org/dc/dcmitype/StillImage\"/>\n    <dc:date>2021-12-14T20:18:26.509822</dc:date>\n    <dc:format>image/svg+xml</dc:format>\n    <dc:creator>\n     <cc:Agent>\n      <dc:title>Matplotlib v3.5.0, https://matplotlib.org/</dc:title>\n     </cc:Agent>\n    </dc:creator>\n   </cc:Work>\n  </rdf:RDF>\n </metadata>\n <defs>\n  <style type=\"text/css\">*{stroke-linejoin: round; stroke-linecap: butt}</style>\n </defs>\n <g id=\"figure_1\">\n  <g id=\"patch_1\">\n   <path d=\"M 0 411.352969 \nL 716.45 411.352969 \nL 716.45 0 \nL 0 0 \nL 0 411.352969 \nz\n\" style=\"fill: none\"/>\n  </g>\n  <g id=\"axes_1\">\n   <g id=\"patch_2\">\n    <path d=\"M 39.65 387.474844 \nL 709.25 387.474844 \nL 709.25 10.824844 \nL 39.65 10.824844 \nz\n\" style=\"fill: #ffffff\"/>\n   </g>\n   <g clip-path=\"url(#p4429fe08e0)\">\n    <image xlink:href=\"data:image/png;base64,\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\" id=\"imagec82459ad90\" transform=\"scale(1 -1)translate(0 -377)\" x=\"39.65\" y=\"-10.474844\" width=\"670\" height=\"377\"/>\n   </g>\n   <g id=\"matplotlib.axis_1\">\n    <g id=\"xtick_1\">\n     <g id=\"line2d_1\">\n      <defs>\n       <path id=\"m73ac314376\" d=\"M 0 0 \nL 0 3.5 \n\" style=\"stroke: #000000; stroke-width: 0.8\"/>\n      </defs>\n      <g>\n       <use xlink:href=\"#m73ac314376\" x=\"39.824375\" y=\"387.474844\" style=\"stroke: #000000; stroke-width: 0.8\"/>\n      </g>\n     </g>\n     <g id=\"text_1\">\n      <!-- 0 -->\n      <g transform=\"translate(36.643125 402.073281)scale(0.1 -0.1)\">\n       <defs>\n        <path id=\"DejaVuSans-30\" d=\"M 2034 4250 \nQ 1547 4250 1301 3770 \nQ 1056 3291 1056 2328 \nQ 1056 1369 1301 889 \nQ 1547 409 2034 409 \nQ 2525 409 2770 889 \nQ 3016 1369 3016 2328 \nQ 3016 3291 2770 3770 \nQ 2525 4250 2034 4250 \nz\nM 2034 4750 \nQ 2819 4750 3233 4129 \nQ 3647 3509 3647 2328 \nQ 3647 1150 3233 529 \nQ 2819 -91 2034 -91 \nQ 1250 -91 836 529 \nQ 422 1150 422 2328 \nQ 422 3509 836 4129 \nQ 1250 4750 2034 4750 \nz\n\" transform=\"scale(0.015625)\"/>\n       </defs>\n       <use xlink:href=\"#DejaVuSans-30\"/>\n      </g>\n     </g>\n    </g>\n    <g id=\"xtick_2\">\n     <g id=\"line2d_2\">\n      <g>\n       <use xlink:href=\"#m73ac314376\" x=\"127.011875\" y=\"387.474844\" style=\"stroke: #000000; stroke-width: 0.8\"/>\n      </g>\n     </g>\n     <g id=\"text_2\">\n      <!-- 250 -->\n      <g transform=\"translate(117.468125 402.073281)scale(0.1 -0.1)\">\n       <defs>\n        <path id=\"DejaVuSans-32\" d=\"M 1228 531 \nL 3431 531 \nL 3431 0 \nL 469 0 \nL 469 531 \nQ 828 903 1448 1529 \nQ 2069 2156 2228 2338 \nQ 2531 2678 2651 2914 \nQ 2772 3150 2772 3378 \nQ 2772 3750 2511 3984 \nQ 2250 4219 1831 4219 \nQ 1534 4219 1204 4116 \nQ 875 4013 500 3803 \nL 500 4441 \nQ 881 4594 1212 4672 \nQ 1544 4750 1819 4750 \nQ 2544 4750 2975 4387 \nQ 3406 4025 3406 3419 \nQ 3406 3131 3298 2873 \nQ 3191 2616 2906 2266 \nQ 2828 2175 2409 1742 \nQ 1991 1309 1228 531 \nz\n\" transform=\"scale(0.015625)\"/>\n        <path id=\"DejaVuSans-35\" d=\"M 691 4666 \nL 3169 4666 \nL 3169 4134 \nL 1269 4134 \nL 1269 2991 \nQ 1406 3038 1543 3061 \nQ 1681 3084 1819 3084 \nQ 2600 3084 3056 2656 \nQ 3513 2228 3513 1497 \nQ 3513 744 3044 326 \nQ 2575 -91 1722 -91 \nQ 1428 -91 1123 -41 \nQ 819 9 494 109 \nL 494 744 \nQ 775 591 1075 516 \nQ 1375 441 1709 441 \nQ 2250 441 2565 725 \nQ 2881 1009 2881 1497 \nQ 2881 1984 2565 2268 \nQ 2250 2553 1709 2553 \nQ 1456 2553 1204 2497 \nQ 953 2441 691 2322 \nL 691 4666 \nz\n\" transform=\"scale(0.015625)\"/>\n       </defs>\n       <use xlink:href=\"#DejaVuSans-32\"/>\n       <use xlink:href=\"#DejaVuSans-35\" x=\"63.623047\"/>\n       <use xlink:href=\"#DejaVuSans-30\" x=\"127.246094\"/>\n      </g>\n     </g>\n    </g>\n    <g id=\"xtick_3\">\n     <g id=\"line2d_3\">\n      <g>\n       <use xlink:href=\"#m73ac314376\" x=\"214.199375\" y=\"387.474844\" style=\"stroke: #000000; stroke-width: 0.8\"/>\n      </g>\n     </g>\n     <g id=\"text_3\">\n      <!-- 500 -->\n      <g transform=\"translate(204.655625 402.073281)scale(0.1 -0.1)\">\n       <use xlink:href=\"#DejaVuSans-35\"/>\n       <use xlink:href=\"#DejaVuSans-30\" x=\"63.623047\"/>\n       <use xlink:href=\"#DejaVuSans-30\" x=\"127.246094\"/>\n      </g>\n     </g>\n    </g>\n    <g id=\"xtick_4\">\n     <g id=\"line2d_4\">\n      <g>\n       <use xlink:href=\"#m73ac314376\" x=\"301.386875\" y=\"387.474844\" style=\"stroke: #000000; stroke-width: 0.8\"/>\n      </g>\n     </g>\n     <g id=\"text_4\">\n      <!-- 750 -->\n      <g transform=\"translate(291.843125 402.073281)scale(0.1 -0.1)\">\n       <defs>\n        <path id=\"DejaVuSans-37\" d=\"M 525 4666 \nL 3525 4666 \nL 3525 4397 \nL 1831 0 \nL 1172 0 \nL 2766 4134 \nL 525 4134 \nL 525 4666 \nz\n\" transform=\"scale(0.015625)\"/>\n       </defs>\n       <use xlink:href=\"#DejaVuSans-37\"/>\n       <use xlink:href=\"#DejaVuSans-35\" x=\"63.623047\"/>\n       <use xlink:href=\"#DejaVuSans-30\" x=\"127.246094\"/>\n      </g>\n     </g>\n    </g>\n    <g id=\"xtick_5\">\n     <g id=\"line2d_5\">\n      <g>\n       <use xlink:href=\"#m73ac314376\" x=\"388.574375\" y=\"387.474844\" style=\"stroke: #000000; stroke-width: 0.8\"/>\n      </g>\n     </g>\n     <g id=\"text_5\">\n      <!-- 1000 -->\n      <g transform=\"translate(375.849375 402.073281)scale(0.1 -0.1)\">\n       <defs>\n        <path id=\"DejaVuSans-31\" d=\"M 794 531 \nL 1825 531 \nL 1825 4091 \nL 703 3866 \nL 703 4441 \nL 1819 4666 \nL 2450 4666 \nL 2450 531 \nL 3481 531 \nL 3481 0 \nL 794 0 \nL 794 531 \nz\n\" transform=\"scale(0.015625)\"/>\n       </defs>\n       <use xlink:href=\"#DejaVuSans-31\"/>\n       <use xlink:href=\"#DejaVuSans-30\" x=\"63.623047\"/>\n       <use xlink:href=\"#DejaVuSans-30\" x=\"127.246094\"/>\n       <use xlink:href=\"#DejaVuSans-30\" x=\"190.869141\"/>\n      </g>\n     </g>\n    </g>\n    <g id=\"xtick_6\">\n     <g id=\"line2d_6\">\n      <g>\n       <use xlink:href=\"#m73ac314376\" x=\"475.761875\" y=\"387.474844\" style=\"stroke: #000000; stroke-width: 0.8\"/>\n      </g>\n     </g>\n     <g id=\"text_6\">\n      <!-- 1250 -->\n      <g transform=\"translate(463.036875 402.073281)scale(0.1 -0.1)\">\n       <use xlink:href=\"#DejaVuSans-31\"/>\n       <use xlink:href=\"#DejaVuSans-32\" x=\"63.623047\"/>\n       <use xlink:href=\"#DejaVuSans-35\" x=\"127.246094\"/>\n       <use xlink:href=\"#DejaVuSans-30\" x=\"190.869141\"/>\n      </g>\n     </g>\n    </g>\n    <g id=\"xtick_7\">\n     <g id=\"line2d_7\">\n      <g>\n       <use xlink:href=\"#m73ac314376\" x=\"562.949375\" y=\"387.474844\" style=\"stroke: #000000; stroke-width: 0.8\"/>\n      </g>\n     </g>\n     <g id=\"text_7\">\n      <!-- 1500 -->\n      <g transform=\"translate(550.224375 402.073281)scale(0.1 -0.1)\">\n       <use xlink:href=\"#DejaVuSans-31\"/>\n       <use xlink:href=\"#DejaVuSans-35\" x=\"63.623047\"/>\n       <use xlink:href=\"#DejaVuSans-30\" x=\"127.246094\"/>\n       <use xlink:href=\"#DejaVuSans-30\" x=\"190.869141\"/>\n      </g>\n     </g>\n    </g>\n    <g id=\"xtick_8\">\n     <g id=\"line2d_8\">\n      <g>\n       <use xlink:href=\"#m73ac314376\" x=\"650.136875\" y=\"387.474844\" style=\"stroke: #000000; stroke-width: 0.8\"/>\n      </g>\n     </g>\n     <g id=\"text_8\">\n      <!-- 1750 -->\n      <g transform=\"translate(637.411875 402.073281)scale(0.1 -0.1)\">\n       <use xlink:href=\"#DejaVuSans-31\"/>\n       <use xlink:href=\"#DejaVuSans-37\" x=\"63.623047\"/>\n       <use xlink:href=\"#DejaVuSans-35\" x=\"127.246094\"/>\n       <use xlink:href=\"#DejaVuSans-30\" x=\"190.869141\"/>\n      </g>\n     </g>\n    </g>\n   </g>\n   <g id=\"matplotlib.axis_2\">\n    <g id=\"ytick_1\">\n     <g id=\"line2d_9\">\n      <defs>\n       <path id=\"m2fe84d983e\" d=\"M 0 0 \nL -3.5 0 \n\" style=\"stroke: #000000; stroke-width: 0.8\"/>\n      </defs>\n      <g>\n       <use xlink:href=\"#m2fe84d983e\" x=\"39.65\" y=\"10.999219\" style=\"stroke: #000000; stroke-width: 0.8\"/>\n      </g>\n     </g>\n     <g id=\"text_9\">\n      <!-- 0 -->\n      <g transform=\"translate(26.2875 14.798438)scale(0.1 -0.1)\">\n       <use xlink:href=\"#DejaVuSans-30\"/>\n      </g>\n     </g>\n    </g>\n    <g id=\"ytick_2\">\n     <g id=\"line2d_10\">\n      <g>\n       <use xlink:href=\"#m2fe84d983e\" x=\"39.65\" y=\"80.749219\" style=\"stroke: #000000; stroke-width: 0.8\"/>\n      </g>\n     </g>\n     <g id=\"text_10\">\n      <!-- 200 -->\n      <g transform=\"translate(13.5625 84.548438)scale(0.1 -0.1)\">\n       <use xlink:href=\"#DejaVuSans-32\"/>\n       <use xlink:href=\"#DejaVuSans-30\" x=\"63.623047\"/>\n       <use xlink:href=\"#DejaVuSans-30\" x=\"127.246094\"/>\n      </g>\n     </g>\n    </g>\n    <g id=\"ytick_3\">\n     <g id=\"line2d_11\">\n      <g>\n       <use xlink:href=\"#m2fe84d983e\" x=\"39.65\" y=\"150.499219\" style=\"stroke: #000000; stroke-width: 0.8\"/>\n      </g>\n     </g>\n     <g id=\"text_11\">\n      <!-- 400 -->\n      <g transform=\"translate(13.5625 154.298438)scale(0.1 -0.1)\">\n       <defs>\n        <path id=\"DejaVuSans-34\" d=\"M 2419 4116 \nL 825 1625 \nL 2419 1625 \nL 2419 4116 \nz\nM 2253 4666 \nL 3047 4666 \nL 3047 1625 \nL 3713 1625 \nL 3713 1100 \nL 3047 1100 \nL 3047 0 \nL 2419 0 \nL 2419 1100 \nL 313 1100 \nL 313 1709 \nL 2253 4666 \nz\n\" transform=\"scale(0.015625)\"/>\n       </defs>\n       <use xlink:href=\"#DejaVuSans-34\"/>\n       <use xlink:href=\"#DejaVuSans-30\" x=\"63.623047\"/>\n       <use xlink:href=\"#DejaVuSans-30\" x=\"127.246094\"/>\n      </g>\n     </g>\n    </g>\n    <g id=\"ytick_4\">\n     <g id=\"line2d_12\">\n      <g>\n       <use xlink:href=\"#m2fe84d983e\" x=\"39.65\" y=\"220.249219\" style=\"stroke: #000000; stroke-width: 0.8\"/>\n      </g>\n     </g>\n     <g id=\"text_12\">\n      <!-- 600 -->\n      <g transform=\"translate(13.5625 224.048438)scale(0.1 -0.1)\">\n       <defs>\n        <path id=\"DejaVuSans-36\" d=\"M 2113 2584 \nQ 1688 2584 1439 2293 \nQ 1191 2003 1191 1497 \nQ 1191 994 1439 701 \nQ 1688 409 2113 409 \nQ 2538 409 2786 701 \nQ 3034 994 3034 1497 \nQ 3034 2003 2786 2293 \nQ 2538 2584 2113 2584 \nz\nM 3366 4563 \nL 3366 3988 \nQ 3128 4100 2886 4159 \nQ 2644 4219 2406 4219 \nQ 1781 4219 1451 3797 \nQ 1122 3375 1075 2522 \nQ 1259 2794 1537 2939 \nQ 1816 3084 2150 3084 \nQ 2853 3084 3261 2657 \nQ 3669 2231 3669 1497 \nQ 3669 778 3244 343 \nQ 2819 -91 2113 -91 \nQ 1303 -91 875 529 \nQ 447 1150 447 2328 \nQ 447 3434 972 4092 \nQ 1497 4750 2381 4750 \nQ 2619 4750 2861 4703 \nQ 3103 4656 3366 4563 \nz\n\" transform=\"scale(0.015625)\"/>\n       </defs>\n       <use xlink:href=\"#DejaVuSans-36\"/>\n       <use xlink:href=\"#DejaVuSans-30\" x=\"63.623047\"/>\n       <use xlink:href=\"#DejaVuSans-30\" x=\"127.246094\"/>\n      </g>\n     </g>\n    </g>\n    <g id=\"ytick_5\">\n     <g id=\"line2d_13\">\n      <g>\n       <use xlink:href=\"#m2fe84d983e\" x=\"39.65\" y=\"289.999219\" style=\"stroke: #000000; stroke-width: 0.8\"/>\n      </g>\n     </g>\n     <g id=\"text_13\">\n      <!-- 800 -->\n      <g transform=\"translate(13.5625 293.798438)scale(0.1 -0.1)\">\n       <defs>\n        <path id=\"DejaVuSans-38\" d=\"M 2034 2216 \nQ 1584 2216 1326 1975 \nQ 1069 1734 1069 1313 \nQ 1069 891 1326 650 \nQ 1584 409 2034 409 \nQ 2484 409 2743 651 \nQ 3003 894 3003 1313 \nQ 3003 1734 2745 1975 \nQ 2488 2216 2034 2216 \nz\nM 1403 2484 \nQ 997 2584 770 2862 \nQ 544 3141 544 3541 \nQ 544 4100 942 4425 \nQ 1341 4750 2034 4750 \nQ 2731 4750 3128 4425 \nQ 3525 4100 3525 3541 \nQ 3525 3141 3298 2862 \nQ 3072 2584 2669 2484 \nQ 3125 2378 3379 2068 \nQ 3634 1759 3634 1313 \nQ 3634 634 3220 271 \nQ 2806 -91 2034 -91 \nQ 1263 -91 848 271 \nQ 434 634 434 1313 \nQ 434 1759 690 2068 \nQ 947 2378 1403 2484 \nz\nM 1172 3481 \nQ 1172 3119 1398 2916 \nQ 1625 2713 2034 2713 \nQ 2441 2713 2670 2916 \nQ 2900 3119 2900 3481 \nQ 2900 3844 2670 4047 \nQ 2441 4250 2034 4250 \nQ 1625 4250 1398 4047 \nQ 1172 3844 1172 3481 \nz\n\" transform=\"scale(0.015625)\"/>\n       </defs>\n       <use xlink:href=\"#DejaVuSans-38\"/>\n       <use xlink:href=\"#DejaVuSans-30\" x=\"63.623047\"/>\n       <use xlink:href=\"#DejaVuSans-30\" x=\"127.246094\"/>\n      </g>\n     </g>\n    </g>\n    <g id=\"ytick_6\">\n     <g id=\"line2d_14\">\n      <g>\n       <use xlink:href=\"#m2fe84d983e\" x=\"39.65\" y=\"359.749219\" style=\"stroke: #000000; stroke-width: 0.8\"/>\n      </g>\n     </g>\n     <g id=\"text_14\">\n      <!-- 1000 -->\n      <g transform=\"translate(7.2 363.548438)scale(0.1 -0.1)\">\n       <use xlink:href=\"#DejaVuSans-31\"/>\n       <use xlink:href=\"#DejaVuSans-30\" x=\"63.623047\"/>\n       <use xlink:href=\"#DejaVuSans-30\" x=\"127.246094\"/>\n       <use xlink:href=\"#DejaVuSans-30\" x=\"190.869141\"/>\n      </g>\n     </g>\n    </g>\n   </g>\n   <g id=\"patch_3\">\n    <path d=\"M 39.65 387.474844 \nL 39.65 10.824844 \n\" style=\"fill: none; stroke: #000000; stroke-width: 0.8; stroke-linejoin: miter; stroke-linecap: square\"/>\n   </g>\n   <g id=\"patch_4\">\n    <path d=\"M 709.25 387.474844 \nL 709.25 10.824844 \n\" style=\"fill: none; stroke: #000000; stroke-width: 0.8; stroke-linejoin: miter; stroke-linecap: square\"/>\n   </g>\n   <g id=\"patch_5\">\n    <path d=\"M 39.65 387.474844 \nL 709.25 387.474844 \n\" style=\"fill: none; stroke: #000000; stroke-width: 0.8; stroke-linejoin: miter; stroke-linecap: square\"/>\n   </g>\n   <g id=\"patch_6\">\n    <path d=\"M 39.65 10.824844 \nL 709.25 10.824844 \n\" style=\"fill: none; stroke: #000000; stroke-width: 0.8; stroke-linejoin: miter; stroke-linecap: square\"/>\n   </g>\n  </g>\n </g>\n <defs>\n  <clipPath id=\"p4429fe08e0\">\n   <rect x=\"39.65\" y=\"10.824844\" width=\"669.6\" height=\"376.65\"/>\n  </clipPath>\n </defs>\n</svg>\n",
      "image/png": "[encoded data removed]"
     },
     "metadata": {
      "needs_background": "light"
     }
    }
   ],
   "source": [
    "IMG_ROOT ='/Users/sm/Downloads/차선-횡단보도 인지 영상(수도권)/Training/[원천]d_1920_1080_daylight_train_1'\n",
    "\n",
    "error_coord = []\n",
    "point = 0\n",
    "\n",
    "image = cv2.imread(os.path.join(IMG_ROOT, '14277614.jpg'))\n",
    "image = cv2.cvtColor(image, cv2.COLOR_BGR2RGB)\n",
    "\n",
    "for anno in get_info[0]['annotations']:\n",
    "\n",
    "    if anno['class'] == 'crosswalk':\n",
    "        temp = []\n",
    "        point+=1\n",
    "        for coord in anno['data']:\n",
    "            temp.append([coord['x'], coord['y']])\n",
    "\n",
    "        error_coord.append(np.array(temp))\n",
    "\n",
    "dummy = np.zeros_like(image)\n",
    "\n",
    "fillpoly_proportion = []\n",
    "\n",
    "for i in error_coord:\n",
    "    dummy = cv2.fillPoly(dummy, [i], 255)\n",
    "    image = cv2.polylines(image, [i], True, (255,0,0), 5)\n",
    "    _, counts = np.unique(dummy, return_counts=True)\n",
    "    fillpoly_proportion.append(counts[-1]/(3*1920*1080)*100)\n",
    "\n",
    "#여기 있는 성분으로 몇퍼센트 이하의 좌표를 거를건지 확인\n",
    "print(fillpoly_proportion)\n",
    "print(f'# annotations : {point}\\t detect coordinate : {len(error_coord)}')\n",
    "plt.figure(figsize=(12,9))\n",
    "plt.imshow(dummy)\n"
   ]
  },
  {
   "cell_type": "code",
   "execution_count": 9,
   "metadata": {},
   "outputs": [
    {
     "output_type": "stream",
     "name": "stdout",
     "text": [
      "80.2 ms ± 727 µs per loop (mean ± std. dev. of 7 runs, 10 loops each)\n"
     ]
    }
   ],
   "source": [
    "%%timeit\n",
    "\n",
    "dummy = np.zeros((1080,1920))\n",
    "dummy = cv2.fillPoly(dummy, [np.array(get_dist.iloc[0]['coord'])], 255)\n",
    "_, counts = np.unique(dummy, return_counts=True)\n",
    "# print(round(counts[-1]*100/(1920*1080),2))"
   ]
  },
  {
   "cell_type": "code",
   "execution_count": 8,
   "metadata": {},
   "outputs": [],
   "source": [
    "def calculate_area(coord_list):\n",
    "    dummy = np.zeros((1080,1920))\n",
    "    dummy = cv2.fillPoly(dummy, [np.array(coord_list)], 255)\n",
    "    _, counts = np.where(dummy==255)\n",
    "    return round(len(counts)*100/(1920*1080),2)\n",
    "\n",
    "# get_dist['area'] = get_dist.apply(calculate_area, axis=1)"
   ]
  },
  {
   "cell_type": "code",
   "execution_count": 28,
   "metadata": {},
   "outputs": [
    {
     "output_type": "stream",
     "name": "stderr",
     "text": [
      "  1%|          | 969/179417 [01:17<4:07:18, 12.03it/s]"
     ]
    }
   ],
   "source": [
    "for_series = []\n",
    "for i in tqdm(get_dist['coord'].values):\n",
    "    for_series.append(calculate_area(i))"
   ]
  },
  {
   "cell_type": "code",
   "execution_count": 9,
   "metadata": {},
   "outputs": [
    {
     "output_type": "stream",
     "name": "stderr",
     "text": [
      " 28%|██▊       | 51092/179417 [09:10<23:02, 92.83it/s]\n"
     ]
    },
    {
     "output_type": "error",
     "ename": "error",
     "evalue": "OpenCV(4.5.4) /Users/runner/work/opencv-python/opencv-python/opencv/modules/imgproc/src/drawing.cpp:2395: error: (-215:Assertion failed) p.checkVector(2, CV_32S) >= 0 in function 'fillPoly'\n",
     "traceback": [
      "\u001b[0;31m---------------------------------------------------------------------------\u001b[0m",
      "\u001b[0;31merror\u001b[0m                                     Traceback (most recent call last)",
      "\u001b[0;32m/var/folders/h9/r8r6r6md7wsdy0x43cwkg1zm0000gn/T/ipykernel_15032/4029971220.py\u001b[0m in \u001b[0;36m<module>\u001b[0;34m\u001b[0m\n\u001b[1;32m      1\u001b[0m \u001b[0mfor_series\u001b[0m \u001b[0;34m=\u001b[0m \u001b[0;34m[\u001b[0m\u001b[0;34m]\u001b[0m\u001b[0;34m\u001b[0m\u001b[0;34m\u001b[0m\u001b[0m\n\u001b[1;32m      2\u001b[0m \u001b[0;32mfor\u001b[0m \u001b[0mi\u001b[0m \u001b[0;32min\u001b[0m \u001b[0mtqdm\u001b[0m\u001b[0;34m(\u001b[0m\u001b[0mget_dist\u001b[0m\u001b[0;34m[\u001b[0m\u001b[0;34m'coord'\u001b[0m\u001b[0;34m]\u001b[0m\u001b[0;34m.\u001b[0m\u001b[0mvalues\u001b[0m\u001b[0;34m)\u001b[0m\u001b[0;34m:\u001b[0m\u001b[0;34m\u001b[0m\u001b[0;34m\u001b[0m\u001b[0m\n\u001b[0;32m----> 3\u001b[0;31m     \u001b[0mfor_series\u001b[0m\u001b[0;34m.\u001b[0m\u001b[0mappend\u001b[0m\u001b[0;34m(\u001b[0m\u001b[0mcalculate_area\u001b[0m\u001b[0;34m(\u001b[0m\u001b[0mi\u001b[0m\u001b[0;34m)\u001b[0m\u001b[0;34m)\u001b[0m\u001b[0;34m\u001b[0m\u001b[0;34m\u001b[0m\u001b[0m\n\u001b[0m",
      "\u001b[0;32m/var/folders/h9/r8r6r6md7wsdy0x43cwkg1zm0000gn/T/ipykernel_15032/2201740890.py\u001b[0m in \u001b[0;36mcalculate_area\u001b[0;34m(coord_list)\u001b[0m\n\u001b[1;32m      1\u001b[0m \u001b[0;32mdef\u001b[0m \u001b[0mcalculate_area\u001b[0m\u001b[0;34m(\u001b[0m\u001b[0mcoord_list\u001b[0m\u001b[0;34m)\u001b[0m\u001b[0;34m:\u001b[0m\u001b[0;34m\u001b[0m\u001b[0;34m\u001b[0m\u001b[0m\n\u001b[1;32m      2\u001b[0m     \u001b[0mdummy\u001b[0m \u001b[0;34m=\u001b[0m \u001b[0mnp\u001b[0m\u001b[0;34m.\u001b[0m\u001b[0mzeros\u001b[0m\u001b[0;34m(\u001b[0m\u001b[0;34m(\u001b[0m\u001b[0;36m1080\u001b[0m\u001b[0;34m,\u001b[0m\u001b[0;36m1920\u001b[0m\u001b[0;34m)\u001b[0m\u001b[0;34m)\u001b[0m\u001b[0;34m\u001b[0m\u001b[0;34m\u001b[0m\u001b[0m\n\u001b[0;32m----> 3\u001b[0;31m     \u001b[0mdummy\u001b[0m \u001b[0;34m=\u001b[0m \u001b[0mcv2\u001b[0m\u001b[0;34m.\u001b[0m\u001b[0mfillPoly\u001b[0m\u001b[0;34m(\u001b[0m\u001b[0mdummy\u001b[0m\u001b[0;34m,\u001b[0m \u001b[0;34m[\u001b[0m\u001b[0mnp\u001b[0m\u001b[0;34m.\u001b[0m\u001b[0marray\u001b[0m\u001b[0;34m(\u001b[0m\u001b[0mcoord_list\u001b[0m\u001b[0;34m)\u001b[0m\u001b[0;34m]\u001b[0m\u001b[0;34m,\u001b[0m \u001b[0;36m255\u001b[0m\u001b[0;34m)\u001b[0m\u001b[0;34m\u001b[0m\u001b[0;34m\u001b[0m\u001b[0m\n\u001b[0m\u001b[1;32m      4\u001b[0m     \u001b[0m_\u001b[0m\u001b[0;34m,\u001b[0m \u001b[0mcounts\u001b[0m \u001b[0;34m=\u001b[0m \u001b[0mnp\u001b[0m\u001b[0;34m.\u001b[0m\u001b[0mwhere\u001b[0m\u001b[0;34m(\u001b[0m\u001b[0mdummy\u001b[0m\u001b[0;34m==\u001b[0m\u001b[0;36m255\u001b[0m\u001b[0;34m)\u001b[0m\u001b[0;34m\u001b[0m\u001b[0;34m\u001b[0m\u001b[0m\n\u001b[1;32m      5\u001b[0m     \u001b[0;32mreturn\u001b[0m \u001b[0mround\u001b[0m\u001b[0;34m(\u001b[0m\u001b[0mlen\u001b[0m\u001b[0;34m(\u001b[0m\u001b[0mcounts\u001b[0m\u001b[0;34m)\u001b[0m\u001b[0;34m*\u001b[0m\u001b[0;36m100\u001b[0m\u001b[0;34m/\u001b[0m\u001b[0;34m(\u001b[0m\u001b[0;36m1920\u001b[0m\u001b[0;34m*\u001b[0m\u001b[0;36m1080\u001b[0m\u001b[0;34m)\u001b[0m\u001b[0;34m,\u001b[0m\u001b[0;36m2\u001b[0m\u001b[0;34m)\u001b[0m\u001b[0;34m\u001b[0m\u001b[0;34m\u001b[0m\u001b[0m\n",
      "\u001b[0;31merror\u001b[0m: OpenCV(4.5.4) /Users/runner/work/opencv-python/opencv-python/opencv/modules/imgproc/src/drawing.cpp:2395: error: (-215:Assertion failed) p.checkVector(2, CV_32S) >= 0 in function 'fillPoly'\n"
     ]
    }
   ],
   "source": [
    "for_series = []\n",
    "for i in tqdm(get_dist['coord'].values):\n",
    "    for_series.append(calculate_area(i))"
   ]
  },
  {
   "cell_type": "code",
   "execution_count": 10,
   "metadata": {},
   "outputs": [],
   "source": [
    "%load_ext line_profiler"
   ]
  },
  {
   "cell_type": "code",
   "execution_count": 29,
   "metadata": {},
   "outputs": [
    {
     "output_type": "stream",
     "text": [
      "Timer unit: 1e-06 s\n",
      "\n",
      "Total time: 0.086156 s\n",
      "File: /var/folders/h9/r8r6r6md7wsdy0x43cwkg1zm0000gn/T/ipykernel_13386/967336575.py\n",
      "Function: calculate_area at line 1\n",
      "\n",
      "Line #      Hits         Time  Per Hit   % Time  Line Contents\n",
      "==============================================================\n",
      "     1                                           def calculate_area(coord_list):\n",
      "     2         1       1897.0   1897.0      2.2      dummy = np.zeros((1080,1920))\n",
      "     3         1        124.0    124.0      0.1      dummy = cv2.fillPoly(dummy, [np.array(coord_list)], 255)\n",
      "     4         1      84096.0  84096.0     97.6      _, counts = np.unique(dummy, return_counts=True)\n",
      "     5         1         39.0     39.0      0.0      return round(counts[-1]*100/(1920*1080),2)"
     ],
     "name": "stdout"
    }
   ],
   "source": [
    "%lprun -f calculate_area calculate_area(get_dist.iloc[0]['coord'])"
   ]
  },
  {
   "cell_type": "code",
   "execution_count": 27,
   "metadata": {},
   "outputs": [
    {
     "output_type": "stream",
     "text": [
      "Timer unit: 1e-06 s\n",
      "\n",
      "Total time: 0.018796 s\n",
      "File: /var/folders/h9/r8r6r6md7wsdy0x43cwkg1zm0000gn/T/ipykernel_13386/2201740890.py\n",
      "Function: calculate_area at line 1\n",
      "\n",
      "Line #      Hits         Time  Per Hit   % Time  Line Contents\n",
      "==============================================================\n",
      "     1                                           def calculate_area(coord_list):\n",
      "     2         1        265.0    265.0      1.4      dummy = np.zeros((1080,1920))\n",
      "     3         1        878.0    878.0      4.7      dummy = cv2.fillPoly(dummy, [np.array(coord_list)], 255)\n",
      "     4         1      17628.0  17628.0     93.8      _, counts = np.where(dummy==255)\n",
      "     5         1         25.0     25.0      0.1      return round(len(counts)*100/(1920*1080),2)"
     ],
     "name": "stdout"
    }
   ],
   "source": [
    "%lprun -f calculate_area calculate_area(get_dist.iloc[0]['coord'])"
   ]
  },
  {
   "cell_type": "code",
   "execution_count": 23,
   "metadata": {},
   "outputs": [
    {
     "output_type": "stream",
     "name": "stdout",
     "text": [
      "2073600\n2073600\n"
     ]
    }
   ],
   "source": [
    "dummy = np.zeros([1080,1920])\n",
    "a,b = np.where(dummy==0)\n",
    "print(len(a))\n",
    "print(len(b))"
   ]
  },
  {
   "cell_type": "code",
   "execution_count": 10,
   "metadata": {},
   "outputs": [
    {
     "output_type": "stream",
     "name": "stdout",
     "text": [
      "file_locate    [원천]d_1920_1080_daylight_train_13.zip\nfile_name                               15337349.jpg\nclass                                      crosswalk\ncoord                                             []\nName: 465708, dtype: object\n"
     ]
    }
   ],
   "source": [
    "print(get_dist.iloc[51092])"
   ]
  },
  {
   "cell_type": "code",
   "execution_count": 40,
   "metadata": {},
   "outputs": [
    {
     "output_type": "execute_result",
     "data": {
      "text/plain": [
       "                                 file_locate     file_name      class  \\\n",
       "57251   [원천]d_1920_1080_daylight_train_1.zip  15997436.jpg  crosswalk   \n",
       "57275   [원천]d_1920_1080_daylight_train_1.zip  14509671.jpg  crosswalk   \n",
       "57296   [원천]d_1920_1080_daylight_train_1.zip  14320702.jpg  crosswalk   \n",
       "57298   [원천]d_1920_1080_daylight_train_1.zip  14320702.jpg  crosswalk   \n",
       "57299   [원천]d_1920_1080_daylight_train_1.zip  14320702.jpg  crosswalk   \n",
       "...                                      ...           ...        ...   \n",
       "987878  [원천]d_1920_1080_daylight_train_2.zip  14233338.jpg  crosswalk   \n",
       "987879  [원천]d_1920_1080_daylight_train_2.zip  14233338.jpg  crosswalk   \n",
       "987912  [원천]d_1920_1080_daylight_train_2.zip  16172288.jpg  crosswalk   \n",
       "987918  [원천]d_1920_1080_daylight_train_2.zip  14317523.jpg  crosswalk   \n",
       "987919  [원천]d_1920_1080_daylight_train_2.zip  14317523.jpg  crosswalk   \n",
       "\n",
       "                                                    coord  \n",
       "57251   [[651, 619], [874, 618], [1123, 616], [1125, 6...  \n",
       "57275   [[1216, 319], [1470, 259], [1548, 243], [1546,...  \n",
       "57296   [[1500, 614], [1862, 632], [1828, 591], [1544,...  \n",
       "57298   [[466, 656], [1316, 624], [1233, 590], [498, 6...  \n",
       "57299   [[1185, 516], [1327, 567], [1481, 559], [1296,...  \n",
       "...                                                   ...  \n",
       "987878  [[1120, 624], [1566, 586], [1901, 583], [1913,...  \n",
       "987879       [[0, 650], [873, 620], [935, 630], [0, 663]]  \n",
       "987912  [[50, 666], [114, 670], [413, 664], [569, 659]...  \n",
       "987918  [[1311, 569], [1353, 579], [1353, 569], [1318,...  \n",
       "987919  [[1349, 695], [1353, 648], [1286, 625], [899, ...  \n",
       "\n",
       "[34920 rows x 4 columns]"
      ],
      "text/html": "<div>\n<style scoped>\n    .dataframe tbody tr th:only-of-type {\n        vertical-align: middle;\n    }\n\n    .dataframe tbody tr th {\n        vertical-align: top;\n    }\n\n    .dataframe thead th {\n        text-align: right;\n    }\n</style>\n<table border=\"1\" class=\"dataframe\">\n  <thead>\n    <tr style=\"text-align: right;\">\n      <th></th>\n      <th>file_locate</th>\n      <th>file_name</th>\n      <th>class</th>\n      <th>coord</th>\n    </tr>\n  </thead>\n  <tbody>\n    <tr>\n      <th>57251</th>\n      <td>[원천]d_1920_1080_daylight_train_1.zip</td>\n      <td>15997436.jpg</td>\n      <td>crosswalk</td>\n      <td>[[651, 619], [874, 618], [1123, 616], [1125, 6...</td>\n    </tr>\n    <tr>\n      <th>57275</th>\n      <td>[원천]d_1920_1080_daylight_train_1.zip</td>\n      <td>14509671.jpg</td>\n      <td>crosswalk</td>\n      <td>[[1216, 319], [1470, 259], [1548, 243], [1546,...</td>\n    </tr>\n    <tr>\n      <th>57296</th>\n      <td>[원천]d_1920_1080_daylight_train_1.zip</td>\n      <td>14320702.jpg</td>\n      <td>crosswalk</td>\n      <td>[[1500, 614], [1862, 632], [1828, 591], [1544,...</td>\n    </tr>\n    <tr>\n      <th>57298</th>\n      <td>[원천]d_1920_1080_daylight_train_1.zip</td>\n      <td>14320702.jpg</td>\n      <td>crosswalk</td>\n      <td>[[466, 656], [1316, 624], [1233, 590], [498, 6...</td>\n    </tr>\n    <tr>\n      <th>57299</th>\n      <td>[원천]d_1920_1080_daylight_train_1.zip</td>\n      <td>14320702.jpg</td>\n      <td>crosswalk</td>\n      <td>[[1185, 516], [1327, 567], [1481, 559], [1296,...</td>\n    </tr>\n    <tr>\n      <th>...</th>\n      <td>...</td>\n      <td>...</td>\n      <td>...</td>\n      <td>...</td>\n    </tr>\n    <tr>\n      <th>987878</th>\n      <td>[원천]d_1920_1080_daylight_train_2.zip</td>\n      <td>14233338.jpg</td>\n      <td>crosswalk</td>\n      <td>[[1120, 624], [1566, 586], [1901, 583], [1913,...</td>\n    </tr>\n    <tr>\n      <th>987879</th>\n      <td>[원천]d_1920_1080_daylight_train_2.zip</td>\n      <td>14233338.jpg</td>\n      <td>crosswalk</td>\n      <td>[[0, 650], [873, 620], [935, 630], [0, 663]]</td>\n    </tr>\n    <tr>\n      <th>987912</th>\n      <td>[원천]d_1920_1080_daylight_train_2.zip</td>\n      <td>16172288.jpg</td>\n      <td>crosswalk</td>\n      <td>[[50, 666], [114, 670], [413, 664], [569, 659]...</td>\n    </tr>\n    <tr>\n      <th>987918</th>\n      <td>[원천]d_1920_1080_daylight_train_2.zip</td>\n      <td>14317523.jpg</td>\n      <td>crosswalk</td>\n      <td>[[1311, 569], [1353, 579], [1353, 569], [1318,...</td>\n    </tr>\n    <tr>\n      <th>987919</th>\n      <td>[원천]d_1920_1080_daylight_train_2.zip</td>\n      <td>14317523.jpg</td>\n      <td>crosswalk</td>\n      <td>[[1349, 695], [1353, 648], [1286, 625], [899, ...</td>\n    </tr>\n  </tbody>\n</table>\n<p>34920 rows × 4 columns</p>\n</div>"
     },
     "metadata": {},
     "execution_count": 40
    }
   ],
   "source": [
    "target_df = get_dist[get_dist['file_locate'].isin(['[원천]d_1920_1080_daylight_train_2.zip','[원천]d_1920_1080_daylight_train_1.zip'])]\n",
    "target_df"
   ]
  },
  {
   "cell_type": "code",
   "execution_count": 41,
   "metadata": {},
   "outputs": [
    {
     "output_type": "stream",
     "name": "stderr",
     "text": [
      "100%|██████████| 34920/34920 [06:34<00:00, 88.52it/s]\n"
     ]
    }
   ],
   "source": [
    "for_series = []\n",
    "for i in tqdm(target_df['coord'].values):\n",
    "    for_series.append(calculate_area(i))"
   ]
  },
  {
   "cell_type": "code",
   "execution_count": 19,
   "metadata": {},
   "outputs": [
    {
     "output_type": "execute_result",
     "data": {
      "text/plain": [
       "<AxesSubplot:ylabel='Density'>"
      ]
     },
     "metadata": {},
     "execution_count": 19
    },
    {
     "output_type": "display_data",
     "data": {
      "text/plain": "<Figure size 432x288 with 1 Axes>",
      "image/svg+xml": "<?xml version=\"1.0\" encoding=\"utf-8\" standalone=\"no\"?>\n<!DOCTYPE svg PUBLIC \"-//W3C//DTD SVG 1.1//EN\"\n  \"http://www.w3.org/Graphics/SVG/1.1/DTD/svg11.dtd\">\n<svg xmlns:xlink=\"http://www.w3.org/1999/xlink\" width=\"392.14375pt\" height=\"248.518125pt\" viewBox=\"0 0 392.14375 248.518125\" xmlns=\"http://www.w3.org/2000/svg\" version=\"1.1\">\n <metadata>\n  <rdf:RDF xmlns:dc=\"http://purl.org/dc/elements/1.1/\" xmlns:cc=\"http://creativecommons.org/ns#\" xmlns:rdf=\"http://www.w3.org/1999/02/22-rdf-syntax-ns#\">\n   <cc:Work>\n    <dc:type rdf:resource=\"http://purl.org/dc/dcmitype/StillImage\"/>\n    <dc:date>2021-12-14T22:08:05.827737</dc:date>\n    <dc:format>image/svg+xml</dc:format>\n    <dc:creator>\n     <cc:Agent>\n      <dc:title>Matplotlib v3.5.0, https://matplotlib.org/</dc:title>\n     </cc:Agent>\n    </dc:creator>\n   </cc:Work>\n  </rdf:RDF>\n </metadata>\n <defs>\n  <style type=\"text/css\">*{stroke-linejoin: round; stroke-linecap: butt}</style>\n </defs>\n <g id=\"figure_1\">\n  <g id=\"patch_1\">\n   <path d=\"M 0 248.518125 \nL 392.14375 248.518125 \nL 392.14375 0 \nL 0 0 \nL 0 248.518125 \nz\n\" style=\"fill: none\"/>\n  </g>\n  <g id=\"axes_1\">\n   <g id=\"patch_2\">\n    <path d=\"M 50.14375 224.64 \nL 384.94375 224.64 \nL 384.94375 7.2 \nL 50.14375 7.2 \nz\n\" style=\"fill: #ffffff\"/>\n   </g>\n   <g id=\"matplotlib.axis_1\">\n    <g id=\"xtick_1\">\n     <g id=\"line2d_1\">\n      <defs>\n       <path id=\"mb29174015c\" d=\"M 0 0 \nL 0 3.5 \n\" style=\"stroke: #000000; stroke-width: 0.8\"/>\n      </defs>\n      <g>\n       <use xlink:href=\"#mb29174015c\" x=\"80.078206\" y=\"224.64\" style=\"stroke: #000000; stroke-width: 0.8\"/>\n      </g>\n     </g>\n     <g id=\"text_1\">\n      <!-- 0 -->\n      <g transform=\"translate(76.896956 239.238438)scale(0.1 -0.1)\">\n       <defs>\n        <path id=\"DejaVuSans-30\" d=\"M 2034 4250 \nQ 1547 4250 1301 3770 \nQ 1056 3291 1056 2328 \nQ 1056 1369 1301 889 \nQ 1547 409 2034 409 \nQ 2525 409 2770 889 \nQ 3016 1369 3016 2328 \nQ 3016 3291 2770 3770 \nQ 2525 4250 2034 4250 \nz\nM 2034 4750 \nQ 2819 4750 3233 4129 \nQ 3647 3509 3647 2328 \nQ 3647 1150 3233 529 \nQ 2819 -91 2034 -91 \nQ 1250 -91 836 529 \nQ 422 1150 422 2328 \nQ 422 3509 836 4129 \nQ 1250 4750 2034 4750 \nz\n\" transform=\"scale(0.015625)\"/>\n       </defs>\n       <use xlink:href=\"#DejaVuSans-30\"/>\n      </g>\n     </g>\n    </g>\n    <g id=\"xtick_2\">\n     <g id=\"line2d_2\">\n      <g>\n       <use xlink:href=\"#mb29174015c\" x=\"148.486041\" y=\"224.64\" style=\"stroke: #000000; stroke-width: 0.8\"/>\n      </g>\n     </g>\n     <g id=\"text_2\">\n      <!-- 10 -->\n      <g transform=\"translate(142.123541 239.238438)scale(0.1 -0.1)\">\n       <defs>\n        <path id=\"DejaVuSans-31\" d=\"M 794 531 \nL 1825 531 \nL 1825 4091 \nL 703 3866 \nL 703 4441 \nL 1819 4666 \nL 2450 4666 \nL 2450 531 \nL 3481 531 \nL 3481 0 \nL 794 0 \nL 794 531 \nz\n\" transform=\"scale(0.015625)\"/>\n       </defs>\n       <use xlink:href=\"#DejaVuSans-31\"/>\n       <use xlink:href=\"#DejaVuSans-30\" x=\"63.623047\"/>\n      </g>\n     </g>\n    </g>\n    <g id=\"xtick_3\">\n     <g id=\"line2d_3\">\n      <g>\n       <use xlink:href=\"#mb29174015c\" x=\"216.893876\" y=\"224.64\" style=\"stroke: #000000; stroke-width: 0.8\"/>\n      </g>\n     </g>\n     <g id=\"text_3\">\n      <!-- 20 -->\n      <g transform=\"translate(210.531376 239.238438)scale(0.1 -0.1)\">\n       <defs>\n        <path id=\"DejaVuSans-32\" d=\"M 1228 531 \nL 3431 531 \nL 3431 0 \nL 469 0 \nL 469 531 \nQ 828 903 1448 1529 \nQ 2069 2156 2228 2338 \nQ 2531 2678 2651 2914 \nQ 2772 3150 2772 3378 \nQ 2772 3750 2511 3984 \nQ 2250 4219 1831 4219 \nQ 1534 4219 1204 4116 \nQ 875 4013 500 3803 \nL 500 4441 \nQ 881 4594 1212 4672 \nQ 1544 4750 1819 4750 \nQ 2544 4750 2975 4387 \nQ 3406 4025 3406 3419 \nQ 3406 3131 3298 2873 \nQ 3191 2616 2906 2266 \nQ 2828 2175 2409 1742 \nQ 1991 1309 1228 531 \nz\n\" transform=\"scale(0.015625)\"/>\n       </defs>\n       <use xlink:href=\"#DejaVuSans-32\"/>\n       <use xlink:href=\"#DejaVuSans-30\" x=\"63.623047\"/>\n      </g>\n     </g>\n    </g>\n    <g id=\"xtick_4\">\n     <g id=\"line2d_4\">\n      <g>\n       <use xlink:href=\"#mb29174015c\" x=\"285.30171\" y=\"224.64\" style=\"stroke: #000000; stroke-width: 0.8\"/>\n      </g>\n     </g>\n     <g id=\"text_4\">\n      <!-- 30 -->\n      <g transform=\"translate(278.93921 239.238438)scale(0.1 -0.1)\">\n       <defs>\n        <path id=\"DejaVuSans-33\" d=\"M 2597 2516 \nQ 3050 2419 3304 2112 \nQ 3559 1806 3559 1356 \nQ 3559 666 3084 287 \nQ 2609 -91 1734 -91 \nQ 1441 -91 1130 -33 \nQ 819 25 488 141 \nL 488 750 \nQ 750 597 1062 519 \nQ 1375 441 1716 441 \nQ 2309 441 2620 675 \nQ 2931 909 2931 1356 \nQ 2931 1769 2642 2001 \nQ 2353 2234 1838 2234 \nL 1294 2234 \nL 1294 2753 \nL 1863 2753 \nQ 2328 2753 2575 2939 \nQ 2822 3125 2822 3475 \nQ 2822 3834 2567 4026 \nQ 2313 4219 1838 4219 \nQ 1578 4219 1281 4162 \nQ 984 4106 628 3988 \nL 628 4550 \nQ 988 4650 1302 4700 \nQ 1616 4750 1894 4750 \nQ 2613 4750 3031 4423 \nQ 3450 4097 3450 3541 \nQ 3450 3153 3228 2886 \nQ 3006 2619 2597 2516 \nz\n\" transform=\"scale(0.015625)\"/>\n       </defs>\n       <use xlink:href=\"#DejaVuSans-33\"/>\n       <use xlink:href=\"#DejaVuSans-30\" x=\"63.623047\"/>\n      </g>\n     </g>\n    </g>\n    <g id=\"xtick_5\">\n     <g id=\"line2d_5\">\n      <g>\n       <use xlink:href=\"#mb29174015c\" x=\"353.709545\" y=\"224.64\" style=\"stroke: #000000; stroke-width: 0.8\"/>\n      </g>\n     </g>\n     <g id=\"text_5\">\n      <!-- 40 -->\n      <g transform=\"translate(347.347045 239.238438)scale(0.1 -0.1)\">\n       <defs>\n        <path id=\"DejaVuSans-34\" d=\"M 2419 4116 \nL 825 1625 \nL 2419 1625 \nL 2419 4116 \nz\nM 2253 4666 \nL 3047 4666 \nL 3047 1625 \nL 3713 1625 \nL 3713 1100 \nL 3047 1100 \nL 3047 0 \nL 2419 0 \nL 2419 1100 \nL 313 1100 \nL 313 1709 \nL 2253 4666 \nz\n\" transform=\"scale(0.015625)\"/>\n       </defs>\n       <use xlink:href=\"#DejaVuSans-34\"/>\n       <use xlink:href=\"#DejaVuSans-30\" x=\"63.623047\"/>\n      </g>\n     </g>\n    </g>\n   </g>\n   <g id=\"matplotlib.axis_2\">\n    <g id=\"ytick_1\">\n     <g id=\"line2d_6\">\n      <defs>\n       <path id=\"m266d6b8f32\" d=\"M 0 0 \nL -3.5 0 \n\" style=\"stroke: #000000; stroke-width: 0.8\"/>\n      </defs>\n      <g>\n       <use xlink:href=\"#m266d6b8f32\" x=\"50.14375\" y=\"224.64\" style=\"stroke: #000000; stroke-width: 0.8\"/>\n      </g>\n     </g>\n     <g id=\"text_6\">\n      <!-- 0.00 -->\n      <g transform=\"translate(20.878125 228.439219)scale(0.1 -0.1)\">\n       <defs>\n        <path id=\"DejaVuSans-2e\" d=\"M 684 794 \nL 1344 794 \nL 1344 0 \nL 684 0 \nL 684 794 \nz\n\" transform=\"scale(0.015625)\"/>\n       </defs>\n       <use xlink:href=\"#DejaVuSans-30\"/>\n       <use xlink:href=\"#DejaVuSans-2e\" x=\"63.623047\"/>\n       <use xlink:href=\"#DejaVuSans-30\" x=\"95.410156\"/>\n       <use xlink:href=\"#DejaVuSans-30\" x=\"159.033203\"/>\n      </g>\n     </g>\n    </g>\n    <g id=\"ytick_2\">\n     <g id=\"line2d_7\">\n      <g>\n       <use xlink:href=\"#m266d6b8f32\" x=\"50.14375\" y=\"194.914417\" style=\"stroke: #000000; stroke-width: 0.8\"/>\n      </g>\n     </g>\n     <g id=\"text_7\">\n      <!-- 0.05 -->\n      <g transform=\"translate(20.878125 198.713636)scale(0.1 -0.1)\">\n       <defs>\n        <path id=\"DejaVuSans-35\" d=\"M 691 4666 \nL 3169 4666 \nL 3169 4134 \nL 1269 4134 \nL 1269 2991 \nQ 1406 3038 1543 3061 \nQ 1681 3084 1819 3084 \nQ 2600 3084 3056 2656 \nQ 3513 2228 3513 1497 \nQ 3513 744 3044 326 \nQ 2575 -91 1722 -91 \nQ 1428 -91 1123 -41 \nQ 819 9 494 109 \nL 494 744 \nQ 775 591 1075 516 \nQ 1375 441 1709 441 \nQ 2250 441 2565 725 \nQ 2881 1009 2881 1497 \nQ 2881 1984 2565 2268 \nQ 2250 2553 1709 2553 \nQ 1456 2553 1204 2497 \nQ 953 2441 691 2322 \nL 691 4666 \nz\n\" transform=\"scale(0.015625)\"/>\n       </defs>\n       <use xlink:href=\"#DejaVuSans-30\"/>\n       <use xlink:href=\"#DejaVuSans-2e\" x=\"63.623047\"/>\n       <use xlink:href=\"#DejaVuSans-30\" x=\"95.410156\"/>\n       <use xlink:href=\"#DejaVuSans-35\" x=\"159.033203\"/>\n      </g>\n     </g>\n    </g>\n    <g id=\"ytick_3\">\n     <g id=\"line2d_8\">\n      <g>\n       <use xlink:href=\"#m266d6b8f32\" x=\"50.14375\" y=\"165.188834\" style=\"stroke: #000000; stroke-width: 0.8\"/>\n      </g>\n     </g>\n     <g id=\"text_8\">\n      <!-- 0.10 -->\n      <g transform=\"translate(20.878125 168.988053)scale(0.1 -0.1)\">\n       <use xlink:href=\"#DejaVuSans-30\"/>\n       <use xlink:href=\"#DejaVuSans-2e\" x=\"63.623047\"/>\n       <use xlink:href=\"#DejaVuSans-31\" x=\"95.410156\"/>\n       <use xlink:href=\"#DejaVuSans-30\" x=\"159.033203\"/>\n      </g>\n     </g>\n    </g>\n    <g id=\"ytick_4\">\n     <g id=\"line2d_9\">\n      <g>\n       <use xlink:href=\"#m266d6b8f32\" x=\"50.14375\" y=\"135.463252\" style=\"stroke: #000000; stroke-width: 0.8\"/>\n      </g>\n     </g>\n     <g id=\"text_9\">\n      <!-- 0.15 -->\n      <g transform=\"translate(20.878125 139.26247)scale(0.1 -0.1)\">\n       <use xlink:href=\"#DejaVuSans-30\"/>\n       <use xlink:href=\"#DejaVuSans-2e\" x=\"63.623047\"/>\n       <use xlink:href=\"#DejaVuSans-31\" x=\"95.410156\"/>\n       <use xlink:href=\"#DejaVuSans-35\" x=\"159.033203\"/>\n      </g>\n     </g>\n    </g>\n    <g id=\"ytick_5\">\n     <g id=\"line2d_10\">\n      <g>\n       <use xlink:href=\"#m266d6b8f32\" x=\"50.14375\" y=\"105.737669\" style=\"stroke: #000000; stroke-width: 0.8\"/>\n      </g>\n     </g>\n     <g id=\"text_10\">\n      <!-- 0.20 -->\n      <g transform=\"translate(20.878125 109.536888)scale(0.1 -0.1)\">\n       <use xlink:href=\"#DejaVuSans-30\"/>\n       <use xlink:href=\"#DejaVuSans-2e\" x=\"63.623047\"/>\n       <use xlink:href=\"#DejaVuSans-32\" x=\"95.410156\"/>\n       <use xlink:href=\"#DejaVuSans-30\" x=\"159.033203\"/>\n      </g>\n     </g>\n    </g>\n    <g id=\"ytick_6\">\n     <g id=\"line2d_11\">\n      <g>\n       <use xlink:href=\"#m266d6b8f32\" x=\"50.14375\" y=\"76.012086\" style=\"stroke: #000000; stroke-width: 0.8\"/>\n      </g>\n     </g>\n     <g id=\"text_11\">\n      <!-- 0.25 -->\n      <g transform=\"translate(20.878125 79.811305)scale(0.1 -0.1)\">\n       <use xlink:href=\"#DejaVuSans-30\"/>\n       <use xlink:href=\"#DejaVuSans-2e\" x=\"63.623047\"/>\n       <use xlink:href=\"#DejaVuSans-32\" x=\"95.410156\"/>\n       <use xlink:href=\"#DejaVuSans-35\" x=\"159.033203\"/>\n      </g>\n     </g>\n    </g>\n    <g id=\"ytick_7\">\n     <g id=\"line2d_12\">\n      <g>\n       <use xlink:href=\"#m266d6b8f32\" x=\"50.14375\" y=\"46.286503\" style=\"stroke: #000000; stroke-width: 0.8\"/>\n      </g>\n     </g>\n     <g id=\"text_12\">\n      <!-- 0.30 -->\n      <g transform=\"translate(20.878125 50.085722)scale(0.1 -0.1)\">\n       <use xlink:href=\"#DejaVuSans-30\"/>\n       <use xlink:href=\"#DejaVuSans-2e\" x=\"63.623047\"/>\n       <use xlink:href=\"#DejaVuSans-33\" x=\"95.410156\"/>\n       <use xlink:href=\"#DejaVuSans-30\" x=\"159.033203\"/>\n      </g>\n     </g>\n    </g>\n    <g id=\"ytick_8\">\n     <g id=\"line2d_13\">\n      <g>\n       <use xlink:href=\"#m266d6b8f32\" x=\"50.14375\" y=\"16.56092\" style=\"stroke: #000000; stroke-width: 0.8\"/>\n      </g>\n     </g>\n     <g id=\"text_13\">\n      <!-- 0.35 -->\n      <g transform=\"translate(20.878125 20.360139)scale(0.1 -0.1)\">\n       <use xlink:href=\"#DejaVuSans-30\"/>\n       <use xlink:href=\"#DejaVuSans-2e\" x=\"63.623047\"/>\n       <use xlink:href=\"#DejaVuSans-33\" x=\"95.410156\"/>\n       <use xlink:href=\"#DejaVuSans-35\" x=\"159.033203\"/>\n      </g>\n     </g>\n    </g>\n    <g id=\"text_14\">\n     <!-- Density -->\n     <g transform=\"translate(14.798438 134.928594)rotate(-90)scale(0.1 -0.1)\">\n      <defs>\n       <path id=\"DejaVuSans-44\" d=\"M 1259 4147 \nL 1259 519 \nL 2022 519 \nQ 2988 519 3436 956 \nQ 3884 1394 3884 2338 \nQ 3884 3275 3436 3711 \nQ 2988 4147 2022 4147 \nL 1259 4147 \nz\nM 628 4666 \nL 1925 4666 \nQ 3281 4666 3915 4102 \nQ 4550 3538 4550 2338 \nQ 4550 1131 3912 565 \nQ 3275 0 1925 0 \nL 628 0 \nL 628 4666 \nz\n\" transform=\"scale(0.015625)\"/>\n       <path id=\"DejaVuSans-65\" d=\"M 3597 1894 \nL 3597 1613 \nL 953 1613 \nQ 991 1019 1311 708 \nQ 1631 397 2203 397 \nQ 2534 397 2845 478 \nQ 3156 559 3463 722 \nL 3463 178 \nQ 3153 47 2828 -22 \nQ 2503 -91 2169 -91 \nQ 1331 -91 842 396 \nQ 353 884 353 1716 \nQ 353 2575 817 3079 \nQ 1281 3584 2069 3584 \nQ 2775 3584 3186 3129 \nQ 3597 2675 3597 1894 \nz\nM 3022 2063 \nQ 3016 2534 2758 2815 \nQ 2500 3097 2075 3097 \nQ 1594 3097 1305 2825 \nQ 1016 2553 972 2059 \nL 3022 2063 \nz\n\" transform=\"scale(0.015625)\"/>\n       <path id=\"DejaVuSans-6e\" d=\"M 3513 2113 \nL 3513 0 \nL 2938 0 \nL 2938 2094 \nQ 2938 2591 2744 2837 \nQ 2550 3084 2163 3084 \nQ 1697 3084 1428 2787 \nQ 1159 2491 1159 1978 \nL 1159 0 \nL 581 0 \nL 581 3500 \nL 1159 3500 \nL 1159 2956 \nQ 1366 3272 1645 3428 \nQ 1925 3584 2291 3584 \nQ 2894 3584 3203 3211 \nQ 3513 2838 3513 2113 \nz\n\" transform=\"scale(0.015625)\"/>\n       <path id=\"DejaVuSans-73\" d=\"M 2834 3397 \nL 2834 2853 \nQ 2591 2978 2328 3040 \nQ 2066 3103 1784 3103 \nQ 1356 3103 1142 2972 \nQ 928 2841 928 2578 \nQ 928 2378 1081 2264 \nQ 1234 2150 1697 2047 \nL 1894 2003 \nQ 2506 1872 2764 1633 \nQ 3022 1394 3022 966 \nQ 3022 478 2636 193 \nQ 2250 -91 1575 -91 \nQ 1294 -91 989 -36 \nQ 684 19 347 128 \nL 347 722 \nQ 666 556 975 473 \nQ 1284 391 1588 391 \nQ 1994 391 2212 530 \nQ 2431 669 2431 922 \nQ 2431 1156 2273 1281 \nQ 2116 1406 1581 1522 \nL 1381 1569 \nQ 847 1681 609 1914 \nQ 372 2147 372 2553 \nQ 372 3047 722 3315 \nQ 1072 3584 1716 3584 \nQ 2034 3584 2315 3537 \nQ 2597 3491 2834 3397 \nz\n\" transform=\"scale(0.015625)\"/>\n       <path id=\"DejaVuSans-69\" d=\"M 603 3500 \nL 1178 3500 \nL 1178 0 \nL 603 0 \nL 603 3500 \nz\nM 603 4863 \nL 1178 4863 \nL 1178 4134 \nL 603 4134 \nL 603 4863 \nz\n\" transform=\"scale(0.015625)\"/>\n       <path id=\"DejaVuSans-74\" d=\"M 1172 4494 \nL 1172 3500 \nL 2356 3500 \nL 2356 3053 \nL 1172 3053 \nL 1172 1153 \nQ 1172 725 1289 603 \nQ 1406 481 1766 481 \nL 2356 481 \nL 2356 0 \nL 1766 0 \nQ 1100 0 847 248 \nQ 594 497 594 1153 \nL 594 3053 \nL 172 3053 \nL 172 3500 \nL 594 3500 \nL 594 4494 \nL 1172 4494 \nz\n\" transform=\"scale(0.015625)\"/>\n       <path id=\"DejaVuSans-79\" d=\"M 2059 -325 \nQ 1816 -950 1584 -1140 \nQ 1353 -1331 966 -1331 \nL 506 -1331 \nL 506 -850 \nL 844 -850 \nQ 1081 -850 1212 -737 \nQ 1344 -625 1503 -206 \nL 1606 56 \nL 191 3500 \nL 800 3500 \nL 1894 763 \nL 2988 3500 \nL 3597 3500 \nL 2059 -325 \nz\n\" transform=\"scale(0.015625)\"/>\n      </defs>\n      <use xlink:href=\"#DejaVuSans-44\"/>\n      <use xlink:href=\"#DejaVuSans-65\" x=\"77.001953\"/>\n      <use xlink:href=\"#DejaVuSans-6e\" x=\"138.525391\"/>\n      <use xlink:href=\"#DejaVuSans-73\" x=\"201.904297\"/>\n      <use xlink:href=\"#DejaVuSans-69\" x=\"254.003906\"/>\n      <use xlink:href=\"#DejaVuSans-74\" x=\"281.787109\"/>\n      <use xlink:href=\"#DejaVuSans-79\" x=\"320.996094\"/>\n     </g>\n    </g>\n   </g>\n   <g id=\"line2d_14\">\n    <path d=\"M 65.361932 223.659335 \nL 66.891397 222.119216 \nL 68.420863 218.741128 \nL 69.950328 212.067495 \nL 71.479794 200.220312 \nL 73.009259 181.385802 \nL 74.538725 154.709383 \nL 76.06819 121.330304 \nL 77.597656 84.980083 \nL 79.127121 51.550068 \nL 80.656587 27.480924 \nL 82.186052 17.554279 \nL 83.715518 23.160399 \nL 85.244983 41.940709 \nL 86.774449 68.92785 \nL 89.83338 126.036111 \nL 91.362845 148.94201 \nL 92.892311 166.426871 \nL 94.421776 178.976314 \nL 95.951242 187.643645 \nL 97.480708 193.550912 \nL 99.010173 197.639566 \nL 100.539639 200.598614 \nL 102.069104 202.878963 \nL 103.59857 204.737915 \nL 105.128035 206.293651 \nL 106.657501 207.584094 \nL 108.186966 208.62286 \nL 109.716432 209.440773 \nL 117.363759 212.836611 \nL 121.952156 215.324574 \nL 123.481621 215.984887 \nL 126.540552 216.938814 \nL 129.599483 217.559165 \nL 134.18788 218.191653 \nL 144.894138 219.177996 \nL 147.953069 219.232659 \nL 155.600397 219.074966 \nL 164.77719 219.33639 \nL 170.895052 219.728474 \nL 178.54238 220.335185 \nL 181.601311 220.266514 \nL 187.719173 219.831005 \nL 190.778104 219.905757 \nL 199.954897 220.595232 \nL 203.013828 220.587016 \nL 212.190621 220.297974 \nL 215.249552 220.53989 \nL 219.837948 221.267006 \nL 224.426345 221.936653 \nL 227.485276 222.137526 \nL 238.191534 222.490236 \nL 242.779931 222.603063 \nL 253.486189 222.466078 \nL 259.604052 222.863517 \nL 273.369241 223.937032 \nL 285.604965 224.262087 \nL 293.252293 224.434973 \nL 305.488017 224.48552 \nL 320.782672 224.360131 \nL 328.429999 224.564254 \nL 355.960379 224.620887 \nL 369.725568 224.639864 \nL 369.725568 224.639864 \n\" clip-path=\"url(#p34a2095fea)\" style=\"fill: none; stroke: #1f77b4; stroke-width: 1.5; stroke-linecap: square\"/>\n   </g>\n   <g id=\"patch_3\">\n    <path d=\"M 50.14375 224.64 \nL 50.14375 7.2 \n\" style=\"fill: none; stroke: #000000; stroke-width: 0.8; stroke-linejoin: miter; stroke-linecap: square\"/>\n   </g>\n   <g id=\"patch_4\">\n    <path d=\"M 384.94375 224.64 \nL 384.94375 7.2 \n\" style=\"fill: none; stroke: #000000; stroke-width: 0.8; stroke-linejoin: miter; stroke-linecap: square\"/>\n   </g>\n   <g id=\"patch_5\">\n    <path d=\"M 50.14375 224.64 \nL 384.94375 224.64 \n\" style=\"fill: none; stroke: #000000; stroke-width: 0.8; stroke-linejoin: miter; stroke-linecap: square\"/>\n   </g>\n   <g id=\"patch_6\">\n    <path d=\"M 50.14375 7.2 \nL 384.94375 7.2 \n\" style=\"fill: none; stroke: #000000; stroke-width: 0.8; stroke-linejoin: miter; stroke-linecap: square\"/>\n   </g>\n  </g>\n </g>\n <defs>\n  <clipPath id=\"p34a2095fea\">\n   <rect x=\"50.14375\" y=\"7.2\" width=\"334.8\" height=\"217.44\"/>\n  </clipPath>\n </defs>\n</svg>\n",
      "image/png": "[encoded data removed]"
     },
     "metadata": {
      "needs_background": "light"
     }
    }
   ],
   "source": [
    "import seaborn as sns\n",
    "sns.kdeplot(sorted(for_series))"
   ]
  },
  {
   "cell_type": "code",
   "execution_count": 42,
   "metadata": {},
   "outputs": [
    {
     "output_type": "stream",
     "name": "stderr",
     "text": [
      "/var/folders/h9/r8r6r6md7wsdy0x43cwkg1zm0000gn/T/ipykernel_15032/3528579099.py:1: SettingWithCopyWarning: \nA value is trying to be set on a copy of a slice from a DataFrame.\nTry using .loc[row_indexer,col_indexer] = value instead\n\nSee the caveats in the documentation: https://pandas.pydata.org/pandas-docs/stable/user_guide/indexing.html#returning-a-view-versus-a-copy\n  target_df['ratio'] = for_series\n"
     ]
    },
    {
     "output_type": "execute_result",
     "data": {
      "text/plain": [
       "                                 file_locate     file_name      class  \\\n",
       "57398   [원천]d_1920_1080_daylight_train_1.zip  15983778.jpg  crosswalk   \n",
       "57536   [원천]d_1920_1080_daylight_train_1.zip  14507787.jpg  crosswalk   \n",
       "57881   [원천]d_1920_1080_daylight_train_1.zip  14540806.jpg  crosswalk   \n",
       "57979   [원천]d_1920_1080_daylight_train_1.zip  16007664.jpg  crosswalk   \n",
       "57991   [원천]d_1920_1080_daylight_train_1.zip  15887524.jpg  crosswalk   \n",
       "...                                      ...           ...        ...   \n",
       "985712  [원천]d_1920_1080_daylight_train_2.zip  14208145.jpg  crosswalk   \n",
       "986252  [원천]d_1920_1080_daylight_train_2.zip  16135081.jpg  crosswalk   \n",
       "986514  [원천]d_1920_1080_daylight_train_2.zip  16129491.jpg  crosswalk   \n",
       "987233  [원천]d_1920_1080_daylight_train_2.zip  14207215.jpg  crosswalk   \n",
       "987848  [원천]d_1920_1080_daylight_train_2.zip  16139185.jpg  crosswalk   \n",
       "\n",
       "                                                    coord  ratio  \n",
       "57398   [[1, 973], [0, 703], [268, 709], [717, 721], [...  26.66  \n",
       "57536   [[7, 1073], [2, 860], [429, 768], [1099, 622],...  34.66  \n",
       "57881   [[1453, 714], [1832, 720], [1917, 744], [1919,...  28.94  \n",
       "57979   [[187, 665], [256, 698], [326, 729], [439, 807...  21.69  \n",
       "57991   [[4, 598], [0, 777], [266, 855], [1280, 982], ...  24.46  \n",
       "...                                                   ...    ...  \n",
       "985712   [[1907, 759], [1913, 1073], [4, 1073], [5, 804]]  26.90  \n",
       "986252  [[1918, 932], [1622, 943], [1366, 949], [1089,...  20.32  \n",
       "986514  [[882, 754], [1713, 782], [1916, 795], [1919, ...  22.84  \n",
       "987233  [[4, 713], [925, 686], [1571, 703], [1798, 725...  27.51  \n",
       "987848  [[0, 753], [0, 934], [151, 993], [741, 1028], ...  23.17  \n",
       "\n",
       "[1155 rows x 5 columns]"
      ],
      "text/html": "<div>\n<style scoped>\n    .dataframe tbody tr th:only-of-type {\n        vertical-align: middle;\n    }\n\n    .dataframe tbody tr th {\n        vertical-align: top;\n    }\n\n    .dataframe thead th {\n        text-align: right;\n    }\n</style>\n<table border=\"1\" class=\"dataframe\">\n  <thead>\n    <tr style=\"text-align: right;\">\n      <th></th>\n      <th>file_locate</th>\n      <th>file_name</th>\n      <th>class</th>\n      <th>coord</th>\n      <th>ratio</th>\n    </tr>\n  </thead>\n  <tbody>\n    <tr>\n      <th>57398</th>\n      <td>[원천]d_1920_1080_daylight_train_1.zip</td>\n      <td>15983778.jpg</td>\n      <td>crosswalk</td>\n      <td>[[1, 973], [0, 703], [268, 709], [717, 721], [...</td>\n      <td>26.66</td>\n    </tr>\n    <tr>\n      <th>57536</th>\n      <td>[원천]d_1920_1080_daylight_train_1.zip</td>\n      <td>14507787.jpg</td>\n      <td>crosswalk</td>\n      <td>[[7, 1073], [2, 860], [429, 768], [1099, 622],...</td>\n      <td>34.66</td>\n    </tr>\n    <tr>\n      <th>57881</th>\n      <td>[원천]d_1920_1080_daylight_train_1.zip</td>\n      <td>14540806.jpg</td>\n      <td>crosswalk</td>\n      <td>[[1453, 714], [1832, 720], [1917, 744], [1919,...</td>\n      <td>28.94</td>\n    </tr>\n    <tr>\n      <th>57979</th>\n      <td>[원천]d_1920_1080_daylight_train_1.zip</td>\n      <td>16007664.jpg</td>\n      <td>crosswalk</td>\n      <td>[[187, 665], [256, 698], [326, 729], [439, 807...</td>\n      <td>21.69</td>\n    </tr>\n    <tr>\n      <th>57991</th>\n      <td>[원천]d_1920_1080_daylight_train_1.zip</td>\n      <td>15887524.jpg</td>\n      <td>crosswalk</td>\n      <td>[[4, 598], [0, 777], [266, 855], [1280, 982], ...</td>\n      <td>24.46</td>\n    </tr>\n    <tr>\n      <th>...</th>\n      <td>...</td>\n      <td>...</td>\n      <td>...</td>\n      <td>...</td>\n      <td>...</td>\n    </tr>\n    <tr>\n      <th>985712</th>\n      <td>[원천]d_1920_1080_daylight_train_2.zip</td>\n      <td>14208145.jpg</td>\n      <td>crosswalk</td>\n      <td>[[1907, 759], [1913, 1073], [4, 1073], [5, 804]]</td>\n      <td>26.90</td>\n    </tr>\n    <tr>\n      <th>986252</th>\n      <td>[원천]d_1920_1080_daylight_train_2.zip</td>\n      <td>16135081.jpg</td>\n      <td>crosswalk</td>\n      <td>[[1918, 932], [1622, 943], [1366, 949], [1089,...</td>\n      <td>20.32</td>\n    </tr>\n    <tr>\n      <th>986514</th>\n      <td>[원천]d_1920_1080_daylight_train_2.zip</td>\n      <td>16129491.jpg</td>\n      <td>crosswalk</td>\n      <td>[[882, 754], [1713, 782], [1916, 795], [1919, ...</td>\n      <td>22.84</td>\n    </tr>\n    <tr>\n      <th>987233</th>\n      <td>[원천]d_1920_1080_daylight_train_2.zip</td>\n      <td>14207215.jpg</td>\n      <td>crosswalk</td>\n      <td>[[4, 713], [925, 686], [1571, 703], [1798, 725...</td>\n      <td>27.51</td>\n    </tr>\n    <tr>\n      <th>987848</th>\n      <td>[원천]d_1920_1080_daylight_train_2.zip</td>\n      <td>16139185.jpg</td>\n      <td>crosswalk</td>\n      <td>[[0, 753], [0, 934], [151, 993], [741, 1028], ...</td>\n      <td>23.17</td>\n    </tr>\n  </tbody>\n</table>\n<p>1155 rows × 5 columns</p>\n</div>"
     },
     "metadata": {},
     "execution_count": 42
    }
   ],
   "source": [
    "target_df['ratio'] = for_series\n",
    "target_df.to_csv('line_crosswalk_with_ratio_(12_14).csv', index=False, header=True, encoding='utf-8')\n",
    "target_df = target_df[target_df['ratio']>=20]\n",
    "target_df"
   ]
  },
  {
   "cell_type": "code",
   "execution_count": 28,
   "metadata": {},
   "outputs": [
    {
     "output_type": "execute_result",
     "data": {
      "text/plain": [
       "<bound method Series.unique of 57398     15983778.jpg\n",
       "57536     14507787.jpg\n",
       "57881     14540806.jpg\n",
       "57979     16007664.jpg\n",
       "57991     15887524.jpg\n",
       "              ...     \n",
       "985712    14208145.jpg\n",
       "986252    16135081.jpg\n",
       "986514    16129491.jpg\n",
       "987233    14207215.jpg\n",
       "987848    16139185.jpg\n",
       "Name: file_name, Length: 1155, dtype: object>"
      ]
     },
     "metadata": {},
     "execution_count": 28
    }
   ],
   "source": [
    "target_df['file_name'].unique"
   ]
  },
  {
   "cell_type": "code",
   "execution_count": 43,
   "metadata": {},
   "outputs": [
    {
     "output_type": "execute_result",
     "data": {
      "text/plain": [
       "                                 file_locate     file_name      class  \\\n",
       "57398   [원천]d_1920_1080_daylight_train_1.zip  15983778.jpg  crosswalk   \n",
       "57536   [원천]d_1920_1080_daylight_train_1.zip  14507787.jpg  crosswalk   \n",
       "57537   [원천]d_1920_1080_daylight_train_1.zip  14507787.jpg  crosswalk   \n",
       "57538   [원천]d_1920_1080_daylight_train_1.zip  14507787.jpg  crosswalk   \n",
       "57881   [원천]d_1920_1080_daylight_train_1.zip  14540806.jpg  crosswalk   \n",
       "...                                      ...           ...        ...   \n",
       "986514  [원천]d_1920_1080_daylight_train_2.zip  16129491.jpg  crosswalk   \n",
       "987233  [원천]d_1920_1080_daylight_train_2.zip  14207215.jpg  crosswalk   \n",
       "987846  [원천]d_1920_1080_daylight_train_2.zip  16139185.jpg  crosswalk   \n",
       "987847  [원천]d_1920_1080_daylight_train_2.zip  16139185.jpg  crosswalk   \n",
       "987848  [원천]d_1920_1080_daylight_train_2.zip  16139185.jpg  crosswalk   \n",
       "\n",
       "                                                    coord  \n",
       "57398   [[1, 973], [0, 703], [268, 709], [717, 721], [...  \n",
       "57536   [[7, 1073], [2, 860], [429, 768], [1099, 622],...  \n",
       "57537      [[89, 683], [286, 630], [268, 611], [91, 657]]  \n",
       "57538                  [[60, 738], [198, 673], [62, 711]]  \n",
       "57881   [[1453, 714], [1832, 720], [1917, 744], [1919,...  \n",
       "...                                                   ...  \n",
       "986514  [[882, 754], [1713, 782], [1916, 795], [1919, ...  \n",
       "987233  [[4, 713], [925, 686], [1571, 703], [1798, 725...  \n",
       "987846  [[557, 616], [558, 626], [1059, 618], [1310, 6...  \n",
       "987847  [[1480, 620], [1628, 638], [1778, 630], [1778,...  \n",
       "987848  [[0, 753], [0, 934], [151, 993], [741, 1028], ...  \n",
       "\n",
       "[2267 rows x 4 columns]"
      ],
      "text/html": "<div>\n<style scoped>\n    .dataframe tbody tr th:only-of-type {\n        vertical-align: middle;\n    }\n\n    .dataframe tbody tr th {\n        vertical-align: top;\n    }\n\n    .dataframe thead th {\n        text-align: right;\n    }\n</style>\n<table border=\"1\" class=\"dataframe\">\n  <thead>\n    <tr style=\"text-align: right;\">\n      <th></th>\n      <th>file_locate</th>\n      <th>file_name</th>\n      <th>class</th>\n      <th>coord</th>\n    </tr>\n  </thead>\n  <tbody>\n    <tr>\n      <th>57398</th>\n      <td>[원천]d_1920_1080_daylight_train_1.zip</td>\n      <td>15983778.jpg</td>\n      <td>crosswalk</td>\n      <td>[[1, 973], [0, 703], [268, 709], [717, 721], [...</td>\n    </tr>\n    <tr>\n      <th>57536</th>\n      <td>[원천]d_1920_1080_daylight_train_1.zip</td>\n      <td>14507787.jpg</td>\n      <td>crosswalk</td>\n      <td>[[7, 1073], [2, 860], [429, 768], [1099, 622],...</td>\n    </tr>\n    <tr>\n      <th>57537</th>\n      <td>[원천]d_1920_1080_daylight_train_1.zip</td>\n      <td>14507787.jpg</td>\n      <td>crosswalk</td>\n      <td>[[89, 683], [286, 630], [268, 611], [91, 657]]</td>\n    </tr>\n    <tr>\n      <th>57538</th>\n      <td>[원천]d_1920_1080_daylight_train_1.zip</td>\n      <td>14507787.jpg</td>\n      <td>crosswalk</td>\n      <td>[[60, 738], [198, 673], [62, 711]]</td>\n    </tr>\n    <tr>\n      <th>57881</th>\n      <td>[원천]d_1920_1080_daylight_train_1.zip</td>\n      <td>14540806.jpg</td>\n      <td>crosswalk</td>\n      <td>[[1453, 714], [1832, 720], [1917, 744], [1919,...</td>\n    </tr>\n    <tr>\n      <th>...</th>\n      <td>...</td>\n      <td>...</td>\n      <td>...</td>\n      <td>...</td>\n    </tr>\n    <tr>\n      <th>986514</th>\n      <td>[원천]d_1920_1080_daylight_train_2.zip</td>\n      <td>16129491.jpg</td>\n      <td>crosswalk</td>\n      <td>[[882, 754], [1713, 782], [1916, 795], [1919, ...</td>\n    </tr>\n    <tr>\n      <th>987233</th>\n      <td>[원천]d_1920_1080_daylight_train_2.zip</td>\n      <td>14207215.jpg</td>\n      <td>crosswalk</td>\n      <td>[[4, 713], [925, 686], [1571, 703], [1798, 725...</td>\n    </tr>\n    <tr>\n      <th>987846</th>\n      <td>[원천]d_1920_1080_daylight_train_2.zip</td>\n      <td>16139185.jpg</td>\n      <td>crosswalk</td>\n      <td>[[557, 616], [558, 626], [1059, 618], [1310, 6...</td>\n    </tr>\n    <tr>\n      <th>987847</th>\n      <td>[원천]d_1920_1080_daylight_train_2.zip</td>\n      <td>16139185.jpg</td>\n      <td>crosswalk</td>\n      <td>[[1480, 620], [1628, 638], [1778, 630], [1778,...</td>\n    </tr>\n    <tr>\n      <th>987848</th>\n      <td>[원천]d_1920_1080_daylight_train_2.zip</td>\n      <td>16139185.jpg</td>\n      <td>crosswalk</td>\n      <td>[[0, 753], [0, 934], [151, 993], [741, 1028], ...</td>\n    </tr>\n  </tbody>\n</table>\n<p>2267 rows × 4 columns</p>\n</div>"
     },
     "metadata": {},
     "execution_count": 43
    }
   ],
   "source": [
    "temp_dist = get_dist[get_dist['file_name'].isin(target_df['file_name'].values)]\n",
    "temp_dist"
   ]
  },
  {
   "cell_type": "code",
   "execution_count": 45,
   "metadata": {},
   "outputs": [
    {
     "output_type": "execute_result",
     "data": {
      "text/plain": [
       "                                 file_locate     file_name      class  \\\n",
       "57537   [원천]d_1920_1080_daylight_train_1.zip  14507787.jpg  crosswalk   \n",
       "57538   [원천]d_1920_1080_daylight_train_1.zip  14507787.jpg  crosswalk   \n",
       "57882   [원천]d_1920_1080_daylight_train_1.zip  14540806.jpg  crosswalk   \n",
       "57978   [원천]d_1920_1080_daylight_train_1.zip  16007664.jpg  crosswalk   \n",
       "58019   [원천]d_1920_1080_daylight_train_1.zip  15739678.jpg  crosswalk   \n",
       "...                                      ...           ...        ...   \n",
       "986255  [원천]d_1920_1080_daylight_train_2.zip  16135081.jpg  crosswalk   \n",
       "986263  [원천]d_1920_1080_daylight_train_2.zip  16135081.jpg  crosswalk   \n",
       "986265  [원천]d_1920_1080_daylight_train_2.zip  16135081.jpg  crosswalk   \n",
       "987846  [원천]d_1920_1080_daylight_train_2.zip  16139185.jpg  crosswalk   \n",
       "987847  [원천]d_1920_1080_daylight_train_2.zip  16139185.jpg  crosswalk   \n",
       "\n",
       "                                                    coord  \n",
       "57537      [[89, 683], [286, 630], [268, 611], [91, 657]]  \n",
       "57538                  [[60, 738], [198, 673], [62, 711]]  \n",
       "57882   [[1002, 531], [1016, 531], [1016, 536], [950, ...  \n",
       "57978       [[-1, 635], [102, 639], [105, 655], [0, 655]]  \n",
       "58019   [[1317, 667], [1436, 659], [1695, 628], [1829,...  \n",
       "...                                                   ...  \n",
       "986255  [[1882, 654], [1842, 648], [1711, 630], [1623,...  \n",
       "986263  [[714, 608], [745, 608], [903, 603], [957, 601...  \n",
       "986265                    [[0, 639], [71, 631], [0, 629]]  \n",
       "987846  [[557, 616], [558, 626], [1059, 618], [1310, 6...  \n",
       "987847  [[1480, 620], [1628, 638], [1778, 630], [1778,...  \n",
       "\n",
       "[1112 rows x 4 columns]"
      ],
      "text/html": "<div>\n<style scoped>\n    .dataframe tbody tr th:only-of-type {\n        vertical-align: middle;\n    }\n\n    .dataframe tbody tr th {\n        vertical-align: top;\n    }\n\n    .dataframe thead th {\n        text-align: right;\n    }\n</style>\n<table border=\"1\" class=\"dataframe\">\n  <thead>\n    <tr style=\"text-align: right;\">\n      <th></th>\n      <th>file_locate</th>\n      <th>file_name</th>\n      <th>class</th>\n      <th>coord</th>\n    </tr>\n  </thead>\n  <tbody>\n    <tr>\n      <th>57537</th>\n      <td>[원천]d_1920_1080_daylight_train_1.zip</td>\n      <td>14507787.jpg</td>\n      <td>crosswalk</td>\n      <td>[[89, 683], [286, 630], [268, 611], [91, 657]]</td>\n    </tr>\n    <tr>\n      <th>57538</th>\n      <td>[원천]d_1920_1080_daylight_train_1.zip</td>\n      <td>14507787.jpg</td>\n      <td>crosswalk</td>\n      <td>[[60, 738], [198, 673], [62, 711]]</td>\n    </tr>\n    <tr>\n      <th>57882</th>\n      <td>[원천]d_1920_1080_daylight_train_1.zip</td>\n      <td>14540806.jpg</td>\n      <td>crosswalk</td>\n      <td>[[1002, 531], [1016, 531], [1016, 536], [950, ...</td>\n    </tr>\n    <tr>\n      <th>57978</th>\n      <td>[원천]d_1920_1080_daylight_train_1.zip</td>\n      <td>16007664.jpg</td>\n      <td>crosswalk</td>\n      <td>[[-1, 635], [102, 639], [105, 655], [0, 655]]</td>\n    </tr>\n    <tr>\n      <th>58019</th>\n      <td>[원천]d_1920_1080_daylight_train_1.zip</td>\n      <td>15739678.jpg</td>\n      <td>crosswalk</td>\n      <td>[[1317, 667], [1436, 659], [1695, 628], [1829,...</td>\n    </tr>\n    <tr>\n      <th>...</th>\n      <td>...</td>\n      <td>...</td>\n      <td>...</td>\n      <td>...</td>\n    </tr>\n    <tr>\n      <th>986255</th>\n      <td>[원천]d_1920_1080_daylight_train_2.zip</td>\n      <td>16135081.jpg</td>\n      <td>crosswalk</td>\n      <td>[[1882, 654], [1842, 648], [1711, 630], [1623,...</td>\n    </tr>\n    <tr>\n      <th>986263</th>\n      <td>[원천]d_1920_1080_daylight_train_2.zip</td>\n      <td>16135081.jpg</td>\n      <td>crosswalk</td>\n      <td>[[714, 608], [745, 608], [903, 603], [957, 601...</td>\n    </tr>\n    <tr>\n      <th>986265</th>\n      <td>[원천]d_1920_1080_daylight_train_2.zip</td>\n      <td>16135081.jpg</td>\n      <td>crosswalk</td>\n      <td>[[0, 639], [71, 631], [0, 629]]</td>\n    </tr>\n    <tr>\n      <th>987846</th>\n      <td>[원천]d_1920_1080_daylight_train_2.zip</td>\n      <td>16139185.jpg</td>\n      <td>crosswalk</td>\n      <td>[[557, 616], [558, 626], [1059, 618], [1310, 6...</td>\n    </tr>\n    <tr>\n      <th>987847</th>\n      <td>[원천]d_1920_1080_daylight_train_2.zip</td>\n      <td>16139185.jpg</td>\n      <td>crosswalk</td>\n      <td>[[1480, 620], [1628, 638], [1778, 630], [1778,...</td>\n    </tr>\n  </tbody>\n</table>\n<p>1112 rows × 4 columns</p>\n</div>"
     },
     "metadata": {},
     "execution_count": 45
    }
   ],
   "source": [
    "under_ratio_dist = temp_dist[temp_dist['coord'].isin(target_df['coord'].values)==False]\n",
    "under_ratio_dist"
   ]
  },
  {
   "cell_type": "code",
   "execution_count": 35,
   "metadata": {},
   "outputs": [
    {
     "output_type": "stream",
     "name": "stderr",
     "text": [
      "100%|██████████| 1112/1112 [00:13<00:00, 85.03it/s]\n"
     ]
    }
   ],
   "source": [
    "for_series = []\n",
    "for i in tqdm(temp_dist[temp_dist['coord'].isin(target_df['coord'].values)==False]['coord'].values):\n",
    "    for_series.append(calculate_area(i))"
   ]
  },
  {
   "cell_type": "code",
   "execution_count": 37,
   "metadata": {},
   "outputs": [
    {
     "output_type": "execute_result",
     "data": {
      "text/plain": [
       "<AxesSubplot:ylabel='Density'>"
      ]
     },
     "metadata": {},
     "execution_count": 37
    },
    {
     "output_type": "display_data",
     "data": {
      "text/plain": "<Figure size 432x288 with 1 Axes>",
      "image/svg+xml": "<?xml version=\"1.0\" encoding=\"utf-8\" standalone=\"no\"?>\n<!DOCTYPE svg PUBLIC \"-//W3C//DTD SVG 1.1//EN\"\n  \"http://www.w3.org/Graphics/SVG/1.1/DTD/svg11.dtd\">\n<svg xmlns:xlink=\"http://www.w3.org/1999/xlink\" width=\"385.78125pt\" height=\"248.518125pt\" viewBox=\"0 0 385.78125 248.518125\" xmlns=\"http://www.w3.org/2000/svg\" version=\"1.1\">\n <metadata>\n  <rdf:RDF xmlns:dc=\"http://purl.org/dc/elements/1.1/\" xmlns:cc=\"http://creativecommons.org/ns#\" xmlns:rdf=\"http://www.w3.org/1999/02/22-rdf-syntax-ns#\">\n   <cc:Work>\n    <dc:type rdf:resource=\"http://purl.org/dc/dcmitype/StillImage\"/>\n    <dc:date>2021-12-14T22:29:42.412714</dc:date>\n    <dc:format>image/svg+xml</dc:format>\n    <dc:creator>\n     <cc:Agent>\n      <dc:title>Matplotlib v3.5.0, https://matplotlib.org/</dc:title>\n     </cc:Agent>\n    </dc:creator>\n   </cc:Work>\n  </rdf:RDF>\n </metadata>\n <defs>\n  <style type=\"text/css\">*{stroke-linejoin: round; stroke-linecap: butt}</style>\n </defs>\n <g id=\"figure_1\">\n  <g id=\"patch_1\">\n   <path d=\"M 0 248.518125 \nL 385.78125 248.518125 \nL 385.78125 0 \nL 0 0 \nL 0 248.518125 \nz\n\" style=\"fill: none\"/>\n  </g>\n  <g id=\"axes_1\">\n   <g id=\"patch_2\">\n    <path d=\"M 43.78125 224.64 \nL 378.58125 224.64 \nL 378.58125 7.2 \nL 43.78125 7.2 \nz\n\" style=\"fill: #ffffff\"/>\n   </g>\n   <g id=\"matplotlib.axis_1\">\n    <g id=\"xtick_1\">\n     <g id=\"line2d_1\">\n      <defs>\n       <path id=\"m4a9382185e\" d=\"M 0 0 \nL 0 3.5 \n\" style=\"stroke: #000000; stroke-width: 0.8\"/>\n      </defs>\n      <g>\n       <use xlink:href=\"#m4a9382185e\" x=\"78.450794\" y=\"224.64\" style=\"stroke: #000000; stroke-width: 0.8\"/>\n      </g>\n     </g>\n     <g id=\"text_1\">\n      <!-- 0 -->\n      <g transform=\"translate(75.269544 239.238437)scale(0.1 -0.1)\">\n       <defs>\n        <path id=\"DejaVuSans-30\" d=\"M 2034 4250 \nQ 1547 4250 1301 3770 \nQ 1056 3291 1056 2328 \nQ 1056 1369 1301 889 \nQ 1547 409 2034 409 \nQ 2525 409 2770 889 \nQ 3016 1369 3016 2328 \nQ 3016 3291 2770 3770 \nQ 2525 4250 2034 4250 \nz\nM 2034 4750 \nQ 2819 4750 3233 4129 \nQ 3647 3509 3647 2328 \nQ 3647 1150 3233 529 \nQ 2819 -91 2034 -91 \nQ 1250 -91 836 529 \nQ 422 1150 422 2328 \nQ 422 3509 836 4129 \nQ 1250 4750 2034 4750 \nz\n\" transform=\"scale(0.015625)\"/>\n       </defs>\n       <use xlink:href=\"#DejaVuSans-30\"/>\n      </g>\n     </g>\n    </g>\n    <g id=\"xtick_2\">\n     <g id=\"line2d_2\">\n      <g>\n       <use xlink:href=\"#m4a9382185e\" x=\"149.240371\" y=\"224.64\" style=\"stroke: #000000; stroke-width: 0.8\"/>\n      </g>\n     </g>\n     <g id=\"text_2\">\n      <!-- 2 -->\n      <g transform=\"translate(146.059121 239.238437)scale(0.1 -0.1)\">\n       <defs>\n        <path id=\"DejaVuSans-32\" d=\"M 1228 531 \nL 3431 531 \nL 3431 0 \nL 469 0 \nL 469 531 \nQ 828 903 1448 1529 \nQ 2069 2156 2228 2338 \nQ 2531 2678 2651 2914 \nQ 2772 3150 2772 3378 \nQ 2772 3750 2511 3984 \nQ 2250 4219 1831 4219 \nQ 1534 4219 1204 4116 \nQ 875 4013 500 3803 \nL 500 4441 \nQ 881 4594 1212 4672 \nQ 1544 4750 1819 4750 \nQ 2544 4750 2975 4387 \nQ 3406 4025 3406 3419 \nQ 3406 3131 3298 2873 \nQ 3191 2616 2906 2266 \nQ 2828 2175 2409 1742 \nQ 1991 1309 1228 531 \nz\n\" transform=\"scale(0.015625)\"/>\n       </defs>\n       <use xlink:href=\"#DejaVuSans-32\"/>\n      </g>\n     </g>\n    </g>\n    <g id=\"xtick_3\">\n     <g id=\"line2d_3\">\n      <g>\n       <use xlink:href=\"#m4a9382185e\" x=\"220.029947\" y=\"224.64\" style=\"stroke: #000000; stroke-width: 0.8\"/>\n      </g>\n     </g>\n     <g id=\"text_3\">\n      <!-- 4 -->\n      <g transform=\"translate(216.848697 239.238437)scale(0.1 -0.1)\">\n       <defs>\n        <path id=\"DejaVuSans-34\" d=\"M 2419 4116 \nL 825 1625 \nL 2419 1625 \nL 2419 4116 \nz\nM 2253 4666 \nL 3047 4666 \nL 3047 1625 \nL 3713 1625 \nL 3713 1100 \nL 3047 1100 \nL 3047 0 \nL 2419 0 \nL 2419 1100 \nL 313 1100 \nL 313 1709 \nL 2253 4666 \nz\n\" transform=\"scale(0.015625)\"/>\n       </defs>\n       <use xlink:href=\"#DejaVuSans-34\"/>\n      </g>\n     </g>\n    </g>\n    <g id=\"xtick_4\">\n     <g id=\"line2d_4\">\n      <g>\n       <use xlink:href=\"#m4a9382185e\" x=\"290.819523\" y=\"224.64\" style=\"stroke: #000000; stroke-width: 0.8\"/>\n      </g>\n     </g>\n     <g id=\"text_4\">\n      <!-- 6 -->\n      <g transform=\"translate(287.638273 239.238437)scale(0.1 -0.1)\">\n       <defs>\n        <path id=\"DejaVuSans-36\" d=\"M 2113 2584 \nQ 1688 2584 1439 2293 \nQ 1191 2003 1191 1497 \nQ 1191 994 1439 701 \nQ 1688 409 2113 409 \nQ 2538 409 2786 701 \nQ 3034 994 3034 1497 \nQ 3034 2003 2786 2293 \nQ 2538 2584 2113 2584 \nz\nM 3366 4563 \nL 3366 3988 \nQ 3128 4100 2886 4159 \nQ 2644 4219 2406 4219 \nQ 1781 4219 1451 3797 \nQ 1122 3375 1075 2522 \nQ 1259 2794 1537 2939 \nQ 1816 3084 2150 3084 \nQ 2853 3084 3261 2657 \nQ 3669 2231 3669 1497 \nQ 3669 778 3244 343 \nQ 2819 -91 2113 -91 \nQ 1303 -91 875 529 \nQ 447 1150 447 2328 \nQ 447 3434 972 4092 \nQ 1497 4750 2381 4750 \nQ 2619 4750 2861 4703 \nQ 3103 4656 3366 4563 \nz\n\" transform=\"scale(0.015625)\"/>\n       </defs>\n       <use xlink:href=\"#DejaVuSans-36\"/>\n      </g>\n     </g>\n    </g>\n    <g id=\"xtick_5\">\n     <g id=\"line2d_5\">\n      <g>\n       <use xlink:href=\"#m4a9382185e\" x=\"361.6091\" y=\"224.64\" style=\"stroke: #000000; stroke-width: 0.8\"/>\n      </g>\n     </g>\n     <g id=\"text_5\">\n      <!-- 8 -->\n      <g transform=\"translate(358.42785 239.238437)scale(0.1 -0.1)\">\n       <defs>\n        <path id=\"DejaVuSans-38\" d=\"M 2034 2216 \nQ 1584 2216 1326 1975 \nQ 1069 1734 1069 1313 \nQ 1069 891 1326 650 \nQ 1584 409 2034 409 \nQ 2484 409 2743 651 \nQ 3003 894 3003 1313 \nQ 3003 1734 2745 1975 \nQ 2488 2216 2034 2216 \nz\nM 1403 2484 \nQ 997 2584 770 2862 \nQ 544 3141 544 3541 \nQ 544 4100 942 4425 \nQ 1341 4750 2034 4750 \nQ 2731 4750 3128 4425 \nQ 3525 4100 3525 3541 \nQ 3525 3141 3298 2862 \nQ 3072 2584 2669 2484 \nQ 3125 2378 3379 2068 \nQ 3634 1759 3634 1313 \nQ 3634 634 3220 271 \nQ 2806 -91 2034 -91 \nQ 1263 -91 848 271 \nQ 434 634 434 1313 \nQ 434 1759 690 2068 \nQ 947 2378 1403 2484 \nz\nM 1172 3481 \nQ 1172 3119 1398 2916 \nQ 1625 2713 2034 2713 \nQ 2441 2713 2670 2916 \nQ 2900 3119 2900 3481 \nQ 2900 3844 2670 4047 \nQ 2441 4250 2034 4250 \nQ 1625 4250 1398 4047 \nQ 1172 3844 1172 3481 \nz\n\" transform=\"scale(0.015625)\"/>\n       </defs>\n       <use xlink:href=\"#DejaVuSans-38\"/>\n      </g>\n     </g>\n    </g>\n   </g>\n   <g id=\"matplotlib.axis_2\">\n    <g id=\"ytick_1\">\n     <g id=\"line2d_6\">\n      <defs>\n       <path id=\"m6a716525b6\" d=\"M 0 0 \nL -3.5 0 \n\" style=\"stroke: #000000; stroke-width: 0.8\"/>\n      </defs>\n      <g>\n       <use xlink:href=\"#m6a716525b6\" x=\"43.78125\" y=\"224.64\" style=\"stroke: #000000; stroke-width: 0.8\"/>\n      </g>\n     </g>\n     <g id=\"text_6\">\n      <!-- 0.0 -->\n      <g transform=\"translate(20.878125 228.439219)scale(0.1 -0.1)\">\n       <defs>\n        <path id=\"DejaVuSans-2e\" d=\"M 684 794 \nL 1344 794 \nL 1344 0 \nL 684 0 \nL 684 794 \nz\n\" transform=\"scale(0.015625)\"/>\n       </defs>\n       <use xlink:href=\"#DejaVuSans-30\"/>\n       <use xlink:href=\"#DejaVuSans-2e\" x=\"63.623047\"/>\n       <use xlink:href=\"#DejaVuSans-30\" x=\"95.410156\"/>\n      </g>\n     </g>\n    </g>\n    <g id=\"ytick_2\">\n     <g id=\"line2d_7\">\n      <g>\n       <use xlink:href=\"#m6a716525b6\" x=\"43.78125\" y=\"188.182955\" style=\"stroke: #000000; stroke-width: 0.8\"/>\n      </g>\n     </g>\n     <g id=\"text_7\">\n      <!-- 0.2 -->\n      <g transform=\"translate(20.878125 191.982173)scale(0.1 -0.1)\">\n       <use xlink:href=\"#DejaVuSans-30\"/>\n       <use xlink:href=\"#DejaVuSans-2e\" x=\"63.623047\"/>\n       <use xlink:href=\"#DejaVuSans-32\" x=\"95.410156\"/>\n      </g>\n     </g>\n    </g>\n    <g id=\"ytick_3\">\n     <g id=\"line2d_8\">\n      <g>\n       <use xlink:href=\"#m6a716525b6\" x=\"43.78125\" y=\"151.725909\" style=\"stroke: #000000; stroke-width: 0.8\"/>\n      </g>\n     </g>\n     <g id=\"text_8\">\n      <!-- 0.4 -->\n      <g transform=\"translate(20.878125 155.525128)scale(0.1 -0.1)\">\n       <use xlink:href=\"#DejaVuSans-30\"/>\n       <use xlink:href=\"#DejaVuSans-2e\" x=\"63.623047\"/>\n       <use xlink:href=\"#DejaVuSans-34\" x=\"95.410156\"/>\n      </g>\n     </g>\n    </g>\n    <g id=\"ytick_4\">\n     <g id=\"line2d_9\">\n      <g>\n       <use xlink:href=\"#m6a716525b6\" x=\"43.78125\" y=\"115.268864\" style=\"stroke: #000000; stroke-width: 0.8\"/>\n      </g>\n     </g>\n     <g id=\"text_9\">\n      <!-- 0.6 -->\n      <g transform=\"translate(20.878125 119.068082)scale(0.1 -0.1)\">\n       <use xlink:href=\"#DejaVuSans-30\"/>\n       <use xlink:href=\"#DejaVuSans-2e\" x=\"63.623047\"/>\n       <use xlink:href=\"#DejaVuSans-36\" x=\"95.410156\"/>\n      </g>\n     </g>\n    </g>\n    <g id=\"ytick_5\">\n     <g id=\"line2d_10\">\n      <g>\n       <use xlink:href=\"#m6a716525b6\" x=\"43.78125\" y=\"78.811818\" style=\"stroke: #000000; stroke-width: 0.8\"/>\n      </g>\n     </g>\n     <g id=\"text_10\">\n      <!-- 0.8 -->\n      <g transform=\"translate(20.878125 82.611037)scale(0.1 -0.1)\">\n       <use xlink:href=\"#DejaVuSans-30\"/>\n       <use xlink:href=\"#DejaVuSans-2e\" x=\"63.623047\"/>\n       <use xlink:href=\"#DejaVuSans-38\" x=\"95.410156\"/>\n      </g>\n     </g>\n    </g>\n    <g id=\"ytick_6\">\n     <g id=\"line2d_11\">\n      <g>\n       <use xlink:href=\"#m6a716525b6\" x=\"43.78125\" y=\"42.354773\" style=\"stroke: #000000; stroke-width: 0.8\"/>\n      </g>\n     </g>\n     <g id=\"text_11\">\n      <!-- 1.0 -->\n      <g transform=\"translate(20.878125 46.153991)scale(0.1 -0.1)\">\n       <defs>\n        <path id=\"DejaVuSans-31\" d=\"M 794 531 \nL 1825 531 \nL 1825 4091 \nL 703 3866 \nL 703 4441 \nL 1819 4666 \nL 2450 4666 \nL 2450 531 \nL 3481 531 \nL 3481 0 \nL 794 0 \nL 794 531 \nz\n\" transform=\"scale(0.015625)\"/>\n       </defs>\n       <use xlink:href=\"#DejaVuSans-31\"/>\n       <use xlink:href=\"#DejaVuSans-2e\" x=\"63.623047\"/>\n       <use xlink:href=\"#DejaVuSans-30\" x=\"95.410156\"/>\n      </g>\n     </g>\n    </g>\n    <g id=\"text_12\">\n     <!-- Density -->\n     <g transform=\"translate(14.798438 134.928594)rotate(-90)scale(0.1 -0.1)\">\n      <defs>\n       <path id=\"DejaVuSans-44\" d=\"M 1259 4147 \nL 1259 519 \nL 2022 519 \nQ 2988 519 3436 956 \nQ 3884 1394 3884 2338 \nQ 3884 3275 3436 3711 \nQ 2988 4147 2022 4147 \nL 1259 4147 \nz\nM 628 4666 \nL 1925 4666 \nQ 3281 4666 3915 4102 \nQ 4550 3538 4550 2338 \nQ 4550 1131 3912 565 \nQ 3275 0 1925 0 \nL 628 0 \nL 628 4666 \nz\n\" transform=\"scale(0.015625)\"/>\n       <path id=\"DejaVuSans-65\" d=\"M 3597 1894 \nL 3597 1613 \nL 953 1613 \nQ 991 1019 1311 708 \nQ 1631 397 2203 397 \nQ 2534 397 2845 478 \nQ 3156 559 3463 722 \nL 3463 178 \nQ 3153 47 2828 -22 \nQ 2503 -91 2169 -91 \nQ 1331 -91 842 396 \nQ 353 884 353 1716 \nQ 353 2575 817 3079 \nQ 1281 3584 2069 3584 \nQ 2775 3584 3186 3129 \nQ 3597 2675 3597 1894 \nz\nM 3022 2063 \nQ 3016 2534 2758 2815 \nQ 2500 3097 2075 3097 \nQ 1594 3097 1305 2825 \nQ 1016 2553 972 2059 \nL 3022 2063 \nz\n\" transform=\"scale(0.015625)\"/>\n       <path id=\"DejaVuSans-6e\" d=\"M 3513 2113 \nL 3513 0 \nL 2938 0 \nL 2938 2094 \nQ 2938 2591 2744 2837 \nQ 2550 3084 2163 3084 \nQ 1697 3084 1428 2787 \nQ 1159 2491 1159 1978 \nL 1159 0 \nL 581 0 \nL 581 3500 \nL 1159 3500 \nL 1159 2956 \nQ 1366 3272 1645 3428 \nQ 1925 3584 2291 3584 \nQ 2894 3584 3203 3211 \nQ 3513 2838 3513 2113 \nz\n\" transform=\"scale(0.015625)\"/>\n       <path id=\"DejaVuSans-73\" d=\"M 2834 3397 \nL 2834 2853 \nQ 2591 2978 2328 3040 \nQ 2066 3103 1784 3103 \nQ 1356 3103 1142 2972 \nQ 928 2841 928 2578 \nQ 928 2378 1081 2264 \nQ 1234 2150 1697 2047 \nL 1894 2003 \nQ 2506 1872 2764 1633 \nQ 3022 1394 3022 966 \nQ 3022 478 2636 193 \nQ 2250 -91 1575 -91 \nQ 1294 -91 989 -36 \nQ 684 19 347 128 \nL 347 722 \nQ 666 556 975 473 \nQ 1284 391 1588 391 \nQ 1994 391 2212 530 \nQ 2431 669 2431 922 \nQ 2431 1156 2273 1281 \nQ 2116 1406 1581 1522 \nL 1381 1569 \nQ 847 1681 609 1914 \nQ 372 2147 372 2553 \nQ 372 3047 722 3315 \nQ 1072 3584 1716 3584 \nQ 2034 3584 2315 3537 \nQ 2597 3491 2834 3397 \nz\n\" transform=\"scale(0.015625)\"/>\n       <path id=\"DejaVuSans-69\" d=\"M 603 3500 \nL 1178 3500 \nL 1178 0 \nL 603 0 \nL 603 3500 \nz\nM 603 4863 \nL 1178 4863 \nL 1178 4134 \nL 603 4134 \nL 603 4863 \nz\n\" transform=\"scale(0.015625)\"/>\n       <path id=\"DejaVuSans-74\" d=\"M 1172 4494 \nL 1172 3500 \nL 2356 3500 \nL 2356 3053 \nL 1172 3053 \nL 1172 1153 \nQ 1172 725 1289 603 \nQ 1406 481 1766 481 \nL 2356 481 \nL 2356 0 \nL 1766 0 \nQ 1100 0 847 248 \nQ 594 497 594 1153 \nL 594 3053 \nL 172 3053 \nL 172 3500 \nL 594 3500 \nL 594 4494 \nL 1172 4494 \nz\n\" transform=\"scale(0.015625)\"/>\n       <path id=\"DejaVuSans-79\" d=\"M 2059 -325 \nQ 1816 -950 1584 -1140 \nQ 1353 -1331 966 -1331 \nL 506 -1331 \nL 506 -850 \nL 844 -850 \nQ 1081 -850 1212 -737 \nQ 1344 -625 1503 -206 \nL 1606 56 \nL 191 3500 \nL 800 3500 \nL 1894 763 \nL 2988 3500 \nL 3597 3500 \nL 2059 -325 \nz\n\" transform=\"scale(0.015625)\"/>\n      </defs>\n      <use xlink:href=\"#DejaVuSans-44\"/>\n      <use xlink:href=\"#DejaVuSans-65\" x=\"77.001953\"/>\n      <use xlink:href=\"#DejaVuSans-6e\" x=\"138.525391\"/>\n      <use xlink:href=\"#DejaVuSans-73\" x=\"201.904297\"/>\n      <use xlink:href=\"#DejaVuSans-69\" x=\"254.003906\"/>\n      <use xlink:href=\"#DejaVuSans-74\" x=\"281.787109\"/>\n      <use xlink:href=\"#DejaVuSans-79\" x=\"320.996094\"/>\n     </g>\n    </g>\n   </g>\n   <g id=\"line2d_12\">\n    <path d=\"M 58.999432 224.315052 \nL 60.528897 223.944336 \nL 62.058363 223.225314 \nL 63.587828 221.906047 \nL 65.117294 219.616429 \nL 66.646759 215.85845 \nL 68.176225 210.026887 \nL 69.70569 201.47481 \nL 71.235156 189.629742 \nL 72.764621 174.149821 \nL 74.294087 155.08896 \nL 75.823552 133.023428 \nL 80.411949 62.299857 \nL 81.941414 43.129914 \nL 83.47088 28.840277 \nL 85.000345 20.275799 \nL 86.529811 17.554097 \nL 88.059276 20.113159 \nL 89.588742 26.90006 \nL 91.118208 36.639096 \nL 94.177139 60.294762 \nL 97.23607 84.576148 \nL 100.295001 107.38983 \nL 103.353932 128.368436 \nL 104.883397 137.942235 \nL 106.412863 146.71534 \nL 107.942328 154.569636 \nL 109.471794 161.454107 \nL 111.001259 167.402019 \nL 112.530725 172.524411 \nL 114.06019 176.984687 \nL 115.589656 180.963392 \nL 118.648587 188.083318 \nL 121.707518 194.601407 \nL 124.766449 200.459665 \nL 126.295914 203.012472 \nL 127.82538 205.24935 \nL 129.354845 207.143925 \nL 130.884311 208.693159 \nL 132.413776 209.91704 \nL 133.943242 210.855587 \nL 135.472707 211.564157 \nL 138.531638 212.555209 \nL 141.590569 213.417641 \nL 144.6495 214.548631 \nL 147.708431 216.069109 \nL 153.826293 219.37876 \nL 155.355759 220.019071 \nL 156.885224 220.531725 \nL 159.944155 221.19296 \nL 164.532552 221.666689 \nL 169.120948 222.215554 \nL 176.768276 223.390676 \nL 179.827207 223.572893 \nL 182.886138 223.531874 \nL 198.180793 222.81206 \nL 201.239724 222.886193 \nL 205.828121 223.23701 \nL 211.945983 223.684582 \nL 230.299569 224.375373 \nL 236.417431 224.314975 \nL 242.535293 224.292717 \nL 251.712086 224.375787 \nL 257.829948 224.118594 \nL 265.477276 223.764877 \nL 270.065672 223.770158 \nL 291.478189 224.338009 \nL 296.066586 224.097768 \nL 302.184448 223.653406 \nL 305.243379 223.613796 \nL 309.831775 223.833714 \nL 315.949637 224.141312 \nL 334.303224 224.483242 \nL 346.538948 224.311022 \nL 363.363068 224.636034 \nL 363.363068 224.636034 \n\" clip-path=\"url(#pdbef74516d)\" style=\"fill: none; stroke: #1f77b4; stroke-width: 1.5; stroke-linecap: square\"/>\n   </g>\n   <g id=\"patch_3\">\n    <path d=\"M 43.78125 224.64 \nL 43.78125 7.2 \n\" style=\"fill: none; stroke: #000000; stroke-width: 0.8; stroke-linejoin: miter; stroke-linecap: square\"/>\n   </g>\n   <g id=\"patch_4\">\n    <path d=\"M 378.58125 224.64 \nL 378.58125 7.2 \n\" style=\"fill: none; stroke: #000000; stroke-width: 0.8; stroke-linejoin: miter; stroke-linecap: square\"/>\n   </g>\n   <g id=\"patch_5\">\n    <path d=\"M 43.78125 224.64 \nL 378.58125 224.64 \n\" style=\"fill: none; stroke: #000000; stroke-width: 0.8; stroke-linejoin: miter; stroke-linecap: square\"/>\n   </g>\n   <g id=\"patch_6\">\n    <path d=\"M 43.78125 7.2 \nL 378.58125 7.2 \n\" style=\"fill: none; stroke: #000000; stroke-width: 0.8; stroke-linejoin: miter; stroke-linecap: square\"/>\n   </g>\n  </g>\n </g>\n <defs>\n  <clipPath id=\"pdbef74516d\">\n   <rect x=\"43.78125\" y=\"7.2\" width=\"334.8\" height=\"217.44\"/>\n  </clipPath>\n </defs>\n</svg>\n",
      "image/png": "[encoded data removed]"
     },
     "metadata": {
      "needs_background": "light"
     }
    }
   ],
   "source": [
    "sns.kdeplot(sorted(for_series))"
   ]
  },
  {
   "cell_type": "code",
   "execution_count": null,
   "metadata": {},
   "outputs": [],
   "source": [
    "temp_dist[temp_dist['coord'].isin(target_df['coord'].values)==False]['coord'].values"
   ]
  },
  {
   "cell_type": "code",
   "execution_count": 53,
   "metadata": {},
   "outputs": [
    {
     "output_type": "execute_result",
     "data": {
      "text/plain": [
       "                                 file_locate     file_name      class  \\\n",
       "57398   [원천]d_1920_1080_daylight_train_1.zip  15983778.jpg  crosswalk   \n",
       "57991   [원천]d_1920_1080_daylight_train_1.zip  15887524.jpg  crosswalk   \n",
       "58357   [원천]d_1920_1080_daylight_train_1.zip  14418939.jpg  crosswalk   \n",
       "58936   [원천]d_1920_1080_daylight_train_1.zip  14418918.jpg  crosswalk   \n",
       "59149   [원천]d_1920_1080_daylight_train_1.zip  14517242.jpg  crosswalk   \n",
       "...                                      ...           ...        ...   \n",
       "984368  [원천]d_1920_1080_daylight_train_2.zip  14229926.jpg  crosswalk   \n",
       "984801  [원천]d_1920_1080_daylight_train_2.zip  14229920.jpg  crosswalk   \n",
       "985083  [원천]d_1920_1080_daylight_train_2.zip  14297568.jpg  crosswalk   \n",
       "986514  [원천]d_1920_1080_daylight_train_2.zip  16129491.jpg  crosswalk   \n",
       "987233  [원천]d_1920_1080_daylight_train_2.zip  14207215.jpg  crosswalk   \n",
       "\n",
       "                                                    coord  ratio  \n",
       "57398   [[1, 973], [0, 703], [268, 709], [717, 721], [...  26.66  \n",
       "57991   [[4, 598], [0, 777], [266, 855], [1280, 982], ...  24.46  \n",
       "58357   [[5, 958], [737, 937], [1618, 904], [1913, 886...  22.44  \n",
       "58936   [[107, 946], [724, 937], [1908, 881], [1915, 6...  21.79  \n",
       "59149   [[4, 769], [563, 657], [1248, 508], [1916, 367...  31.29  \n",
       "...                                                   ...    ...  \n",
       "984368  [[2, 995], [559, 1012], [1221, 1021], [1773, 1...  24.80  \n",
       "984801  [[2, 994], [548, 1012], [1256, 1026], [1914, 1...  24.97  \n",
       "985083  [[8, 975], [9, 975], [419, 1009], [1609, 1012]...  22.72  \n",
       "986514  [[882, 754], [1713, 782], [1916, 795], [1919, ...  22.84  \n",
       "987233  [[4, 713], [925, 686], [1571, 703], [1798, 725...  27.51  \n",
       "\n",
       "[455 rows x 5 columns]"
      ],
      "text/html": "<div>\n<style scoped>\n    .dataframe tbody tr th:only-of-type {\n        vertical-align: middle;\n    }\n\n    .dataframe tbody tr th {\n        vertical-align: top;\n    }\n\n    .dataframe thead th {\n        text-align: right;\n    }\n</style>\n<table border=\"1\" class=\"dataframe\">\n  <thead>\n    <tr style=\"text-align: right;\">\n      <th></th>\n      <th>file_locate</th>\n      <th>file_name</th>\n      <th>class</th>\n      <th>coord</th>\n      <th>ratio</th>\n    </tr>\n  </thead>\n  <tbody>\n    <tr>\n      <th>57398</th>\n      <td>[원천]d_1920_1080_daylight_train_1.zip</td>\n      <td>15983778.jpg</td>\n      <td>crosswalk</td>\n      <td>[[1, 973], [0, 703], [268, 709], [717, 721], [...</td>\n      <td>26.66</td>\n    </tr>\n    <tr>\n      <th>57991</th>\n      <td>[원천]d_1920_1080_daylight_train_1.zip</td>\n      <td>15887524.jpg</td>\n      <td>crosswalk</td>\n      <td>[[4, 598], [0, 777], [266, 855], [1280, 982], ...</td>\n      <td>24.46</td>\n    </tr>\n    <tr>\n      <th>58357</th>\n      <td>[원천]d_1920_1080_daylight_train_1.zip</td>\n      <td>14418939.jpg</td>\n      <td>crosswalk</td>\n      <td>[[5, 958], [737, 937], [1618, 904], [1913, 886...</td>\n      <td>22.44</td>\n    </tr>\n    <tr>\n      <th>58936</th>\n      <td>[원천]d_1920_1080_daylight_train_1.zip</td>\n      <td>14418918.jpg</td>\n      <td>crosswalk</td>\n      <td>[[107, 946], [724, 937], [1908, 881], [1915, 6...</td>\n      <td>21.79</td>\n    </tr>\n    <tr>\n      <th>59149</th>\n      <td>[원천]d_1920_1080_daylight_train_1.zip</td>\n      <td>14517242.jpg</td>\n      <td>crosswalk</td>\n      <td>[[4, 769], [563, 657], [1248, 508], [1916, 367...</td>\n      <td>31.29</td>\n    </tr>\n    <tr>\n      <th>...</th>\n      <td>...</td>\n      <td>...</td>\n      <td>...</td>\n      <td>...</td>\n      <td>...</td>\n    </tr>\n    <tr>\n      <th>984368</th>\n      <td>[원천]d_1920_1080_daylight_train_2.zip</td>\n      <td>14229926.jpg</td>\n      <td>crosswalk</td>\n      <td>[[2, 995], [559, 1012], [1221, 1021], [1773, 1...</td>\n      <td>24.80</td>\n    </tr>\n    <tr>\n      <th>984801</th>\n      <td>[원천]d_1920_1080_daylight_train_2.zip</td>\n      <td>14229920.jpg</td>\n      <td>crosswalk</td>\n      <td>[[2, 994], [548, 1012], [1256, 1026], [1914, 1...</td>\n      <td>24.97</td>\n    </tr>\n    <tr>\n      <th>985083</th>\n      <td>[원천]d_1920_1080_daylight_train_2.zip</td>\n      <td>14297568.jpg</td>\n      <td>crosswalk</td>\n      <td>[[8, 975], [9, 975], [419, 1009], [1609, 1012]...</td>\n      <td>22.72</td>\n    </tr>\n    <tr>\n      <th>986514</th>\n      <td>[원천]d_1920_1080_daylight_train_2.zip</td>\n      <td>16129491.jpg</td>\n      <td>crosswalk</td>\n      <td>[[882, 754], [1713, 782], [1916, 795], [1919, ...</td>\n      <td>22.84</td>\n    </tr>\n    <tr>\n      <th>987233</th>\n      <td>[원천]d_1920_1080_daylight_train_2.zip</td>\n      <td>14207215.jpg</td>\n      <td>crosswalk</td>\n      <td>[[4, 713], [925, 686], [1571, 703], [1798, 725...</td>\n      <td>27.51</td>\n    </tr>\n  </tbody>\n</table>\n<p>455 rows × 5 columns</p>\n</div>"
     },
     "metadata": {},
     "execution_count": 53
    }
   ],
   "source": [
    "target_df[target_df['file_name'].isin(under_ratio_dist['file_name'].values)==False]"
   ]
  },
  {
   "cell_type": "code",
   "execution_count": null,
   "metadata": {},
   "outputs": [],
   "source": []
  }
 ]
}