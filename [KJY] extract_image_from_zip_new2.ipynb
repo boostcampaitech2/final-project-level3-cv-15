{
 "cells": [
  {
   "cell_type": "code",
   "execution_count": 1,
   "metadata": {},
   "outputs": [
    {
     "name": "stdout",
     "output_type": "stream",
     "text": [
      "Requirement already satisfied: zipfile36 in c:\\users\\hyuns\\miniconda3\\lib\\site-packages (0.1.3)\n"
     ]
    }
   ],
   "source": [
    "!pip install zipfile36"
   ]
  },
  {
   "cell_type": "code",
   "execution_count": 2,
   "metadata": {},
   "outputs": [],
   "source": [
    "import pandas as pd\n",
    "import shutil\n",
    "import zipfile\n",
    "import os\n",
    "from tqdm import tqdm"
   ]
  },
  {
   "cell_type": "code",
   "execution_count": 5,
   "metadata": {},
   "outputs": [],
   "source": [
    "root_path = \"C:/Users/hyuns/naverassignment/lv3-pstage-final/valid_data\"\n",
    "data_path = root_path + \"/new_seg_dataset(remain Large).csv\"\n",
    "df = pd.read_csv(data_path, encoding=\"cp949\")"
   ]
  },
  {
   "cell_type": "code",
   "execution_count": 7,
   "metadata": {},
   "outputs": [
    {
     "data": {
      "text/plain": [
       "crosswalk    3010\n",
       "Name: class, dtype: int64"
      ]
     },
     "execution_count": 7,
     "metadata": {},
     "output_type": "execute_result"
    }
   ],
   "source": [
    "df['class'].value_counts()"
   ]
  },
  {
   "cell_type": "code",
   "execution_count": 4,
   "metadata": {},
   "outputs": [],
   "source": [
    "root_folder = df[\"root_folder\"]\n",
    "sub_folder = df[\"sub_folder\"]\n",
    "file_name = df[\"file_name\"]"
   ]
  },
  {
   "cell_type": "code",
   "execution_count": 8,
   "metadata": {},
   "outputs": [],
   "source": [
    "extract_path = os.path.join(root_path, \"Img_Extract\")"
   ]
  },
  {
   "cell_type": "code",
   "execution_count": 9,
   "metadata": {},
   "outputs": [
    {
     "name": "stdout",
     "output_type": "stream",
     "text": [
      "Create the directory.\n"
     ]
    }
   ],
   "source": [
    "def createDirectory(directory):\n",
    "    try:\n",
    "        if not os.path.exists(directory):\n",
    "            os.makedirs(directory)\n",
    "            print(\"Create the directory.\")\n",
    "    except OSError:\n",
    "        print(\"Error: Failed to create the directory.\")\n",
    "            \n",
    "createDirectory(extract_path)"
   ]
  },
  {
   "cell_type": "code",
   "execution_count": 10,
   "metadata": {},
   "outputs": [],
   "source": [
    "def extract_img(file, sub_folder, file_name):\n",
    "    print(os.path.join(root_path, file))\n",
    "    archive = zipfile.ZipFile(os.path.join(root_path, file), \"r\")\n",
    "    img_data = sub_folder + \"/\" + file_name\n",
    "    archive.open(img_data)\n",
    "    archive.extract(img_data, extract_path)\n",
    "    \n",
    "    archive.close()"
   ]
  },
  {
   "cell_type": "code",
   "execution_count": 12,
   "metadata": {},
   "outputs": [
    {
     "data": {
      "text/plain": [
       "['[원천]1920_1080_night_train_d_1.zip',\n",
       " '[원천]d_1920_1080_daylight_train_1.zip',\n",
       " '[원천]d_1920_1080_daylight_train_10.zip',\n",
       " '[원천]d_1920_1080_daylight_train_11.zip',\n",
       " '[원천]d_1920_1080_daylight_train_12.zip',\n",
       " '[원천]d_1920_1080_daylight_train_13.zip',\n",
       " '[원천]d_1920_1080_daylight_train_14.zip',\n",
       " '[원천]d_1920_1080_daylight_train_15.zip',\n",
       " '[원천]d_1920_1080_daylight_train_16.zip',\n",
       " '[원천]d_1920_1080_daylight_train_2.zip',\n",
       " '[원천]d_1920_1080_daylight_train_3.zip',\n",
       " '[원천]d_1920_1080_daylight_train_4.zip',\n",
       " '[원천]d_1920_1080_daylight_train_5.zip',\n",
       " '[원천]d_1920_1080_daylight_train_6.zip',\n",
       " '[원천]d_1920_1080_daylight_train_7.zip',\n",
       " '[원천]d_1920_1080_daylight_train_8.zip',\n",
       " '[원천]d_1920_1080_daylight_train_9.zip']"
      ]
     },
     "execution_count": 12,
     "metadata": {},
     "output_type": "execute_result"
    }
   ],
   "source": [
    "list(df['file_locate'].unique())"
   ]
  },
  {
   "cell_type": "code",
   "execution_count": 27,
   "metadata": {},
   "outputs": [
    {
     "name": "stderr",
     "output_type": "stream",
     "text": [
      "196it [00:01, 152.78it/s]\n",
      "121it [00:01, 100.86it/s]\n",
      "149it [00:01, 95.94it/s] \n",
      "56it [00:00, 89.68it/s] \n",
      "119it [00:00, 129.63it/s]\n"
     ]
    }
   ],
   "source": [
    "for filename in list(df['file_locate'].unique()):\n",
    "    if filename not in os.listdir(root_path):\n",
    "        continue\n",
    "\n",
    "    file_list = []\n",
    "    archive = zipfile.ZipFile(os.path.join(root_path, filename), \"r\")\n",
    "\n",
    "    for data in df[df['file_locate']==filename].to_dict(\"records\"):\n",
    "        file_list.append(data[\"file_name\"])\n",
    "    \n",
    "    file_list = set(file_list)\n",
    "\n",
    "    for idx, data in tqdm(enumerate(file_list)):\n",
    "        archive.extract(data, extract_path)\n",
    "    \n",
    "    archive.close()"
   ]
  }
 ],
 "metadata": {
  "interpreter": {
   "hash": "e31c68abf1d5dd3f9e2269f23eadf1b199587e56c0618a30760176a65ebfcab4"
  },
  "kernelspec": {
   "display_name": "Python 3.7.11 64-bit ('lightweight': conda)",
   "language": "python",
   "name": "python3"
  },
  "language_info": {
   "codemirror_mode": {
    "name": "ipython",
    "version": 3
   },
   "file_extension": ".py",
   "mimetype": "text/x-python",
   "name": "python",
   "nbconvert_exporter": "python",
   "pygments_lexer": "ipython3",
   "version": "3.9.5"
  },
  "orig_nbformat": 4
 },
 "nbformat": 4,
 "nbformat_minor": 2
}
