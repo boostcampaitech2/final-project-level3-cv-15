{
 "metadata": {
  "language_info": {
   "codemirror_mode": {
    "name": "ipython",
    "version": 3
   },
   "file_extension": ".py",
   "mimetype": "text/x-python",
   "name": "python",
   "nbconvert_exporter": "python",
   "pygments_lexer": "ipython3",
   "version": "3.8.8-final"
  },
  "orig_nbformat": 2,
  "kernelspec": {
   "name": "final_project",
   "display_name": "final_project",
   "language": "python"
  }
 },
 "nbformat": 4,
 "nbformat_minor": 2,
 "cells": [
  {
   "cell_type": "code",
   "execution_count": 1,
   "metadata": {},
   "outputs": [],
   "source": [
    "import os\n",
    "import pandas as pd"
   ]
  },
  {
   "cell_type": "code",
   "execution_count": 6,
   "metadata": {},
   "outputs": [],
   "source": [
    "def coco_form():\n",
    "    coco_format = dict(\n",
    "        info=dict(\n",
    "            year=2021, version=\"1.0\", description=\"Pedestrian\", contributor=\"AI Hub\", url=\"https://aihub.or.kr/aidata/136\", date_created='2021-12-16 12:49:00'\n",
    "        ),\n",
    "        licenses=[\n",
    "            dict(id=0, name='', url='')\n",
    "        ],\n",
    "        categories=[\n",
    "            dict(id=0, name='person', supercategory=None),\n",
    "            dict(id=1, name='stroller', supercategory=None),\n",
    "            dict(id=2, name='bicycle', supercategory=None),\n",
    "            dict(id=3, name='wheelchair', supercategory=None)\n",
    "        ],\n",
    "        images=[\n",
    "        ],\n",
    "        annotations=[\n",
    "        ]\n",
    "    )\n",
    "\n",
    "    # with open('coco_format.json','w') as f:\n",
    "    #     json.dump(coco_format, f, indent=4)\n",
    "\n",
    "    return coco_format"
   ]
  },
  {
   "cell_type": "code",
   "execution_count": 7,
   "metadata": {},
   "outputs": [
    {
     "output_type": "execute_result",
     "data": {
      "text/plain": [
       "{'info': {'year': 2021,\n",
       "  'version': '1.0',\n",
       "  'description': 'Pedestrian',\n",
       "  'contributor': 'AI Hub',\n",
       "  'url': 'https://aihub.or.kr/aidata/136',\n",
       "  'date_created': '2021-12-16 12:49:00'},\n",
       " 'licenses': [{'id': 0, 'name': '', 'url': ''}],\n",
       " 'categories': [{'id': 0, 'name': 'person', 'supercategory': None},\n",
       "  {'id': 1, 'name': 'stroller', 'supercategory': None},\n",
       "  {'id': 2, 'name': 'bicycle', 'supercategory': None},\n",
       "  {'id': 3, 'name': 'wheelchair', 'supercategory': None}],\n",
       " 'images': [],\n",
       " 'annotations': []}"
      ]
     },
     "metadata": {},
     "execution_count": 7
    }
   ],
   "source": [
    "coco_form()"
   ]
  },
  {
   "cell_type": "code",
   "execution_count": 10,
   "metadata": {},
   "outputs": [
    {
     "output_type": "execute_result",
     "data": {
      "text/plain": [
       "       root_folder sub_folder     xml_name              file_name  occluded  \\\n",
       "0      Bbox_16_new  Bbox_0969  1007_22.xml  MP_SEL_MIN_000001.jpg         0   \n",
       "1      Bbox_16_new  Bbox_0969  1007_22.xml  MP_SEL_MIN_000001.jpg         0   \n",
       "2      Bbox_16_new  Bbox_0969  1007_22.xml  MP_SEL_MIN_000003.jpg         0   \n",
       "3      Bbox_16_new  Bbox_0969  1007_22.xml  MP_SEL_MIN_000003.jpg         1   \n",
       "4      Bbox_16_new  Bbox_0969  1007_22.xml  MP_SEL_MIN_000003.jpg         1   \n",
       "...            ...        ...          ...                    ...       ...   \n",
       "28184  Bbox_18_new  Bbox_1022  1031_09.xml  MP_SEL_MIN_013601.jpg         0   \n",
       "28185  Bbox_18_new  Bbox_1022  1031_09.xml  MP_SEL_MIN_013601.jpg         1   \n",
       "28186  Bbox_18_new  Bbox_1022  1031_09.xml  MP_SEL_MIN_013601.jpg         1   \n",
       "28187  Bbox_18_new  Bbox_1022  1031_09.xml  MP_SEL_MIN_013602.jpg         0   \n",
       "28188  Bbox_18_new  Bbox_1022  1031_09.xml  MP_SEL_MIN_013602.jpg         0   \n",
       "\n",
       "          classes                                 box  class_no  \n",
       "0          person    [739.96, 452.13, 775.20, 540.70]         0  \n",
       "1          person    [794.29, 447.59, 832.80, 541.70]         0  \n",
       "2      wheelchair  [1088.50, 463.35, 1154.58, 574.70]         3  \n",
       "3         bicycle    [714.49, 505.25, 894.90, 698.50]         2  \n",
       "4          person    [907.08, 413.30, 931.63, 480.82]         0  \n",
       "...           ...                                 ...       ...  \n",
       "28184      person  [1114.70, 234.30, 1333.50, 935.60]         0  \n",
       "28185      person    [750.67, 244.47, 771.40, 323.70]         0  \n",
       "28186      person    [764.63, 248.88, 781.63, 320.97]         0  \n",
       "28187      person    [576.00, 189.70, 601.80, 238.80]         0  \n",
       "28188      person   [983.10, 169.80, 1012.70, 254.90]         0  \n",
       "\n",
       "[28189 rows x 8 columns]"
      ],
      "text/html": "<div>\n<style scoped>\n    .dataframe tbody tr th:only-of-type {\n        vertical-align: middle;\n    }\n\n    .dataframe tbody tr th {\n        vertical-align: top;\n    }\n\n    .dataframe thead th {\n        text-align: right;\n    }\n</style>\n<table border=\"1\" class=\"dataframe\">\n  <thead>\n    <tr style=\"text-align: right;\">\n      <th></th>\n      <th>root_folder</th>\n      <th>sub_folder</th>\n      <th>xml_name</th>\n      <th>file_name</th>\n      <th>occluded</th>\n      <th>classes</th>\n      <th>box</th>\n      <th>class_no</th>\n    </tr>\n  </thead>\n  <tbody>\n    <tr>\n      <th>0</th>\n      <td>Bbox_16_new</td>\n      <td>Bbox_0969</td>\n      <td>1007_22.xml</td>\n      <td>MP_SEL_MIN_000001.jpg</td>\n      <td>0</td>\n      <td>person</td>\n      <td>[739.96, 452.13, 775.20, 540.70]</td>\n      <td>0</td>\n    </tr>\n    <tr>\n      <th>1</th>\n      <td>Bbox_16_new</td>\n      <td>Bbox_0969</td>\n      <td>1007_22.xml</td>\n      <td>MP_SEL_MIN_000001.jpg</td>\n      <td>0</td>\n      <td>person</td>\n      <td>[794.29, 447.59, 832.80, 541.70]</td>\n      <td>0</td>\n    </tr>\n    <tr>\n      <th>2</th>\n      <td>Bbox_16_new</td>\n      <td>Bbox_0969</td>\n      <td>1007_22.xml</td>\n      <td>MP_SEL_MIN_000003.jpg</td>\n      <td>0</td>\n      <td>wheelchair</td>\n      <td>[1088.50, 463.35, 1154.58, 574.70]</td>\n      <td>3</td>\n    </tr>\n    <tr>\n      <th>3</th>\n      <td>Bbox_16_new</td>\n      <td>Bbox_0969</td>\n      <td>1007_22.xml</td>\n      <td>MP_SEL_MIN_000003.jpg</td>\n      <td>1</td>\n      <td>bicycle</td>\n      <td>[714.49, 505.25, 894.90, 698.50]</td>\n      <td>2</td>\n    </tr>\n    <tr>\n      <th>4</th>\n      <td>Bbox_16_new</td>\n      <td>Bbox_0969</td>\n      <td>1007_22.xml</td>\n      <td>MP_SEL_MIN_000003.jpg</td>\n      <td>1</td>\n      <td>person</td>\n      <td>[907.08, 413.30, 931.63, 480.82]</td>\n      <td>0</td>\n    </tr>\n    <tr>\n      <th>...</th>\n      <td>...</td>\n      <td>...</td>\n      <td>...</td>\n      <td>...</td>\n      <td>...</td>\n      <td>...</td>\n      <td>...</td>\n      <td>...</td>\n    </tr>\n    <tr>\n      <th>28184</th>\n      <td>Bbox_18_new</td>\n      <td>Bbox_1022</td>\n      <td>1031_09.xml</td>\n      <td>MP_SEL_MIN_013601.jpg</td>\n      <td>0</td>\n      <td>person</td>\n      <td>[1114.70, 234.30, 1333.50, 935.60]</td>\n      <td>0</td>\n    </tr>\n    <tr>\n      <th>28185</th>\n      <td>Bbox_18_new</td>\n      <td>Bbox_1022</td>\n      <td>1031_09.xml</td>\n      <td>MP_SEL_MIN_013601.jpg</td>\n      <td>1</td>\n      <td>person</td>\n      <td>[750.67, 244.47, 771.40, 323.70]</td>\n      <td>0</td>\n    </tr>\n    <tr>\n      <th>28186</th>\n      <td>Bbox_18_new</td>\n      <td>Bbox_1022</td>\n      <td>1031_09.xml</td>\n      <td>MP_SEL_MIN_013601.jpg</td>\n      <td>1</td>\n      <td>person</td>\n      <td>[764.63, 248.88, 781.63, 320.97]</td>\n      <td>0</td>\n    </tr>\n    <tr>\n      <th>28187</th>\n      <td>Bbox_18_new</td>\n      <td>Bbox_1022</td>\n      <td>1031_09.xml</td>\n      <td>MP_SEL_MIN_013602.jpg</td>\n      <td>0</td>\n      <td>person</td>\n      <td>[576.00, 189.70, 601.80, 238.80]</td>\n      <td>0</td>\n    </tr>\n    <tr>\n      <th>28188</th>\n      <td>Bbox_18_new</td>\n      <td>Bbox_1022</td>\n      <td>1031_09.xml</td>\n      <td>MP_SEL_MIN_013602.jpg</td>\n      <td>0</td>\n      <td>person</td>\n      <td>[983.10, 169.80, 1012.70, 254.90]</td>\n      <td>0</td>\n    </tr>\n  </tbody>\n</table>\n<p>28189 rows × 8 columns</p>\n</div>"
     },
     "metadata": {},
     "execution_count": 10
    }
   ],
   "source": [
    "# file in list\n",
    "# https://jaeyung1001.tistory.com/44\n",
    "from ast import literal_eval\n",
    "all_df = pd.read_csv(os.path.join('/Users/sm/Downloads','detection_train.csv'), converters={'box':literal_eval})\n",
    "all_df"
   ]
  },
  {
   "cell_type": "code",
   "execution_count": 12,
   "metadata": {},
   "outputs": [
    {
     "output_type": "stream",
     "name": "stdout",
     "text": [
      "total #bbox : 28189,\timages: 6913\n"
     ]
    }
   ],
   "source": [
    "# define fields\n",
    "# images\n",
    "LICENCE = 0\n",
    "URL = None\n",
    "DATA_CAPTURED = None\n",
    "#BBOX\n",
    "WIDTH=1920\n",
    "HEIGHT=1080\n",
    "SEGMENTATION = []\n",
    "ISCROWD = 0\n",
    "\n",
    "file_list = all_df[\"file_name\"].tolist()\n",
    "set_file_list = set(file_list)\n",
    "print(f'total #bbox : {len(file_list)},\\timages: {len(set_file_list)}')"
   ]
  },
  {
   "cell_type": "code",
   "execution_count": 13,
   "metadata": {
    "tags": []
   },
   "outputs": [
    {
     "output_type": "stream",
     "name": "stderr",
     "text": [
      "100%|██████████| 6913/6913 [00:18<00:00, 374.81it/s]\n"
     ]
    }
   ],
   "source": [
    "from tqdm import tqdm\n",
    "image_id_index = 0\n",
    "coco = coco_form()\n",
    "for image in tqdm(set_file_list):\n",
    "    condition = all_df['file_name'] == image\n",
    "    coco['images'].append(\n",
    "        dict(license=LICENCE, url=URL, file_name=image, height=HEIGHT, width=WIDTH, data_captured=DATA_CAPTURED, id=image_id_index)\n",
    "        )\n",
    "\n",
    "    box_id_index = 0\n",
    "    for bbox in all_df[condition].to_dict('records'):\n",
    "        bbox['box'] = [float(idx) for idx in bbox['box']]\n",
    "        #width\n",
    "        bbox['box'][2] = bbox['box'][2] - bbox['box'][0] \n",
    "        #height\n",
    "        bbox['box'][3] = bbox['box'][3] - bbox['box'][1]\n",
    "        coco['annotations'].append(\n",
    "            dict(id=box_id_index, image_id=image_id_index, category_id=bbox['class_no'], bbox=bbox['box'], \n",
    "                area=round(bbox['box'][2] * bbox['box'][3], 3), segmentation=SEGMENTATION, iscrowd=ISCROWD)\n",
    "            )\n",
    "        box_id_index+=1\n",
    "    image_id_index+=1"
   ]
  },
  {
   "cell_type": "code",
   "execution_count": 14,
   "metadata": {},
   "outputs": [
    {
     "output_type": "stream",
     "name": "stdout",
     "text": [
      "total #bbox : 28189,\timages: 6913\n"
     ]
    }
   ],
   "source": [
    "# 잘 들어갔는지 검증\n",
    "print(f'total #bbox : {len(coco[\"annotations\"])},\\timages: {len(coco[\"images\"])}')"
   ]
  },
  {
   "cell_type": "code",
   "execution_count": 15,
   "metadata": {},
   "outputs": [],
   "source": [
    "import json\n",
    "with open('pedestrian_train.json', 'w') as f:\n",
    "    json.dump(coco,f, indent=4)"
   ]
  },
  {
   "cell_type": "code",
   "execution_count": null,
   "metadata": {},
   "outputs": [],
   "source": []
  }
 ]
}