{
 "cells": [
  {
   "cell_type": "code",
   "execution_count": 1,
   "metadata": {},
   "outputs": [],
   "source": [
    "!pip install zipfile36"
   ]
  },
  {
   "cell_type": "code",
   "execution_count": 18,
   "metadata": {},
   "outputs": [],
   "source": [
    "import shutil\n",
    "import zipfile\n",
    "import os\n",
    "\n",
    "main_dirpath = \"C:/Users/KJY/Downloads/인도보행 영상/서피스마스킹\"\n",
    "extract_path = os.path.join(main_dirpath, \"XML_Extract\")"
   ]
  },
  {
   "cell_type": "code",
   "execution_count": 19,
   "metadata": {},
   "outputs": [
    {
     "name": "stdout",
     "output_type": "stream",
     "text": [
      "Create the directory.\n"
     ]
    }
   ],
   "source": [
    "def createDirectory(directory):\n",
    "    try:\n",
    "        if not os.path.exists(directory):\n",
    "            os.makedirs(directory)\n",
    "            print(\"Create the directory.\")\n",
    "    except OSError:\n",
    "        print(\"Error: Failed to create the directory.\")\n",
    "            \n",
    "createDirectory(extract_path)"
   ]
  },
  {
   "cell_type": "code",
   "execution_count": 20,
   "metadata": {},
   "outputs": [
    {
     "name": "stdout",
     "output_type": "stream",
     "text": [
      "Surface_1.zip\n",
      "Surface_2.zip\n",
      "Surface_3.zip\n",
      "Surface_4.zip\n",
      "Surface_5.zip\n"
     ]
    }
   ],
   "source": [
    "filelist = list()\n",
    "all_list = [entry.name for entry in os.scandir(main_dirpath)]\n",
    "\n",
    "for entry in all_list:\n",
    "    if entry.endswith(\".zip\") and (entry+\".irx\") not in all_list:\n",
    "        print(entry)\n",
    "        filelist.append(entry)"
   ]
  },
  {
   "cell_type": "code",
   "execution_count": 21,
   "metadata": {},
   "outputs": [
    {
     "name": "stdout",
     "output_type": "stream",
     "text": [
      "C:/Users/KJY/Downloads/인도보행 영상/서피스마스킹\\Surface_1.zip\n",
      "C:/Users/KJY/Downloads/인도보행 영상/서피스마스킹\\Surface_2.zip\n",
      "C:/Users/KJY/Downloads/인도보행 영상/서피스마스킹\\Surface_3.zip\n",
      "C:/Users/KJY/Downloads/인도보행 영상/서피스마스킹\\Surface_4.zip\n",
      "C:/Users/KJY/Downloads/인도보행 영상/서피스마스킹\\Surface_5.zip\n"
     ]
    }
   ],
   "source": [
    "for file in filelist:\n",
    "    print(os.path.join(main_dirpath, file))\n",
    "    archive = zipfile.ZipFile(os.path.join(main_dirpath, file), \"r\")\n",
    "    txtdata = archive.namelist()\n",
    "    txtdata = [name for name in txtdata if \".xml\" in name]\n",
    "    \n",
    "    for each_xml in txtdata:\n",
    "        archive.open(each_xml)\n",
    "        archive.extract(each_xml, extract_path)\n",
    "        \n",
    "    dir_list = [f.name for f in os.scandir(extract_path) if f.is_dir()]\n",
    "    dir_list.sort()\n",
    "\n",
    "    for each_dir in dir_list:\n",
    "        for entry in os.scandir(os.path.join(extract_path, each_dir)):\n",
    "            if entry.is_file():\n",
    "                shutil.move(os.path.join(extract_path, each_dir, entry.name),\n",
    "                            os.path.join(extract_path, file.split('.')[0] + \"-\" + each_dir + \"-\" + entry.name))\n",
    "                shutil.rmtree(os.path.join(extract_path, each_dir))\n",
    "    archive.close()"
   ]
  },
  {
   "cell_type": "code",
   "execution_count": null,
   "metadata": {},
   "outputs": [],
   "source": []
  },
  {
   "cell_type": "code",
   "execution_count": null,
   "metadata": {},
   "outputs": [],
   "source": []
  }
 ],
 "metadata": {
  "interpreter": {
   "hash": "981f108a204f421f158e0977940335d851edffa6dd3586828a3e1aec045160e4"
  },
  "kernelspec": {
   "display_name": "Python 3 (ipykernel)",
   "language": "python",
   "name": "python3"
  },
  "language_info": {
   "codemirror_mode": {
    "name": "ipython",
    "version": 3
   },
   "file_extension": ".py",
   "mimetype": "text/x-python",
   "name": "python",
   "nbconvert_exporter": "python",
   "pygments_lexer": "ipython3",
   "version": "3.9.5"
  }
 },
 "nbformat": 4,
 "nbformat_minor": 2
}
