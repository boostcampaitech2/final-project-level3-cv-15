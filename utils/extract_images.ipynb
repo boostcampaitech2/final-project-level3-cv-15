{
 "metadata": {
  "language_info": {
   "codemirror_mode": {
    "name": "ipython",
    "version": 3
   },
   "file_extension": ".py",
   "mimetype": "text/x-python",
   "name": "python",
   "nbconvert_exporter": "python",
   "pygments_lexer": "ipython3",
   "version": "3.8.8-final"
  },
  "orig_nbformat": 2,
  "kernelspec": {
   "name": "final_project",
   "display_name": "final_project",
   "language": "python"
  }
 },
 "nbformat": 4,
 "nbformat_minor": 2,
 "cells": [
  {
   "cell_type": "code",
   "execution_count": 1,
   "metadata": {},
   "outputs": [],
   "source": [
    "from ast import literal_eval\n",
    "import pandas as pd\n",
    "import os\n",
    "import zipfile\n",
    "import shutil\n",
    "from tqdm import tqdm"
   ]
  },
  {
   "cell_type": "code",
   "execution_count": 2,
   "metadata": {},
   "outputs": [
    {
     "output_type": "execute_result",
     "data": {
      "text/plain": [
       "        root_folder sub_folder      xml_name                      file_name  \\\n",
       "0       Bbox_24_new  Bbox_1990  P1017_06.xml  ZED3_KSC_054721_L_P013751.png   \n",
       "1       Bbox_24_new  Bbox_1990  P1017_06.xml  ZED3_KSC_054722_L_P013752.png   \n",
       "2       Bbox_24_new  Bbox_1990  P1017_06.xml  ZED3_KSC_054738_L_P013762.png   \n",
       "3       Bbox_24_new  Bbox_1990  P1017_06.xml  ZED3_KSC_054740_L_P013764.png   \n",
       "4       Bbox_24_new  Bbox_1990  P1017_06.xml  ZED3_KSC_054741_L_P013765.png   \n",
       "...             ...        ...           ...                            ...   \n",
       "104910  Bbox_28_new  Bbox_2340  P1030_26.xml  ZED2_KSC_103515_L_P031298.png   \n",
       "104911  Bbox_28_new  Bbox_2340  P1030_26.xml  ZED2_KSC_103515_L_P031298.png   \n",
       "104912  Bbox_28_new  Bbox_2340  P1030_26.xml  ZED2_KSC_103521_L_P031299.png   \n",
       "104913  Bbox_28_new  Bbox_2340  P1030_26.xml  ZED2_KSC_103524_L_P031300.png   \n",
       "104914  Bbox_28_new  Bbox_2340  P1030_26.xml  ZED2_KSC_103524_L_P031300.png   \n",
       "\n",
       "        occluded   classes                                box  \n",
       "0              0    person   [1182.95, 329.9, 1246.6, 532.52]  \n",
       "1              0    person  [1077.96, 354.75, 1170.2, 610.82]  \n",
       "2              1    person  [1646.62, 567.75, 1694.86, 687.2]  \n",
       "3              1    person  [1512.19, 530.31, 1547.41, 607.7]  \n",
       "4              1  stroller   [1335.8, 567.25, 1396.33, 653.3]  \n",
       "...          ...       ...                                ...  \n",
       "104910         1    person            [716.78, 0, 895, 454.3]  \n",
       "104911         1       car          [0, 142.15, 340.6, 369.8]  \n",
       "104912         0    person      [988.24, 175.93, 1043, 326.6]  \n",
       "104913         0    person   [1036.79, 167.54, 1106.9, 344.5]  \n",
       "104914         1       car       [98.1, 159.54, 250.2, 218.1]  \n",
       "\n",
       "[104915 rows x 7 columns]"
      ],
      "text/html": "<div>\n<style scoped>\n    .dataframe tbody tr th:only-of-type {\n        vertical-align: middle;\n    }\n\n    .dataframe tbody tr th {\n        vertical-align: top;\n    }\n\n    .dataframe thead th {\n        text-align: right;\n    }\n</style>\n<table border=\"1\" class=\"dataframe\">\n  <thead>\n    <tr style=\"text-align: right;\">\n      <th></th>\n      <th>root_folder</th>\n      <th>sub_folder</th>\n      <th>xml_name</th>\n      <th>file_name</th>\n      <th>occluded</th>\n      <th>classes</th>\n      <th>box</th>\n    </tr>\n  </thead>\n  <tbody>\n    <tr>\n      <th>0</th>\n      <td>Bbox_24_new</td>\n      <td>Bbox_1990</td>\n      <td>P1017_06.xml</td>\n      <td>ZED3_KSC_054721_L_P013751.png</td>\n      <td>0</td>\n      <td>person</td>\n      <td>[1182.95, 329.9, 1246.6, 532.52]</td>\n    </tr>\n    <tr>\n      <th>1</th>\n      <td>Bbox_24_new</td>\n      <td>Bbox_1990</td>\n      <td>P1017_06.xml</td>\n      <td>ZED3_KSC_054722_L_P013752.png</td>\n      <td>0</td>\n      <td>person</td>\n      <td>[1077.96, 354.75, 1170.2, 610.82]</td>\n    </tr>\n    <tr>\n      <th>2</th>\n      <td>Bbox_24_new</td>\n      <td>Bbox_1990</td>\n      <td>P1017_06.xml</td>\n      <td>ZED3_KSC_054738_L_P013762.png</td>\n      <td>1</td>\n      <td>person</td>\n      <td>[1646.62, 567.75, 1694.86, 687.2]</td>\n    </tr>\n    <tr>\n      <th>3</th>\n      <td>Bbox_24_new</td>\n      <td>Bbox_1990</td>\n      <td>P1017_06.xml</td>\n      <td>ZED3_KSC_054740_L_P013764.png</td>\n      <td>1</td>\n      <td>person</td>\n      <td>[1512.19, 530.31, 1547.41, 607.7]</td>\n    </tr>\n    <tr>\n      <th>4</th>\n      <td>Bbox_24_new</td>\n      <td>Bbox_1990</td>\n      <td>P1017_06.xml</td>\n      <td>ZED3_KSC_054741_L_P013765.png</td>\n      <td>1</td>\n      <td>stroller</td>\n      <td>[1335.8, 567.25, 1396.33, 653.3]</td>\n    </tr>\n    <tr>\n      <th>...</th>\n      <td>...</td>\n      <td>...</td>\n      <td>...</td>\n      <td>...</td>\n      <td>...</td>\n      <td>...</td>\n      <td>...</td>\n    </tr>\n    <tr>\n      <th>104910</th>\n      <td>Bbox_28_new</td>\n      <td>Bbox_2340</td>\n      <td>P1030_26.xml</td>\n      <td>ZED2_KSC_103515_L_P031298.png</td>\n      <td>1</td>\n      <td>person</td>\n      <td>[716.78, 0, 895, 454.3]</td>\n    </tr>\n    <tr>\n      <th>104911</th>\n      <td>Bbox_28_new</td>\n      <td>Bbox_2340</td>\n      <td>P1030_26.xml</td>\n      <td>ZED2_KSC_103515_L_P031298.png</td>\n      <td>1</td>\n      <td>car</td>\n      <td>[0, 142.15, 340.6, 369.8]</td>\n    </tr>\n    <tr>\n      <th>104912</th>\n      <td>Bbox_28_new</td>\n      <td>Bbox_2340</td>\n      <td>P1030_26.xml</td>\n      <td>ZED2_KSC_103521_L_P031299.png</td>\n      <td>0</td>\n      <td>person</td>\n      <td>[988.24, 175.93, 1043, 326.6]</td>\n    </tr>\n    <tr>\n      <th>104913</th>\n      <td>Bbox_28_new</td>\n      <td>Bbox_2340</td>\n      <td>P1030_26.xml</td>\n      <td>ZED2_KSC_103524_L_P031300.png</td>\n      <td>0</td>\n      <td>person</td>\n      <td>[1036.79, 167.54, 1106.9, 344.5]</td>\n    </tr>\n    <tr>\n      <th>104914</th>\n      <td>Bbox_28_new</td>\n      <td>Bbox_2340</td>\n      <td>P1030_26.xml</td>\n      <td>ZED2_KSC_103524_L_P031300.png</td>\n      <td>1</td>\n      <td>car</td>\n      <td>[98.1, 159.54, 250.2, 218.1]</td>\n    </tr>\n  </tbody>\n</table>\n<p>104915 rows × 7 columns</p>\n</div>"
     },
     "metadata": {},
     "execution_count": 2
    }
   ],
   "source": [
    "df = pd.read_csv('XML_filtered(21_30).csv', converters={'box':literal_eval})\n",
    "df"
   ]
  },
  {
   "cell_type": "code",
   "execution_count": 3,
   "metadata": {},
   "outputs": [
    {
     "output_type": "execute_result",
     "data": {
      "text/plain": [
       "        root_folder sub_folder                      file_name\n",
       "0       Bbox_24_new  Bbox_1990  ZED3_KSC_054721_L_P013751.png\n",
       "1       Bbox_24_new  Bbox_1990  ZED3_KSC_054722_L_P013752.png\n",
       "2       Bbox_24_new  Bbox_1990  ZED3_KSC_054738_L_P013762.png\n",
       "3       Bbox_24_new  Bbox_1990  ZED3_KSC_054740_L_P013764.png\n",
       "4       Bbox_24_new  Bbox_1990  ZED3_KSC_054741_L_P013765.png\n",
       "...             ...        ...                            ...\n",
       "104904  Bbox_28_new  Bbox_2340  ZED2_KSC_103513_L_P031296.png\n",
       "104905  Bbox_28_new  Bbox_2340  ZED2_KSC_103514_L_P031297.png\n",
       "104907  Bbox_28_new  Bbox_2340  ZED2_KSC_103515_L_P031298.png\n",
       "104912  Bbox_28_new  Bbox_2340  ZED2_KSC_103521_L_P031299.png\n",
       "104913  Bbox_28_new  Bbox_2340  ZED2_KSC_103524_L_P031300.png\n",
       "\n",
       "[31635 rows x 3 columns]"
      ],
      "text/html": "<div>\n<style scoped>\n    .dataframe tbody tr th:only-of-type {\n        vertical-align: middle;\n    }\n\n    .dataframe tbody tr th {\n        vertical-align: top;\n    }\n\n    .dataframe thead th {\n        text-align: right;\n    }\n</style>\n<table border=\"1\" class=\"dataframe\">\n  <thead>\n    <tr style=\"text-align: right;\">\n      <th></th>\n      <th>root_folder</th>\n      <th>sub_folder</th>\n      <th>file_name</th>\n    </tr>\n  </thead>\n  <tbody>\n    <tr>\n      <th>0</th>\n      <td>Bbox_24_new</td>\n      <td>Bbox_1990</td>\n      <td>ZED3_KSC_054721_L_P013751.png</td>\n    </tr>\n    <tr>\n      <th>1</th>\n      <td>Bbox_24_new</td>\n      <td>Bbox_1990</td>\n      <td>ZED3_KSC_054722_L_P013752.png</td>\n    </tr>\n    <tr>\n      <th>2</th>\n      <td>Bbox_24_new</td>\n      <td>Bbox_1990</td>\n      <td>ZED3_KSC_054738_L_P013762.png</td>\n    </tr>\n    <tr>\n      <th>3</th>\n      <td>Bbox_24_new</td>\n      <td>Bbox_1990</td>\n      <td>ZED3_KSC_054740_L_P013764.png</td>\n    </tr>\n    <tr>\n      <th>4</th>\n      <td>Bbox_24_new</td>\n      <td>Bbox_1990</td>\n      <td>ZED3_KSC_054741_L_P013765.png</td>\n    </tr>\n    <tr>\n      <th>...</th>\n      <td>...</td>\n      <td>...</td>\n      <td>...</td>\n    </tr>\n    <tr>\n      <th>104904</th>\n      <td>Bbox_28_new</td>\n      <td>Bbox_2340</td>\n      <td>ZED2_KSC_103513_L_P031296.png</td>\n    </tr>\n    <tr>\n      <th>104905</th>\n      <td>Bbox_28_new</td>\n      <td>Bbox_2340</td>\n      <td>ZED2_KSC_103514_L_P031297.png</td>\n    </tr>\n    <tr>\n      <th>104907</th>\n      <td>Bbox_28_new</td>\n      <td>Bbox_2340</td>\n      <td>ZED2_KSC_103515_L_P031298.png</td>\n    </tr>\n    <tr>\n      <th>104912</th>\n      <td>Bbox_28_new</td>\n      <td>Bbox_2340</td>\n      <td>ZED2_KSC_103521_L_P031299.png</td>\n    </tr>\n    <tr>\n      <th>104913</th>\n      <td>Bbox_28_new</td>\n      <td>Bbox_2340</td>\n      <td>ZED2_KSC_103524_L_P031300.png</td>\n    </tr>\n  </tbody>\n</table>\n<p>31635 rows × 3 columns</p>\n</div>"
     },
     "metadata": {},
     "execution_count": 3
    }
   ],
   "source": [
    "image_name_list = df[['root_folder', 'sub_folder', 'file_name']]\n",
    "image_name_list = image_name_list.drop_duplicates()\n",
    "image_name_list"
   ]
  },
  {
   "cell_type": "code",
   "execution_count": 4,
   "metadata": {},
   "outputs": [
    {
     "output_type": "execute_result",
     "data": {
      "text/plain": [
       "['Bbox_24_new',\n",
       " 'Bbox_26_new',\n",
       " 'Bbox_22_new',\n",
       " 'Bbox_27_new',\n",
       " 'Bbox_29_new',\n",
       " 'Bbox_25_new',\n",
       " 'Bbox_21_new',\n",
       " 'Bbox_30_new',\n",
       " 'Bbox_23_new',\n",
       " 'Bbox_28_new']"
      ]
     },
     "metadata": {},
     "execution_count": 4
    }
   ],
   "source": [
    "zip_name_list = image_name_list['root_folder'].drop_duplicates().to_list()\n",
    "zip_name_list"
   ]
  },
  {
   "cell_type": "code",
   "execution_count": 5,
   "metadata": {
    "tags": []
   },
   "outputs": [
    {
     "output_type": "stream",
     "name": "stdout",
     "text": [
      "image extract\n",
      "100%|██████████| 3256/3256 [01:02<00:00, 51.82it/s]\n",
      "\n",
      "move images to /Users/sm/Downloads/인도보행 영상/바운딩박스/extract\n",
      "100%|██████████| 80/80 [00:01<00:00, 61.83it/s]\n",
      "\n",
      "zip start\n",
      "100%|██████████| 3257/3257 [05:05<00:00, 10.66it/s]\n"
     ]
    }
   ],
   "source": [
    "# zip file 이 존재하는 ROOT DIR\n",
    "# 받아야 하는 것 zip file name, dataframe\n",
    "ZIP_ROOT_DIR = '/Users/sm/Downloads/인도보행 영상/바운딩박스'\n",
    "EXTRACT_DIR = os.path.join(ZIP_ROOT_DIR, 'extract')\n",
    "zip_dir = os.path.join(ZIP_ROOT_DIR, zip_name_list[0]+'.zip')\n",
    "\n",
    "assert zip_dir.endswith('.zip')\n",
    "\n",
    "#mkdir\n",
    "if not os.path.exists(os.path.join(ZIP_ROOT_DIR, EXTRACT_DIR)):\n",
    "    os.makedirs(os.path.join(ZIP_ROOT_DIR, EXTRACT_DIR))\n",
    "\n",
    "condition = image_name_list['root_folder'] == zip_name_list[0]\n",
    "extract_list = []\n",
    "\n",
    "for image in image_name_list[condition].to_dict('records'):\n",
    "    extract_list.append(\n",
    "        os.path.join(image['sub_folder'], image['file_name'])\n",
    "    )\n",
    "\n",
    "# print(extract_list)\n",
    "with zipfile.ZipFile(zip_dir, 'r') as target_zip:\n",
    "    # extract_list에 있는 파일(폴더)이 이미 존재 할 경우에는 추출 안함\n",
    "    print('image extract')\n",
    "    for image in tqdm(extract_list):\n",
    "        target_zip.extract(image, os.path.join(ZIP_ROOT_DIR, EXTRACT_DIR))\n",
    "    \n",
    "# 경로에 압축을 푼 이미지를 한 경로로 모은다.\n",
    "subfolder_list = [i for i in os.listdir(EXTRACT_DIR) if os.path.isdir(os.path.join(EXTRACT_DIR, i))]\n",
    "print()\n",
    "print(f'move images to {EXTRACT_DIR}')\n",
    "for folder in tqdm(subfolder_list):\n",
    "    image_list = [i for i in os.listdir(os.path.join(EXTRACT_DIR, folder)) if i.endswith('.png')]\n",
    "    # sub folder 마다 존재하는 이미지들을 EXTRACT_DIR 로 옮김\n",
    "    for image in image_list:\n",
    "        shutil.move(os.path.join(EXTRACT_DIR, folder, image), \n",
    "                    os.path.join(EXTRACT_DIR, image)\n",
    "        )\n",
    "    # 이미지를 다 옮긴 폴더는 삭제(경로 안에 파일이 없어야함)\n",
    "    os.rmdir(os.path.join(EXTRACT_DIR, folder))\n",
    "print()\n",
    "print('zip start')\n",
    "# 저장이 안되는 오류가 있다.\n",
    "with zipfile.ZipFile(f'extract_{zip_name_list[0]}.zip', 'w') as save_zip:\n",
    "    for i in tqdm(os.listdir(EXTRACT_DIR)):\n",
    "        save_zip.write(os.path.join(EXTRACT_DIR, i), os.path.relpath(os.path.join(EXTRACT_DIR,i)), compress_type=zipfile.ZIP_DEFLATED)\n",
    "\n",
    "\n",
    "# def extract_images()"
   ]
  },
  {
   "cell_type": "code",
   "execution_count": null,
   "metadata": {},
   "outputs": [],
   "source": [
    "# 검증용\n"
   ]
  }
 ]
}