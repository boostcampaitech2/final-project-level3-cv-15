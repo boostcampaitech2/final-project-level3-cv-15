{
 "cells": [
  {
   "cell_type": "code",
   "execution_count": 2,
   "id": "402ebe04-e4f2-4a63-80af-a8d71dc71f3a",
   "metadata": {},
   "outputs": [],
   "source": [
    "import os\n",
    "from tqdm import tqdm\n",
    "import pandas as pd\n",
    "import shutil"
   ]
  },
  {
   "cell_type": "markdown",
   "id": "42f6e5dc-9de3-4653-a6ce-f8a3eda652e7",
   "metadata": {},
   "source": [
    "# 학습에 쓰일 이미지와 GT를 옮겨봅시다"
   ]
  },
  {
   "cell_type": "code",
   "execution_count": 3,
   "id": "ee497da8-165a-45ba-a3b2-5561a880389b",
   "metadata": {},
   "outputs": [],
   "source": [
    "CSV_ROOT = '/opt/ml/data/segmentation'\n",
    "IMAGE_ROOT = '/opt/ml/data/segmentation/images/all'\n",
    "GT_ROOT = '/opt/ml/data/segmentation/annotations/all'"
   ]
  },
  {
   "cell_type": "code",
   "execution_count": 5,
   "id": "9e7dd245-558a-4dc0-8f4f-910d9c9f45d3",
   "metadata": {},
   "outputs": [
    {
     "name": "stdout",
     "output_type": "stream",
     "text": [
      "['train_1.csv', 'train_2.csv', 'train_3.csv', 'train_4.csv', 'train_5.csv']\n",
      "['valid_1.csv', 'valid_2.csv', 'valid_3.csv', 'valid_4.csv', 'valid_5.csv']\n",
      "['test_dataset.csv']\n"
     ]
    }
   ],
   "source": [
    "# segmentaiton_csv_V1/csv/train/train_1.csv\n",
    "TRAIN_PATH = os.path.join(CSV_ROOT,'train')\n",
    "VALID_PATH = os.path.join(CSV_ROOT,'valid')\n",
    "TEST_PATH = os.path.join(CSV_ROOT,'test')\n",
    "\n",
    "train_csv = [i for i in os.listdir(TRAIN_PATH) if i.endswith('.csv')]\n",
    "valid_csv = [i for i in os.listdir(VALID_PATH) if i.endswith('.csv')]\n",
    "test_csv = [i for i in os.listdir(TEST_PATH) if i.endswith('.csv')]\n",
    "\n",
    "train_csv = sorted(train_csv)\n",
    "valid_csv = sorted(valid_csv)\n",
    "test_csv = sorted(test_csv)\n",
    "\n",
    "print(train_csv)\n",
    "print(valid_csv)\n",
    "print(test_csv)"
   ]
  },
  {
   "cell_type": "code",
   "execution_count": 6,
   "id": "0557646c-0fbd-4571-bedc-1a32f881f201",
   "metadata": {},
   "outputs": [],
   "source": [
    "def copy_images(dataframe_locate, save_path):\n",
    "\n",
    "    df = pd.read_csv(dataframe_locate)\n",
    "    print(f\"{dataframe_locate.split('/')[-1]} : {len(df)}\")\n",
    "    dir_list= [os.path.join(save_path,'images'), os.path.join(save_path,'gt')]\n",
    "\n",
    "    for i in dir_list:\n",
    "        if not os.path.exists(i):\n",
    "            os.makedirs(i)\n",
    "    \n",
    "    for item in df.to_dict('records'):\n",
    "        if not os.path.exists(os.path.join(IMAGE_ROOT, item['file_name'])):\n",
    "            print(f\"Pass {item['file_name']}\")\n",
    "            continue\n",
    "        #image copy\n",
    "        shutil.copy(\n",
    "            os.path.join(IMAGE_ROOT, item['file_name']),\n",
    "            os.path.join(dir_list[0], item['file_name'])\n",
    "        )\n",
    "        #gt copy\n",
    "        shutil.copy(\n",
    "            os.path.join(GT_ROOT, item['file_name'].split('.')[0]+'.png'), \n",
    "            os.path.join(dir_list[1], item['file_name'].split('.')[0]+'.png')\n",
    "        )\n",
    "\n",
    "    print(f\"copy images: {len([i for i in os.listdir(dir_list[0]) if i.endswith('.jpg')])}\")\n",
    "    print(f\"copy gt images: {len([i for i in os.listdir(dir_list[1]) if i.endswith('.png')])}\")"
   ]
  },
  {
   "cell_type": "code",
   "execution_count": 8,
   "id": "af9afc5a-b682-412f-9445-feb69ba56556",
   "metadata": {},
   "outputs": [
    {
     "name": "stdout",
     "output_type": "stream",
     "text": [
      "test_dataset.csv : 189\n",
      "copy images: 189\n",
      "copy gt images: 189\n"
     ]
    }
   ],
   "source": [
    "for i in train_csv:\n",
    "    copy_images(\n",
    "        os.path.join(TRAIN_PATH, i), \n",
    "        os.path.join('/opt/ml/data/segmentation', i.split('.')[0])\n",
    "    )\n",
    "for i in valid_csv:\n",
    "    copy_images(\n",
    "        os.path.join(VALID_PATH, i), \n",
    "        os.path.join('/opt/ml/data/segmentation', i.split('.')[0])\n",
    "    )\n",
    "for i in test_csv:\n",
    "    copy_images(\n",
    "        os.path.join(TEST_PATH, i), \n",
    "        os.path.join('/opt/ml/data/segmentation', i.split('.')[0])\n",
    "    )"
   ]
  },
  {
   "cell_type": "code",
   "execution_count": null,
   "id": "afda89e2-99e8-4851-956d-3c0d85d23bd6",
   "metadata": {},
   "outputs": [],
   "source": []
  }
 ],
 "metadata": {
  "interpreter": {
   "hash": "981f108a204f421f158e0977940335d851edffa6dd3586828a3e1aec045160e4"
  },
  "kernelspec": {
   "display_name": "mmseg",
   "language": "python",
   "name": "python3"
  },
  "language_info": {
   "codemirror_mode": {
    "name": "ipython",
    "version": 3
   },
   "file_extension": ".py",
   "mimetype": "text/x-python",
   "name": "python",
   "nbconvert_exporter": "python",
   "pygments_lexer": "ipython3",
   "version": "3.7.11"
  }
 },
 "nbformat": 4,
 "nbformat_minor": 5
}
