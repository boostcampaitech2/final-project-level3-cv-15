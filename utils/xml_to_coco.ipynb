{
 "metadata": {
  "language_info": {
   "codemirror_mode": {
    "name": "ipython",
    "version": 3
   },
   "file_extension": ".py",
   "mimetype": "text/x-python",
   "name": "python",
   "nbconvert_exporter": "python",
   "pygments_lexer": "ipython3",
   "version": "3.8.8-final"
  },
  "orig_nbformat": 2,
  "kernelspec": {
   "name": "final_project",
   "display_name": "final_project",
   "language": "python"
  }
 },
 "nbformat": 4,
 "nbformat_minor": 2,
 "cells": [
  {
   "cell_type": "code",
   "execution_count": 4,
   "metadata": {},
   "outputs": [],
   "source": [
    "import cv2\n",
    "import os\n",
    "import numpy as np\n",
    "import pycocotools"
   ]
  },
  {
   "cell_type": "code",
   "execution_count": 5,
   "metadata": {},
   "outputs": [],
   "source": [
    "#xml to dict\n",
    "#https://m.blog.naver.com/PostView.naver?isHttpsRedirect=true&blogId=pk3152&logNo=221367256441\n",
    "import xmltodict\n",
    "import json"
   ]
  },
  {
   "cell_type": "code",
   "execution_count": 66,
   "metadata": {},
   "outputs": [
    {
     "output_type": "stream",
     "name": "stdout",
     "text": [
      "['Bbox_1671', 'Bbox_1685', 'Bbox_1682', 'Bbox_1676', 'Bbox_1678', 'Bbox_1679', 'Bbox_1677', 'Bbox_1683', 'Bbox_1684', 'Bbox_1702', 'Bbox_1705', 'Bbox_1733', 'Bbox_1734', 'Bbox_1760', 'Bbox_1794', 'Bbox_1758', 'Bbox_1793', 'Bbox_1767', 'Bbox_1751', 'Bbox_1769', 'Bbox_1756', 'Bbox_1735', 'Bbox_1732', 'Bbox_1704', 'Bbox_1703', 'Bbox_1768', 'Bbox_1757', 'Bbox_1750', 'Bbox_1759', 'Bbox_1766', 'Bbox_1792', 'Bbox_1795', 'Bbox_1761', 'Bbox_1743', 'Bbox_1788', 'Bbox_1744', 'Bbox_1772', 'Bbox_1786', 'Bbox_1781', 'Bbox_1775', 'Bbox_1721', 'Bbox_1719', 'Bbox_1726', 'Bbox_1710', 'Bbox_1728', 'Bbox_1717', 'Bbox_1774', 'Bbox_1780', 'Bbox_1787', 'Bbox_1773', 'Bbox_1745', 'Bbox_1742', 'Bbox_1789', 'Bbox_1729', 'Bbox_1716', 'Bbox_1711', 'Bbox_1718', 'Bbox_1727', 'Bbox_1720', 'Bbox_1699', 'Bbox_1807', 'Bbox_1800', 'Bbox_1809', 'Bbox_1697', 'Bbox_1690', 'Bbox_1691', 'Bbox_1696', 'Bbox_1808', 'Bbox_1801', 'Bbox_1806', 'Bbox_1698', 'Bbox_1681', 'Bbox_1675', 'Bbox_1672', 'Bbox_1686', 'Bbox_1688', 'Bbox_1689', 'Bbox_1810', 'Bbox_1687', 'Bbox_1673', 'Bbox_1674', 'Bbox_1680', 'Bbox_1790', 'Bbox_1764', 'Bbox_1763', 'Bbox_1797', 'Bbox_1755', 'Bbox_1799', 'Bbox_1752', 'Bbox_1706', 'Bbox_1739', 'Bbox_1701', 'Bbox_1737', 'Bbox_1708', 'Bbox_1730', 'Bbox_1798', 'Bbox_1753', 'Bbox_1754', 'Bbox_1796', 'Bbox_1762', 'Bbox_1765', 'Bbox_1791', 'Bbox_1731', 'Bbox_1736', 'Bbox_1709', 'Bbox_1700', 'Bbox_1707', 'Bbox_1738', 'Bbox_1725', 'Bbox_1722', 'Bbox_1714', 'Bbox_1713', 'Bbox_1747', 'Bbox_1778', 'Bbox_1740', 'Bbox_1782', 'Bbox_1776', 'Bbox_1749', 'Bbox_1771', 'Bbox_1785', 'Bbox_1712', 'Bbox_1715', 'Bbox_1723', 'Bbox_1724', 'Bbox_1784', 'Bbox_1770', 'Bbox_1777', 'Bbox_1783', 'Bbox_1748', 'Bbox_1741', 'Bbox_1746', 'Bbox_1779', 'Bbox_1803', 'Bbox_1804', 'Bbox_1693', 'Bbox_1694', 'Bbox_1695', 'Bbox_1692', 'Bbox_1805', 'Bbox_1802']\n"
     ]
    }
   ],
   "source": [
    "# 압축을 풀고 생기는 최상위 디렉토리\n",
    "DATA_ROOT = '/Users/sm/Downloads/인도보행 영상/바운딩박스/Bbox_21_new'\n",
    "# 폴더인 경우만 리스트에 추가\n",
    "folder_list = [i for i in os.listdir(DATA_ROOT) if os.path.isdir(os.path.join(DATA_ROOT, i))]\n",
    "print(folder_list)"
   ]
  },
  {
   "cell_type": "code",
   "execution_count": 95,
   "metadata": {},
   "outputs": [],
   "source": [
    "# 폴더에서 xml 확장자를 가진 경우만 리스트업\n",
    "xml_lists = []\n",
    "for folder in folder_list:\n",
    "    xml_file = [os.path.join(folder,i) for i in os.listdir(os.path.join(DATA_ROOT, folder)) if i.endswith('.xml')]\n",
    "    xml_lists.append(*xml_file)"
   ]
  },
  {
   "cell_type": "code",
   "execution_count": 76,
   "metadata": {
    "tags": []
   },
   "outputs": [
    {
     "output_type": "stream",
     "name": "stdout",
     "text": [
      "clean_xml.keys() : dict_keys(['annotations'])\nclean_xml['annotations'].keys() : dict_keys(['version', 'meta', 'image'])\nclean_xml['annotations']['version'] : 1.1\nclean_xml['annotations']['meta'].keys() : dict_keys(['task', 'dumped'])\nlen(clean_xml['annotations']['image']) : 50\nimage counts : 50\n"
     ]
    }
   ],
   "source": [
    "# xml 파일을 읽어서 dict 로 접근할 수 있게 함\n",
    "with open(os.path.join(DATA_ROOT, xml_file[0]), 'r') as f:\n",
    "    clean_xml = xmltodict.parse(f.read())\n",
    "    # 이렇게 하면 일반적으로 사용하던 json dict 로 편하게 사용할 수 있다고 함\n",
    "    clean_xml = json.dumps(clean_xml)\n",
    "    clean_xml = json.loads(clean_xml)\n",
    "\n",
    "# xml 에 들어있던 기본정보들\n",
    "print(f'clean_xml.keys() : {clean_xml.keys()}')\n",
    "print(f\"clean_xml['annotations'].keys() : {clean_xml['annotations'].keys()}\")\n",
    "print(f\"clean_xml['annotations']['version'] : {clean_xml['annotations']['version']}\")\n",
    "print(f\"clean_xml['annotations']['meta'].keys() : {clean_xml['annotations']['meta'].keys()}\")\n",
    "print(f\"len(clean_xml['annotations']['image']) : {len(clean_xml['annotations']['image'])}\")\n",
    "# 해당 폴더안에 있는 이미지 갯수랑 실제 xml 에 등록되어 있는 갯수랑 맞는지 확인하기 위함\n",
    "print(f\"image counts : {len([i for i in os.listdir(os.path.join(DATA_ROOT, xml_file[0].split('/')[0])) if i.endswith('.png')])}\")"
   ]
  },
  {
   "cell_type": "code",
   "execution_count": 74,
   "metadata": {
    "tags": []
   },
   "outputs": [
    {
     "output_type": "stream",
     "name": "stdout",
     "text": [
      "dict_keys(['@id', '@height', '@width', '@name', 'box'])\nkey : @id, data_type : <class 'str'>\nkey : @height, data_type : <class 'str'>\nkey : @width, data_type : <class 'str'>\nkey : @name, data_type : <class 'str'>\nkey : box, data_type : <class 'list'>\n\nlen(clean_xml['annotations']['image'][0]['box']) : 9\nbox keys : dict_keys(['@occluded', '@ybr', '@xbr', '@ytl', '@xtl', '@label'])\n------------------------------\ndel traffic_sign : {'@occluded': '0', '@ybr': '413.19', '@xbr': '633.93', '@ytl': '374', '@xtl': '600.15', '@label': 'traffic_sign'}\ndel pole : {'@occluded': '1', '@ybr': '569.1', '@xbr': '518.5', '@ytl': '0', '@xtl': '477.7', '@label': 'pole'}\ndel tree_trunk : {'@occluded': '0', '@ybr': '574.2', '@xbr': '493.2', '@ytl': '259.5', '@xtl': '441.9', '@label': 'tree_trunk'}\ndel traffic_sign : {'@occluded': '0', '@ybr': '374.03', '@xbr': '633.5', '@ytl': '331.39', '@xtl': '599.73', '@label': 'traffic_sign'}\n------------------------------\nafter len(clean_xml['annotations']['image'][0]['box']) : 5\n"
     ]
    }
   ],
   "source": [
    "# 이미지를 위한 정보를 찾아보자\n",
    "# 가장 첫번째 이미지인 0번째 이미지부터 시작\n",
    "print(clean_xml['annotations']['image'][0].keys())\n",
    "target_list = ('car', 'person', 'traffic_light', 'truck', 'bicycle', 'motorcycle', 'bus', 'carrier', 'stroller', 'scooter', 'wheelchair')\n",
    "\n",
    "for k,v in clean_xml['annotations']['image'][0].items():\n",
    "    print(f'key : {k}, data_type : {type(v)}')\n",
    "#box 가 list type 이니까 몇 개인지 파악해보자\n",
    "print()\n",
    "print(f\"len(clean_xml['annotations']['image'][0]['box']) : {len(clean_xml['annotations']['image'][0]['box'])}\")\n",
    "print(f\"box keys : {clean_xml['annotations']['image'][0]['box'][0].keys()}\")\n",
    "print('-'*30)\n",
    "# list 는 잘못 삭제하면 for loop 이 의도하지 않은대로 동작할 수 있어서 조심해야한다.\n",
    "temp_list = []\n",
    "for item in clean_xml['annotations']['image'][0]['box']:\n",
    "    if item['@label'] in target_list:\n",
    "        temp_list.append(item) \n",
    "    else:\n",
    "        print(f\"del {item['@label']} : {item}\")\n",
    "print('-'*30)\n",
    "clean_xml['annotations']['image'][0]['box'] = temp_list\n",
    "print(f\"after len(clean_xml['annotations']['image'][0]['box']) : {len(clean_xml['annotations']['image'][0]['box'])}\")"
   ]
  },
  {
   "cell_type": "code",
   "execution_count": 112,
   "metadata": {},
   "outputs": [
    {
     "output_type": "error",
     "ename": "AttributeError",
     "evalue": "'list' object has no attribute 'items'",
     "traceback": [
      "\u001b[0;31m---------------------------------------------------------------------------\u001b[0m",
      "\u001b[0;31mAttributeError\u001b[0m                            Traceback (most recent call last)",
      "\u001b[0;32m/var/folders/h9/r8r6r6md7wsdy0x43cwkg1zm0000gn/T/ipykernel_72275/2700486093.py\u001b[0m in \u001b[0;36m<module>\u001b[0;34m\u001b[0m\n\u001b[0;32m----> 1\u001b[0;31m \u001b[0;32mfor\u001b[0m \u001b[0mk\u001b[0m\u001b[0;34m,\u001b[0m \u001b[0mi\u001b[0m \u001b[0;32min\u001b[0m \u001b[0mclean_xml\u001b[0m\u001b[0;34m[\u001b[0m\u001b[0;34m'annotations'\u001b[0m\u001b[0;34m]\u001b[0m\u001b[0;34m[\u001b[0m\u001b[0;34m'image'\u001b[0m\u001b[0;34m]\u001b[0m\u001b[0;34m.\u001b[0m\u001b[0mitems\u001b[0m\u001b[0;34m(\u001b[0m\u001b[0;34m)\u001b[0m\u001b[0;34m:\u001b[0m\u001b[0;34m\u001b[0m\u001b[0;34m\u001b[0m\u001b[0m\n\u001b[0m\u001b[1;32m      2\u001b[0m     \u001b[0mprint\u001b[0m\u001b[0;34m(\u001b[0m\u001b[0mk\u001b[0m\u001b[0;34m)\u001b[0m\u001b[0;34m\u001b[0m\u001b[0;34m\u001b[0m\u001b[0m\n\u001b[1;32m      3\u001b[0m     \u001b[0mprint\u001b[0m\u001b[0;34m(\u001b[0m\u001b[0mi\u001b[0m\u001b[0;34m[\u001b[0m\u001b[0;34m'@name'\u001b[0m\u001b[0;34m]\u001b[0m\u001b[0;34m)\u001b[0m\u001b[0;34m\u001b[0m\u001b[0;34m\u001b[0m\u001b[0m\n\u001b[1;32m      4\u001b[0m     \u001b[0;31m# print(i)\u001b[0m\u001b[0;34m\u001b[0m\u001b[0;34m\u001b[0m\u001b[0;34m\u001b[0m\u001b[0m\n\u001b[1;32m      5\u001b[0m     \u001b[0;32mfor\u001b[0m \u001b[0mj\u001b[0m \u001b[0;32min\u001b[0m \u001b[0mi\u001b[0m\u001b[0;34m[\u001b[0m\u001b[0;34m'box'\u001b[0m\u001b[0;34m]\u001b[0m\u001b[0;34m:\u001b[0m\u001b[0;34m\u001b[0m\u001b[0;34m\u001b[0m\u001b[0m\n",
      "\u001b[0;31mAttributeError\u001b[0m: 'list' object has no attribute 'items'"
     ]
    }
   ],
   "source": [
    "for k, i in clean_xml['annotations']['image'].items():\n",
    "    print(k)\n",
    "    print(i['@name'])\n",
    "    # print(i)\n",
    "    for j in i['box']:\n",
    "        print(j)\n",
    "        # for k in j:\n",
    "        #     print(k)\n",
    "        #     break\n",
    "        break\n",
    "    break"
   ]
  },
  {
   "cell_type": "code",
   "execution_count": 6,
   "metadata": {},
   "outputs": [],
   "source": [
    "target_list = ('car', 'person', 'traffic_light', 'truck', 'bicycle', 'motorcycle', 'bus', 'carrier', 'stroller', 'scooter', 'wheelchair')\n",
    "\n",
    "def data_clensing(xml_locate, xml_file_name):\n",
    "    with open(os.path.join(DATA_ROOT, xml_locate, xml_file_name),'r') as f:\n",
    "        #xml 모양의 str 이어야 동작된다.\n",
    "        raw_xml = xmltodict.parse(f.read())\n",
    "        #자주 사용한 json dict 로 변환하기 위함(ordereddict 가 반환되어 그렇슴)\n",
    "        raw_xml = json.dumps(raw_xml)\n",
    "        clensed_xml = json.loads(raw_xml)\n",
    "\n",
    "    before, after = 0,0\n",
    "    delete_image_list = []\n",
    "    save_xml = dict(annotations=dict(image=[]))\n",
    "    for image in clensed_xml['annotations']['image']:\n",
    "        # for box temp list\n",
    "        temp_list = []\n",
    "        before += len(image['box'])\n",
    "        # image['box'] type == dict : box 가 1개인 경우\n",
    "        if type(image['box']) != list:\n",
    "            if image['box']['@label'] in target_list:\n",
    "                # 1개 남았던 박스가 사라지니까 필요 없는 이미지라는 뜻이므로 이미지를 제거하는게 좋다.\n",
    "                temp_list.append(image['box'])\n",
    "        # image['box'] type == list : box 가 여러개인 경우\n",
    "        else:\n",
    "            for box in image['box']:\n",
    "                # if box labels in target_list\n",
    "                if box['@label'] in target_list:\n",
    "                    temp_list.append(box)\n",
    "\n",
    "        check_len = len(temp_list)\n",
    "        # 만약 temp_list 의 길이가 0이라면 추가해야할 박스가 없으므로 그 이미지는 필요 없는 이미지이다.\n",
    "        if check_len == 0:\n",
    "            # 난중에 그 이미지는 제거하려고 리스트에 모아둔다.\n",
    "            delete_image_list.append(os.path.join(DATA_ROOT, xml_locate, xml_file_name, image['@name']))\n",
    "            continue\n",
    "\n",
    "        after += check_len\n",
    "        image['box'] = temp_list\n",
    "        save_xml['annotations']['image'].append(image)\n",
    "    \n",
    "    print(f'before boxes : {before}\\t after boxes : {after}')\n",
    "\n",
    "    print(f'useless image list : {delete_image_list}')\n",
    "    # json 만들기\n",
    "    with open(os.path.join(DATA_ROOT, xml_locate, xml_file_name.split('.')[0]+'.json') ,'w') as ff:\n",
    "        json.dump(save_xml, ff, indent=4)\n",
    "    \n",
    "    print(f\"before len(clensed_xml) : {len(clean_xml['annotations']['image'])}\")\n",
    "    print(f\"after len(clensed_xml) : {len(save_xml['annotations']['image'])}\")\n",
    "\n",
    "def coco_form():\n",
    "    coco_format = dict(\n",
    "        info=dict(\n",
    "            year=2021, version=\"1.0\", description=\"Pedestrian\", contributor=\"AI Hub\", url=\"https://aihub.or.kr/aidata/136\", date_created='2021-11-26 02:39:00'\n",
    "        ),\n",
    "        licenses=[\n",
    "            dict(id=0, name='', url='')\n",
    "        ],\n",
    "        categories=[\n",
    "            dict(id=0, name='car', supercategory=None),\n",
    "            dict(id=1, name='person', supercategory=None),\n",
    "            dict(id=2, name='traffic_light', supercategory=None),\n",
    "            dict(id=3, name='truck', supercategory=None),\n",
    "            dict(id=4, name='bicycle', supercategory=None),\n",
    "            dict(id=5, name='motorcycle', supercategory=None),\n",
    "            dict(id=6, name='bus', supercategory=None),\n",
    "            dict(id=7, name='carrier', supercategory=None),\n",
    "            dict(id=8, name='stroller', supercategory=None),\n",
    "            dict(id=9, name='scooter', supercategory=None),\n",
    "            dict(id=10, name='wheelchair', supercategory=None)\n",
    "        ],\n",
    "        images=[\n",
    "        ],\n",
    "        annotations=[\n",
    "        ]\n",
    "    )\n",
    "\n",
    "    # with open('coco_format.json','w') as f:\n",
    "    #     json.dump(coco_format, f, indent=4)\n",
    "\n",
    "    return coco_format\n"
   ]
  },
  {
   "cell_type": "code",
   "execution_count": 46,
   "metadata": {},
   "outputs": [
    {
     "output_type": "execute_result",
     "data": {
      "text/plain": [
       "{'info': {'year': 2021,\n",
       "  'version': '1.0',\n",
       "  'description': 'Pedestrian',\n",
       "  'contributor': 'AI Hub',\n",
       "  'url': 'https://aihub.or.kr/aidata/136',\n",
       "  'date_created': '2021-11-26 02:39:00'},\n",
       " 'licenses': [{'id': 0, 'name': '', 'url': ''}],\n",
       " 'categories': [{'id': 0, 'name': 'car', 'supercategory': None},\n",
       "  {'id': 1, 'name': 'person', 'supercategory': None},\n",
       "  {'id': 2, 'name': 'traffic_light', 'supercategory': None},\n",
       "  {'id': 3, 'name': 'truck', 'supercategory': None},\n",
       "  {'id': 4, 'name': 'bicycle', 'supercategory': None},\n",
       "  {'id': 5, 'name': 'motorcycle', 'supercategory': None},\n",
       "  {'id': 6, 'name': 'bus', 'supercategory': None},\n",
       "  {'id': 7, 'name': 'carrier', 'supercategory': None},\n",
       "  {'id': 8, 'name': 'stroller', 'supercategory': None},\n",
       "  {'id': 9, 'name': 'scooter', 'supercategory': None},\n",
       "  {'id': 10, 'name': 'wheelchair', 'supercategory': None}],\n",
       " 'images': [],\n",
       " 'annotations': []}"
      ]
     },
     "metadata": {},
     "execution_count": 46
    }
   ],
   "source": [
    "coco_form()"
   ]
  },
  {
   "cell_type": "code",
   "execution_count": null,
   "metadata": {},
   "outputs": [],
   "source": []
  },
  {
   "cell_type": "code",
   "execution_count": 91,
   "metadata": {},
   "outputs": [
    {
     "output_type": "stream",
     "name": "stdout",
     "text": [
      "before boxes : 529\t after boxes : 297\nuseless image list : []\n"
     ]
    }
   ],
   "source": [
    "data_clensing(*'Bbox_1802/P1009_28.xml'.split('/'))"
   ]
  },
  {
   "cell_type": "code",
   "execution_count": 118,
   "metadata": {
    "tags": []
   },
   "outputs": [
    {
     "output_type": "stream",
     "name": "stdout",
     "text": [
      "before boxes : 446\t after boxes : 208\nuseless image list : ['/Users/sm/Downloads/인도보행 영상/바운딩박스/Bbox_21_new/Bbox_1712/P1005_28.xml/MP_SEL_273375_P025312.jpg']\nbefore len(clensed_xml) : 50\nafter len(clensed_xml) : 49\n"
     ]
    }
   ],
   "source": [
    "data_clensing(*'Bbox_1712/P1005_28.xml'.split('/'))"
   ]
  },
  {
   "cell_type": "code",
   "execution_count": 103,
   "metadata": {
    "tags": [
     "outputPrepend"
    ]
   },
   "outputs": [
    {
     "output_type": "stream",
     "name": "stdout",
     "text": [
      "1730/P1007_16.xml/MP_SEL_274432_P026232.jpg', '/Users/sm/Downloads/인도보행 영상/바운딩박스/Bbox_21_new/Bbox_1730/P1007_16.xml/MP_SEL_274433_P026233.jpg']\n",
      "Bbox_1798/P1009_24.xml\n",
      "before boxes : 414\t after boxes : 192\n",
      "useless image list : ['/Users/sm/Downloads/인도보행 영상/바운딩박스/Bbox_21_new/Bbox_1798/P1009_24.xml/ZED2_KSC_023924_L_P004159.png', '/Users/sm/Downloads/인도보행 영상/바운딩박스/Bbox_21_new/Bbox_1798/P1009_24.xml/ZED2_KSC_023940_L_P004160.png']\n",
      "Bbox_1753/P1008_09.xml\n",
      "before boxes : 176\t after boxes : 61\n",
      "useless image list : ['/Users/sm/Downloads/인도보행 영상/바운딩박스/Bbox_21_new/Bbox_1753/P1008_09.xml/ZED4_KSC_039802_L_P001903.png', '/Users/sm/Downloads/인도보행 영상/바운딩박스/Bbox_21_new/Bbox_1753/P1008_09.xml/ZED4_KSC_039807_L_P001904.png', '/Users/sm/Downloads/인도보행 영상/바운딩박스/Bbox_21_new/Bbox_1753/P1008_09.xml/ZED4_KSC_039885_L_P001913.png', '/Users/sm/Downloads/인도보행 영상/바운딩박스/Bbox_21_new/Bbox_1753/P1008_09.xml/ZED4_KSC_039887_L_P001914.png', '/Users/sm/Downloads/인도보행 영상/바운딩박스/Bbox_21_new/Bbox_1753/P1008_09.xml/ZED4_KSC_039888_L_P001915.png', '/Users/sm/Downloads/인도보행 영상/바운딩박스/Bbox_21_new/Bbox_1753/P1008_09.xml/ZED4_KSC_039889_L_P001916.png', '/Users/sm/Downloads/인도보행 영상/바운딩박스/Bbox_21_new/Bbox_1753/P1008_09.xml/ZED4_KSC_039986_L_P001928.png', '/Users/sm/Downloads/인도보행 영상/바운딩박스/Bbox_21_new/Bbox_1753/P1008_09.xml/ZED4_KSC_039989_L_P001929.png', '/Users/sm/Downloads/인도보행 영상/바운딩박스/Bbox_21_new/Bbox_1753/P1008_09.xml/ZED4_KSC_039990_L_P001930.png']\n",
      "Bbox_1754/P1008_10.xml\n",
      "before boxes : 375\t after boxes : 188\n",
      "useless image list : ['/Users/sm/Downloads/인도보행 영상/바운딩박스/Bbox_21_new/Bbox_1754/P1008_10.xml/ZED4_KSC_040281_L_P001987.png', '/Users/sm/Downloads/인도보행 영상/바운딩박스/Bbox_21_new/Bbox_1754/P1008_10.xml/ZED4_KSC_040311_L_P001995.png', '/Users/sm/Downloads/인도보행 영상/바운딩박스/Bbox_21_new/Bbox_1754/P1008_10.xml/ZED4_KSC_040316_L_P001997.png']\n",
      "Bbox_1796/P1009_22.xml\n",
      "before boxes : 419\t after boxes : 266\n",
      "useless image list : ['/Users/sm/Downloads/인도보행 영상/바운딩박스/Bbox_21_new/Bbox_1796/P1009_22.xml/ZED2_KSC_023476_L_P004052.png', '/Users/sm/Downloads/인도보행 영상/바운딩박스/Bbox_21_new/Bbox_1796/P1009_22.xml/ZED2_KSC_023478_L_P004053.png']\n",
      "Bbox_1762/P1008_18.xml\n",
      "before boxes : 500\t after boxes : 230\n",
      "useless image list : []\n",
      "Bbox_1765/P1008_21.xml\n",
      "before boxes : 287\t after boxes : 153\n",
      "useless image list : ['/Users/sm/Downloads/인도보행 영상/바운딩박스/Bbox_21_new/Bbox_1765/P1008_21.xml/ZED1_KSC_013921_L_P002502.png', '/Users/sm/Downloads/인도보행 영상/바운딩박스/Bbox_21_new/Bbox_1765/P1008_21.xml/ZED1_KSC_013924_L_P002503.png', '/Users/sm/Downloads/인도보행 영상/바운딩박스/Bbox_21_new/Bbox_1765/P1008_21.xml/ZED1_KSC_013927_L_P002504.png']\n",
      "Bbox_1791/P1009_17.xml\n",
      "before boxes : 407\t after boxes : 137\n",
      "useless image list : ['/Users/sm/Downloads/인도보행 영상/바운딩박스/Bbox_21_new/Bbox_1791/P1009_17.xml/ZED2_KSC_022857_L_P003809.png', '/Users/sm/Downloads/인도보행 영상/바운딩박스/Bbox_21_new/Bbox_1791/P1009_17.xml/ZED2_KSC_022874_L_P003817.png', '/Users/sm/Downloads/인도보행 영상/바운딩박스/Bbox_21_new/Bbox_1791/P1009_17.xml/ZED2_KSC_022876_L_P003818.png', '/Users/sm/Downloads/인도보행 영상/바운딩박스/Bbox_21_new/Bbox_1791/P1009_17.xml/ZED2_KSC_022897_L_P003825.png', '/Users/sm/Downloads/인도보행 영상/바운딩박스/Bbox_21_new/Bbox_1791/P1009_17.xml/ZED2_KSC_022942_L_P003844.png', '/Users/sm/Downloads/인도보행 영상/바운딩박스/Bbox_21_new/Bbox_1791/P1009_17.xml/ZED2_KSC_022944_L_P003845.png', '/Users/sm/Downloads/인도보행 영상/바운딩박스/Bbox_21_new/Bbox_1791/P1009_17.xml/ZED2_KSC_022952_L_P003849.png', '/Users/sm/Downloads/인도보행 영상/바운딩박스/Bbox_21_new/Bbox_1791/P1009_17.xml/ZED2_KSC_022955_L_P003850.png']\n",
      "Bbox_1731/P1007_17.xml\n",
      "before boxes : 426\t after boxes : 183\n",
      "useless image list : ['/Users/sm/Downloads/인도보행 영상/바운딩박스/Bbox_21_new/Bbox_1731/P1007_17.xml/MP_SEL_274462_P026256.jpg', '/Users/sm/Downloads/인도보행 영상/바운딩박스/Bbox_21_new/Bbox_1731/P1007_17.xml/MP_SEL_274471_P026259.jpg', '/Users/sm/Downloads/인도보행 영상/바운딩박스/Bbox_21_new/Bbox_1731/P1007_17.xml/MP_SEL_274477_P026261.jpg', '/Users/sm/Downloads/인도보행 영상/바운딩박스/Bbox_21_new/Bbox_1731/P1007_17.xml/MP_SEL_274480_P026264.jpg']\n",
      "Bbox_1736/P1007_22.xml\n",
      "before boxes : 451\t after boxes : 199\n",
      "useless image list : ['/Users/sm/Downloads/인도보행 영상/바운딩박스/Bbox_21_new/Bbox_1736/P1007_22.xml/MP_SEL_274798_P026509.jpg', '/Users/sm/Downloads/인도보행 영상/바운딩박스/Bbox_21_new/Bbox_1736/P1007_22.xml/MP_SEL_274808_P026514.jpg']\n",
      "Bbox_1709/P1005_25.xml\n",
      "before boxes : 463\t after boxes : 198\n",
      "useless image list : ['/Users/sm/Downloads/인도보행 영상/바운딩박스/Bbox_21_new/Bbox_1709/P1005_25.xml/MP_SEL_273152_P025155.jpg', '/Users/sm/Downloads/인도보행 영상/바운딩박스/Bbox_21_new/Bbox_1709/P1005_25.xml/MP_SEL_273158_P025160.jpg', '/Users/sm/Downloads/인도보행 영상/바운딩박스/Bbox_21_new/Bbox_1709/P1005_25.xml/MP_SEL_273179_P025175.jpg', '/Users/sm/Downloads/인도보행 영상/바운딩박스/Bbox_21_new/Bbox_1709/P1005_25.xml/MP_SEL_273187_P025182.jpg', '/Users/sm/Downloads/인도보행 영상/바운딩박스/Bbox_21_new/Bbox_1709/P1005_25.xml/MP_SEL_273206_P025197.jpg', '/Users/sm/Downloads/인도보행 영상/바운딩박스/Bbox_21_new/Bbox_1709/P1005_25.xml/MP_SEL_273208_P025199.jpg']\n",
      "Bbox_1700/P1005_16.xml\n",
      "before boxes : 481\t after boxes : 207\n",
      "useless image list : ['/Users/sm/Downloads/인도보행 영상/바운딩박스/Bbox_21_new/Bbox_1700/P1005_16.xml/MP_SEL_272538_P024707.jpg', '/Users/sm/Downloads/인도보행 영상/바운딩박스/Bbox_21_new/Bbox_1700/P1005_16.xml/MP_SEL_272564_P024727.jpg']\n",
      "Bbox_1707/P1005_23.xml\n",
      "before boxes : 404\t after boxes : 187\n",
      "useless image list : ['/Users/sm/Downloads/인도보행 영상/바운딩박스/Bbox_21_new/Bbox_1707/P1005_23.xml/MP_SEL_273038_P025070.jpg', '/Users/sm/Downloads/인도보행 영상/바운딩박스/Bbox_21_new/Bbox_1707/P1005_23.xml/MP_SEL_273074_P025096.jpg']\n",
      "Bbox_1738/P1007_24.xml\n",
      "before boxes : 434\t after boxes : 196\n",
      "useless image list : ['/Users/sm/Downloads/인도보행 영상/바운딩박스/Bbox_21_new/Bbox_1738/P1007_24.xml/MP_SEL_274963_P026613.jpg', '/Users/sm/Downloads/인도보행 영상/바운딩박스/Bbox_21_new/Bbox_1738/P1007_24.xml/MP_SEL_274968_P026616.jpg', '/Users/sm/Downloads/인도보행 영상/바운딩박스/Bbox_21_new/Bbox_1738/P1007_24.xml/MP_SEL_275005_P026631.jpg', '/Users/sm/Downloads/인도보행 영상/바운딩박스/Bbox_21_new/Bbox_1738/P1007_24.xml/MP_SEL_275009_P026634.jpg', '/Users/sm/Downloads/인도보행 영상/바운딩박스/Bbox_21_new/Bbox_1738/P1007_24.xml/MP_SEL_275025_P026644.jpg']\n",
      "Bbox_1725/P1007_11.xml\n",
      "before boxes : 454\t after boxes : 217\n",
      "useless image list : ['/Users/sm/Downloads/인도보행 영상/바운딩박스/Bbox_21_new/Bbox_1725/P1007_11.xml/MP_SEL_274106_P025961.jpg', '/Users/sm/Downloads/인도보행 영상/바운딩박스/Bbox_21_new/Bbox_1725/P1007_11.xml/MP_SEL_274119_P025970.jpg', '/Users/sm/Downloads/인도보행 영상/바운딩박스/Bbox_21_new/Bbox_1725/P1007_11.xml/MP_SEL_274120_P025971.jpg']\n",
      "Bbox_1722/P1007_08.xml\n",
      "before boxes : 476\t after boxes : 235\n",
      "useless image list : ['/Users/sm/Downloads/인도보행 영상/바운딩박스/Bbox_21_new/Bbox_1722/P1007_08.xml/MP_SEL_273941_P025816.jpg', '/Users/sm/Downloads/인도보행 영상/바운딩박스/Bbox_21_new/Bbox_1722/P1007_08.xml/MP_SEL_273974_P025849.jpg']\n",
      "Bbox_1714/P1005_30.xml\n",
      "before boxes : 458\t after boxes : 198\n",
      "useless image list : ['/Users/sm/Downloads/인도보행 영상/바운딩박스/Bbox_21_new/Bbox_1714/P1005_30.xml/MP_SEL_273487_P025411.jpg', '/Users/sm/Downloads/인도보행 영상/바운딩박스/Bbox_21_new/Bbox_1714/P1005_30.xml/MP_SEL_273505_P025425.jpg', '/Users/sm/Downloads/인도보행 영상/바운딩박스/Bbox_21_new/Bbox_1714/P1005_30.xml/MP_SEL_273506_P025426.jpg', '/Users/sm/Downloads/인도보행 영상/바운딩박스/Bbox_21_new/Bbox_1714/P1005_30.xml/MP_SEL_273518_P025435.jpg', '/Users/sm/Downloads/인도보행 영상/바운딩박스/Bbox_21_new/Bbox_1714/P1005_30.xml/MP_SEL_273523_P025440.jpg', '/Users/sm/Downloads/인도보행 영상/바운딩박스/Bbox_21_new/Bbox_1714/P1005_30.xml/MP_SEL_273528_P025444.jpg']\n",
      "Bbox_1713/P1005_29.xml\n",
      "before boxes : 488\t after boxes : 235\n",
      "useless image list : ['/Users/sm/Downloads/인도보행 영상/바운딩박스/Bbox_21_new/Bbox_1713/P1005_29.xml/MP_SEL_273430_P025362.jpg', '/Users/sm/Downloads/인도보행 영상/바운딩박스/Bbox_21_new/Bbox_1713/P1005_29.xml/MP_SEL_273446_P025376.jpg', '/Users/sm/Downloads/인도보행 영상/바운딩박스/Bbox_21_new/Bbox_1713/P1005_29.xml/MP_SEL_273457_P025385.jpg']\n",
      "Bbox_1747/P1008_03.xml\n",
      "before boxes : 455\t after boxes : 191\n",
      "useless image list : ['/Users/sm/Downloads/인도보행 영상/바운딩박스/Bbox_21_new/Bbox_1747/P1008_03.xml/ZED2_KSC_009997_L_P001633.png', '/Users/sm/Downloads/인도보행 영상/바운딩박스/Bbox_21_new/Bbox_1747/P1008_03.xml/ZED2_KSC_010049_L_P001648.png']\n",
      "Bbox_1778/P1009_04.xml\n",
      "before boxes : 409\t after boxes : 182\n",
      "useless image list : ['/Users/sm/Downloads/인도보행 영상/바운딩박스/Bbox_21_new/Bbox_1778/P1009_04.xml/ZED1_KSC_018643_L_P003170.png', '/Users/sm/Downloads/인도보행 영상/바운딩박스/Bbox_21_new/Bbox_1778/P1009_04.xml/ZED1_KSC_018876_L_P003177.png', '/Users/sm/Downloads/인도보행 영상/바운딩박스/Bbox_21_new/Bbox_1778/P1009_04.xml/ZED1_KSC_018891_L_P003178.png']\n",
      "Bbox_1740/P1007_26.xml\n",
      "before boxes : 415\t after boxes : 174\n",
      "useless image list : ['/Users/sm/Downloads/인도보행 영상/바운딩박스/Bbox_21_new/Bbox_1740/P1007_26.xml/MP_SEL_275115_P026707.jpg', '/Users/sm/Downloads/인도보행 영상/바운딩박스/Bbox_21_new/Bbox_1740/P1007_26.xml/MP_SEL_275119_P026709.jpg', '/Users/sm/Downloads/인도보행 영상/바운딩박스/Bbox_21_new/Bbox_1740/P1007_26.xml/MP_SEL_275179_P026750.jpg']\n",
      "Bbox_1782/P1009_08.xml\n",
      "before boxes : 556\t after boxes : 309\n",
      "useless image list : []\n",
      "Bbox_1776/P1009_02.xml\n",
      "before boxes : 277\t after boxes : 106\n",
      "useless image list : ['/Users/sm/Downloads/인도보행 영상/바운딩박스/Bbox_21_new/Bbox_1776/P1009_02.xml/ZED1_KSC_017663_L_P003054.png', '/Users/sm/Downloads/인도보행 영상/바운딩박스/Bbox_21_new/Bbox_1776/P1009_02.xml/ZED1_KSC_017667_L_P003056.png', '/Users/sm/Downloads/인도보행 영상/바운딩박스/Bbox_21_new/Bbox_1776/P1009_02.xml/ZED1_KSC_017733_L_P003072.png', '/Users/sm/Downloads/인도보행 영상/바운딩박스/Bbox_21_new/Bbox_1776/P1009_02.xml/ZED1_KSC_017734_L_P003073.png', '/Users/sm/Downloads/인도보행 영상/바운딩박스/Bbox_21_new/Bbox_1776/P1009_02.xml/ZED1_KSC_017753_L_P003077.png', '/Users/sm/Downloads/인도보행 영상/바운딩박스/Bbox_21_new/Bbox_1776/P1009_02.xml/ZED1_KSC_017876_L_P003088.png', '/Users/sm/Downloads/인도보행 영상/바운딩박스/Bbox_21_new/Bbox_1776/P1009_02.xml/ZED1_KSC_017896_L_P003094.png', '/Users/sm/Downloads/인도보행 영상/바운딩박스/Bbox_21_new/Bbox_1776/P1009_02.xml/ZED1_KSC_017905_L_P003097.png', '/Users/sm/Downloads/인도보행 영상/바운딩박스/Bbox_21_new/Bbox_1776/P1009_02.xml/ZED1_KSC_017911_L_P003099.png']\n",
      "Bbox_1749/P1008_05.xml\n",
      "before boxes : 382\t after boxes : 186\n",
      "useless image list : []\n",
      "Bbox_1771/P1008_27.xml\n",
      "before boxes : 341\t after boxes : 107\n",
      "useless image list : ['/Users/sm/Downloads/인도보행 영상/바운딩박스/Bbox_21_new/Bbox_1771/P1008_27.xml/ZED1_KSC_014768_L_P002812.png', '/Users/sm/Downloads/인도보행 영상/바운딩박스/Bbox_21_new/Bbox_1771/P1008_27.xml/ZED1_KSC_014790_L_P002817.png', '/Users/sm/Downloads/인도보행 영상/바운딩박스/Bbox_21_new/Bbox_1771/P1008_27.xml/ZED1_KSC_014860_L_P002841.png', '/Users/sm/Downloads/인도보행 영상/바운딩박스/Bbox_21_new/Bbox_1771/P1008_27.xml/ZED1_KSC_014873_L_P002847.png', '/Users/sm/Downloads/인도보행 영상/바운딩박스/Bbox_21_new/Bbox_1771/P1008_27.xml/ZED1_KSC_014876_L_P002848.png', '/Users/sm/Downloads/인도보행 영상/바운딩박스/Bbox_21_new/Bbox_1771/P1008_27.xml/ZED1_KSC_014880_L_P002850.png']\n",
      "Bbox_1785/P1009_11.xml\n",
      "before boxes : 407\t after boxes : 187\n",
      "useless image list : []\n",
      "Bbox_1712/P1005_28.xml\n",
      "before boxes : 446\t after boxes : 208\n",
      "useless image list : ['/Users/sm/Downloads/인도보행 영상/바운딩박스/Bbox_21_new/Bbox_1712/P1005_28.xml/MP_SEL_273375_P025312.jpg']\n",
      "Bbox_1715/P1007_01.xml\n",
      "before boxes : 460\t after boxes : 184\n",
      "useless image list : ['/Users/sm/Downloads/인도보행 영상/바운딩박스/Bbox_21_new/Bbox_1715/P1007_01.xml/MP_SEL_273539_P025455.jpg', '/Users/sm/Downloads/인도보행 영상/바운딩박스/Bbox_21_new/Bbox_1715/P1007_01.xml/MP_SEL_273544_P025459.jpg', '/Users/sm/Downloads/인도보행 영상/바운딩박스/Bbox_21_new/Bbox_1715/P1007_01.xml/MP_SEL_273545_P025460.jpg', '/Users/sm/Downloads/인도보행 영상/바운딩박스/Bbox_21_new/Bbox_1715/P1007_01.xml/MP_SEL_273547_P025462.jpg', '/Users/sm/Downloads/인도보행 영상/바운딩박스/Bbox_21_new/Bbox_1715/P1007_01.xml/MP_SEL_273565_P025477.jpg', '/Users/sm/Downloads/인도보행 영상/바운딩박스/Bbox_21_new/Bbox_1715/P1007_01.xml/MP_SEL_273575_P025484.jpg', '/Users/sm/Downloads/인도보행 영상/바운딩박스/Bbox_21_new/Bbox_1715/P1007_01.xml/MP_SEL_273582_P025491.jpg', '/Users/sm/Downloads/인도보행 영상/바운딩박스/Bbox_21_new/Bbox_1715/P1007_01.xml/MP_SEL_273586_P025495.jpg', '/Users/sm/Downloads/인도보행 영상/바운딩박스/Bbox_21_new/Bbox_1715/P1007_01.xml/MP_SEL_273587_P025496.jpg']\n",
      "Bbox_1723/P1007_09.xml\n",
      "before boxes : 519\t after boxes : 252\n",
      "useless image list : ['/Users/sm/Downloads/인도보행 영상/바운딩박스/Bbox_21_new/Bbox_1723/P1007_09.xml/MP_SEL_273992_P025865.jpg', '/Users/sm/Downloads/인도보행 영상/바운딩박스/Bbox_21_new/Bbox_1723/P1007_09.xml/MP_SEL_274005_P025877.jpg', '/Users/sm/Downloads/인도보행 영상/바운딩박스/Bbox_21_new/Bbox_1723/P1007_09.xml/MP_SEL_274017_P025887.jpg']\n",
      "Bbox_1724/P1007_10.xml\n",
      "before boxes : 443\t after boxes : 189\n",
      "useless image list : ['/Users/sm/Downloads/인도보행 영상/바운딩박스/Bbox_21_new/Bbox_1724/P1007_10.xml/MP_SEL_274033_P025902.jpg', '/Users/sm/Downloads/인도보행 영상/바운딩박스/Bbox_21_new/Bbox_1724/P1007_10.xml/MP_SEL_274034_P025903.jpg', '/Users/sm/Downloads/인도보행 영상/바운딩박스/Bbox_21_new/Bbox_1724/P1007_10.xml/MP_SEL_274049_P025916.jpg', '/Users/sm/Downloads/인도보행 영상/바운딩박스/Bbox_21_new/Bbox_1724/P1007_10.xml/MP_SEL_274055_P025918.jpg']\n",
      "Bbox_1784/P1009_10.xml\n",
      "before boxes : 500\t after boxes : 219\n",
      "useless image list : ['/Users/sm/Downloads/인도보행 영상/바운딩박스/Bbox_21_new/Bbox_1784/P1009_10.xml/ZED2_KSC_021975_L_P003497.png']\n",
      "Bbox_1770/P1008_26.xml\n",
      "before boxes : 517\t after boxes : 265\n",
      "useless image list : []\n",
      "Bbox_1777/P1009_03.xml\n",
      "before boxes : 283\t after boxes : 113\n",
      "useless image list : ['/Users/sm/Downloads/인도보행 영상/바운딩박스/Bbox_21_new/Bbox_1777/P1009_03.xml/ZED1_KSC_017934_L_P003101.png', '/Users/sm/Downloads/인도보행 영상/바운딩박스/Bbox_21_new/Bbox_1777/P1009_03.xml/ZED1_KSC_017943_L_P003103.png', '/Users/sm/Downloads/인도보행 영상/바운딩박스/Bbox_21_new/Bbox_1777/P1009_03.xml/ZED1_KSC_017949_L_P003104.png', '/Users/sm/Downloads/인도보행 영상/바운딩박스/Bbox_21_new/Bbox_1777/P1009_03.xml/ZED1_KSC_017950_L_P003105.png', '/Users/sm/Downloads/인도보행 영상/바운딩박스/Bbox_21_new/Bbox_1777/P1009_03.xml/ZED1_KSC_017953_L_P003106.png', '/Users/sm/Downloads/인도보행 영상/바운딩박스/Bbox_21_new/Bbox_1777/P1009_03.xml/ZED1_KSC_017958_L_P003107.png', '/Users/sm/Downloads/인도보행 영상/바운딩박스/Bbox_21_new/Bbox_1777/P1009_03.xml/ZED1_KSC_017959_L_P003108.png', '/Users/sm/Downloads/인도보행 영상/바운딩박스/Bbox_21_new/Bbox_1777/P1009_03.xml/ZED1_KSC_017960_L_P003109.png', '/Users/sm/Downloads/인도보행 영상/바운딩박스/Bbox_21_new/Bbox_1777/P1009_03.xml/ZED1_KSC_017973_L_P003111.png', '/Users/sm/Downloads/인도보행 영상/바운딩박스/Bbox_21_new/Bbox_1777/P1009_03.xml/ZED1_KSC_017994_L_P003113.png', '/Users/sm/Downloads/인도보행 영상/바운딩박스/Bbox_21_new/Bbox_1777/P1009_03.xml/ZED1_KSC_018050_L_P003115.png', '/Users/sm/Downloads/인도보행 영상/바운딩박스/Bbox_21_new/Bbox_1777/P1009_03.xml/ZED1_KSC_018054_L_P003116.png', '/Users/sm/Downloads/인도보행 영상/바운딩박스/Bbox_21_new/Bbox_1777/P1009_03.xml/ZED1_KSC_018057_L_P003117.png', '/Users/sm/Downloads/인도보행 영상/바운딩박스/Bbox_21_new/Bbox_1777/P1009_03.xml/ZED1_KSC_018233_L_P003120.png', '/Users/sm/Downloads/인도보행 영상/바운딩박스/Bbox_21_new/Bbox_1777/P1009_03.xml/ZED1_KSC_018552_L_P003145.png', '/Users/sm/Downloads/인도보행 영상/바운딩박스/Bbox_21_new/Bbox_1777/P1009_03.xml/ZED1_KSC_018554_L_P003146.png', '/Users/sm/Downloads/인도보행 영상/바운딩박스/Bbox_21_new/Bbox_1777/P1009_03.xml/ZED1_KSC_018556_L_P003147.png', '/Users/sm/Downloads/인도보행 영상/바운딩박스/Bbox_21_new/Bbox_1777/P1009_03.xml/ZED1_KSC_018557_L_P003148.png', '/Users/sm/Downloads/인도보행 영상/바운딩박스/Bbox_21_new/Bbox_1777/P1009_03.xml/ZED1_KSC_018561_L_P003149.png']\n",
      "Bbox_1783/P1009_09.xml\n",
      "before boxes : 389\t after boxes : 188\n",
      "useless image list : ['/Users/sm/Downloads/인도보행 영상/바운딩박스/Bbox_21_new/Bbox_1783/P1009_09.xml/ZED2_KSC_021431_L_P003423.png', '/Users/sm/Downloads/인도보행 영상/바운딩박스/Bbox_21_new/Bbox_1783/P1009_09.xml/ZED2_KSC_021435_L_P003425.png']\n",
      "Bbox_1748/P1008_04.xml\n",
      "before boxes : 416\t after boxes : 203\n",
      "useless image list : ['/Users/sm/Downloads/인도보행 영상/바운딩박스/Bbox_21_new/Bbox_1748/P1008_04.xml/ZED2_KSC_010146_L_P001677.png', '/Users/sm/Downloads/인도보행 영상/바운딩박스/Bbox_21_new/Bbox_1748/P1008_04.xml/ZED2_KSC_010229_L_P001698.png', '/Users/sm/Downloads/인도보행 영상/바운딩박스/Bbox_21_new/Bbox_1748/P1008_04.xml/ZED2_KSC_010234_L_P001700.png']\n",
      "Bbox_1741/P1007_27.xml\n",
      "before boxes : 340\t after boxes : 165\n",
      "useless image list : ['/Users/sm/Downloads/인도보행 영상/바운딩박스/Bbox_21_new/Bbox_1741/P1007_27.xml/MP_SEL_275181_P026751.jpg', '/Users/sm/Downloads/인도보행 영상/바운딩박스/Bbox_21_new/Bbox_1741/P1007_27.xml/MP_SEL_275186_P026755.jpg', '/Users/sm/Downloads/인도보행 영상/바운딩박스/Bbox_21_new/Bbox_1741/P1007_27.xml/MP_SEL_275190_P026758.jpg', '/Users/sm/Downloads/인도보행 영상/바운딩박스/Bbox_21_new/Bbox_1741/P1007_27.xml/MP_SEL_275200_P026764.jpg', '/Users/sm/Downloads/인도보행 영상/바운딩박스/Bbox_21_new/Bbox_1741/P1007_27.xml/MP_SEL_275228_P026782.jpg', '/Users/sm/Downloads/인도보행 영상/바운딩박스/Bbox_21_new/Bbox_1741/P1007_27.xml/MP_SEL_275245_P026787.jpg', '/Users/sm/Downloads/인도보행 영상/바운딩박스/Bbox_21_new/Bbox_1741/P1007_27.xml/MP_SEL_275255_P026790.jpg']\n",
      "Bbox_1746/P1008_02.xml\n",
      "before boxes : 426\t after boxes : 158\n",
      "useless image list : ['/Users/sm/Downloads/인도보행 영상/바운딩박스/Bbox_21_new/Bbox_1746/P1008_02.xml/ZED2_KSC_009695_L_P001574.png', '/Users/sm/Downloads/인도보행 영상/바운딩박스/Bbox_21_new/Bbox_1746/P1008_02.xml/ZED2_KSC_009696_L_P001575.png', '/Users/sm/Downloads/인도보행 영상/바운딩박스/Bbox_21_new/Bbox_1746/P1008_02.xml/ZED2_KSC_009738_L_P001586.png', '/Users/sm/Downloads/인도보행 영상/바운딩박스/Bbox_21_new/Bbox_1746/P1008_02.xml/ZED2_KSC_009743_L_P001587.png', '/Users/sm/Downloads/인도보행 영상/바운딩박스/Bbox_21_new/Bbox_1746/P1008_02.xml/ZED2_KSC_009748_L_P001588.png', '/Users/sm/Downloads/인도보행 영상/바운딩박스/Bbox_21_new/Bbox_1746/P1008_02.xml/ZED2_KSC_009785_L_P001593.png', '/Users/sm/Downloads/인도보행 영상/바운딩박스/Bbox_21_new/Bbox_1746/P1008_02.xml/ZED2_KSC_009816_L_P001598.png']\n",
      "Bbox_1779/P1009_05.xml\n",
      "before boxes : 411\t after boxes : 211\n",
      "useless image list : ['/Users/sm/Downloads/인도보행 영상/바운딩박스/Bbox_21_new/Bbox_1779/P1009_05.xml/ZED1_KSC_019773_L_P003244.png', '/Users/sm/Downloads/인도보행 영상/바운딩박스/Bbox_21_new/Bbox_1779/P1009_05.xml/ZED1_KSC_019799_L_P003248.png']\n",
      "Bbox_1803/P1009_29.xml\n",
      "before boxes : 442\t after boxes : 268\n",
      "useless image list : []\n",
      "Bbox_1804/P1009_30.xml\n",
      "before boxes : 478\t after boxes : 257\n",
      "useless image list : ['/Users/sm/Downloads/인도보행 영상/바운딩박스/Bbox_21_new/Bbox_1804/P1009_30.xml/ZED2_KSC_025596_L_P004476.png']\n",
      "Bbox_1693/P1005_09.xml\n",
      "before boxes : 414\t after boxes : 191\n",
      "useless image list : ['/Users/sm/Downloads/인도보행 영상/바운딩박스/Bbox_21_new/Bbox_1693/P1005_09.xml/MP_SEL_272059_P024351.jpg', '/Users/sm/Downloads/인도보행 영상/바운딩박스/Bbox_21_new/Bbox_1693/P1005_09.xml/MP_SEL_272084_P024371.jpg', '/Users/sm/Downloads/인도보행 영상/바운딩박스/Bbox_21_new/Bbox_1693/P1005_09.xml/MP_SEL_272113_P024386.jpg', '/Users/sm/Downloads/인도보행 영상/바운딩박스/Bbox_21_new/Bbox_1693/P1005_09.xml/MP_SEL_272122_P024393.jpg', '/Users/sm/Downloads/인도보행 영상/바운딩박스/Bbox_21_new/Bbox_1693/P1005_09.xml/MP_SEL_272127_P024396.jpg']\n",
      "Bbox_1694/P1005_10.xml\n",
      "before boxes : 443\t after boxes : 199\n",
      "useless image list : ['/Users/sm/Downloads/인도보행 영상/바운딩박스/Bbox_21_new/Bbox_1694/P1005_10.xml/MP_SEL_272151_P024413.jpg', '/Users/sm/Downloads/인도보행 영상/바운딩박스/Bbox_21_new/Bbox_1694/P1005_10.xml/MP_SEL_272178_P024436.jpg', '/Users/sm/Downloads/인도보행 영상/바운딩박스/Bbox_21_new/Bbox_1694/P1005_10.xml/MP_SEL_272182_P024438.jpg']\n",
      "Bbox_1695/P1005_11.xml\n",
      "before boxes : 420\t after boxes : 205\n",
      "useless image list : ['/Users/sm/Downloads/인도보행 영상/바운딩박스/Bbox_21_new/Bbox_1695/P1005_11.xml/MP_SEL_272216_P024459.jpg', '/Users/sm/Downloads/인도보행 영상/바운딩박스/Bbox_21_new/Bbox_1695/P1005_11.xml/MP_SEL_272248_P024483.jpg', '/Users/sm/Downloads/인도보행 영상/바운딩박스/Bbox_21_new/Bbox_1695/P1005_11.xml/MP_SEL_272266_P024497.jpg']\n",
      "Bbox_1692/P1005_08.xml\n",
      "before boxes : 393\t after boxes : 175\n",
      "useless image list : ['/Users/sm/Downloads/인도보행 영상/바운딩박스/Bbox_21_new/Bbox_1692/P1005_08.xml/MP_SEL_271995_P024308.jpg', '/Users/sm/Downloads/인도보행 영상/바운딩박스/Bbox_21_new/Bbox_1692/P1005_08.xml/MP_SEL_272031_P024333.jpg', '/Users/sm/Downloads/인도보행 영상/바운딩박스/Bbox_21_new/Bbox_1692/P1005_08.xml/MP_SEL_272035_P024336.jpg', '/Users/sm/Downloads/인도보행 영상/바운딩박스/Bbox_21_new/Bbox_1692/P1005_08.xml/MP_SEL_272041_P024340.jpg', '/Users/sm/Downloads/인도보행 영상/바운딩박스/Bbox_21_new/Bbox_1692/P1005_08.xml/MP_SEL_272057_P024349.jpg', '/Users/sm/Downloads/인도보행 영상/바운딩박스/Bbox_21_new/Bbox_1692/P1005_08.xml/MP_SEL_272058_P024350.jpg']\n",
      "Bbox_1805/P1010_01.xml\n",
      "before boxes : 473\t after boxes : 321\n",
      "useless image list : []\n",
      "Bbox_1802/P1009_28.xml\n",
      "before boxes : 529\t after boxes : 297\n",
      "useless image list : []\n"
     ]
    }
   ],
   "source": [
    "for xml in xml_lists:\n",
    "    print(xml)\n",
    "    # 얘네가 사라질만 했다는 검증을 어떻게 하징.........?\n",
    "    data_clensing(*xml.split('/'))"
   ]
  },
  {
   "source": [
    "## Dataframe to COCO_Format\n",
    "### 작업 순서\n",
    "1. 중복없이 파일 이름만 빼온다\n",
    "2. 파일 이름의 길이만큼 for 문을 돌리는데\n",
    "- 각 파일 이름끼리 group 을 묶어서 좌표를 다 가져오고\n",
    "- 그 정보를 cocoformat 형태에 넣는다.\n",
    "- area 계산도 해서 넣어야 한다."
   ],
   "cell_type": "markdown",
   "metadata": {}
  },
  {
   "cell_type": "code",
   "execution_count": 1,
   "metadata": {},
   "outputs": [],
   "source": [
    "import pandas as pd"
   ]
  },
  {
   "cell_type": "code",
   "execution_count": 2,
   "metadata": {},
   "outputs": [
    {
     "output_type": "execute_result",
     "data": {
      "text/plain": [
       "        root_folder sub_folder      xml_name                      file_name  \\\n",
       "0       Bbox_24_new  Bbox_1990  P1017_06.xml  ZED3_KSC_054721_L_P013751.png   \n",
       "1       Bbox_24_new  Bbox_1990  P1017_06.xml  ZED3_KSC_054722_L_P013752.png   \n",
       "2       Bbox_24_new  Bbox_1990  P1017_06.xml  ZED3_KSC_054738_L_P013762.png   \n",
       "3       Bbox_24_new  Bbox_1990  P1017_06.xml  ZED3_KSC_054740_L_P013764.png   \n",
       "4       Bbox_24_new  Bbox_1990  P1017_06.xml  ZED3_KSC_054741_L_P013765.png   \n",
       "...             ...        ...           ...                            ...   \n",
       "104910  Bbox_28_new  Bbox_2340  P1030_26.xml  ZED2_KSC_103515_L_P031298.png   \n",
       "104911  Bbox_28_new  Bbox_2340  P1030_26.xml  ZED2_KSC_103515_L_P031298.png   \n",
       "104912  Bbox_28_new  Bbox_2340  P1030_26.xml  ZED2_KSC_103521_L_P031299.png   \n",
       "104913  Bbox_28_new  Bbox_2340  P1030_26.xml  ZED2_KSC_103524_L_P031300.png   \n",
       "104914  Bbox_28_new  Bbox_2340  P1030_26.xml  ZED2_KSC_103524_L_P031300.png   \n",
       "\n",
       "        occluded   classes                                box  \n",
       "0              0    person   [1182.95, 329.9, 1246.6, 532.52]  \n",
       "1              0    person  [1077.96, 354.75, 1170.2, 610.82]  \n",
       "2              1    person  [1646.62, 567.75, 1694.86, 687.2]  \n",
       "3              1    person  [1512.19, 530.31, 1547.41, 607.7]  \n",
       "4              1  stroller   [1335.8, 567.25, 1396.33, 653.3]  \n",
       "...          ...       ...                                ...  \n",
       "104910         1    person            [716.78, 0, 895, 454.3]  \n",
       "104911         1       car          [0, 142.15, 340.6, 369.8]  \n",
       "104912         0    person      [988.24, 175.93, 1043, 326.6]  \n",
       "104913         0    person   [1036.79, 167.54, 1106.9, 344.5]  \n",
       "104914         1       car       [98.1, 159.54, 250.2, 218.1]  \n",
       "\n",
       "[104915 rows x 7 columns]"
      ],
      "text/html": "<div>\n<style scoped>\n    .dataframe tbody tr th:only-of-type {\n        vertical-align: middle;\n    }\n\n    .dataframe tbody tr th {\n        vertical-align: top;\n    }\n\n    .dataframe thead th {\n        text-align: right;\n    }\n</style>\n<table border=\"1\" class=\"dataframe\">\n  <thead>\n    <tr style=\"text-align: right;\">\n      <th></th>\n      <th>root_folder</th>\n      <th>sub_folder</th>\n      <th>xml_name</th>\n      <th>file_name</th>\n      <th>occluded</th>\n      <th>classes</th>\n      <th>box</th>\n    </tr>\n  </thead>\n  <tbody>\n    <tr>\n      <th>0</th>\n      <td>Bbox_24_new</td>\n      <td>Bbox_1990</td>\n      <td>P1017_06.xml</td>\n      <td>ZED3_KSC_054721_L_P013751.png</td>\n      <td>0</td>\n      <td>person</td>\n      <td>[1182.95, 329.9, 1246.6, 532.52]</td>\n    </tr>\n    <tr>\n      <th>1</th>\n      <td>Bbox_24_new</td>\n      <td>Bbox_1990</td>\n      <td>P1017_06.xml</td>\n      <td>ZED3_KSC_054722_L_P013752.png</td>\n      <td>0</td>\n      <td>person</td>\n      <td>[1077.96, 354.75, 1170.2, 610.82]</td>\n    </tr>\n    <tr>\n      <th>2</th>\n      <td>Bbox_24_new</td>\n      <td>Bbox_1990</td>\n      <td>P1017_06.xml</td>\n      <td>ZED3_KSC_054738_L_P013762.png</td>\n      <td>1</td>\n      <td>person</td>\n      <td>[1646.62, 567.75, 1694.86, 687.2]</td>\n    </tr>\n    <tr>\n      <th>3</th>\n      <td>Bbox_24_new</td>\n      <td>Bbox_1990</td>\n      <td>P1017_06.xml</td>\n      <td>ZED3_KSC_054740_L_P013764.png</td>\n      <td>1</td>\n      <td>person</td>\n      <td>[1512.19, 530.31, 1547.41, 607.7]</td>\n    </tr>\n    <tr>\n      <th>4</th>\n      <td>Bbox_24_new</td>\n      <td>Bbox_1990</td>\n      <td>P1017_06.xml</td>\n      <td>ZED3_KSC_054741_L_P013765.png</td>\n      <td>1</td>\n      <td>stroller</td>\n      <td>[1335.8, 567.25, 1396.33, 653.3]</td>\n    </tr>\n    <tr>\n      <th>...</th>\n      <td>...</td>\n      <td>...</td>\n      <td>...</td>\n      <td>...</td>\n      <td>...</td>\n      <td>...</td>\n      <td>...</td>\n    </tr>\n    <tr>\n      <th>104910</th>\n      <td>Bbox_28_new</td>\n      <td>Bbox_2340</td>\n      <td>P1030_26.xml</td>\n      <td>ZED2_KSC_103515_L_P031298.png</td>\n      <td>1</td>\n      <td>person</td>\n      <td>[716.78, 0, 895, 454.3]</td>\n    </tr>\n    <tr>\n      <th>104911</th>\n      <td>Bbox_28_new</td>\n      <td>Bbox_2340</td>\n      <td>P1030_26.xml</td>\n      <td>ZED2_KSC_103515_L_P031298.png</td>\n      <td>1</td>\n      <td>car</td>\n      <td>[0, 142.15, 340.6, 369.8]</td>\n    </tr>\n    <tr>\n      <th>104912</th>\n      <td>Bbox_28_new</td>\n      <td>Bbox_2340</td>\n      <td>P1030_26.xml</td>\n      <td>ZED2_KSC_103521_L_P031299.png</td>\n      <td>0</td>\n      <td>person</td>\n      <td>[988.24, 175.93, 1043, 326.6]</td>\n    </tr>\n    <tr>\n      <th>104913</th>\n      <td>Bbox_28_new</td>\n      <td>Bbox_2340</td>\n      <td>P1030_26.xml</td>\n      <td>ZED2_KSC_103524_L_P031300.png</td>\n      <td>0</td>\n      <td>person</td>\n      <td>[1036.79, 167.54, 1106.9, 344.5]</td>\n    </tr>\n    <tr>\n      <th>104914</th>\n      <td>Bbox_28_new</td>\n      <td>Bbox_2340</td>\n      <td>P1030_26.xml</td>\n      <td>ZED2_KSC_103524_L_P031300.png</td>\n      <td>1</td>\n      <td>car</td>\n      <td>[98.1, 159.54, 250.2, 218.1]</td>\n    </tr>\n  </tbody>\n</table>\n<p>104915 rows × 7 columns</p>\n</div>"
     },
     "metadata": {},
     "execution_count": 2
    }
   ],
   "source": [
    "# file in list\n",
    "# https://jaeyung1001.tistory.com/44\n",
    "from ast import literal_eval\n",
    "test_xml = pd.read_csv('XML_filtered(21_30).csv', converters={'box':literal_eval})\n",
    "test_xml"
   ]
  },
  {
   "cell_type": "code",
   "execution_count": 3,
   "metadata": {},
   "outputs": [
    {
     "output_type": "execute_result",
     "data": {
      "text/plain": [
       "        root_folder sub_folder      xml_name                      file_name  \\\n",
       "0       Bbox_24_new  Bbox_1990  P1017_06.xml  ZED3_KSC_054721_L_P013751.png   \n",
       "1       Bbox_24_new  Bbox_1990  P1017_06.xml  ZED3_KSC_054722_L_P013752.png   \n",
       "2       Bbox_24_new  Bbox_1990  P1017_06.xml  ZED3_KSC_054738_L_P013762.png   \n",
       "3       Bbox_24_new  Bbox_1990  P1017_06.xml  ZED3_KSC_054740_L_P013764.png   \n",
       "4       Bbox_24_new  Bbox_1990  P1017_06.xml  ZED3_KSC_054741_L_P013765.png   \n",
       "...             ...        ...           ...                            ...   \n",
       "104910  Bbox_28_new  Bbox_2340  P1030_26.xml  ZED2_KSC_103515_L_P031298.png   \n",
       "104911  Bbox_28_new  Bbox_2340  P1030_26.xml  ZED2_KSC_103515_L_P031298.png   \n",
       "104912  Bbox_28_new  Bbox_2340  P1030_26.xml  ZED2_KSC_103521_L_P031299.png   \n",
       "104913  Bbox_28_new  Bbox_2340  P1030_26.xml  ZED2_KSC_103524_L_P031300.png   \n",
       "104914  Bbox_28_new  Bbox_2340  P1030_26.xml  ZED2_KSC_103524_L_P031300.png   \n",
       "\n",
       "        occluded  classes                                box  \n",
       "0              0        1   [1182.95, 329.9, 1246.6, 532.52]  \n",
       "1              0        1  [1077.96, 354.75, 1170.2, 610.82]  \n",
       "2              1        1  [1646.62, 567.75, 1694.86, 687.2]  \n",
       "3              1        1  [1512.19, 530.31, 1547.41, 607.7]  \n",
       "4              1        8   [1335.8, 567.25, 1396.33, 653.3]  \n",
       "...          ...      ...                                ...  \n",
       "104910         1        1            [716.78, 0, 895, 454.3]  \n",
       "104911         1        0          [0, 142.15, 340.6, 369.8]  \n",
       "104912         0        1      [988.24, 175.93, 1043, 326.6]  \n",
       "104913         0        1   [1036.79, 167.54, 1106.9, 344.5]  \n",
       "104914         1        0       [98.1, 159.54, 250.2, 218.1]  \n",
       "\n",
       "[104915 rows x 7 columns]"
      ],
      "text/html": "<div>\n<style scoped>\n    .dataframe tbody tr th:only-of-type {\n        vertical-align: middle;\n    }\n\n    .dataframe tbody tr th {\n        vertical-align: top;\n    }\n\n    .dataframe thead th {\n        text-align: right;\n    }\n</style>\n<table border=\"1\" class=\"dataframe\">\n  <thead>\n    <tr style=\"text-align: right;\">\n      <th></th>\n      <th>root_folder</th>\n      <th>sub_folder</th>\n      <th>xml_name</th>\n      <th>file_name</th>\n      <th>occluded</th>\n      <th>classes</th>\n      <th>box</th>\n    </tr>\n  </thead>\n  <tbody>\n    <tr>\n      <th>0</th>\n      <td>Bbox_24_new</td>\n      <td>Bbox_1990</td>\n      <td>P1017_06.xml</td>\n      <td>ZED3_KSC_054721_L_P013751.png</td>\n      <td>0</td>\n      <td>1</td>\n      <td>[1182.95, 329.9, 1246.6, 532.52]</td>\n    </tr>\n    <tr>\n      <th>1</th>\n      <td>Bbox_24_new</td>\n      <td>Bbox_1990</td>\n      <td>P1017_06.xml</td>\n      <td>ZED3_KSC_054722_L_P013752.png</td>\n      <td>0</td>\n      <td>1</td>\n      <td>[1077.96, 354.75, 1170.2, 610.82]</td>\n    </tr>\n    <tr>\n      <th>2</th>\n      <td>Bbox_24_new</td>\n      <td>Bbox_1990</td>\n      <td>P1017_06.xml</td>\n      <td>ZED3_KSC_054738_L_P013762.png</td>\n      <td>1</td>\n      <td>1</td>\n      <td>[1646.62, 567.75, 1694.86, 687.2]</td>\n    </tr>\n    <tr>\n      <th>3</th>\n      <td>Bbox_24_new</td>\n      <td>Bbox_1990</td>\n      <td>P1017_06.xml</td>\n      <td>ZED3_KSC_054740_L_P013764.png</td>\n      <td>1</td>\n      <td>1</td>\n      <td>[1512.19, 530.31, 1547.41, 607.7]</td>\n    </tr>\n    <tr>\n      <th>4</th>\n      <td>Bbox_24_new</td>\n      <td>Bbox_1990</td>\n      <td>P1017_06.xml</td>\n      <td>ZED3_KSC_054741_L_P013765.png</td>\n      <td>1</td>\n      <td>8</td>\n      <td>[1335.8, 567.25, 1396.33, 653.3]</td>\n    </tr>\n    <tr>\n      <th>...</th>\n      <td>...</td>\n      <td>...</td>\n      <td>...</td>\n      <td>...</td>\n      <td>...</td>\n      <td>...</td>\n      <td>...</td>\n    </tr>\n    <tr>\n      <th>104910</th>\n      <td>Bbox_28_new</td>\n      <td>Bbox_2340</td>\n      <td>P1030_26.xml</td>\n      <td>ZED2_KSC_103515_L_P031298.png</td>\n      <td>1</td>\n      <td>1</td>\n      <td>[716.78, 0, 895, 454.3]</td>\n    </tr>\n    <tr>\n      <th>104911</th>\n      <td>Bbox_28_new</td>\n      <td>Bbox_2340</td>\n      <td>P1030_26.xml</td>\n      <td>ZED2_KSC_103515_L_P031298.png</td>\n      <td>1</td>\n      <td>0</td>\n      <td>[0, 142.15, 340.6, 369.8]</td>\n    </tr>\n    <tr>\n      <th>104912</th>\n      <td>Bbox_28_new</td>\n      <td>Bbox_2340</td>\n      <td>P1030_26.xml</td>\n      <td>ZED2_KSC_103521_L_P031299.png</td>\n      <td>0</td>\n      <td>1</td>\n      <td>[988.24, 175.93, 1043, 326.6]</td>\n    </tr>\n    <tr>\n      <th>104913</th>\n      <td>Bbox_28_new</td>\n      <td>Bbox_2340</td>\n      <td>P1030_26.xml</td>\n      <td>ZED2_KSC_103524_L_P031300.png</td>\n      <td>0</td>\n      <td>1</td>\n      <td>[1036.79, 167.54, 1106.9, 344.5]</td>\n    </tr>\n    <tr>\n      <th>104914</th>\n      <td>Bbox_28_new</td>\n      <td>Bbox_2340</td>\n      <td>P1030_26.xml</td>\n      <td>ZED2_KSC_103524_L_P031300.png</td>\n      <td>1</td>\n      <td>0</td>\n      <td>[98.1, 159.54, 250.2, 218.1]</td>\n    </tr>\n  </tbody>\n</table>\n<p>104915 rows × 7 columns</p>\n</div>"
     },
     "metadata": {},
     "execution_count": 3
    }
   ],
   "source": [
    "target_list = ('car', 'person', 'traffic_light', 'truck', 'bicycle', 'motorcycle', 'bus', 'carrier', 'stroller', 'scooter', 'wheelchair')\n",
    "\n",
    "mapped_classes = test_xml.replace(target_list, [i for i in range(len(target_list))])\n",
    "mapped_classes"
   ]
  },
  {
   "cell_type": "code",
   "execution_count": 8,
   "metadata": {},
   "outputs": [
    {
     "output_type": "stream",
     "name": "stdout",
     "text": [
      "total #bbox : 104915,\timages: 31635\n"
     ]
    }
   ],
   "source": [
    "# define fields\n",
    "# images\n",
    "LICENCE = 0\n",
    "URL = None\n",
    "DATA_CAPTURED = None\n",
    "WIDTH = 1920\n",
    "HEIGHT = 1080\n",
    "#BBOX\n",
    "SEGMENTATION = []\n",
    "ISCROWD = 0\n",
    "\n",
    "file_list = mapped_classes[\"file_name\"].tolist()\n",
    "set_file_list = set(file_list)\n",
    "print(f'total #bbox : {len(file_list)},\\timages: {len(set_file_list)}')"
   ]
  },
  {
   "cell_type": "code",
   "execution_count": 7,
   "metadata": {
    "tags": []
   },
   "outputs": [
    {
     "output_type": "stream",
     "name": "stderr",
     "text": [
      "100%|██████████| 31635/31635 [03:41<00:00, 142.71it/s]\n"
     ]
    }
   ],
   "source": [
    "from tqdm import tqdm\n",
    "image_id_index = 0\n",
    "coco = coco_form()\n",
    "for image in tqdm(set_file_list):\n",
    "    condition = mapped_classes['file_name'] == image\n",
    "    coco['images'].append(\n",
    "        dict(license=LICENCE, url=URL, file_name=image, height=HEIGHT, width=WIDTH, data_captured=DATA_CAPTURED, id=image_id_index)\n",
    "        )\n",
    "\n",
    "    box_id_index = 0\n",
    "    for bbox in mapped_classes[condition].to_dict('records'):\n",
    "        bbox['box'] = [float(idx) for idx in bbox['box']]\n",
    "        #width\n",
    "        bbox['box'][2] = bbox['box'][2] - bbox['box'][0] \n",
    "        #height -> 여기 뭔가 값이 이상해서 문의 남김\n",
    "        bbox['box'][3] = -(bbox['box'][1] - bbox['box'][3])\n",
    "        coco['annotations'].append(\n",
    "            dict(id=box_id_index, image_id=image_id_index, category_id=bbox['classes'], bbox=bbox['box'], \n",
    "                area=round(bbox['box'][2] * bbox['box'][3], 3), segmentation=SEGMENTATION, iscrowd=ISCROWD)\n",
    "            )\n",
    "        box_id_index+=1\n",
    "    image_id_index+=1"
   ]
  },
  {
   "cell_type": "code",
   "execution_count": 11,
   "metadata": {},
   "outputs": [
    {
     "output_type": "stream",
     "name": "stdout",
     "text": [
      "total #bbox : 104915,\timages: 31635\n"
     ]
    }
   ],
   "source": [
    "# 잘 들어갔는지 검증\n",
    "print(f'total #bbox : {len(coco[\"annotations\"])},\\timages: {len(coco[\"images\"])}')"
   ]
  },
  {
   "cell_type": "code",
   "execution_count": 12,
   "metadata": {},
   "outputs": [],
   "source": [
    "import json\n",
    "with open('sample_coco(21_30).json', 'w') as f:\n",
    "    json.dump(coco,f, indent=4)"
   ]
  },
  {
   "cell_type": "code",
   "execution_count": null,
   "metadata": {},
   "outputs": [],
   "source": []
  }
 ]
}