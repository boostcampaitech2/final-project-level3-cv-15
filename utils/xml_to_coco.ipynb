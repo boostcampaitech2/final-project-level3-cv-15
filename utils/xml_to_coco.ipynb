{
 "metadata": {
  "language_info": {
   "codemirror_mode": {
    "name": "ipython",
    "version": 3
   },
   "file_extension": ".py",
   "mimetype": "text/x-python",
   "name": "python",
   "nbconvert_exporter": "python",
   "pygments_lexer": "ipython3",
   "version": "3.8.8-final"
  },
  "orig_nbformat": 2,
  "kernelspec": {
   "name": "final_project",
   "display_name": "final_project",
   "language": "python"
  }
 },
 "nbformat": 4,
 "nbformat_minor": 2,
 "cells": [
  {
   "cell_type": "code",
   "execution_count": 1,
   "metadata": {},
   "outputs": [],
   "source": [
    "import cv2\n",
    "import os\n",
    "import numpy as np\n",
    "import pycocotools"
   ]
  },
  {
   "cell_type": "code",
   "execution_count": 2,
   "metadata": {},
   "outputs": [],
   "source": [
    "#xml to dict\n",
    "#https://m.blog.naver.com/PostView.naver?isHttpsRedirect=true&blogId=pk3152&logNo=221367256441\n",
    "import xmltodict\n",
    "import json"
   ]
  },
  {
   "cell_type": "code",
   "execution_count": 11,
   "metadata": {},
   "outputs": [
    {
     "output_type": "stream",
     "name": "stdout",
     "text": [
      "['Bbox_1671', 'Bbox_1685', 'Bbox_1682', 'Bbox_1676', 'Bbox_1678', 'Bbox_1679', 'Bbox_1677', 'Bbox_1683', 'Bbox_1684', 'Bbox_1702', 'Bbox_1705', 'Bbox_1733', 'Bbox_1734', 'Bbox_1760', 'Bbox_1794', 'Bbox_1758', 'Bbox_1793', 'Bbox_1767', 'Bbox_1751', 'Bbox_1769', 'Bbox_1756', 'Bbox_1735', 'Bbox_1732', 'Bbox_1704', 'Bbox_1703', 'Bbox_1768', 'Bbox_1757', 'Bbox_1750', 'Bbox_1759', 'Bbox_1766', 'Bbox_1792', 'Bbox_1795', 'Bbox_1761', 'Bbox_1743', 'Bbox_1788', 'Bbox_1744', 'Bbox_1772', 'Bbox_1786', 'Bbox_1781', 'Bbox_1775', 'Bbox_1721', 'Bbox_1719', 'Bbox_1726', 'Bbox_1710', 'Bbox_1728', 'Bbox_1717', 'Bbox_1774', 'Bbox_1780', 'Bbox_1787', 'Bbox_1773', 'Bbox_1745', 'Bbox_1742', 'Bbox_1789', 'Bbox_1729', 'Bbox_1716', 'Bbox_1711', 'Bbox_1718', 'Bbox_1727', 'Bbox_1720', 'Bbox_1699', 'Bbox_1807', 'Bbox_1800', 'Bbox_1809', 'Bbox_1697', 'Bbox_1690', 'Bbox_1691', 'Bbox_1696', 'Bbox_1808', 'Bbox_1801', 'Bbox_1806', 'Bbox_1698', 'Bbox_1681', 'Bbox_1675', 'Bbox_1672', 'Bbox_1686', 'Bbox_1688', 'Bbox_1689', 'Bbox_1810', 'Bbox_1687', 'Bbox_1673', 'Bbox_1674', 'Bbox_1680', 'Bbox_1790', 'Bbox_1764', 'Bbox_1763', 'Bbox_1797', 'Bbox_1755', 'Bbox_1799', 'Bbox_1752', 'Bbox_1706', 'Bbox_1739', 'Bbox_1701', 'Bbox_1737', 'Bbox_1708', 'Bbox_1730', 'Bbox_1798', 'Bbox_1753', 'Bbox_1754', 'Bbox_1796', 'Bbox_1762', 'Bbox_1765', 'Bbox_1791', 'Bbox_1731', 'Bbox_1736', 'Bbox_1709', 'Bbox_1700', 'Bbox_1707', 'Bbox_1738', 'Bbox_1725', 'Bbox_1722', 'Bbox_1714', 'Bbox_1713', 'Bbox_1747', 'Bbox_1778', 'Bbox_1740', 'Bbox_1782', 'Bbox_1776', 'Bbox_1749', 'Bbox_1771', 'Bbox_1785', 'Bbox_1712', 'Bbox_1715', 'Bbox_1723', 'Bbox_1724', 'Bbox_1784', 'Bbox_1770', 'Bbox_1777', 'Bbox_1783', 'Bbox_1748', 'Bbox_1741', 'Bbox_1746', 'Bbox_1779', 'Bbox_1803', 'Bbox_1804', 'Bbox_1693', 'Bbox_1694', 'Bbox_1695', 'Bbox_1692', 'Bbox_1805', 'Bbox_1802']\n"
     ]
    }
   ],
   "source": [
    "# 압축을 풀고 생기는 최상위 디렉토리\n",
    "DATA_ROOT = '/Users/sm/Downloads/인도보행 영상/바운딩박스/Bbox_21_new'\n",
    "# 폴더인 경우만 리스트에 추가\n",
    "folder_list = [i for i in os.listdir(DATA_ROOT) if os.path.isdir(os.path.join(DATA_ROOT, i))]\n",
    "print(folder_list)"
   ]
  },
  {
   "cell_type": "code",
   "execution_count": 19,
   "metadata": {},
   "outputs": [
    {
     "output_type": "stream",
     "name": "stdout",
     "text": [
      "['Bbox_1671/P1004_17.xml']\n['Bbox_1685/P1005_01.xml']\n['Bbox_1682/P1004_28.xml']\n['Bbox_1676/P1004_22.xml']\n['Bbox_1678/P1004_24.xml']\n['Bbox_1679/P1004_25.xml']\n['Bbox_1677/P1004_23.xml']\n['Bbox_1683/P1004_29.xml']\n['Bbox_1684/P1004_30.xml']\n['Bbox_1702/P1005_18.xml']\n['Bbox_1705/P1005_21.xml']\n['Bbox_1733/P1007_19.xml']\n['Bbox_1734/P1007_20.xml']\n['Bbox_1760/P1008_16.xml']\n['Bbox_1794/P1009_20.xml']\n['Bbox_1758/P1008_14.xml']\n['Bbox_1793/P1009_19.xml']\n['Bbox_1767/P1008_23.xml']\n['Bbox_1751/P1008_07.xml']\n['Bbox_1769/P1008_25.xml']\n['Bbox_1756/P1008_12.xml']\n['Bbox_1735/P1007_21.xml']\n['Bbox_1732/P1007_18.xml']\n['Bbox_1704/P1005_20.xml']\n['Bbox_1703/P1005_19.xml']\n['Bbox_1768/P1008_24.xml']\n['Bbox_1757/P1008_13.xml']\n['Bbox_1750/P1008_06.xml']\n['Bbox_1759/P1008_15.xml']\n['Bbox_1766/P1008_22.xml']\n['Bbox_1792/P1009_18.xml']\n['Bbox_1795/P1009_21.xml']\n['Bbox_1761/P1008_17.xml']\n['Bbox_1743/P1007_29.xml']\n['Bbox_1788/P1009_14.xml']\n['Bbox_1744/P1007_30.xml']\n['Bbox_1772/P1008_28.xml']\n['Bbox_1786/P1009_12.xml']\n['Bbox_1781/P1009_07.xml']\n['Bbox_1775/P1009_01.xml']\n['Bbox_1721/P1007_07.xml']\n['Bbox_1719/P1007_05.xml']\n['Bbox_1726/P1007_12.xml']\n['Bbox_1710/P1005_26.xml']\n['Bbox_1728/P1007_14.xml']\n['Bbox_1717/P1007_03.xml']\n['Bbox_1774/P1008_30.xml']\n['Bbox_1780/P1009_06.xml']\n['Bbox_1787/P1009_13.xml']\n['Bbox_1773/P1008_29.xml']\n['Bbox_1745/P1008_01.xml']\n['Bbox_1742/P1007_28.xml']\n['Bbox_1789/P1009_15.xml']\n['Bbox_1729/P1007_15.xml']\n['Bbox_1716/P1007_02.xml']\n['Bbox_1711/P1005_27.xml']\n['Bbox_1718/P1007_04.xml']\n['Bbox_1727/P1007_13.xml']\n['Bbox_1720/P1007_06.xml']\n['Bbox_1699/P1005_15.xml']\n['Bbox_1807/P1010_03.xml']\n['Bbox_1800/P1009_26.xml']\n['Bbox_1809/P1010_05.xml']\n['Bbox_1697/P1005_13.xml']\n['Bbox_1690/P1005_06.xml']\n['Bbox_1691/P1005_07.xml']\n['Bbox_1696/P1005_12.xml']\n['Bbox_1808/P1010_04.xml']\n['Bbox_1801/P1009_27.xml']\n['Bbox_1806/P1010_02.xml']\n['Bbox_1698/P1005_14.xml']\n['Bbox_1681/P1004_27.xml']\n['Bbox_1675/P1004_21.xml']\n['Bbox_1672/P1004_18.xml']\n['Bbox_1686/P1005_02.xml']\n['Bbox_1688/P1005_04.xml']\n['Bbox_1689/P1005_05.xml']\n['Bbox_1810/P1010_06.xml']\n['Bbox_1687/P1005_03.xml']\n['Bbox_1673/P1004_19.xml']\n['Bbox_1674/P1004_20.xml']\n['Bbox_1680/P1004_26.xml']\n['Bbox_1790/P1009_16.xml']\n['Bbox_1764/P1008_20.xml']\n['Bbox_1763/P1008_19.xml']\n['Bbox_1797/P1009_23.xml']\n['Bbox_1755/P1008_11.xml']\n['Bbox_1799/P1009_25.xml']\n['Bbox_1752/P1008_08.xml']\n['Bbox_1706/P1005_22.xml']\n['Bbox_1739/P1007_25.xml']\n['Bbox_1701/P1005_17.xml']\n['Bbox_1737/P1007_23.xml']\n['Bbox_1708/P1005_24.xml']\n['Bbox_1730/P1007_16.xml']\n['Bbox_1798/P1009_24.xml']\n['Bbox_1753/P1008_09.xml']\n['Bbox_1754/P1008_10.xml']\n['Bbox_1796/P1009_22.xml']\n['Bbox_1762/P1008_18.xml']\n['Bbox_1765/P1008_21.xml']\n['Bbox_1791/P1009_17.xml']\n['Bbox_1731/P1007_17.xml']\n['Bbox_1736/P1007_22.xml']\n['Bbox_1709/P1005_25.xml']\n['Bbox_1700/P1005_16.xml']\n['Bbox_1707/P1005_23.xml']\n['Bbox_1738/P1007_24.xml']\n['Bbox_1725/P1007_11.xml']\n['Bbox_1722/P1007_08.xml']\n['Bbox_1714/P1005_30.xml']\n['Bbox_1713/P1005_29.xml']\n['Bbox_1747/P1008_03.xml']\n['Bbox_1778/P1009_04.xml']\n['Bbox_1740/P1007_26.xml']\n['Bbox_1782/P1009_08.xml']\n['Bbox_1776/P1009_02.xml']\n['Bbox_1749/P1008_05.xml']\n['Bbox_1771/P1008_27.xml']\n['Bbox_1785/P1009_11.xml']\n['Bbox_1712/P1005_28.xml']\n['Bbox_1715/P1007_01.xml']\n['Bbox_1723/P1007_09.xml']\n['Bbox_1724/P1007_10.xml']\n['Bbox_1784/P1009_10.xml']\n['Bbox_1770/P1008_26.xml']\n['Bbox_1777/P1009_03.xml']\n['Bbox_1783/P1009_09.xml']\n['Bbox_1748/P1008_04.xml']\n['Bbox_1741/P1007_27.xml']\n['Bbox_1746/P1008_02.xml']\n['Bbox_1779/P1009_05.xml']\n['Bbox_1803/P1009_29.xml']\n['Bbox_1804/P1009_30.xml']\n['Bbox_1693/P1005_09.xml']\n['Bbox_1694/P1005_10.xml']\n['Bbox_1695/P1005_11.xml']\n['Bbox_1692/P1005_08.xml']\n['Bbox_1805/P1010_01.xml']\n['Bbox_1802/P1009_28.xml']\n"
     ]
    }
   ],
   "source": [
    "# 폴더에서 xml 확장자를 가진 경우만 리스트업\n",
    "for folder in folder_list:\n",
    "    xml_file = [os.path.join(folder,i) for i in os.listdir(os.path.join(DATA_ROOT, folder)) if i.endswith('.xml')]\n",
    "    print(xml_file)"
   ]
  },
  {
   "cell_type": "code",
   "execution_count": 53,
   "metadata": {
    "tags": []
   },
   "outputs": [
    {
     "output_type": "stream",
     "name": "stdout",
     "text": [
      "clean_xml.keys() : dict_keys(['annotations'])\nclean_xml['annotations'].keys() : dict_keys(['version', 'meta', 'image'])\nclean_xml['annotations']['version'] : 1.1\nclean_xml['annotations']['meta'].keys() : dict_keys(['task', 'dumped'])\nlen(clean_xml['annotations']['image']) : 50\nimage counts : 50\n"
     ]
    }
   ],
   "source": [
    "# xml 파일을 읽어서 dict 로 접근할 수 있게 함\n",
    "with open(os.path.join(DATA_ROOT, xml_file[0]), 'r') as f:\n",
    "    clean_xml = xmltodict.parse(f.read())\n",
    "    # 이렇게 하면 일반적으로 사용하던 json dict 로 편하게 사용할 수 있다고 함\n",
    "    clean_xml = json.dumps(clean_xml)\n",
    "    clean_xml = json.loads(clean_xml)\n",
    "\n",
    "# xml 에 들어있던 기본정보들\n",
    "print(f'clean_xml.keys() : {clean_xml.keys()}')\n",
    "print(f\"clean_xml['annotations'].keys() : {clean_xml['annotations'].keys()}\")\n",
    "print(f\"clean_xml['annotations']['version'] : {clean_xml['annotations']['version']}\")\n",
    "print(f\"clean_xml['annotations']['meta'].keys() : {clean_xml['annotations']['meta'].keys()}\")\n",
    "print(f\"len(clean_xml['annotations']['image']) : {len(clean_xml['annotations']['image'])}\")\n",
    "# 해당 폴더안에 있는 이미지 갯수랑 실제 xml 에 등록되어 있는 갯수랑 맞는지 확인하기 위함\n",
    "print(f\"image counts : {len([i for i in os.listdir(os.path.join(DATA_ROOT, xml_file[0].split('/')[0])) if i.endswith('.png')])}\")"
   ]
  },
  {
   "cell_type": "code",
   "execution_count": 60,
   "metadata": {},
   "outputs": [
    {
     "output_type": "stream",
     "name": "stdout",
     "text": [
      "dict_keys(['@id', '@height', '@width', '@name', 'box'])\nkey : @id, data_type : <class 'str'>\nkey : @height, data_type : <class 'str'>\nkey : @width, data_type : <class 'str'>\nkey : @name, data_type : <class 'str'>\nkey : box, data_type : <class 'list'>\n\nlen(clean_xml['annotations']['image'][0]['box']) : 9\nbox keys : dict_keys(['@occluded', '@ybr', '@xbr', '@ytl', '@xtl', '@label'])\n------------------------------\ndel traffic_sign : {'@occluded': '0', '@ybr': '413.19', '@xbr': '633.93', '@ytl': '374', '@xtl': '600.15', '@label': 'traffic_sign'}\ndel pole : {'@occluded': '1', '@ybr': '569.1', '@xbr': '518.5', '@ytl': '0', '@xtl': '477.7', '@label': 'pole'}\ndel tree_trunk : {'@occluded': '0', '@ybr': '574.2', '@xbr': '493.2', '@ytl': '259.5', '@xtl': '441.9', '@label': 'tree_trunk'}\ndel traffic_sign : {'@occluded': '0', '@ybr': '374.03', '@xbr': '633.5', '@ytl': '331.39', '@xtl': '599.73', '@label': 'traffic_sign'}\n------------------------------\nafter len(clean_xml['annotations']['image'][0]['box']) : 9\n[{'@occluded': '0', '@ybr': '537.07', '@xbr': '366.16', '@ytl': '486.3', '@xtl': '275.96', '@label': 'car'}, {'@occluded': '0', '@ybr': '413.19', '@xbr': '633.93', '@ytl': '374', '@xtl': '600.15', '@label': 'traffic_sign'}, {'@occluded': '1', '@ybr': '569.1', '@xbr': '518.5', '@ytl': '0', '@xtl': '477.7', '@label': 'pole'}, {'@occluded': '1', '@ybr': '535.1', '@xbr': '461.4', '@ytl': '490.6', '@xtl': '361.47', '@label': 'car'}, {'@occluded': '0', '@ybr': '574.2', '@xbr': '493.2', '@ytl': '259.5', '@xtl': '441.9', '@label': 'tree_trunk'}, {'@occluded': '0', '@ybr': '581', '@xbr': '663.12', '@ytl': '429.17', '@xtl': '608.81', '@label': 'person'}, {'@occluded': '0', '@ybr': '531.16', '@xbr': '576.57', '@ytl': '494.85', '@xtl': '517.82', '@label': 'car'}, {'@occluded': '0', '@ybr': '374.03', '@xbr': '633.5', '@ytl': '331.39', '@xtl': '599.73', '@label': 'traffic_sign'}, {'@occluded': '0', '@ybr': '544.42', '@xbr': '206.57', '@ytl': '474.12', '@xtl': '5.76', '@label': 'car'}]\n"
     ]
    }
   ],
   "source": [
    "# 이미지를 위한 정보를 찾아보자\n",
    "# 가장 첫번째 이미지인 0번째 이미지부터 시작\n",
    "print(clean_xml['annotations']['image'][0].keys())\n",
    "target_list = ('car', 'person', 'traffic_light', 'truck', 'bicycle', 'motorcycle', 'bus', 'carrier', 'stroller', 'scooter', 'wheelchair')\n",
    "\n",
    "\n",
    "for k,v in clean_xml['annotations']['image'][0].items():\n",
    "    print(f'key : {k}, data_type : {type(v)}')\n",
    "#box 가 list type 이니까 몇 개인지 파악해보자\n",
    "print()\n",
    "print(f\"len(clean_xml['annotations']['image'][0]['box']) : {len(clean_xml['annotations']['image'][0]['box'])}\")\n",
    "print(f\"box keys : {clean_xml['annotations']['image'][0]['box'][0].keys()}\")\n",
    "print('-'*30)\n",
    "# 생각해보니까 list 여서 del 을 쓰는게 아니다\n",
    "# list 는 잘못 삭제하면 for loop 이 의도하지 않은대로 동작할 수 있어서 조심해야한다.\n",
    "for item in clean_xml['annotations']['image'][0]['box']:\n",
    "    if item['@label'] not in target_list:\n",
    "        print(f\"del {item['@label']} : {item}\")\n",
    "        del(item) # 이 부분 고민해야함\n",
    "print('-'*30)\n",
    "print(f\"after len(clean_xml['annotations']['image'][0]['box']) : {len(clean_xml['annotations']['image'][0]['box'])}\")\n",
    "print(clean_xml['annotations']['image'][0]['box'])"
   ]
  },
  {
   "source": [
    "## 앞으로 해야 할 것\n",
    "- 원하는 리스트의 아이템만 남겨서 일단 저장\n",
    "- COCO Format 에 필요한 정보들을 가져와서 json type 으로 만들 것"
   ],
   "cell_type": "markdown",
   "metadata": {}
  }
 ]
}