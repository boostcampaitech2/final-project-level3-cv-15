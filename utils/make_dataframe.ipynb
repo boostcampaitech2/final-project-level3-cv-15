{
 "cells": [
  {
   "cell_type": "markdown",
   "metadata": {},
   "source": [
    "# xml 안에서 데이터 추출\n",
    "- 원하는 데이터들만 json type 으로 변경하고 그에 대한 분포를 dataframe 형태로 만들자\n",
    "- 필요없는 이미지 리스트를 만들어 놓는게 좋을까 고민은 해볼 것(data root 경로를 뺀 상태에서 이미지 리스트를 파일로 저장해두자)"
   ]
  },
  {
   "cell_type": "code",
   "execution_count": null,
   "metadata": {},
   "outputs": [],
   "source": [
    "XML_DIR = '/opt/ml/data/team_github/xml'\n",
    "XML_LIST = [i for i in os.listdir(XML_DIR) if i.endswith('.xml')]\n",
    "print(len(XML_LIST))\n",
    "print(XML_LIST[0])"
   ]
  },
  {
   "cell_type": "code",
   "execution_count": null,
   "metadata": {},
   "outputs": [],
   "source": [
    "all_info = []\n",
    "from tqdm import tqdm\n",
    "for x in tqdm(XML_LIST):\n",
    "    all_info.extend(extract_xml_info(x))\n",
    "print()\n",
    "print(len(all_info))"
   ]
  },
  {
   "cell_type": "code",
   "execution_count": null,
   "metadata": {},
   "outputs": [],
   "source": [
    "import pandas as pd\n",
    "\n",
    "columns = ['root_folder', 'sub_folder', 'xml_name', 'file_name', 'occluded', 'classes', 'polygon', 'subclass']\n",
    "target_list = ('crosswalk')\n",
    "\n",
    "pandas_dict = pd.DataFrame(all_info, columns=columns)\n",
    "\n",
    "pandas_dict.to_csv('crosswalk_temp.csv' ,header=True, index=False)"
   ]
  },
  {
   "cell_type": "code",
   "execution_count": null,
   "metadata": {},
   "outputs": [],
   "source": [
    "target_frame.to_csv('XML_filtered(21_30).csv', header=True, index=False)"
   ]
  },
  {
   "cell_type": "code",
   "execution_count": null,
   "metadata": {},
   "outputs": [],
   "source": []
  }
 ],
 "metadata": {
  "interpreter": {
   "hash": "981f108a204f421f158e0977940335d851edffa6dd3586828a3e1aec045160e4"
  },
  "kernelspec": {
   "display_name": "final_project",
   "language": "python",
   "name": "python3"
  },
  "language_info": {
   "codemirror_mode": {
    "name": "ipython",
    "version": 3
   },
   "file_extension": ".py",
   "mimetype": "text/x-python",
   "name": "python",
   "nbconvert_exporter": "python",
   "pygments_lexer": "ipython3",
   "version": "3.7.11"
  },
  "orig_nbformat": 2
 },
 "nbformat": 4,
 "nbformat_minor": 2
}
