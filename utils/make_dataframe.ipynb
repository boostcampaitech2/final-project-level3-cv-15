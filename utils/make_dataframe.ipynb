{
 "cells": [
  {
   "cell_type": "markdown",
   "metadata": {},
   "source": [
    "# xml 안에서 데이터 추출\n",
    "- 원하는 데이터들만 json type 으로 변경하고 그에 대한 분포를 dataframe 형태로 만들자\n",
    "- 필요없는 이미지 리스트를 만들어 놓는게 좋을까 고민은 해볼 것(data root 경로를 뺀 상태에서 이미지 리스트를 파일로 저장해두자)"
   ]
  },
  {
   "cell_type": "code",
   "execution_count": null,
   "metadata": {},
   "outputs": [],
   "source": [
    "XML_DIR = '/opt/ml/data/team_github/xml'\n",
    "XML_LIST = [i for i in os.listdir(XML_DIR) if i.endswith('.xml')]\n",
    "print(len(XML_LIST))\n",
    "print(XML_LIST[0])"
   ]
  },
  {
   "cell_type": "code",
   "execution_count": null,
   "metadata": {},
   "outputs": [],
   "source": [
    "all_info = []\n",
    "from tqdm import tqdm\n",
    "for x in tqdm(XML_LIST):\n",
    "    all_info.extend(extract_xml_info(x))\n",
    "print()\n",
    "print(len(all_info))"
   ]
  },
  {
   "cell_type": "code",
   "execution_count": null,
   "metadata": {},
   "outputs": [],
   "source": [
    "# 전체 정보를 가져와서 data frame 형태로 만들어야 한다. -> 그래야 추후에 이미지 검증에도 활용 가능하다\n",
    "# 그 다음에 필요한 클래스를 가지는 좌표를 가진 이미지만 쿼리를 통해서 빼낸다.\n",
    "# 주석 처리한 print 는 검증용이니 확인해보셔도 좋을 것 같아요\n",
    "def extract_xml_info(xml_file):\n",
    "    with open(os.path.join(XML_DIR, xml_file), 'r') as f:\n",
    "        #xml 모양의 str 이어야 동작된다.\n",
    "        raw_xml = xmltodict.parse(f.read())\n",
    "        #자주 사용한 json dict 로 변환하기 위함(ordereddict 가 반환되어 그렇슴)\n",
    "        raw_xml = json.dumps(raw_xml)\n",
    "        xml_to_json = json.loads(raw_xml)\n",
    "\n",
    "    root_folder, sub_folder, xml_name = xml_file.split('-')\n",
    "    # print(root_folder, sub_folder, xml_name)\n",
    "    # print(f\"#images : {len(xml_to_json['annotations']['image'])}\")\n",
    "    #for dataframe\n",
    "    return_list = []\n",
    "    # 이미지 별로\n",
    "    # box_count = 0\n",
    "\n",
    "    for image in xml_to_json['annotations']['image']:\n",
    "        # 박스 별로 @occluded @label [@xtl,@ytl,@xbr,@ybr]\n",
    "        temp_list = []\n",
    "        \n",
    "        if type(image['box']) != list:\n",
    "            # extend 하는 경우에 리스트가 풀어져서 합쳐지기 때문에 dim=2 여야한다.\n",
    "            temp_list = [[root_folder, sub_folder, xml_name, image['@name'],\n",
    "                        image['box']['@occluded'], image['box']['@label'],\n",
    "                        [image['box']['@xtl'], image['box']['@ytl'], image['box']['@xbr'], image['box']['@ybr']]\n",
    "                        ]]\n",
    "        else:\n",
    "            for box in image['box']:\n",
    "                box_info = [root_folder, sub_folder, xml_name, image['@name'],,\n",
    "                box['@occluded'], box['@label'],,\n",
    "                [box['@xtl'], box['@ytl'], box['@xbr'], box['@ybr']],\n",
    "                ]\n",
    "            temp_list.append(box_info)\n",
    "\n",
    "        # 모은 정보를 리턴할 리스트에 extend\n",
    "        # box_count += len(temp_list)\n",
    "        return_list.extend(temp_list)\n",
    "    # print(f'before extracting #box : {box_count}\\t after #box : {len(return_list)}')\n",
    "    return return_list"
   ]
  },
  {
   "cell_type": "code",
   "execution_count": null,
   "metadata": {},
   "outputs": [],
   "source": [
    "import pandas as pd\n",
    "\n",
    "columns = ['root_folder', 'sub_folder', 'xml_name', 'file_name', 'occluded', 'classes', 'box']\n",
    "target_list = ('car', 'person', 'traffic_light', 'truck', 'bicycle', 'motorcycle', 'bus', 'carrier', 'stroller', 'scooter', 'wheelchair')\n",
    "\n",
    "pandas_dict = pd.DataFrame(all_info, columns=columns)\n",
    "target_frame = pandas_dict[pandas_dict['classes'].isin(target_list)]\n",
    "print(f'total data : {len(pandas_dict)}\\\\t target data : {len(target_frame)}')\n",
    "\n",
    "pandas_dict.to_csv('crosswalk_temp.csv' ,header=True, index=False)"
   ]
  },
  {
   "cell_type": "code",
   "execution_count": null,
   "metadata": {},
   "outputs": [],
   "source": [
    "target_frame.to_csv('XML_filtered(21_30).csv', header=True, index=False)"
   ]
  },
  {
   "cell_type": "code",
   "execution_count": null,
   "metadata": {},
   "outputs": [],
   "source": []
  }
 ],
 "metadata": {
  "interpreter": {
   "hash": "981f108a204f421f158e0977940335d851edffa6dd3586828a3e1aec045160e4"
  },
  "kernelspec": {
   "display_name": "final_project",
   "language": "python",
   "name": "python3"
  },
  "language_info": {
   "codemirror_mode": {
    "name": "ipython",
    "version": 3
   },
   "file_extension": ".py",
   "mimetype": "text/x-python",
   "name": "python",
   "nbconvert_exporter": "python",
   "pygments_lexer": "ipython3",
   "version": "3.7.11"
  },
  "orig_nbformat": 2
 },
 "nbformat": 4,
 "nbformat_minor": 2
}