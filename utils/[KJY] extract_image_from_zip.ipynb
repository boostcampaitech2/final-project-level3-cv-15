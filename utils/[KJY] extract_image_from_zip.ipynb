{
 "cells": [
  {
   "cell_type": "code",
   "execution_count": 1,
   "metadata": {},
   "outputs": [
    {
     "name": "stdout",
     "output_type": "stream",
     "text": [
      "Requirement already satisfied: zipfile36 in c:\\users\\hyuns\\miniconda3\\lib\\site-packages (0.1.3)\n"
     ]
    }
   ],
   "source": [
    "!pip install zipfile36"
   ]
  },
  {
   "cell_type": "code",
   "execution_count": 46,
   "metadata": {},
   "outputs": [],
   "source": [
    "import pandas as pd\n",
    "import shutil\n",
    "import zipfile\n",
    "import os\n",
    "from tqdm import tqdm"
   ]
  },
  {
   "cell_type": "code",
   "execution_count": 2,
   "metadata": {},
   "outputs": [],
   "source": [
    "root_path = \"C:/Users/KJY/Downloads/final/detection\"\n",
    "data_path = root_path + \"/dataset.csv\"\n",
    "df = pd.read_csv(data_path)"
   ]
  },
  {
   "cell_type": "code",
   "execution_count": 3,
   "metadata": {},
   "outputs": [
    {
     "data": {
      "text/plain": [
       "person           27772\n",
       "car              26718\n",
       "truck             4315\n",
       "traffic_light     3726\n",
       "stroller          3417\n",
       "wheelchair        3100\n",
       "bicycle           2622\n",
       "motorcycle        2024\n",
       "bus               1260\n",
       "scooter            935\n",
       "carrier            392\n",
       "Name: classes, dtype: int64"
      ]
     },
     "execution_count": 3,
     "metadata": {},
     "output_type": "execute_result"
    }
   ],
   "source": [
    "df['classes'].value_counts()"
   ]
  },
  {
   "cell_type": "code",
   "execution_count": 13,
   "metadata": {},
   "outputs": [
    {
     "data": {
      "text/plain": [
       "['Bbox_16_new', 'Bbox_17_new', 'Bbox_18_new']"
      ]
     },
     "execution_count": 13,
     "metadata": {},
     "output_type": "execute_result"
    }
   ],
   "source": []
  },
  {
   "cell_type": "code",
   "execution_count": 4,
   "metadata": {},
   "outputs": [],
   "source": [
    "root_folder = df[\"root_folder\"]\n",
    "sub_folder = df[\"sub_folder\"]\n",
    "file_name = df[\"file_name\"]"
   ]
  },
  {
   "cell_type": "code",
   "execution_count": 5,
   "metadata": {},
   "outputs": [],
   "source": [
    "extract_path = os.path.join(root_path, \"Img_Extract\")"
   ]
  },
  {
   "cell_type": "code",
   "execution_count": 6,
   "metadata": {},
   "outputs": [
    {
     "name": "stdout",
     "output_type": "stream",
     "text": [
      "Create the directory.\n"
     ]
    }
   ],
   "source": [
    "def createDirectory(directory):\n",
    "    try:\n",
    "        if not os.path.exists(directory):\n",
    "            os.makedirs(directory)\n",
    "            print(\"Create the directory.\")\n",
    "    except OSError:\n",
    "        print(\"Error: Failed to create the directory.\")\n",
    "            \n",
    "createDirectory(extract_path)"
   ]
  },
  {
   "cell_type": "code",
   "execution_count": 7,
   "metadata": {},
   "outputs": [],
   "source": [
    "def extract_img(file, sub_folder, file_name):\n",
    "    print(os.path.join(root_path, file))\n",
    "    archive = zipfile.ZipFile(os.path.join(root_path, file), \"r\")\n",
    "    img_data = sub_folder + \"/\" + file_name\n",
    "    archive.open(img_data)\n",
    "    archive.extract(img_data, extract_path)\n",
    "    \n",
    "    archive.close()"
   ]
  },
  {
   "cell_type": "code",
   "execution_count": 49,
   "metadata": {},
   "outputs": [],
   "source": [
    "list(df['root_folder'].unique())\n",
    "\n",
    "a = ['Bbox_17_new', 'Bbox_18_new']"
   ]
  },
  {
   "cell_type": "code",
   "execution_count": 50,
   "metadata": {},
   "outputs": [
    {
     "name": "stderr",
     "output_type": "stream",
     "text": [
      "8629it [04:34, 31.49it/s]\n",
      "436it [00:11, 38.03it/s]\n"
     ]
    }
   ],
   "source": [
    "for filename in list(df['root_folder'].unique()):\n",
    "    file_list = []\n",
    "    archive = zipfile.ZipFile(os.path.join(root_path, filename+\".zip\"), \"r\")\n",
    "\n",
    "    for data in df[df['root_folder']==filename].to_dict(\"records\"):\n",
    "        file_list.append(data[\"sub_folder\"] + \"/\" + data[\"file_name\"])\n",
    "    \n",
    "    file_list = set(file_list)\n",
    "    \n",
    "    for idx, data in tqdm(enumerate(file_list)):\n",
    "        archive.extract(data, extract_path)\n",
    "    \n",
    "    archive.close()"
   ]
  },
  {
   "cell_type": "code",
   "execution_count": 54,
   "metadata": {},
   "outputs": [],
   "source": [
    "import shutil"
   ]
  },
  {
   "cell_type": "code",
   "execution_count": 61,
   "metadata": {},
   "outputs": [
    {
     "ename": "NotADirectoryError",
     "evalue": "[WinError 267] 디렉터리 이름이 올바르지 않습니다: 'C:/Users/KJY/Downloads/final/detection\\\\Img_Extract\\\\MP_SEL_MIN_000001.jpg'",
     "output_type": "error",
     "traceback": [
      "\u001b[1;31m---------------------------------------------------------------------------\u001b[0m",
      "\u001b[1;31mNotADirectoryError\u001b[0m                        Traceback (most recent call last)",
      "\u001b[1;32m~\\AppData\\Local\\Temp/ipykernel_1488/1971934261.py\u001b[0m in \u001b[0;36m<module>\u001b[1;34m\u001b[0m\n\u001b[0;32m      5\u001b[0m \u001b[1;33m\u001b[0m\u001b[0m\n\u001b[0;32m      6\u001b[0m     \u001b[0mmerge_path\u001b[0m \u001b[1;33m=\u001b[0m \u001b[0mos\u001b[0m\u001b[1;33m.\u001b[0m\u001b[0mpath\u001b[0m\u001b[1;33m.\u001b[0m\u001b[0mjoin\u001b[0m\u001b[1;33m(\u001b[0m\u001b[0mextract_path\u001b[0m\u001b[1;33m,\u001b[0m \u001b[0meach_dir\u001b[0m\u001b[1;33m)\u001b[0m\u001b[1;33m\u001b[0m\u001b[1;33m\u001b[0m\u001b[0m\n\u001b[1;32m----> 7\u001b[1;33m     \u001b[1;32mfor\u001b[0m \u001b[0mimagename\u001b[0m \u001b[1;32min\u001b[0m \u001b[0mos\u001b[0m\u001b[1;33m.\u001b[0m\u001b[0mlistdir\u001b[0m\u001b[1;33m(\u001b[0m\u001b[0mmerge_path\u001b[0m\u001b[1;33m)\u001b[0m\u001b[1;33m:\u001b[0m\u001b[1;33m\u001b[0m\u001b[1;33m\u001b[0m\u001b[0m\n\u001b[0m\u001b[0;32m      8\u001b[0m         \u001b[1;31m# print(os.path.join(merge_path, sub_dir))\u001b[0m\u001b[1;33m\u001b[0m\u001b[1;33m\u001b[0m\u001b[1;33m\u001b[0m\u001b[0m\n\u001b[0;32m      9\u001b[0m         \u001b[1;31m# break\u001b[0m\u001b[1;33m\u001b[0m\u001b[1;33m\u001b[0m\u001b[1;33m\u001b[0m\u001b[0m\n",
      "\u001b[1;31mNotADirectoryError\u001b[0m: [WinError 267] 디렉터리 이름이 올바르지 않습니다: 'C:/Users/KJY/Downloads/final/detection\\\\Img_Extract\\\\MP_SEL_MIN_000001.jpg'"
     ]
    }
   ],
   "source": [
    "for each_dir in os.listdir(extract_path):\n",
    "    # print(os.path.join(extract_path, each_dir))\n",
    "\n",
    "    # shutil.move(merge_path, os.path.join(merge_path, sub_dir))\n",
    "\n",
    "    merge_path = os.path.join(extract_path, each_dir)\n",
    "    for imagename in os.listdir(merge_path):\n",
    "        # print(os.path.join(merge_path, sub_dir))\n",
    "        # break\n",
    "        shutil.move(os.path.join(merge_path, imagename), os.path.join(extract_path, imagename))\n",
    "    shutil.rmtree(merge_path)"
   ]
  },
  {
   "cell_type": "code",
   "execution_count": 47,
   "metadata": {},
   "outputs": [
    {
     "data": {
      "text/plain": [
       "2755"
      ]
     },
     "execution_count": 47,
     "metadata": {},
     "output_type": "execute_result"
    }
   ],
   "source": [
    "len(file_list)"
   ]
  },
  {
   "cell_type": "code",
   "execution_count": null,
   "metadata": {},
   "outputs": [],
   "source": []
  }
 ],
 "metadata": {
  "interpreter": {
   "hash": "e31c68abf1d5dd3f9e2269f23eadf1b199587e56c0618a30760176a65ebfcab4"
  },
  "kernelspec": {
   "display_name": "Python 3.7.11 64-bit ('lightweight': conda)",
   "language": "python",
   "name": "python3"
  },
  "language_info": {
   "codemirror_mode": {
    "name": "ipython",
    "version": 3
   },
   "file_extension": ".py",
   "mimetype": "text/x-python",
   "name": "python",
   "nbconvert_exporter": "python",
   "pygments_lexer": "ipython3",
   "version": "3.9.5"
  },
  "orig_nbformat": 4
 },
 "nbformat": 4,
 "nbformat_minor": 2
}
