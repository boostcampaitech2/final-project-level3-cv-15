{
 "metadata": {
  "language_info": {
   "codemirror_mode": {
    "name": "ipython",
    "version": 3
   },
   "file_extension": ".py",
   "mimetype": "text/x-python",
   "name": "python",
   "nbconvert_exporter": "python",
   "pygments_lexer": "ipython3",
   "version": "3.8.8-final"
  },
  "orig_nbformat": 2,
  "kernelspec": {
   "name": "final_project",
   "display_name": "final_project",
   "language": "python"
  }
 },
 "nbformat": 4,
 "nbformat_minor": 2,
 "cells": [
  {
   "cell_type": "code",
   "execution_count": 1,
   "metadata": {},
   "outputs": [],
   "source": [
    "import pandas as pd\n",
    "import json\n",
    "import os"
   ]
  },
  {
   "cell_type": "code",
   "execution_count": 12,
   "metadata": {},
   "outputs": [
    {
     "output_type": "stream",
     "name": "stdout",
     "text": [
      "dict_keys(['info', 'licenses', 'categories', 'images', 'annotations'])\n1896\n2491\n"
     ]
    }
   ],
   "source": [
    "with open(os.path.join('/Users/sm/Downloads','crosswalk_filtering_poly_closed_noise_filtering(1209).json'),'r') as f:\n",
    "    dataset = json.load(f)\n",
    "print(dataset.keys())\n",
    "print(len(dataset['images']))\n",
    "print(len(dataset['annotations']))"
   ]
  },
  {
   "cell_type": "code",
   "execution_count": 7,
   "metadata": {},
   "outputs": [
    {
     "output_type": "stream",
     "name": "stdout",
     "text": [
      "1896\n"
     ]
    }
   ],
   "source": [
    "# get image name list\n",
    "file_list = []\n",
    "for i in dataset['images']:\n",
    "    file_list.append(i['file_name'])\n",
    "print(len(file_list))"
   ]
  },
  {
   "cell_type": "code",
   "execution_count": 5,
   "metadata": {},
   "outputs": [
    {
     "output_type": "execute_result",
     "data": {
      "text/plain": [
       "       root_folder   sub_folder              xml_name              file_name  \\\n",
       "0        Surface_3  Surface_433  573_SM1022_IMT04.xml  MP_SEL_SUR_028609.jpg   \n",
       "1        Surface_3  Surface_433  573_SM1022_IMT04.xml  MP_SEL_SUR_028610.jpg   \n",
       "2        Surface_3  Surface_433  573_SM1022_IMT04.xml  MP_SEL_SUR_028610.jpg   \n",
       "3        Surface_3  Surface_433  573_SM1022_IMT04.xml  MP_SEL_SUR_028610.jpg   \n",
       "4        Surface_3  Surface_433  573_SM1022_IMT04.xml  MP_SEL_SUR_028610.jpg   \n",
       "...            ...          ...                   ...                    ...   \n",
       "181789   Surface_3  Surface_450     549_SM1023_01.xml  MP_SEL_SUR_027097.jpg   \n",
       "181790   Surface_3  Surface_450     549_SM1023_01.xml  MP_SEL_SUR_027097.jpg   \n",
       "181791   Surface_3  Surface_450     549_SM1023_01.xml  MP_SEL_SUR_027097.jpg   \n",
       "181792   Surface_3  Surface_450     549_SM1023_01.xml  MP_SEL_SUR_027097.jpg   \n",
       "181793   Surface_3  Surface_450     549_SM1023_01.xml  MP_SEL_SUR_027098.jpg   \n",
       "\n",
       "        occluded               classes  \\\n",
       "0       sidewalk                     0   \n",
       "1              0              sidewalk   \n",
       "2              0             bike_lane   \n",
       "3              0               roadway   \n",
       "4              0               roadway   \n",
       "...          ...                   ...   \n",
       "181789         0          caution_zone   \n",
       "181790         0          caution_zone   \n",
       "181791         0  braille_guide_blocks   \n",
       "181792         0          caution_zone   \n",
       "181793  sidewalk                     0   \n",
       "\n",
       "                                                  polygon   subclass  \n",
       "0       0.00,980.46;41.25,917.47;138.36,929.28;227.86,...     blocks  \n",
       "1       265.91,1080.00;200.30,821.99;571.80,430.70;141...     blocks  \n",
       "2       571.54,430.60;725.46,266.85;730.56,359.86;750....       None  \n",
       "3       200.55,822.77;572.29,430.60;725.31,266.75;726....     normal  \n",
       "4       843.63,6.73;861.56,7.26;880.02,0.40;884.23,20....     normal  \n",
       "...                                                   ...        ...  \n",
       "181789  848.26,141.25;848.60,160.08;854.82,160.25;893....  tree_zone  \n",
       "181790  785.36,160.95;793.65,149.37;811.11,128.80;814....  tree_zone  \n",
       "181791  1446.20,128.32;1475.12,128.45;1486.61,130.70;1...     normal  \n",
       "181792  456.42,41.54;497.72,40.50;520.87,41.02;527.61,...    manhole  \n",
       "181793  175.91,1080.00;409.91,418.72;550.64,0.00;1500....     blocks  \n",
       "\n",
       "[181794 rows x 8 columns]"
      ],
      "text/html": "<div>\n<style scoped>\n    .dataframe tbody tr th:only-of-type {\n        vertical-align: middle;\n    }\n\n    .dataframe tbody tr th {\n        vertical-align: top;\n    }\n\n    .dataframe thead th {\n        text-align: right;\n    }\n</style>\n<table border=\"1\" class=\"dataframe\">\n  <thead>\n    <tr style=\"text-align: right;\">\n      <th></th>\n      <th>root_folder</th>\n      <th>sub_folder</th>\n      <th>xml_name</th>\n      <th>file_name</th>\n      <th>occluded</th>\n      <th>classes</th>\n      <th>polygon</th>\n      <th>subclass</th>\n    </tr>\n  </thead>\n  <tbody>\n    <tr>\n      <th>0</th>\n      <td>Surface_3</td>\n      <td>Surface_433</td>\n      <td>573_SM1022_IMT04.xml</td>\n      <td>MP_SEL_SUR_028609.jpg</td>\n      <td>sidewalk</td>\n      <td>0</td>\n      <td>0.00,980.46;41.25,917.47;138.36,929.28;227.86,...</td>\n      <td>blocks</td>\n    </tr>\n    <tr>\n      <th>1</th>\n      <td>Surface_3</td>\n      <td>Surface_433</td>\n      <td>573_SM1022_IMT04.xml</td>\n      <td>MP_SEL_SUR_028610.jpg</td>\n      <td>0</td>\n      <td>sidewalk</td>\n      <td>265.91,1080.00;200.30,821.99;571.80,430.70;141...</td>\n      <td>blocks</td>\n    </tr>\n    <tr>\n      <th>2</th>\n      <td>Surface_3</td>\n      <td>Surface_433</td>\n      <td>573_SM1022_IMT04.xml</td>\n      <td>MP_SEL_SUR_028610.jpg</td>\n      <td>0</td>\n      <td>bike_lane</td>\n      <td>571.54,430.60;725.46,266.85;730.56,359.86;750....</td>\n      <td>None</td>\n    </tr>\n    <tr>\n      <th>3</th>\n      <td>Surface_3</td>\n      <td>Surface_433</td>\n      <td>573_SM1022_IMT04.xml</td>\n      <td>MP_SEL_SUR_028610.jpg</td>\n      <td>0</td>\n      <td>roadway</td>\n      <td>200.55,822.77;572.29,430.60;725.31,266.75;726....</td>\n      <td>normal</td>\n    </tr>\n    <tr>\n      <th>4</th>\n      <td>Surface_3</td>\n      <td>Surface_433</td>\n      <td>573_SM1022_IMT04.xml</td>\n      <td>MP_SEL_SUR_028610.jpg</td>\n      <td>0</td>\n      <td>roadway</td>\n      <td>843.63,6.73;861.56,7.26;880.02,0.40;884.23,20....</td>\n      <td>normal</td>\n    </tr>\n    <tr>\n      <th>...</th>\n      <td>...</td>\n      <td>...</td>\n      <td>...</td>\n      <td>...</td>\n      <td>...</td>\n      <td>...</td>\n      <td>...</td>\n      <td>...</td>\n    </tr>\n    <tr>\n      <th>181789</th>\n      <td>Surface_3</td>\n      <td>Surface_450</td>\n      <td>549_SM1023_01.xml</td>\n      <td>MP_SEL_SUR_027097.jpg</td>\n      <td>0</td>\n      <td>caution_zone</td>\n      <td>848.26,141.25;848.60,160.08;854.82,160.25;893....</td>\n      <td>tree_zone</td>\n    </tr>\n    <tr>\n      <th>181790</th>\n      <td>Surface_3</td>\n      <td>Surface_450</td>\n      <td>549_SM1023_01.xml</td>\n      <td>MP_SEL_SUR_027097.jpg</td>\n      <td>0</td>\n      <td>caution_zone</td>\n      <td>785.36,160.95;793.65,149.37;811.11,128.80;814....</td>\n      <td>tree_zone</td>\n    </tr>\n    <tr>\n      <th>181791</th>\n      <td>Surface_3</td>\n      <td>Surface_450</td>\n      <td>549_SM1023_01.xml</td>\n      <td>MP_SEL_SUR_027097.jpg</td>\n      <td>0</td>\n      <td>braille_guide_blocks</td>\n      <td>1446.20,128.32;1475.12,128.45;1486.61,130.70;1...</td>\n      <td>normal</td>\n    </tr>\n    <tr>\n      <th>181792</th>\n      <td>Surface_3</td>\n      <td>Surface_450</td>\n      <td>549_SM1023_01.xml</td>\n      <td>MP_SEL_SUR_027097.jpg</td>\n      <td>0</td>\n      <td>caution_zone</td>\n      <td>456.42,41.54;497.72,40.50;520.87,41.02;527.61,...</td>\n      <td>manhole</td>\n    </tr>\n    <tr>\n      <th>181793</th>\n      <td>Surface_3</td>\n      <td>Surface_450</td>\n      <td>549_SM1023_01.xml</td>\n      <td>MP_SEL_SUR_027098.jpg</td>\n      <td>sidewalk</td>\n      <td>0</td>\n      <td>175.91,1080.00;409.91,418.72;550.64,0.00;1500....</td>\n      <td>blocks</td>\n    </tr>\n  </tbody>\n</table>\n<p>181794 rows × 8 columns</p>\n</div>"
     },
     "metadata": {},
     "execution_count": 5
    }
   ],
   "source": [
    "all_datas = pd.read_csv(os.path.join('/Users/sm/Downloads', 'all_surface_info.csv'))\n",
    "all_datas"
   ]
  },
  {
   "cell_type": "code",
   "execution_count": 10,
   "metadata": {},
   "outputs": [
    {
     "output_type": "execute_result",
     "data": {
      "text/plain": [
       "       root_folder   sub_folder              xml_name              file_name  \\\n",
       "251      Surface_1  Surface_126  164_SM1004_IMT08.xml  MP_SEL_SUR_009638.jpg   \n",
       "252      Surface_1  Surface_126  164_SM1004_IMT08.xml  MP_SEL_SUR_009638.jpg   \n",
       "253      Surface_1  Surface_126  164_SM1004_IMT08.xml  MP_SEL_SUR_009638.jpg   \n",
       "254      Surface_1  Surface_126  164_SM1004_IMT08.xml  MP_SEL_SUR_009638.jpg   \n",
       "255      Surface_1  Surface_126  164_SM1004_IMT08.xml  MP_SEL_SUR_009638.jpg   \n",
       "...            ...          ...                   ...                    ...   \n",
       "181706   Surface_3  Surface_450     549_SM1023_01.xml  MP_SEL_SUR_027075.jpg   \n",
       "181707   Surface_3  Surface_450     549_SM1023_01.xml  MP_SEL_SUR_027075.jpg   \n",
       "181708   Surface_3  Surface_450     549_SM1023_01.xml  MP_SEL_SUR_027075.jpg   \n",
       "181709   Surface_3  Surface_450     549_SM1023_01.xml  MP_SEL_SUR_027075.jpg   \n",
       "181710   Surface_3  Surface_450     549_SM1023_01.xml  MP_SEL_SUR_027075.jpg   \n",
       "\n",
       "       occluded       classes  \\\n",
       "251           0  caution_zone   \n",
       "252           0       roadway   \n",
       "253           0       roadway   \n",
       "254           0     bike_lane   \n",
       "255           0      sidewalk   \n",
       "...         ...           ...   \n",
       "181706        0       roadway   \n",
       "181707        0       roadway   \n",
       "181708        0       roadway   \n",
       "181709        0      sidewalk   \n",
       "181710        0       roadway   \n",
       "\n",
       "                                                  polygon   subclass  \n",
       "251     1919.39,515.83;1779.63,505.67;1769.47,509.20;1...    manhole  \n",
       "252     775.66,374.85;776.27,311.37;782.99,295.19;779....  crosswalk  \n",
       "253     1400.70,0.00;1907.55,0.00;1920.00,0.62;1919.80...     normal  \n",
       "254     1243.40,0.00;1403.57,0.00;1920.00,173.96;1920....       None  \n",
       "255     0.00,846.25;329.54,835.21;571.22,836.30;759.31...     blocks  \n",
       "...                                                   ...        ...  \n",
       "181706  791.30,5.70;948.11,11.93;1059.55,16.59;1055.96...     normal  \n",
       "181707  733.22,2.45;773.29,6.19;778.04,105.87;775.75,1...     normal  \n",
       "181708  354.13,52.49;360.60,53.74;373.54,50.75;398.42,...     normal  \n",
       "181709  1169.25,221.06;1169.10,233.59;1220.36,247.99;1...     blocks  \n",
       "181710  1173.29,129.70;1219.60,140.07;1220.90,238.40;1...  crosswalk  \n",
       "\n",
       "[14944 rows x 8 columns]"
      ],
      "text/html": "<div>\n<style scoped>\n    .dataframe tbody tr th:only-of-type {\n        vertical-align: middle;\n    }\n\n    .dataframe tbody tr th {\n        vertical-align: top;\n    }\n\n    .dataframe thead th {\n        text-align: right;\n    }\n</style>\n<table border=\"1\" class=\"dataframe\">\n  <thead>\n    <tr style=\"text-align: right;\">\n      <th></th>\n      <th>root_folder</th>\n      <th>sub_folder</th>\n      <th>xml_name</th>\n      <th>file_name</th>\n      <th>occluded</th>\n      <th>classes</th>\n      <th>polygon</th>\n      <th>subclass</th>\n    </tr>\n  </thead>\n  <tbody>\n    <tr>\n      <th>251</th>\n      <td>Surface_1</td>\n      <td>Surface_126</td>\n      <td>164_SM1004_IMT08.xml</td>\n      <td>MP_SEL_SUR_009638.jpg</td>\n      <td>0</td>\n      <td>caution_zone</td>\n      <td>1919.39,515.83;1779.63,505.67;1769.47,509.20;1...</td>\n      <td>manhole</td>\n    </tr>\n    <tr>\n      <th>252</th>\n      <td>Surface_1</td>\n      <td>Surface_126</td>\n      <td>164_SM1004_IMT08.xml</td>\n      <td>MP_SEL_SUR_009638.jpg</td>\n      <td>0</td>\n      <td>roadway</td>\n      <td>775.66,374.85;776.27,311.37;782.99,295.19;779....</td>\n      <td>crosswalk</td>\n    </tr>\n    <tr>\n      <th>253</th>\n      <td>Surface_1</td>\n      <td>Surface_126</td>\n      <td>164_SM1004_IMT08.xml</td>\n      <td>MP_SEL_SUR_009638.jpg</td>\n      <td>0</td>\n      <td>roadway</td>\n      <td>1400.70,0.00;1907.55,0.00;1920.00,0.62;1919.80...</td>\n      <td>normal</td>\n    </tr>\n    <tr>\n      <th>254</th>\n      <td>Surface_1</td>\n      <td>Surface_126</td>\n      <td>164_SM1004_IMT08.xml</td>\n      <td>MP_SEL_SUR_009638.jpg</td>\n      <td>0</td>\n      <td>bike_lane</td>\n      <td>1243.40,0.00;1403.57,0.00;1920.00,173.96;1920....</td>\n      <td>None</td>\n    </tr>\n    <tr>\n      <th>255</th>\n      <td>Surface_1</td>\n      <td>Surface_126</td>\n      <td>164_SM1004_IMT08.xml</td>\n      <td>MP_SEL_SUR_009638.jpg</td>\n      <td>0</td>\n      <td>sidewalk</td>\n      <td>0.00,846.25;329.54,835.21;571.22,836.30;759.31...</td>\n      <td>blocks</td>\n    </tr>\n    <tr>\n      <th>...</th>\n      <td>...</td>\n      <td>...</td>\n      <td>...</td>\n      <td>...</td>\n      <td>...</td>\n      <td>...</td>\n      <td>...</td>\n      <td>...</td>\n    </tr>\n    <tr>\n      <th>181706</th>\n      <td>Surface_3</td>\n      <td>Surface_450</td>\n      <td>549_SM1023_01.xml</td>\n      <td>MP_SEL_SUR_027075.jpg</td>\n      <td>0</td>\n      <td>roadway</td>\n      <td>791.30,5.70;948.11,11.93;1059.55,16.59;1055.96...</td>\n      <td>normal</td>\n    </tr>\n    <tr>\n      <th>181707</th>\n      <td>Surface_3</td>\n      <td>Surface_450</td>\n      <td>549_SM1023_01.xml</td>\n      <td>MP_SEL_SUR_027075.jpg</td>\n      <td>0</td>\n      <td>roadway</td>\n      <td>733.22,2.45;773.29,6.19;778.04,105.87;775.75,1...</td>\n      <td>normal</td>\n    </tr>\n    <tr>\n      <th>181708</th>\n      <td>Surface_3</td>\n      <td>Surface_450</td>\n      <td>549_SM1023_01.xml</td>\n      <td>MP_SEL_SUR_027075.jpg</td>\n      <td>0</td>\n      <td>roadway</td>\n      <td>354.13,52.49;360.60,53.74;373.54,50.75;398.42,...</td>\n      <td>normal</td>\n    </tr>\n    <tr>\n      <th>181709</th>\n      <td>Surface_3</td>\n      <td>Surface_450</td>\n      <td>549_SM1023_01.xml</td>\n      <td>MP_SEL_SUR_027075.jpg</td>\n      <td>0</td>\n      <td>sidewalk</td>\n      <td>1169.25,221.06;1169.10,233.59;1220.36,247.99;1...</td>\n      <td>blocks</td>\n    </tr>\n    <tr>\n      <th>181710</th>\n      <td>Surface_3</td>\n      <td>Surface_450</td>\n      <td>549_SM1023_01.xml</td>\n      <td>MP_SEL_SUR_027075.jpg</td>\n      <td>0</td>\n      <td>roadway</td>\n      <td>1173.29,129.70;1219.60,140.07;1220.90,238.40;1...</td>\n      <td>crosswalk</td>\n    </tr>\n  </tbody>\n</table>\n<p>14944 rows × 8 columns</p>\n</div>"
     },
     "metadata": {},
     "execution_count": 10
    }
   ],
   "source": [
    "exist_images_all_anno = all_datas[all_datas['file_name'].isin(file_list)]\n",
    "exist_images_all_anno"
   ]
  },
  {
   "cell_type": "code",
   "execution_count": 11,
   "metadata": {},
   "outputs": [
    {
     "output_type": "execute_result",
     "data": {
      "text/plain": [
       "       root_folder   sub_folder              xml_name              file_name  \\\n",
       "252      Surface_1  Surface_126  164_SM1004_IMT08.xml  MP_SEL_SUR_009638.jpg   \n",
       "253      Surface_1  Surface_126  164_SM1004_IMT08.xml  MP_SEL_SUR_009638.jpg   \n",
       "259      Surface_1  Surface_126  164_SM1004_IMT08.xml  MP_SEL_SUR_009638.jpg   \n",
       "260      Surface_1  Surface_126  164_SM1004_IMT08.xml  MP_SEL_SUR_009638.jpg   \n",
       "455      Surface_3  Surface_439  579_SM1022_IMT10.xml  MP_SEL_SUR_028919.jpg   \n",
       "...            ...          ...                   ...                    ...   \n",
       "181705   Surface_3  Surface_450     549_SM1023_01.xml  MP_SEL_SUR_027075.jpg   \n",
       "181706   Surface_3  Surface_450     549_SM1023_01.xml  MP_SEL_SUR_027075.jpg   \n",
       "181707   Surface_3  Surface_450     549_SM1023_01.xml  MP_SEL_SUR_027075.jpg   \n",
       "181708   Surface_3  Surface_450     549_SM1023_01.xml  MP_SEL_SUR_027075.jpg   \n",
       "181710   Surface_3  Surface_450     549_SM1023_01.xml  MP_SEL_SUR_027075.jpg   \n",
       "\n",
       "       occluded  classes                                            polygon  \\\n",
       "252           0  roadway  775.66,374.85;776.27,311.37;782.99,295.19;779....   \n",
       "253           0  roadway  1400.70,0.00;1907.55,0.00;1920.00,0.62;1919.80...   \n",
       "259           0  roadway  592.46,86.95;556.43,88.54;543.71,100.90;527.29...   \n",
       "260           0  roadway  695.70,362.10;693.64,302.85;691.53,75.03;686.6...   \n",
       "455           0  roadway  0.00,327.72;514.09,0.00;463.15,1.29;429.73,23....   \n",
       "...         ...      ...                                                ...   \n",
       "181705        0  roadway  1060.20,189.70;1147.30,158.60;1146.12,198.90;1...   \n",
       "181706        0  roadway  791.30,5.70;948.11,11.93;1059.55,16.59;1055.96...   \n",
       "181707        0  roadway  733.22,2.45;773.29,6.19;778.04,105.87;775.75,1...   \n",
       "181708        0  roadway  354.13,52.49;360.60,53.74;373.54,50.75;398.42,...   \n",
       "181710        0  roadway  1173.29,129.70;1219.60,140.07;1220.90,238.40;1...   \n",
       "\n",
       "         subclass  \n",
       "252     crosswalk  \n",
       "253        normal  \n",
       "259        normal  \n",
       "260     crosswalk  \n",
       "455        normal  \n",
       "...           ...  \n",
       "181705  crosswalk  \n",
       "181706     normal  \n",
       "181707     normal  \n",
       "181708     normal  \n",
       "181710  crosswalk  \n",
       "\n",
       "[6547 rows x 8 columns]"
      ],
      "text/html": "<div>\n<style scoped>\n    .dataframe tbody tr th:only-of-type {\n        vertical-align: middle;\n    }\n\n    .dataframe tbody tr th {\n        vertical-align: top;\n    }\n\n    .dataframe thead th {\n        text-align: right;\n    }\n</style>\n<table border=\"1\" class=\"dataframe\">\n  <thead>\n    <tr style=\"text-align: right;\">\n      <th></th>\n      <th>root_folder</th>\n      <th>sub_folder</th>\n      <th>xml_name</th>\n      <th>file_name</th>\n      <th>occluded</th>\n      <th>classes</th>\n      <th>polygon</th>\n      <th>subclass</th>\n    </tr>\n  </thead>\n  <tbody>\n    <tr>\n      <th>252</th>\n      <td>Surface_1</td>\n      <td>Surface_126</td>\n      <td>164_SM1004_IMT08.xml</td>\n      <td>MP_SEL_SUR_009638.jpg</td>\n      <td>0</td>\n      <td>roadway</td>\n      <td>775.66,374.85;776.27,311.37;782.99,295.19;779....</td>\n      <td>crosswalk</td>\n    </tr>\n    <tr>\n      <th>253</th>\n      <td>Surface_1</td>\n      <td>Surface_126</td>\n      <td>164_SM1004_IMT08.xml</td>\n      <td>MP_SEL_SUR_009638.jpg</td>\n      <td>0</td>\n      <td>roadway</td>\n      <td>1400.70,0.00;1907.55,0.00;1920.00,0.62;1919.80...</td>\n      <td>normal</td>\n    </tr>\n    <tr>\n      <th>259</th>\n      <td>Surface_1</td>\n      <td>Surface_126</td>\n      <td>164_SM1004_IMT08.xml</td>\n      <td>MP_SEL_SUR_009638.jpg</td>\n      <td>0</td>\n      <td>roadway</td>\n      <td>592.46,86.95;556.43,88.54;543.71,100.90;527.29...</td>\n      <td>normal</td>\n    </tr>\n    <tr>\n      <th>260</th>\n      <td>Surface_1</td>\n      <td>Surface_126</td>\n      <td>164_SM1004_IMT08.xml</td>\n      <td>MP_SEL_SUR_009638.jpg</td>\n      <td>0</td>\n      <td>roadway</td>\n      <td>695.70,362.10;693.64,302.85;691.53,75.03;686.6...</td>\n      <td>crosswalk</td>\n    </tr>\n    <tr>\n      <th>455</th>\n      <td>Surface_3</td>\n      <td>Surface_439</td>\n      <td>579_SM1022_IMT10.xml</td>\n      <td>MP_SEL_SUR_028919.jpg</td>\n      <td>0</td>\n      <td>roadway</td>\n      <td>0.00,327.72;514.09,0.00;463.15,1.29;429.73,23....</td>\n      <td>normal</td>\n    </tr>\n    <tr>\n      <th>...</th>\n      <td>...</td>\n      <td>...</td>\n      <td>...</td>\n      <td>...</td>\n      <td>...</td>\n      <td>...</td>\n      <td>...</td>\n      <td>...</td>\n    </tr>\n    <tr>\n      <th>181705</th>\n      <td>Surface_3</td>\n      <td>Surface_450</td>\n      <td>549_SM1023_01.xml</td>\n      <td>MP_SEL_SUR_027075.jpg</td>\n      <td>0</td>\n      <td>roadway</td>\n      <td>1060.20,189.70;1147.30,158.60;1146.12,198.90;1...</td>\n      <td>crosswalk</td>\n    </tr>\n    <tr>\n      <th>181706</th>\n      <td>Surface_3</td>\n      <td>Surface_450</td>\n      <td>549_SM1023_01.xml</td>\n      <td>MP_SEL_SUR_027075.jpg</td>\n      <td>0</td>\n      <td>roadway</td>\n      <td>791.30,5.70;948.11,11.93;1059.55,16.59;1055.96...</td>\n      <td>normal</td>\n    </tr>\n    <tr>\n      <th>181707</th>\n      <td>Surface_3</td>\n      <td>Surface_450</td>\n      <td>549_SM1023_01.xml</td>\n      <td>MP_SEL_SUR_027075.jpg</td>\n      <td>0</td>\n      <td>roadway</td>\n      <td>733.22,2.45;773.29,6.19;778.04,105.87;775.75,1...</td>\n      <td>normal</td>\n    </tr>\n    <tr>\n      <th>181708</th>\n      <td>Surface_3</td>\n      <td>Surface_450</td>\n      <td>549_SM1023_01.xml</td>\n      <td>MP_SEL_SUR_027075.jpg</td>\n      <td>0</td>\n      <td>roadway</td>\n      <td>354.13,52.49;360.60,53.74;373.54,50.75;398.42,...</td>\n      <td>normal</td>\n    </tr>\n    <tr>\n      <th>181710</th>\n      <td>Surface_3</td>\n      <td>Surface_450</td>\n      <td>549_SM1023_01.xml</td>\n      <td>MP_SEL_SUR_027075.jpg</td>\n      <td>0</td>\n      <td>roadway</td>\n      <td>1173.29,129.70;1219.60,140.07;1220.90,238.40;1...</td>\n      <td>crosswalk</td>\n    </tr>\n  </tbody>\n</table>\n<p>6547 rows × 8 columns</p>\n</div>"
     },
     "metadata": {},
     "execution_count": 11
    }
   ],
   "source": [
    "exist_images_all_anno[exist_images_all_anno['classes'].isin(['roadway', 'alley'])]"
   ]
  },
  {
   "cell_type": "code",
   "execution_count": 14,
   "metadata": {},
   "outputs": [
    {
     "output_type": "execute_result",
     "data": {
      "text/plain": [
       "classes\n",
       "roadway    4556\n",
       "alley      1991\n",
       "dtype: int64"
      ]
     },
     "metadata": {},
     "execution_count": 14
    }
   ],
   "source": [
    "exist_images_all_anno[exist_images_all_anno['classes'].isin(['roadway', 'alley'])].value_counts('classes')"
   ]
  },
  {
   "cell_type": "code",
   "execution_count": null,
   "metadata": {},
   "outputs": [],
   "source": []
  }
 ]
}