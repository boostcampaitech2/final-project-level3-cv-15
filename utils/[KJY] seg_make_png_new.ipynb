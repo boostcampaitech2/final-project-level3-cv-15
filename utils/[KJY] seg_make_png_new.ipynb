{
 "cells": [
  {
   "cell_type": "code",
   "execution_count": 1,
   "metadata": {},
   "outputs": [],
   "source": [
    "import os\n",
    "import json\n",
    "import cv2\n",
    "import matplotlib.pyplot as plt\n",
    "import numpy as np\n",
    "import pandas as pd\n",
    "import copy\n",
    "from tqdm import tqdm\n",
    "from ast import literal_eval"
   ]
  },
  {
   "cell_type": "markdown",
   "metadata": {},
   "source": [
    "### Json에 있는 Segmentation Annotation 추출 및 line coord 교체"
   ]
  },
  {
   "cell_type": "code",
   "execution_count": 6,
   "metadata": {},
   "outputs": [
    {
     "data": {
      "text/html": [
       "<div>\n",
       "<style scoped>\n",
       "    .dataframe tbody tr th:only-of-type {\n",
       "        vertical-align: middle;\n",
       "    }\n",
       "\n",
       "    .dataframe tbody tr th {\n",
       "        vertical-align: top;\n",
       "    }\n",
       "\n",
       "    .dataframe thead th {\n",
       "        text-align: right;\n",
       "    }\n",
       "</style>\n",
       "<table border=\"1\" class=\"dataframe\">\n",
       "  <thead>\n",
       "    <tr style=\"text-align: right;\">\n",
       "      <th></th>\n",
       "      <th>file_locate</th>\n",
       "      <th>file_name</th>\n",
       "      <th>class</th>\n",
       "      <th>coord</th>\n",
       "      <th>ratio</th>\n",
       "    </tr>\n",
       "  </thead>\n",
       "  <tbody>\n",
       "    <tr>\n",
       "      <th>0</th>\n",
       "      <td>image_d_1920_1080_daylight_validation_1.zip</td>\n",
       "      <td>13669018.jpg</td>\n",
       "      <td>crosswalk</td>\n",
       "      <td>[[160, 1078], [1918, 1076], [1917, 800], [1379...</td>\n",
       "      <td>20.89</td>\n",
       "    </tr>\n",
       "    <tr>\n",
       "      <th>1</th>\n",
       "      <td>image_d_1920_1080_daylight_validation_1.zip</td>\n",
       "      <td>13680880.jpg</td>\n",
       "      <td>crosswalk</td>\n",
       "      <td>[[43, 833], [661, 833], [1233, 821], [1826, 81...</td>\n",
       "      <td>20.13</td>\n",
       "    </tr>\n",
       "    <tr>\n",
       "      <th>2</th>\n",
       "      <td>image_d_1920_1080_daylight_validation_1.zip</td>\n",
       "      <td>13681587.jpg</td>\n",
       "      <td>crosswalk</td>\n",
       "      <td>[[0, 839], [636, 840], [1542, 847], [1918, 908...</td>\n",
       "      <td>21.15</td>\n",
       "    </tr>\n",
       "    <tr>\n",
       "      <th>3</th>\n",
       "      <td>image_d_1920_1080_daylight_validation_1.zip</td>\n",
       "      <td>13684982.jpg</td>\n",
       "      <td>crosswalk</td>\n",
       "      <td>[[4, 819], [276, 828], [602, 830], [1131, 830]...</td>\n",
       "      <td>23.14</td>\n",
       "    </tr>\n",
       "    <tr>\n",
       "      <th>4</th>\n",
       "      <td>image_d_1920_1080_daylight_validation_1.zip</td>\n",
       "      <td>13691434.jpg</td>\n",
       "      <td>crosswalk</td>\n",
       "      <td>[[2, 842], [211, 845], [466, 849], [777, 853],...</td>\n",
       "      <td>21.18</td>\n",
       "    </tr>\n",
       "    <tr>\n",
       "      <th>...</th>\n",
       "      <td>...</td>\n",
       "      <td>...</td>\n",
       "      <td>...</td>\n",
       "      <td>...</td>\n",
       "      <td>...</td>\n",
       "    </tr>\n",
       "    <tr>\n",
       "      <th>207</th>\n",
       "      <td>image_d_1920_1080_daylight_validation_2.zip</td>\n",
       "      <td>16008278.jpg</td>\n",
       "      <td>crosswalk</td>\n",
       "      <td>[[4, 746], [-1, 984], [362, 1010], [1050, 1010...</td>\n",
       "      <td>23.46</td>\n",
       "    </tr>\n",
       "    <tr>\n",
       "      <th>208</th>\n",
       "      <td>image_d_1920_1080_daylight_validation_2.zip</td>\n",
       "      <td>16010661.jpg</td>\n",
       "      <td>crosswalk</td>\n",
       "      <td>[[1, 742], [746, 748], [1084, 751], [1455, 756...</td>\n",
       "      <td>20.75</td>\n",
       "    </tr>\n",
       "    <tr>\n",
       "      <th>209</th>\n",
       "      <td>image_d_1920_1080_daylight_validation_2.zip</td>\n",
       "      <td>16016159.jpg</td>\n",
       "      <td>crosswalk</td>\n",
       "      <td>[[3, 932], [214, 1005], [616, 1017], [1514, 10...</td>\n",
       "      <td>21.78</td>\n",
       "    </tr>\n",
       "    <tr>\n",
       "      <th>210</th>\n",
       "      <td>image_d_1920_1080_daylight_validation_2.zip</td>\n",
       "      <td>16129459.jpg</td>\n",
       "      <td>crosswalk</td>\n",
       "      <td>[[-1, 1006], [3, 834], [511, 769], [1252, 755]...</td>\n",
       "      <td>23.38</td>\n",
       "    </tr>\n",
       "    <tr>\n",
       "      <th>211</th>\n",
       "      <td>image_d_1920_1080_daylight_validation_2.zip</td>\n",
       "      <td>16137501.jpg</td>\n",
       "      <td>crosswalk</td>\n",
       "      <td>[[0, 754], [0, 982], [432, 1014], [816, 1009],...</td>\n",
       "      <td>22.96</td>\n",
       "    </tr>\n",
       "  </tbody>\n",
       "</table>\n",
       "<p>212 rows × 5 columns</p>\n",
       "</div>"
      ],
      "text/plain": [
       "                                     file_locate     file_name      class  \\\n",
       "0    image_d_1920_1080_daylight_validation_1.zip  13669018.jpg  crosswalk   \n",
       "1    image_d_1920_1080_daylight_validation_1.zip  13680880.jpg  crosswalk   \n",
       "2    image_d_1920_1080_daylight_validation_1.zip  13681587.jpg  crosswalk   \n",
       "3    image_d_1920_1080_daylight_validation_1.zip  13684982.jpg  crosswalk   \n",
       "4    image_d_1920_1080_daylight_validation_1.zip  13691434.jpg  crosswalk   \n",
       "..                                           ...           ...        ...   \n",
       "207  image_d_1920_1080_daylight_validation_2.zip  16008278.jpg  crosswalk   \n",
       "208  image_d_1920_1080_daylight_validation_2.zip  16010661.jpg  crosswalk   \n",
       "209  image_d_1920_1080_daylight_validation_2.zip  16016159.jpg  crosswalk   \n",
       "210  image_d_1920_1080_daylight_validation_2.zip  16129459.jpg  crosswalk   \n",
       "211  image_d_1920_1080_daylight_validation_2.zip  16137501.jpg  crosswalk   \n",
       "\n",
       "                                                 coord  ratio  \n",
       "0    [[160, 1078], [1918, 1076], [1917, 800], [1379...  20.89  \n",
       "1    [[43, 833], [661, 833], [1233, 821], [1826, 81...  20.13  \n",
       "2    [[0, 839], [636, 840], [1542, 847], [1918, 908...  21.15  \n",
       "3    [[4, 819], [276, 828], [602, 830], [1131, 830]...  23.14  \n",
       "4    [[2, 842], [211, 845], [466, 849], [777, 853],...  21.18  \n",
       "..                                                 ...    ...  \n",
       "207  [[4, 746], [-1, 984], [362, 1010], [1050, 1010...  23.46  \n",
       "208  [[1, 742], [746, 748], [1084, 751], [1455, 756...  20.75  \n",
       "209  [[3, 932], [214, 1005], [616, 1017], [1514, 10...  21.78  \n",
       "210  [[-1, 1006], [3, 834], [511, 769], [1252, 755]...  23.38  \n",
       "211  [[0, 754], [0, 982], [432, 1014], [816, 1009],...  22.96  \n",
       "\n",
       "[212 rows x 5 columns]"
      ]
     },
     "execution_count": 6,
     "metadata": {},
     "output_type": "execute_result"
    }
   ],
   "source": [
    "data = pd.read_csv('/opt/ml/team_github/utils/valid_ratio_all(remain Large)_v2.csv', encoding='cp949', converters={'coord':literal_eval})\n",
    "data"
   ]
  },
  {
   "cell_type": "markdown",
   "metadata": {},
   "source": [
    "## line 좌표 뽑기 or polygon area 만들기"
   ]
  },
  {
   "cell_type": "code",
   "execution_count": 7,
   "metadata": {},
   "outputs": [],
   "source": [
    "def draw_line(seg_data, mask_image, category_id):    \n",
    "    fill_image = cv2.fillPoly(mask_image, [np.array(seg_data)], category_id)\n",
    "    return fill_image"
   ]
  },
  {
   "cell_type": "code",
   "execution_count": 8,
   "metadata": {},
   "outputs": [
    {
     "name": "stderr",
     "output_type": "stream",
     "text": [
      "/opt/conda/envs/final/lib/python3.7/site-packages/ipykernel_launcher.py:4: FutureWarning: Using short name for 'orient' is deprecated. Only the options: ('dict', list, 'series', 'split', 'records', 'index') will be used in a future version. Use one of the above to silence this warning.\n",
      "  after removing the cwd from sys.path.\n",
      "212it [00:03, 70.08it/s]\n"
     ]
    }
   ],
   "source": [
    "image_see = []\n",
    "new_seg = {}\n",
    "\n",
    "for idx, each_record in tqdm(enumerate(data.to_dict(\"record\"))):\n",
    "    seg_data = each_record[\"coord\"]\n",
    "    h = 1080\n",
    "    w = 1920\n",
    "    file_name = each_record['file_name']\n",
    "    file_name = file_name.split(\".\")[0]\n",
    "    # print(file_name)\n",
    "    \n",
    "    mask_image = np.zeros([h, w])\n",
    "    mask_image = draw_line(seg_data, mask_image, 1)\n",
    "\n",
    "    file_dir = f\"/opt/ml/data/segmentation/annotations/dataset2/valid/{file_name}.png\"\n",
    "    cv2.imwrite(file_dir, mask_image)\n",
    "    # plt.imshow(mask_image)"
   ]
  },
  {
   "cell_type": "code",
   "execution_count": null,
   "metadata": {},
   "outputs": [],
   "source": []
  }
 ],
 "metadata": {
  "interpreter": {
   "hash": "5d0c2b1480244832d7dbf237984b0f05a268e3e22e4477542a885f8374c01bd9"
  },
  "kernelspec": {
   "display_name": "Python 3.7.11 64-bit ('open-mmlab': conda)",
   "name": "python3"
  },
  "language_info": {
   "codemirror_mode": {
    "name": "ipython",
    "version": 3
   },
   "file_extension": ".py",
   "mimetype": "text/x-python",
   "name": "python",
   "nbconvert_exporter": "python",
   "pygments_lexer": "ipython3",
   "version": "3.7.11"
  },
  "orig_nbformat": 4
 },
 "nbformat": 4,
 "nbformat_minor": 2
}
