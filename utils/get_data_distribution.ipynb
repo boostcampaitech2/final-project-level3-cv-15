{
 "metadata": {
  "language_info": {
   "codemirror_mode": {
    "name": "ipython",
    "version": 3
   },
   "file_extension": ".py",
   "mimetype": "text/x-python",
   "name": "python",
   "nbconvert_exporter": "python",
   "pygments_lexer": "ipython3",
   "version": "3.8.8-final"
  },
  "orig_nbformat": 2,
  "kernelspec": {
   "name": "final_project",
   "display_name": "final_project",
   "language": "python"
  }
 },
 "nbformat": 4,
 "nbformat_minor": 2,
 "cells": [
  {
   "cell_type": "code",
   "execution_count": 2,
   "metadata": {},
   "outputs": [],
   "source": [
    "import zipfile\n",
    "import os\n",
    "import json\n",
    "import pandas as pd\n",
    "import numpy as np\n",
    "import cv2\n",
    "from tqdm import tqdm\n",
    "import matplotlib.pyplot as plt"
   ]
  },
  {
   "cell_type": "code",
   "execution_count": 3,
   "metadata": {},
   "outputs": [
    {
     "output_type": "stream",
     "name": "stdout",
     "text": [
      "['[라벨]1920_1080_night_train_d_1.zip', '[라벨]d_1920_1080_daylight_train_1.zip', '[라벨]d_1920_1080_daylight_train_10.zip', '[라벨]d_1920_1080_daylight_train_11.zip', '[라벨]d_1920_1080_daylight_train_12.zip', '[라벨]d_1920_1080_daylight_train_13.zip', '[라벨]d_1920_1080_daylight_train_14.zip', '[라벨]d_1920_1080_daylight_train_15.zip', '[라벨]d_1920_1080_daylight_train_16.zip', '[라벨]d_1920_1080_daylight_train_2.zip', '[라벨]d_1920_1080_daylight_train_3.zip', '[라벨]d_1920_1080_daylight_train_4.zip', '[라벨]d_1920_1080_daylight_train_5.zip', '[라벨]d_1920_1080_daylight_train_6.zip', '[라벨]d_1920_1080_daylight_train_7.zip', '[라벨]d_1920_1080_daylight_train_8.zip', '[라벨]d_1920_1080_daylight_train_9.zip', '[원천]d_1920_1080_daylight_train_1.zip', '[원천]d_1920_1080_daylight_train_10.zip', '[원천]d_1920_1080_daylight_train_2.zip']\n['[라벨]1920_1080_night_train_d_1.zip', '[라벨]d_1920_1080_daylight_train_1.zip', '[라벨]d_1920_1080_daylight_train_10.zip', '[라벨]d_1920_1080_daylight_train_11.zip', '[라벨]d_1920_1080_daylight_train_12.zip', '[라벨]d_1920_1080_daylight_train_13.zip', '[라벨]d_1920_1080_daylight_train_14.zip', '[라벨]d_1920_1080_daylight_train_15.zip', '[라벨]d_1920_1080_daylight_train_16.zip', '[라벨]d_1920_1080_daylight_train_2.zip', '[라벨]d_1920_1080_daylight_train_3.zip', '[라벨]d_1920_1080_daylight_train_4.zip', '[라벨]d_1920_1080_daylight_train_5.zip', '[라벨]d_1920_1080_daylight_train_6.zip', '[라벨]d_1920_1080_daylight_train_7.zip', '[라벨]d_1920_1080_daylight_train_8.zip', '[라벨]d_1920_1080_daylight_train_9.zip']\n"
     ]
    }
   ],
   "source": [
    "ZIP_ROOT = '/Users/sm/Downloads/차선-횡단보도 인지 영상(수도권)/Training'\n",
    "zip_list = [i for i in os.listdir(ZIP_ROOT) if i.endswith('.zip')]\n",
    "zip_list = sorted(zip_list)\n",
    "# remove later\n",
    "print(zip_list)\n",
    "zip_list = zip_list[:-3]\n",
    "print(zip_list)"
   ]
  },
  {
   "cell_type": "code",
   "execution_count": 4,
   "metadata": {},
   "outputs": [],
   "source": [
    "def coco_form():\n",
    "    coco_format = dict(\n",
    "        info=dict(\n",
    "            year=2021, version=\"1.0\", description=\"Crosswalk extraction\", contributor=\"AI Hub\", url=\"https://aihub.or.kr/aidata/27675\", date_created='2021-12-14 02:39:00'\n",
    "        ),\n",
    "        licenses=[\n",
    "            dict(id=0, name='', url='')\n",
    "        ],\n",
    "        categories=[\n",
    "            dict(id=0, name='background', supercategory=None),\n",
    "            dict(id=1, name='crosswalk', supercategory=None)\n",
    "        ],\n",
    "        images=[\n",
    "        ],\n",
    "        annotations=[\n",
    "        ]\n",
    "    )\n",
    "\n",
    "    return coco_format"
   ]
  },
  {
   "cell_type": "code",
   "execution_count": 5,
   "metadata": {
    "tags": []
   },
   "outputs": [
    {
     "output_type": "stream",
     "name": "stderr",
     "text": [
      "  0%|          | 0/17 [00:00<?, ?it/s][라벨]1920_1080_night_train_d_1.zip start len : 8729\n",
      "  6%|▌         | 1/17 [00:01<00:18,  1.14s/it][라벨]d_1920_1080_daylight_train_1.zip start len : 15000\n",
      "{'image': {'file_name': '14277614.jpg', 'image_size': [1080, 1920]}, 'annotations': [{'class': 'traffic_lane', 'attributes': [{'code': 'lane_color', 'value': 'white'}, {'code': 'lane_type', 'value': 'dotted'}], 'category': 'polyline', 'data': [{'x': 388, 'y': 953}, {'x': 640, 'y': 726}]}, {'class': 'traffic_lane', 'attributes': [{'code': 'lane_color', 'value': 'yellow'}, {'code': 'lane_type', 'value': 'solid'}], 'category': 'polyline', 'data': [{'x': 639, 'y': 724}, {'x': 741, 'y': 630}, {'x': 755, 'y': 617}]}, {'class': 'stop_line', 'attributes': [], 'category': 'polyline', 'data': [{'x': 696, 'y': 629}, {'x': 517, 'y': 628}]}, {'class': 'crosswalk', 'attributes': [], 'category': 'polygon', 'data': [{'x': 665, 'y': 622}, {'x': 741, 'y': 626}, {'x': 741, 'y': 608}, {'x': 662, 'y': 608}]}, {'class': 'traffic_lane', 'attributes': [{'code': 'lane_color', 'value': 'yellow'}, {'code': 'lane_type', 'value': 'solid'}], 'category': 'polyline', 'data': [{'x': 1492, 'y': 1077}, {'x': 1375, 'y': 969}, {'x': 1333, 'y': 922}]}, {'class': 'traffic_lane', 'attributes': [{'code': 'lane_color', 'value': 'yellow'}, {'code': 'lane_type', 'value': 'solid'}], 'category': 'polyline', 'data': [{'x': 1568, 'y': 1078}, {'x': 1308, 'y': 857}, {'x': 1240, 'y': 781}, {'x': 1241, 'y': 747}, {'x': 1273, 'y': 733}, {'x': 1298, 'y': 726}]}, {'class': 'traffic_lane', 'attributes': [{'code': 'lane_color', 'value': 'yellow'}, {'code': 'lane_type', 'value': 'solid'}], 'category': 'polyline', 'data': [{'x': 675, 'y': 707}, {'x': 802, 'y': 688}, {'x': 884, 'y': 674}, {'x': 974, 'y': 663}, {'x': 1151, 'y': 639}, {'x': 1178, 'y': 634}, {'x': 1297, 'y': 622}, {'x': 1360, 'y': 621}]}, {'class': 'crosswalk', 'attributes': [], 'category': 'polygon', 'data': [{'x': 1293, 'y': 609}, {'x': 1363, 'y': 611}, {'x': 1363, 'y': 604}]}, {'class': 'crosswalk', 'attributes': [], 'category': 'polygon', 'data': [{'x': 897, 'y': 582}, {'x': 897, 'y': 598}, {'x': 935, 'y': 602}, {'x': 1237, 'y': 596}, {'x': 1107, 'y': 580}]}, {'class': 'traffic_lane', 'attributes': [{'code': 'lane_color', 'value': 'white'}, {'code': 'lane_type', 'value': 'dotted'}], 'category': 'polyline', 'data': [{'x': 15, 'y': 689}, {'x': 2, 'y': 692}]}]}\n",
      " 12%|█▏        | 2/17 [00:03<00:29,  1.99s/it][라벨]d_1920_1080_daylight_train_10.zip start len : 15000\n",
      " 18%|█▊        | 3/17 [00:06<00:30,  2.16s/it][라벨]d_1920_1080_daylight_train_11.zip start len : 15000\n",
      " 24%|██▎       | 4/17 [00:07<00:26,  2.05s/it][라벨]d_1920_1080_daylight_train_12.zip start len : 15000\n",
      " 29%|██▉       | 5/17 [00:09<00:20,  1.73s/it][라벨]d_1920_1080_daylight_train_13.zip start len : 15000\n",
      " 35%|███▌      | 6/17 [00:11<00:20,  1.89s/it][라벨]d_1920_1080_daylight_train_14.zip start len : 15000\n",
      " 41%|████      | 7/17 [00:13<00:20,  2.02s/it][라벨]d_1920_1080_daylight_train_15.zip start len : 15000\n",
      " 47%|████▋     | 8/17 [00:15<00:18,  2.10s/it][라벨]d_1920_1080_daylight_train_16.zip start len : 7201\n",
      " 53%|█████▎    | 9/17 [00:16<00:13,  1.70s/it][라벨]d_1920_1080_daylight_train_2.zip start len : 15000\n",
      " 59%|█████▉    | 10/17 [00:19<00:14,  2.03s/it][라벨]d_1920_1080_daylight_train_3.zip start len : 15000\n",
      " 65%|██████▍   | 11/17 [00:21<00:11,  1.89s/it][라벨]d_1920_1080_daylight_train_4.zip start len : 15000\n",
      " 71%|███████   | 12/17 [00:23<00:10,  2.13s/it][라벨]d_1920_1080_daylight_train_5.zip start len : 15000\n",
      " 76%|███████▋  | 13/17 [00:25<00:07,  1.97s/it][라벨]d_1920_1080_daylight_train_6.zip start len : 15000\n",
      " 82%|████████▏ | 14/17 [00:26<00:05,  1.83s/it][라벨]d_1920_1080_daylight_train_7.zip start len : 15000\n",
      " 88%|████████▊ | 15/17 [00:29<00:04,  2.17s/it][라벨]d_1920_1080_daylight_train_8.zip start len : 15000\n",
      " 94%|█████████▍| 16/17 [00:31<00:02,  2.04s/it][라벨]d_1920_1080_daylight_train_9.zip start len : 15000\n",
      "100%|██████████| 17/17 [00:32<00:00,  1.94s/it]\n"
     ]
    }
   ],
   "source": [
    "# 각 annotation.json file 의 구조\n",
    "# dict_keys(['image', 'annotations'])\n",
    "# anno['image'] : dict(file_name='', image_size='')\n",
    "# anno['annotations'] = list(\n",
    "#                           dict(class='str',\n",
    "                                #traffic lane 만 존재하는 value 나머지는 빈 리스트값\n",
    "#                               attributes='dict(code='', value='')',\n",
    "                                # 횡단보도는 polygon 만 존재 \n",
    "#                               category='str in ['polyline', 'polygon']', \n",
    "#                               data='list(dict(x:='', y=''), dict(x:='', y=''))'\n",
    "#                               )\n",
    "# )\n",
    "coco_format = coco_form()\n",
    "\n",
    "dataframe_keylist = ['file_locate', 'file_name', 'class', 'coord']\n",
    "dataframe_value=[]\n",
    "# error_img = ['15337349', '14994218']\n",
    "error_img = ['14277614']\n",
    "get_info = []\n",
    "# image id index\n",
    "id_idx = 0\n",
    "anno_id_idx = 0\n",
    "\n",
    "for zip_file in tqdm(zip_list):\n",
    "    zip_file_name = zip_file.replace('라벨','원천')\n",
    "    with zipfile.ZipFile(os.path.join(ZIP_ROOT, zip_file), 'r') as target_zip:\n",
    "        json_list = target_zip.namelist()\n",
    "        print(f'{zip_file} start len : {len(json_list)}')\n",
    "        for json_file in json_list:\n",
    "            id_idx_flag = False\n",
    "            with target_zip.open(json_file, 'r') as extract_json:\n",
    "                json_info = json.load(extract_json)\n",
    "                if json_file.split('.')[0] in error_img:\n",
    "                    print(json_info)\n",
    "                    get_info.append(json_info)\n",
    "                for anno in json_info['annotations']:\n",
    "                    # 좌표정보\n",
    "                    segmentation_coord = []\n",
    "                    for coordinate in anno['data']:\n",
    "                        segmentation_coord.append([coordinate['x'],coordinate['y']])\n",
    "\n",
    "                    if anno['class'] == 'crosswalk':\n",
    "                        #anno info append\n",
    "                        coco_format['annotations'].append(\n",
    "                            dict(id=anno_id_idx, image_id=id_idx, category_id=1, bbox=[], area=0, segmentation=segmentation_coord, iscrowd=0)\n",
    "                            )\n",
    "                        # anno index +=1\n",
    "                        anno_id_idx+=1\n",
    "                        # id add flag set True\n",
    "                        id_idx_flag = True\n",
    "                    \n",
    "                    # dataframe 생성용도(검증용)\n",
    "                    dataframe_value.append(\n",
    "                        [zip_file_name, json_info['image']['file_name'], anno['class'], segmentation_coord]\n",
    "                        )\n",
    "                        \n",
    "                if id_idx_flag:\n",
    "                    #image info append\n",
    "                    coco_format['images'].append(\n",
    "                        dict(license=0, url=None, file_name=json_info['image']['file_name'],\n",
    "                            height=json_info['image']['image_size'][0], width=json_info['image']['image_size'][1], data_captured=None, id=id_idx)\n",
    "                            )\n",
    "                    id_idx+=1\n",
    "                    \n"
   ]
  },
  {
   "cell_type": "code",
   "execution_count": 6,
   "metadata": {},
   "outputs": [
    {
     "output_type": "stream",
     "name": "stdout",
     "text": [
      "179417\n"
     ]
    },
    {
     "output_type": "execute_result",
     "data": {
      "text/plain": [
       "                                  file_locate     file_name      class  \\\n",
       "18          [원천]1920_1080_night_train_d_1.zip  15691903.jpg  crosswalk   \n",
       "40          [원천]1920_1080_night_train_d_1.zip  15484144.jpg  crosswalk   \n",
       "41          [원천]1920_1080_night_train_d_1.zip  15484144.jpg  crosswalk   \n",
       "52          [원천]1920_1080_night_train_d_1.zip  14427380.jpg  crosswalk   \n",
       "53          [원천]1920_1080_night_train_d_1.zip  14427380.jpg  crosswalk   \n",
       "...                                       ...           ...        ...   \n",
       "1683961  [원천]d_1920_1080_daylight_train_9.zip  14548161.jpg  crosswalk   \n",
       "1683962  [원천]d_1920_1080_daylight_train_9.zip  14548161.jpg  crosswalk   \n",
       "1683967  [원천]d_1920_1080_daylight_train_9.zip  14758492.jpg  crosswalk   \n",
       "1683968  [원천]d_1920_1080_daylight_train_9.zip  14758492.jpg  crosswalk   \n",
       "1683992  [원천]d_1920_1080_daylight_train_9.zip  14758082.jpg  crosswalk   \n",
       "\n",
       "                                                     coord  \n",
       "18       [[1112, 708], [628, 765], [330, 788], [3, 820]...  \n",
       "40       [[118, 806], [1644, 822], [1914, 817], [1920, ...  \n",
       "41       [[2, 636], [430, 623], [791, 615], [1343, 598]...  \n",
       "52       [[6, 639], [552, 587], [378, 572], [7, 578], [...  \n",
       "53       [[937, 602], [1219, 624], [1579, 653], [1527, ...  \n",
       "...                                                    ...  \n",
       "1683961  [[522, 612], [901, 601], [1074, 598], [1149, 6...  \n",
       "1683962  [[1318, 607], [1716, 601], [1716, 666], [1575,...  \n",
       "1683967     [[30, 635], [658, 563], [617, 558], [78, 619]]  \n",
       "1683968  [[1038, 520], [1276, 519], [1913, 515], [1917,...  \n",
       "1683992   [[160, 535], [478, 541], [473, 535], [154, 530]]  \n",
       "\n",
       "[179417 rows x 4 columns]"
      ],
      "text/html": "<div>\n<style scoped>\n    .dataframe tbody tr th:only-of-type {\n        vertical-align: middle;\n    }\n\n    .dataframe tbody tr th {\n        vertical-align: top;\n    }\n\n    .dataframe thead th {\n        text-align: right;\n    }\n</style>\n<table border=\"1\" class=\"dataframe\">\n  <thead>\n    <tr style=\"text-align: right;\">\n      <th></th>\n      <th>file_locate</th>\n      <th>file_name</th>\n      <th>class</th>\n      <th>coord</th>\n    </tr>\n  </thead>\n  <tbody>\n    <tr>\n      <th>18</th>\n      <td>[원천]1920_1080_night_train_d_1.zip</td>\n      <td>15691903.jpg</td>\n      <td>crosswalk</td>\n      <td>[[1112, 708], [628, 765], [330, 788], [3, 820]...</td>\n    </tr>\n    <tr>\n      <th>40</th>\n      <td>[원천]1920_1080_night_train_d_1.zip</td>\n      <td>15484144.jpg</td>\n      <td>crosswalk</td>\n      <td>[[118, 806], [1644, 822], [1914, 817], [1920, ...</td>\n    </tr>\n    <tr>\n      <th>41</th>\n      <td>[원천]1920_1080_night_train_d_1.zip</td>\n      <td>15484144.jpg</td>\n      <td>crosswalk</td>\n      <td>[[2, 636], [430, 623], [791, 615], [1343, 598]...</td>\n    </tr>\n    <tr>\n      <th>52</th>\n      <td>[원천]1920_1080_night_train_d_1.zip</td>\n      <td>14427380.jpg</td>\n      <td>crosswalk</td>\n      <td>[[6, 639], [552, 587], [378, 572], [7, 578], [...</td>\n    </tr>\n    <tr>\n      <th>53</th>\n      <td>[원천]1920_1080_night_train_d_1.zip</td>\n      <td>14427380.jpg</td>\n      <td>crosswalk</td>\n      <td>[[937, 602], [1219, 624], [1579, 653], [1527, ...</td>\n    </tr>\n    <tr>\n      <th>...</th>\n      <td>...</td>\n      <td>...</td>\n      <td>...</td>\n      <td>...</td>\n    </tr>\n    <tr>\n      <th>1683961</th>\n      <td>[원천]d_1920_1080_daylight_train_9.zip</td>\n      <td>14548161.jpg</td>\n      <td>crosswalk</td>\n      <td>[[522, 612], [901, 601], [1074, 598], [1149, 6...</td>\n    </tr>\n    <tr>\n      <th>1683962</th>\n      <td>[원천]d_1920_1080_daylight_train_9.zip</td>\n      <td>14548161.jpg</td>\n      <td>crosswalk</td>\n      <td>[[1318, 607], [1716, 601], [1716, 666], [1575,...</td>\n    </tr>\n    <tr>\n      <th>1683967</th>\n      <td>[원천]d_1920_1080_daylight_train_9.zip</td>\n      <td>14758492.jpg</td>\n      <td>crosswalk</td>\n      <td>[[30, 635], [658, 563], [617, 558], [78, 619]]</td>\n    </tr>\n    <tr>\n      <th>1683968</th>\n      <td>[원천]d_1920_1080_daylight_train_9.zip</td>\n      <td>14758492.jpg</td>\n      <td>crosswalk</td>\n      <td>[[1038, 520], [1276, 519], [1913, 515], [1917,...</td>\n    </tr>\n    <tr>\n      <th>1683992</th>\n      <td>[원천]d_1920_1080_daylight_train_9.zip</td>\n      <td>14758082.jpg</td>\n      <td>crosswalk</td>\n      <td>[[160, 535], [478, 541], [473, 535], [154, 530]]</td>\n    </tr>\n  </tbody>\n</table>\n<p>179417 rows × 4 columns</p>\n</div>"
     },
     "metadata": {},
     "execution_count": 6
    }
   ],
   "source": [
    "print(len(coco_format['annotations']))\n",
    "\n",
    "all_df = pd.DataFrame(dataframe_value, columns=dataframe_keylist)\n",
    "get_dist = all_df[all_df['class'] == 'crosswalk']\n",
    "get_dist"
   ]
  },
  {
   "cell_type": "code",
   "execution_count": 7,
   "metadata": {},
   "outputs": [
    {
     "output_type": "execute_result",
     "data": {
      "text/plain": [
       "[원천]d_1920_1080_daylight_train_2.zip     19492\n",
       "[원천]d_1920_1080_daylight_train_1.zip     15428\n",
       "[원천]d_1920_1080_daylight_train_14.zip    13138\n",
       "[원천]d_1920_1080_daylight_train_8.zip     13120\n",
       "[원천]d_1920_1080_daylight_train_5.zip     12683\n",
       "[원천]d_1920_1080_daylight_train_10.zip    12253\n",
       "[원천]d_1920_1080_daylight_train_13.zip    11885\n",
       "[원천]d_1920_1080_daylight_train_3.zip     10869\n",
       "[원천]d_1920_1080_daylight_train_4.zip     10777\n",
       "[원천]d_1920_1080_daylight_train_15.zip    10577\n",
       "[원천]d_1920_1080_daylight_train_11.zip     9183\n",
       "[원천]d_1920_1080_daylight_train_9.zip      8233\n",
       "[원천]d_1920_1080_daylight_train_12.zip     7701\n",
       "[원천]d_1920_1080_daylight_train_6.zip      7362\n",
       "[원천]d_1920_1080_daylight_train_7.zip      6379\n",
       "[원천]d_1920_1080_daylight_train_16.zip     6115\n",
       "[원천]1920_1080_night_train_d_1.zip         4222\n",
       "Name: file_locate, dtype: int64"
      ]
     },
     "metadata": {},
     "execution_count": 7
    }
   ],
   "source": [
    "# num of annotations\n",
    "get_dist['file_locate'].value_counts()"
   ]
  },
  {
   "cell_type": "code",
   "execution_count": 8,
   "metadata": {},
   "outputs": [
    {
     "output_type": "execute_result",
     "data": {
      "text/plain": [
       "file_locate\n",
       "[원천]1920_1080_night_train_d_1.zip         4222\n",
       "[원천]d_1920_1080_daylight_train_1.zip     15428\n",
       "[원천]d_1920_1080_daylight_train_10.zip    12253\n",
       "[원천]d_1920_1080_daylight_train_11.zip     9183\n",
       "[원천]d_1920_1080_daylight_train_12.zip     7701\n",
       "[원천]d_1920_1080_daylight_train_13.zip    11885\n",
       "[원천]d_1920_1080_daylight_train_14.zip    13138\n",
       "[원천]d_1920_1080_daylight_train_15.zip    10577\n",
       "[원천]d_1920_1080_daylight_train_16.zip     6115\n",
       "[원천]d_1920_1080_daylight_train_2.zip     19492\n",
       "[원천]d_1920_1080_daylight_train_3.zip     10869\n",
       "[원천]d_1920_1080_daylight_train_4.zip     10777\n",
       "[원천]d_1920_1080_daylight_train_5.zip     12683\n",
       "[원천]d_1920_1080_daylight_train_6.zip      7362\n",
       "[원천]d_1920_1080_daylight_train_7.zip      6379\n",
       "[원천]d_1920_1080_daylight_train_8.zip     13120\n",
       "[원천]d_1920_1080_daylight_train_9.zip      8233\n",
       "Name: file_name, dtype: int64"
      ]
     },
     "metadata": {},
     "execution_count": 8
    }
   ],
   "source": [
    "# num of images\n",
    "get_dist.groupby('file_locate')['file_name'].count()"
   ]
  },
  {
   "cell_type": "code",
   "execution_count": 72,
   "metadata": {},
   "outputs": [
    {
     "output_type": "execute_result",
     "data": {
      "text/plain": [
       "<matplotlib.image.AxesImage at 0x7fc35f49bfd0>"
      ]
     },
     "metadata": {},
     "execution_count": 72
    },
    {
     "output_type": "display_data",
     "data": {
      "text/plain": "<Figure size 432x288 with 1 Axes>",
      "image/svg+xml": "<?xml version=\"1.0\" encoding=\"utf-8\" standalone=\"no\"?>\n<!DOCTYPE svg PUBLIC \"-//W3C//DTD SVG 1.1//EN\"\n  \"http://www.w3.org/Graphics/SVG/1.1/DTD/svg11.dtd\">\n<svg xmlns:xlink=\"http://www.w3.org/1999/xlink\" width=\"381.65pt\" height=\"223.115156pt\" viewBox=\"0 0 381.65 223.115156\" xmlns=\"http://www.w3.org/2000/svg\" version=\"1.1\">\n <metadata>\n  <rdf:RDF xmlns:dc=\"http://purl.org/dc/elements/1.1/\" xmlns:cc=\"http://creativecommons.org/ns#\" xmlns:rdf=\"http://www.w3.org/1999/02/22-rdf-syntax-ns#\">\n   <cc:Work>\n    <dc:type rdf:resource=\"http://purl.org/dc/dcmitype/StillImage\"/>\n    <dc:date>2021-12-14T14:33:35.702990</dc:date>\n    <dc:format>image/svg+xml</dc:format>\n    <dc:creator>\n     <cc:Agent>\n      <dc:title>Matplotlib v3.5.0, https://matplotlib.org/</dc:title>\n     </cc:Agent>\n    </dc:creator>\n   </cc:Work>\n  </rdf:RDF>\n </metadata>\n <defs>\n  <style type=\"text/css\">*{stroke-linejoin: round; stroke-linecap: butt}</style>\n </defs>\n <g id=\"figure_1\">\n  <g id=\"patch_1\">\n   <path d=\"M -0 223.115156 \nL 381.65 223.115156 \nL 381.65 0 \nL -0 0 \nL -0 223.115156 \nz\n\" style=\"fill: none\"/>\n  </g>\n  <g id=\"axes_1\">\n   <g id=\"patch_2\">\n    <path d=\"M 39.65 199.237031 \nL 374.45 199.237031 \nL 374.45 10.912031 \nL 39.65 10.912031 \nz\n\" style=\"fill: #ffffff\"/>\n   </g>\n   <g clip-path=\"url(#p527608ab3f)\">\n    <image xlink:href=\"data:image/png;base64,\niVBORw0KGgoAAAANSUhEUgAAAU8AAAC9CAYAAAAz4P9UAAAH6ElEQVR4nO3dTW+c53XH4f8zM3yRSIq0RImmSUsyLcSu1Fg1ZKdpAhRNYSAoinaVfq4CBVoUWQZI60VRIEAXQTZdFIXlJI2NxJIcJ7FeSMl6IWmSEklR4sx0IVdJlNSJj2NTIq8LmOUNnNUP55kHc0/zWvONfgD4RFo7PQDAk0g8AQrEE6BAPAEKxBOgQDwBCsQToEA8AQrEE6BAPAEKxBOgQDwBCsQToEA8AQrEE6BAPAEKxBOgQDwBCsQToEA8AQrEE6BAPAEKxBOgQDwBCsQToEA8AQrEE6BAPAEKxBOgQDwBCsQToEA8AQrEE6BAPAEKxBOgQDwBCsQToEA8AQrEE6BAPAEKxBOgQDwBCsQToEA8AQrEE6BAPAEKxBOgQDwBCsQToEA8AQrEE6BAPAEKxBOgQDwBCsQToEA8AQrEE6BAPAEKxBOgoLPTAwD8Ls3QUFoT48nkU2nW1rM9v7DTI4kn8PhpjYykmXk692bG02s3aXX7Gby2lly7me2VlZ0eL4l4AjutadI+dDC949PZmNmfe2OtDKz3MzK/nsF35tNdWk563XR3es5HiCfwuWo6nbRnn8nducNZnRtMd6jJ0GovY5fuZvTspXRvLSW9bvrJYxfMXyWewGeqNTKS5vhsVk9OZPX5dvpNMrTSz8ELW5n6j/ezfXMx6T3I5OMcy0eJJ/CH0zRpT0yk+8KzWTw9ko3pJv0mGbnWz8Fzm5n4rw9+LZbbOzzupyGeQFnT6aQ9dSTrp2ey/OJA7hzrpXWvyeiVJoff3szUv11Od/nDpN9P8mTH8lHiCfzeWsPDaY7NZuXlySy+1GR7div99U7Gft7J1A83M/utKw9e8HwUyyfpMfyTEk/gt2uatMcPpPvisSy+NJLlM9sZObyRjTtD2X+ulaPfu5vBdy7vmVg+SjyBB1rtdI5MZuuPZvLBl4dz/6X1jI1u5sOlgYy93eT517sZ/Mn1PRvLR4kn7FGt4eG0pqeyeubp3HylldGTyzkyeicXr/Uz+j/JzD8knQs3Mrny3sMzezmWjxJP2AuaJu2xsfTnZnPzT8ez/HI3L5+8mOH2Wn42P559b45m8jvDaV24nhMrVx8eE8v/n3jCbtQ0aU9OZuuLR3PzlaFsv3o7X5+7kO3eL3Lp0hcy9sZY7nzrmdw9fynPrfz44TGx/P2JJ+wCzcBg2rPTuXNqKtf/rJ3JMzfy2vRPs3RvLVcvfiGDZ8dy/u9PpXP+Uo6u/OThObGsE094AjVDQ2nNHc3Sq5O5+ZVuzpx6P381+Wbe3ZzOv5//k2x+Zypvnt2X5udXcuy2WH4Wmteab/R3egjgd/jo8oyNV+ey8JedfPmrF/K3k2/lxxtH8/q5VzL23/sy9eZqmveupHf79k5PuyfYPOEx1QwNpXXieK7/+cGs/8V6/u6Ft7LVW87Cu6dz7tsns3h2Js17V/L87beSJP2PPnw+bJ7wGGlPHsrmmedy9WsDmTlzLdP71/L9S8cz9sa+TJ1dS/PTyzbLx4TNE3ZQMzCY1vHZLH5lKotf6mV4aj2bN1uZ/EEy/C/78uHFZZvlY0o84XPWnhjP/dNzufHKvqzP9tLeajLxbvLiP62kf3E+vY2NJElvh+fk44knfMaaTifto7O5/dKRrB7rpDeYjF7tZfa7S78WS2/CnyziCX9oTZPW/v1pZqezceKpbI23M7Tazeh7Kxn53oJY7hLiCZ9S0+k8+GfHI4eyPbEv26MDGby1mdbyWvb957kMieWuJJ7wSfzKb8Q3Z0aydaCd9v1+9l+9m4GFpbR+cTkDW1vpZ3dd/MtvEk/4GM3QUFpHZ7L+wmRW5zq5N54MriYHLm9n9Pxihq9cTX9rK4lY7jXiCf+n1U770MHcO/Vslk4N5/ZcL92RXgYX2zn0Tj/PfPdGepcXHsbSY/jeJp7sTU2T1uho8vyzWf7ieJb/OGk/dyfb2+30rw/m8I96mf7mYnqX5sWS30o82ROagcG0n30md04eya3TnbTOrObEocXc2rybpXcO5Omz/Yz/81q681fT337wAC6WfBzxZPdqtdN+YS7zf3M4z/31+/nSU+/m+x/ezcKPjufpfx3N/R/eydjCQkbvv5/Ed5Z8MuLJrtOeOpLl1+Zy42vbOTi1lo2f9bL0j8fzxg+G0l34ICfuX08ilnw6LgZh1+jMHc/iV6ezNdFk7Go3B96+ke78tfTv39vp0diFbJ7sGr1bS3nq9V/G0mbJZ0k82TVc1cbnqbXTAwA8icQToEA8AQrEE6BAPAEKxBOgQDwBCsQToEA8AQrEE6BAPAEKxBOgQDwBCsQToEA8AQrEE6BAPAEKxBOgQDwBCsQToEA8AQrEE6BAPAEKxBOgQDwBCsQToEA8AQrEE6BAPAEKxBOgQDwBCsQToEA8AQrEE6BAPAEKxBOgQDwBCsQToEA8AQrEE6BAPAEKxBOgQDwBCsQToEA8AQrEE6BAPAEKxBOgQDwBCsQToEA8AQrEE6BAPAEKxBOgQDwBCsQToEA8AQrEE6BAPAEKxBOgQDwBCsQToEA8AQrEE6BAPAEKxBOgQDwBCsQToEA8AQrEE6BAPAEKxBOgQDwBCsQToEA8AQrEE6BAPAEKxBOgQDwBCsQToEA8AQrEE6BAPAEKxBOgQDwBCsQToEA8AQrEE6BAPAEKxBOgQDwBCsQToEA8AQrEE6BAPAEKxBOg4H8B6oLspe5dFxgAAAAASUVORK5CYII=\" id=\"imaged46f6c31f0\" transform=\"scale(1 -1)translate(0 -189)\" x=\"39.65\" y=\"-10.237031\" width=\"335\" height=\"189\"/>\n   </g>\n   <g id=\"matplotlib.axis_1\">\n    <g id=\"xtick_1\">\n     <g id=\"line2d_1\">\n      <defs>\n       <path id=\"mf320bb0273\" d=\"M 0 0 \nL 0 3.5 \n\" style=\"stroke: #000000; stroke-width: 0.8\"/>\n      </defs>\n      <g>\n       <use xlink:href=\"#mf320bb0273\" x=\"39.737188\" y=\"199.237031\" style=\"stroke: #000000; stroke-width: 0.8\"/>\n      </g>\n     </g>\n     <g id=\"text_1\">\n      <!-- 0 -->\n      <g transform=\"translate(36.555938 213.835469)scale(0.1 -0.1)\">\n       <defs>\n        <path id=\"DejaVuSans-30\" d=\"M 2034 4250 \nQ 1547 4250 1301 3770 \nQ 1056 3291 1056 2328 \nQ 1056 1369 1301 889 \nQ 1547 409 2034 409 \nQ 2525 409 2770 889 \nQ 3016 1369 3016 2328 \nQ 3016 3291 2770 3770 \nQ 2525 4250 2034 4250 \nz\nM 2034 4750 \nQ 2819 4750 3233 4129 \nQ 3647 3509 3647 2328 \nQ 3647 1150 3233 529 \nQ 2819 -91 2034 -91 \nQ 1250 -91 836 529 \nQ 422 1150 422 2328 \nQ 422 3509 836 4129 \nQ 1250 4750 2034 4750 \nz\n\" transform=\"scale(0.015625)\"/>\n       </defs>\n       <use xlink:href=\"#DejaVuSans-30\"/>\n      </g>\n     </g>\n    </g>\n    <g id=\"xtick_2\">\n     <g id=\"line2d_2\">\n      <g>\n       <use xlink:href=\"#mf320bb0273\" x=\"83.330938\" y=\"199.237031\" style=\"stroke: #000000; stroke-width: 0.8\"/>\n      </g>\n     </g>\n     <g id=\"text_2\">\n      <!-- 250 -->\n      <g transform=\"translate(73.787188 213.835469)scale(0.1 -0.1)\">\n       <defs>\n        <path id=\"DejaVuSans-32\" d=\"M 1228 531 \nL 3431 531 \nL 3431 0 \nL 469 0 \nL 469 531 \nQ 828 903 1448 1529 \nQ 2069 2156 2228 2338 \nQ 2531 2678 2651 2914 \nQ 2772 3150 2772 3378 \nQ 2772 3750 2511 3984 \nQ 2250 4219 1831 4219 \nQ 1534 4219 1204 4116 \nQ 875 4013 500 3803 \nL 500 4441 \nQ 881 4594 1212 4672 \nQ 1544 4750 1819 4750 \nQ 2544 4750 2975 4387 \nQ 3406 4025 3406 3419 \nQ 3406 3131 3298 2873 \nQ 3191 2616 2906 2266 \nQ 2828 2175 2409 1742 \nQ 1991 1309 1228 531 \nz\n\" transform=\"scale(0.015625)\"/>\n        <path id=\"DejaVuSans-35\" d=\"M 691 4666 \nL 3169 4666 \nL 3169 4134 \nL 1269 4134 \nL 1269 2991 \nQ 1406 3038 1543 3061 \nQ 1681 3084 1819 3084 \nQ 2600 3084 3056 2656 \nQ 3513 2228 3513 1497 \nQ 3513 744 3044 326 \nQ 2575 -91 1722 -91 \nQ 1428 -91 1123 -41 \nQ 819 9 494 109 \nL 494 744 \nQ 775 591 1075 516 \nQ 1375 441 1709 441 \nQ 2250 441 2565 725 \nQ 2881 1009 2881 1497 \nQ 2881 1984 2565 2268 \nQ 2250 2553 1709 2553 \nQ 1456 2553 1204 2497 \nQ 953 2441 691 2322 \nL 691 4666 \nz\n\" transform=\"scale(0.015625)\"/>\n       </defs>\n       <use xlink:href=\"#DejaVuSans-32\"/>\n       <use xlink:href=\"#DejaVuSans-35\" x=\"63.623047\"/>\n       <use xlink:href=\"#DejaVuSans-30\" x=\"127.246094\"/>\n      </g>\n     </g>\n    </g>\n    <g id=\"xtick_3\">\n     <g id=\"line2d_3\">\n      <g>\n       <use xlink:href=\"#mf320bb0273\" x=\"126.924688\" y=\"199.237031\" style=\"stroke: #000000; stroke-width: 0.8\"/>\n      </g>\n     </g>\n     <g id=\"text_3\">\n      <!-- 500 -->\n      <g transform=\"translate(117.380938 213.835469)scale(0.1 -0.1)\">\n       <use xlink:href=\"#DejaVuSans-35\"/>\n       <use xlink:href=\"#DejaVuSans-30\" x=\"63.623047\"/>\n       <use xlink:href=\"#DejaVuSans-30\" x=\"127.246094\"/>\n      </g>\n     </g>\n    </g>\n    <g id=\"xtick_4\">\n     <g id=\"line2d_4\">\n      <g>\n       <use xlink:href=\"#mf320bb0273\" x=\"170.518438\" y=\"199.237031\" style=\"stroke: #000000; stroke-width: 0.8\"/>\n      </g>\n     </g>\n     <g id=\"text_4\">\n      <!-- 750 -->\n      <g transform=\"translate(160.974688 213.835469)scale(0.1 -0.1)\">\n       <defs>\n        <path id=\"DejaVuSans-37\" d=\"M 525 4666 \nL 3525 4666 \nL 3525 4397 \nL 1831 0 \nL 1172 0 \nL 2766 4134 \nL 525 4134 \nL 525 4666 \nz\n\" transform=\"scale(0.015625)\"/>\n       </defs>\n       <use xlink:href=\"#DejaVuSans-37\"/>\n       <use xlink:href=\"#DejaVuSans-35\" x=\"63.623047\"/>\n       <use xlink:href=\"#DejaVuSans-30\" x=\"127.246094\"/>\n      </g>\n     </g>\n    </g>\n    <g id=\"xtick_5\">\n     <g id=\"line2d_5\">\n      <g>\n       <use xlink:href=\"#mf320bb0273\" x=\"214.112188\" y=\"199.237031\" style=\"stroke: #000000; stroke-width: 0.8\"/>\n      </g>\n     </g>\n     <g id=\"text_5\">\n      <!-- 1000 -->\n      <g transform=\"translate(201.387188 213.835469)scale(0.1 -0.1)\">\n       <defs>\n        <path id=\"DejaVuSans-31\" d=\"M 794 531 \nL 1825 531 \nL 1825 4091 \nL 703 3866 \nL 703 4441 \nL 1819 4666 \nL 2450 4666 \nL 2450 531 \nL 3481 531 \nL 3481 0 \nL 794 0 \nL 794 531 \nz\n\" transform=\"scale(0.015625)\"/>\n       </defs>\n       <use xlink:href=\"#DejaVuSans-31\"/>\n       <use xlink:href=\"#DejaVuSans-30\" x=\"63.623047\"/>\n       <use xlink:href=\"#DejaVuSans-30\" x=\"127.246094\"/>\n       <use xlink:href=\"#DejaVuSans-30\" x=\"190.869141\"/>\n      </g>\n     </g>\n    </g>\n    <g id=\"xtick_6\">\n     <g id=\"line2d_6\">\n      <g>\n       <use xlink:href=\"#mf320bb0273\" x=\"257.705938\" y=\"199.237031\" style=\"stroke: #000000; stroke-width: 0.8\"/>\n      </g>\n     </g>\n     <g id=\"text_6\">\n      <!-- 1250 -->\n      <g transform=\"translate(244.980938 213.835469)scale(0.1 -0.1)\">\n       <use xlink:href=\"#DejaVuSans-31\"/>\n       <use xlink:href=\"#DejaVuSans-32\" x=\"63.623047\"/>\n       <use xlink:href=\"#DejaVuSans-35\" x=\"127.246094\"/>\n       <use xlink:href=\"#DejaVuSans-30\" x=\"190.869141\"/>\n      </g>\n     </g>\n    </g>\n    <g id=\"xtick_7\">\n     <g id=\"line2d_7\">\n      <g>\n       <use xlink:href=\"#mf320bb0273\" x=\"301.299688\" y=\"199.237031\" style=\"stroke: #000000; stroke-width: 0.8\"/>\n      </g>\n     </g>\n     <g id=\"text_7\">\n      <!-- 1500 -->\n      <g transform=\"translate(288.574688 213.835469)scale(0.1 -0.1)\">\n       <use xlink:href=\"#DejaVuSans-31\"/>\n       <use xlink:href=\"#DejaVuSans-35\" x=\"63.623047\"/>\n       <use xlink:href=\"#DejaVuSans-30\" x=\"127.246094\"/>\n       <use xlink:href=\"#DejaVuSans-30\" x=\"190.869141\"/>\n      </g>\n     </g>\n    </g>\n    <g id=\"xtick_8\">\n     <g id=\"line2d_8\">\n      <g>\n       <use xlink:href=\"#mf320bb0273\" x=\"344.893438\" y=\"199.237031\" style=\"stroke: #000000; stroke-width: 0.8\"/>\n      </g>\n     </g>\n     <g id=\"text_8\">\n      <!-- 1750 -->\n      <g transform=\"translate(332.168438 213.835469)scale(0.1 -0.1)\">\n       <use xlink:href=\"#DejaVuSans-31\"/>\n       <use xlink:href=\"#DejaVuSans-37\" x=\"63.623047\"/>\n       <use xlink:href=\"#DejaVuSans-35\" x=\"127.246094\"/>\n       <use xlink:href=\"#DejaVuSans-30\" x=\"190.869141\"/>\n      </g>\n     </g>\n    </g>\n   </g>\n   <g id=\"matplotlib.axis_2\">\n    <g id=\"ytick_1\">\n     <g id=\"line2d_9\">\n      <defs>\n       <path id=\"m2ec321a42e\" d=\"M 0 0 \nL -3.5 0 \n\" style=\"stroke: #000000; stroke-width: 0.8\"/>\n      </defs>\n      <g>\n       <use xlink:href=\"#m2ec321a42e\" x=\"39.65\" y=\"10.999219\" style=\"stroke: #000000; stroke-width: 0.8\"/>\n      </g>\n     </g>\n     <g id=\"text_9\">\n      <!-- 0 -->\n      <g transform=\"translate(26.2875 14.798437)scale(0.1 -0.1)\">\n       <use xlink:href=\"#DejaVuSans-30\"/>\n      </g>\n     </g>\n    </g>\n    <g id=\"ytick_2\">\n     <g id=\"line2d_10\">\n      <g>\n       <use xlink:href=\"#m2ec321a42e\" x=\"39.65\" y=\"45.874219\" style=\"stroke: #000000; stroke-width: 0.8\"/>\n      </g>\n     </g>\n     <g id=\"text_10\">\n      <!-- 200 -->\n      <g transform=\"translate(13.5625 49.673438)scale(0.1 -0.1)\">\n       <use xlink:href=\"#DejaVuSans-32\"/>\n       <use xlink:href=\"#DejaVuSans-30\" x=\"63.623047\"/>\n       <use xlink:href=\"#DejaVuSans-30\" x=\"127.246094\"/>\n      </g>\n     </g>\n    </g>\n    <g id=\"ytick_3\">\n     <g id=\"line2d_11\">\n      <g>\n       <use xlink:href=\"#m2ec321a42e\" x=\"39.65\" y=\"80.749219\" style=\"stroke: #000000; stroke-width: 0.8\"/>\n      </g>\n     </g>\n     <g id=\"text_11\">\n      <!-- 400 -->\n      <g transform=\"translate(13.5625 84.548438)scale(0.1 -0.1)\">\n       <defs>\n        <path id=\"DejaVuSans-34\" d=\"M 2419 4116 \nL 825 1625 \nL 2419 1625 \nL 2419 4116 \nz\nM 2253 4666 \nL 3047 4666 \nL 3047 1625 \nL 3713 1625 \nL 3713 1100 \nL 3047 1100 \nL 3047 0 \nL 2419 0 \nL 2419 1100 \nL 313 1100 \nL 313 1709 \nL 2253 4666 \nz\n\" transform=\"scale(0.015625)\"/>\n       </defs>\n       <use xlink:href=\"#DejaVuSans-34\"/>\n       <use xlink:href=\"#DejaVuSans-30\" x=\"63.623047\"/>\n       <use xlink:href=\"#DejaVuSans-30\" x=\"127.246094\"/>\n      </g>\n     </g>\n    </g>\n    <g id=\"ytick_4\">\n     <g id=\"line2d_12\">\n      <g>\n       <use xlink:href=\"#m2ec321a42e\" x=\"39.65\" y=\"115.624219\" style=\"stroke: #000000; stroke-width: 0.8\"/>\n      </g>\n     </g>\n     <g id=\"text_12\">\n      <!-- 600 -->\n      <g transform=\"translate(13.5625 119.423438)scale(0.1 -0.1)\">\n       <defs>\n        <path id=\"DejaVuSans-36\" d=\"M 2113 2584 \nQ 1688 2584 1439 2293 \nQ 1191 2003 1191 1497 \nQ 1191 994 1439 701 \nQ 1688 409 2113 409 \nQ 2538 409 2786 701 \nQ 3034 994 3034 1497 \nQ 3034 2003 2786 2293 \nQ 2538 2584 2113 2584 \nz\nM 3366 4563 \nL 3366 3988 \nQ 3128 4100 2886 4159 \nQ 2644 4219 2406 4219 \nQ 1781 4219 1451 3797 \nQ 1122 3375 1075 2522 \nQ 1259 2794 1537 2939 \nQ 1816 3084 2150 3084 \nQ 2853 3084 3261 2657 \nQ 3669 2231 3669 1497 \nQ 3669 778 3244 343 \nQ 2819 -91 2113 -91 \nQ 1303 -91 875 529 \nQ 447 1150 447 2328 \nQ 447 3434 972 4092 \nQ 1497 4750 2381 4750 \nQ 2619 4750 2861 4703 \nQ 3103 4656 3366 4563 \nz\n\" transform=\"scale(0.015625)\"/>\n       </defs>\n       <use xlink:href=\"#DejaVuSans-36\"/>\n       <use xlink:href=\"#DejaVuSans-30\" x=\"63.623047\"/>\n       <use xlink:href=\"#DejaVuSans-30\" x=\"127.246094\"/>\n      </g>\n     </g>\n    </g>\n    <g id=\"ytick_5\">\n     <g id=\"line2d_13\">\n      <g>\n       <use xlink:href=\"#m2ec321a42e\" x=\"39.65\" y=\"150.499219\" style=\"stroke: #000000; stroke-width: 0.8\"/>\n      </g>\n     </g>\n     <g id=\"text_13\">\n      <!-- 800 -->\n      <g transform=\"translate(13.5625 154.298438)scale(0.1 -0.1)\">\n       <defs>\n        <path id=\"DejaVuSans-38\" d=\"M 2034 2216 \nQ 1584 2216 1326 1975 \nQ 1069 1734 1069 1313 \nQ 1069 891 1326 650 \nQ 1584 409 2034 409 \nQ 2484 409 2743 651 \nQ 3003 894 3003 1313 \nQ 3003 1734 2745 1975 \nQ 2488 2216 2034 2216 \nz\nM 1403 2484 \nQ 997 2584 770 2862 \nQ 544 3141 544 3541 \nQ 544 4100 942 4425 \nQ 1341 4750 2034 4750 \nQ 2731 4750 3128 4425 \nQ 3525 4100 3525 3541 \nQ 3525 3141 3298 2862 \nQ 3072 2584 2669 2484 \nQ 3125 2378 3379 2068 \nQ 3634 1759 3634 1313 \nQ 3634 634 3220 271 \nQ 2806 -91 2034 -91 \nQ 1263 -91 848 271 \nQ 434 634 434 1313 \nQ 434 1759 690 2068 \nQ 947 2378 1403 2484 \nz\nM 1172 3481 \nQ 1172 3119 1398 2916 \nQ 1625 2713 2034 2713 \nQ 2441 2713 2670 2916 \nQ 2900 3119 2900 3481 \nQ 2900 3844 2670 4047 \nQ 2441 4250 2034 4250 \nQ 1625 4250 1398 4047 \nQ 1172 3844 1172 3481 \nz\n\" transform=\"scale(0.015625)\"/>\n       </defs>\n       <use xlink:href=\"#DejaVuSans-38\"/>\n       <use xlink:href=\"#DejaVuSans-30\" x=\"63.623047\"/>\n       <use xlink:href=\"#DejaVuSans-30\" x=\"127.246094\"/>\n      </g>\n     </g>\n    </g>\n    <g id=\"ytick_6\">\n     <g id=\"line2d_14\">\n      <g>\n       <use xlink:href=\"#m2ec321a42e\" x=\"39.65\" y=\"185.374219\" style=\"stroke: #000000; stroke-width: 0.8\"/>\n      </g>\n     </g>\n     <g id=\"text_14\">\n      <!-- 1000 -->\n      <g transform=\"translate(7.2 189.173438)scale(0.1 -0.1)\">\n       <use xlink:href=\"#DejaVuSans-31\"/>\n       <use xlink:href=\"#DejaVuSans-30\" x=\"63.623047\"/>\n       <use xlink:href=\"#DejaVuSans-30\" x=\"127.246094\"/>\n       <use xlink:href=\"#DejaVuSans-30\" x=\"190.869141\"/>\n      </g>\n     </g>\n    </g>\n   </g>\n   <g id=\"patch_3\">\n    <path d=\"M 39.65 199.237031 \nL 39.65 10.912031 \n\" style=\"fill: none; stroke: #000000; stroke-width: 0.8; stroke-linejoin: miter; stroke-linecap: square\"/>\n   </g>\n   <g id=\"patch_4\">\n    <path d=\"M 374.45 199.237031 \nL 374.45 10.912031 \n\" style=\"fill: none; stroke: #000000; stroke-width: 0.8; stroke-linejoin: miter; stroke-linecap: square\"/>\n   </g>\n   <g id=\"patch_5\">\n    <path d=\"M 39.65 199.237031 \nL 374.45 199.237031 \n\" style=\"fill: none; stroke: #000000; stroke-width: 0.8; stroke-linejoin: miter; stroke-linecap: square\"/>\n   </g>\n   <g id=\"patch_6\">\n    <path d=\"M 39.65 10.912031 \nL 374.45 10.912031 \n\" style=\"fill: none; stroke: #000000; stroke-width: 0.8; stroke-linejoin: miter; stroke-linecap: square\"/>\n   </g>\n  </g>\n </g>\n <defs>\n  <clipPath id=\"p527608ab3f\">\n   <rect x=\"39.65\" y=\"10.912031\" width=\"334.8\" height=\"188.325\"/>\n  </clipPath>\n </defs>\n</svg>\n",
      "image/png": "[encoded data removed]"
     },
     "metadata": {
      "needs_background": "light"
     }
    }
   ],
   "source": [
    "#검증해야함 지금은 문제가 있다고 느껴짐\n",
    "a = np.zeros([1080,1920])\n",
    "\n",
    "a = cv2.fillPoly(a, [np.array(segmentation_coord)], (255,0,0))\n",
    "plt.imshow(a)"
   ]
  },
  {
   "cell_type": "code",
   "execution_count": 12,
   "metadata": {},
   "outputs": [],
   "source": [
    "save_file_name = 'line_crosswalk_(12_14)'\n",
    "all_df.to_csv(save_file_name+'.csv',header=True, index=False)\n",
    "with open(save_file_name+'.json', 'w') as f:\n",
    "    json.dump(coco_format, f, indent=4)"
   ]
  },
  {
   "cell_type": "code",
   "execution_count": 13,
   "metadata": {},
   "outputs": [],
   "source": [
    "save_file_name = 'line_crosswalk_(12_14)'\n",
    "get_dist.to_csv(save_file_name+'_filtered.csv', header=True, index=False, encoding='utf-8')"
   ]
  },
  {
   "cell_type": "code",
   "execution_count": 48,
   "metadata": {},
   "outputs": [
    {
     "output_type": "stream",
     "name": "stdout",
     "text": [
      "[0.02141203703703704, 0.026507844650205763, 0.11648019547325103]\n# annotations : 3\t detect coordinate : 3\n"
     ]
    },
    {
     "output_type": "execute_result",
     "data": {
      "text/plain": [
       "<matplotlib.image.AxesImage at 0x7fa8738ea430>"
      ]
     },
     "metadata": {},
     "execution_count": 48
    },
    {
     "output_type": "display_data",
     "data": {
      "text/plain": "<Figure size 864x648 with 1 Axes>",
      "image/svg+xml": "<?xml version=\"1.0\" encoding=\"utf-8\" standalone=\"no\"?>\n<!DOCTYPE svg PUBLIC \"-//W3C//DTD SVG 1.1//EN\"\n  \"http://www.w3.org/Graphics/SVG/1.1/DTD/svg11.dtd\">\n<svg xmlns:xlink=\"http://www.w3.org/1999/xlink\" width=\"716.45pt\" height=\"411.352969pt\" viewBox=\"0 0 716.45 411.352969\" xmlns=\"http://www.w3.org/2000/svg\" version=\"1.1\">\n <metadata>\n  <rdf:RDF xmlns:dc=\"http://purl.org/dc/elements/1.1/\" xmlns:cc=\"http://creativecommons.org/ns#\" xmlns:rdf=\"http://www.w3.org/1999/02/22-rdf-syntax-ns#\">\n   <cc:Work>\n    <dc:type rdf:resource=\"http://purl.org/dc/dcmitype/StillImage\"/>\n    <dc:date>2021-12-14T20:18:26.509822</dc:date>\n    <dc:format>image/svg+xml</dc:format>\n    <dc:creator>\n     <cc:Agent>\n      <dc:title>Matplotlib v3.5.0, https://matplotlib.org/</dc:title>\n     </cc:Agent>\n    </dc:creator>\n   </cc:Work>\n  </rdf:RDF>\n </metadata>\n <defs>\n  <style type=\"text/css\">*{stroke-linejoin: round; stroke-linecap: butt}</style>\n </defs>\n <g id=\"figure_1\">\n  <g id=\"patch_1\">\n   <path d=\"M 0 411.352969 \nL 716.45 411.352969 \nL 716.45 0 \nL 0 0 \nL 0 411.352969 \nz\n\" style=\"fill: none\"/>\n  </g>\n  <g id=\"axes_1\">\n   <g id=\"patch_2\">\n    <path d=\"M 39.65 387.474844 \nL 709.25 387.474844 \nL 709.25 10.824844 \nL 39.65 10.824844 \nz\n\" style=\"fill: #ffffff\"/>\n   </g>\n   <g clip-path=\"url(#p4429fe08e0)\">\n    <image xlink:href=\"data:image/png;base64,\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\" id=\"imagec82459ad90\" transform=\"scale(1 -1)translate(0 -377)\" x=\"39.65\" y=\"-10.474844\" width=\"670\" height=\"377\"/>\n   </g>\n   <g id=\"matplotlib.axis_1\">\n    <g id=\"xtick_1\">\n     <g id=\"line2d_1\">\n      <defs>\n       <path id=\"m73ac314376\" d=\"M 0 0 \nL 0 3.5 \n\" style=\"stroke: #000000; stroke-width: 0.8\"/>\n      </defs>\n      <g>\n       <use xlink:href=\"#m73ac314376\" x=\"39.824375\" y=\"387.474844\" style=\"stroke: #000000; stroke-width: 0.8\"/>\n      </g>\n     </g>\n     <g id=\"text_1\">\n      <!-- 0 -->\n      <g transform=\"translate(36.643125 402.073281)scale(0.1 -0.1)\">\n       <defs>\n        <path id=\"DejaVuSans-30\" d=\"M 2034 4250 \nQ 1547 4250 1301 3770 \nQ 1056 3291 1056 2328 \nQ 1056 1369 1301 889 \nQ 1547 409 2034 409 \nQ 2525 409 2770 889 \nQ 3016 1369 3016 2328 \nQ 3016 3291 2770 3770 \nQ 2525 4250 2034 4250 \nz\nM 2034 4750 \nQ 2819 4750 3233 4129 \nQ 3647 3509 3647 2328 \nQ 3647 1150 3233 529 \nQ 2819 -91 2034 -91 \nQ 1250 -91 836 529 \nQ 422 1150 422 2328 \nQ 422 3509 836 4129 \nQ 1250 4750 2034 4750 \nz\n\" transform=\"scale(0.015625)\"/>\n       </defs>\n       <use xlink:href=\"#DejaVuSans-30\"/>\n      </g>\n     </g>\n    </g>\n    <g id=\"xtick_2\">\n     <g id=\"line2d_2\">\n      <g>\n       <use xlink:href=\"#m73ac314376\" x=\"127.011875\" y=\"387.474844\" style=\"stroke: #000000; stroke-width: 0.8\"/>\n      </g>\n     </g>\n     <g id=\"text_2\">\n      <!-- 250 -->\n      <g transform=\"translate(117.468125 402.073281)scale(0.1 -0.1)\">\n       <defs>\n        <path id=\"DejaVuSans-32\" d=\"M 1228 531 \nL 3431 531 \nL 3431 0 \nL 469 0 \nL 469 531 \nQ 828 903 1448 1529 \nQ 2069 2156 2228 2338 \nQ 2531 2678 2651 2914 \nQ 2772 3150 2772 3378 \nQ 2772 3750 2511 3984 \nQ 2250 4219 1831 4219 \nQ 1534 4219 1204 4116 \nQ 875 4013 500 3803 \nL 500 4441 \nQ 881 4594 1212 4672 \nQ 1544 4750 1819 4750 \nQ 2544 4750 2975 4387 \nQ 3406 4025 3406 3419 \nQ 3406 3131 3298 2873 \nQ 3191 2616 2906 2266 \nQ 2828 2175 2409 1742 \nQ 1991 1309 1228 531 \nz\n\" transform=\"scale(0.015625)\"/>\n        <path id=\"DejaVuSans-35\" d=\"M 691 4666 \nL 3169 4666 \nL 3169 4134 \nL 1269 4134 \nL 1269 2991 \nQ 1406 3038 1543 3061 \nQ 1681 3084 1819 3084 \nQ 2600 3084 3056 2656 \nQ 3513 2228 3513 1497 \nQ 3513 744 3044 326 \nQ 2575 -91 1722 -91 \nQ 1428 -91 1123 -41 \nQ 819 9 494 109 \nL 494 744 \nQ 775 591 1075 516 \nQ 1375 441 1709 441 \nQ 2250 441 2565 725 \nQ 2881 1009 2881 1497 \nQ 2881 1984 2565 2268 \nQ 2250 2553 1709 2553 \nQ 1456 2553 1204 2497 \nQ 953 2441 691 2322 \nL 691 4666 \nz\n\" transform=\"scale(0.015625)\"/>\n       </defs>\n       <use xlink:href=\"#DejaVuSans-32\"/>\n       <use xlink:href=\"#DejaVuSans-35\" x=\"63.623047\"/>\n       <use xlink:href=\"#DejaVuSans-30\" x=\"127.246094\"/>\n      </g>\n     </g>\n    </g>\n    <g id=\"xtick_3\">\n     <g id=\"line2d_3\">\n      <g>\n       <use xlink:href=\"#m73ac314376\" x=\"214.199375\" y=\"387.474844\" style=\"stroke: #000000; stroke-width: 0.8\"/>\n      </g>\n     </g>\n     <g id=\"text_3\">\n      <!-- 500 -->\n      <g transform=\"translate(204.655625 402.073281)scale(0.1 -0.1)\">\n       <use xlink:href=\"#DejaVuSans-35\"/>\n       <use xlink:href=\"#DejaVuSans-30\" x=\"63.623047\"/>\n       <use xlink:href=\"#DejaVuSans-30\" x=\"127.246094\"/>\n      </g>\n     </g>\n    </g>\n    <g id=\"xtick_4\">\n     <g id=\"line2d_4\">\n      <g>\n       <use xlink:href=\"#m73ac314376\" x=\"301.386875\" y=\"387.474844\" style=\"stroke: #000000; stroke-width: 0.8\"/>\n      </g>\n     </g>\n     <g id=\"text_4\">\n      <!-- 750 -->\n      <g transform=\"translate(291.843125 402.073281)scale(0.1 -0.1)\">\n       <defs>\n        <path id=\"DejaVuSans-37\" d=\"M 525 4666 \nL 3525 4666 \nL 3525 4397 \nL 1831 0 \nL 1172 0 \nL 2766 4134 \nL 525 4134 \nL 525 4666 \nz\n\" transform=\"scale(0.015625)\"/>\n       </defs>\n       <use xlink:href=\"#DejaVuSans-37\"/>\n       <use xlink:href=\"#DejaVuSans-35\" x=\"63.623047\"/>\n       <use xlink:href=\"#DejaVuSans-30\" x=\"127.246094\"/>\n      </g>\n     </g>\n    </g>\n    <g id=\"xtick_5\">\n     <g id=\"line2d_5\">\n      <g>\n       <use xlink:href=\"#m73ac314376\" x=\"388.574375\" y=\"387.474844\" style=\"stroke: #000000; stroke-width: 0.8\"/>\n      </g>\n     </g>\n     <g id=\"text_5\">\n      <!-- 1000 -->\n      <g transform=\"translate(375.849375 402.073281)scale(0.1 -0.1)\">\n       <defs>\n        <path id=\"DejaVuSans-31\" d=\"M 794 531 \nL 1825 531 \nL 1825 4091 \nL 703 3866 \nL 703 4441 \nL 1819 4666 \nL 2450 4666 \nL 2450 531 \nL 3481 531 \nL 3481 0 \nL 794 0 \nL 794 531 \nz\n\" transform=\"scale(0.015625)\"/>\n       </defs>\n       <use xlink:href=\"#DejaVuSans-31\"/>\n       <use xlink:href=\"#DejaVuSans-30\" x=\"63.623047\"/>\n       <use xlink:href=\"#DejaVuSans-30\" x=\"127.246094\"/>\n       <use xlink:href=\"#DejaVuSans-30\" x=\"190.869141\"/>\n      </g>\n     </g>\n    </g>\n    <g id=\"xtick_6\">\n     <g id=\"line2d_6\">\n      <g>\n       <use xlink:href=\"#m73ac314376\" x=\"475.761875\" y=\"387.474844\" style=\"stroke: #000000; stroke-width: 0.8\"/>\n      </g>\n     </g>\n     <g id=\"text_6\">\n      <!-- 1250 -->\n      <g transform=\"translate(463.036875 402.073281)scale(0.1 -0.1)\">\n       <use xlink:href=\"#DejaVuSans-31\"/>\n       <use xlink:href=\"#DejaVuSans-32\" x=\"63.623047\"/>\n       <use xlink:href=\"#DejaVuSans-35\" x=\"127.246094\"/>\n       <use xlink:href=\"#DejaVuSans-30\" x=\"190.869141\"/>\n      </g>\n     </g>\n    </g>\n    <g id=\"xtick_7\">\n     <g id=\"line2d_7\">\n      <g>\n       <use xlink:href=\"#m73ac314376\" x=\"562.949375\" y=\"387.474844\" style=\"stroke: #000000; stroke-width: 0.8\"/>\n      </g>\n     </g>\n     <g id=\"text_7\">\n      <!-- 1500 -->\n      <g transform=\"translate(550.224375 402.073281)scale(0.1 -0.1)\">\n       <use xlink:href=\"#DejaVuSans-31\"/>\n       <use xlink:href=\"#DejaVuSans-35\" x=\"63.623047\"/>\n       <use xlink:href=\"#DejaVuSans-30\" x=\"127.246094\"/>\n       <use xlink:href=\"#DejaVuSans-30\" x=\"190.869141\"/>\n      </g>\n     </g>\n    </g>\n    <g id=\"xtick_8\">\n     <g id=\"line2d_8\">\n      <g>\n       <use xlink:href=\"#m73ac314376\" x=\"650.136875\" y=\"387.474844\" style=\"stroke: #000000; stroke-width: 0.8\"/>\n      </g>\n     </g>\n     <g id=\"text_8\">\n      <!-- 1750 -->\n      <g transform=\"translate(637.411875 402.073281)scale(0.1 -0.1)\">\n       <use xlink:href=\"#DejaVuSans-31\"/>\n       <use xlink:href=\"#DejaVuSans-37\" x=\"63.623047\"/>\n       <use xlink:href=\"#DejaVuSans-35\" x=\"127.246094\"/>\n       <use xlink:href=\"#DejaVuSans-30\" x=\"190.869141\"/>\n      </g>\n     </g>\n    </g>\n   </g>\n   <g id=\"matplotlib.axis_2\">\n    <g id=\"ytick_1\">\n     <g id=\"line2d_9\">\n      <defs>\n       <path id=\"m2fe84d983e\" d=\"M 0 0 \nL -3.5 0 \n\" style=\"stroke: #000000; stroke-width: 0.8\"/>\n      </defs>\n      <g>\n       <use xlink:href=\"#m2fe84d983e\" x=\"39.65\" y=\"10.999219\" style=\"stroke: #000000; stroke-width: 0.8\"/>\n      </g>\n     </g>\n     <g id=\"text_9\">\n      <!-- 0 -->\n      <g transform=\"translate(26.2875 14.798438)scale(0.1 -0.1)\">\n       <use xlink:href=\"#DejaVuSans-30\"/>\n      </g>\n     </g>\n    </g>\n    <g id=\"ytick_2\">\n     <g id=\"line2d_10\">\n      <g>\n       <use xlink:href=\"#m2fe84d983e\" x=\"39.65\" y=\"80.749219\" style=\"stroke: #000000; stroke-width: 0.8\"/>\n      </g>\n     </g>\n     <g id=\"text_10\">\n      <!-- 200 -->\n      <g transform=\"translate(13.5625 84.548438)scale(0.1 -0.1)\">\n       <use xlink:href=\"#DejaVuSans-32\"/>\n       <use xlink:href=\"#DejaVuSans-30\" x=\"63.623047\"/>\n       <use xlink:href=\"#DejaVuSans-30\" x=\"127.246094\"/>\n      </g>\n     </g>\n    </g>\n    <g id=\"ytick_3\">\n     <g id=\"line2d_11\">\n      <g>\n       <use xlink:href=\"#m2fe84d983e\" x=\"39.65\" y=\"150.499219\" style=\"stroke: #000000; stroke-width: 0.8\"/>\n      </g>\n     </g>\n     <g id=\"text_11\">\n      <!-- 400 -->\n      <g transform=\"translate(13.5625 154.298438)scale(0.1 -0.1)\">\n       <defs>\n        <path id=\"DejaVuSans-34\" d=\"M 2419 4116 \nL 825 1625 \nL 2419 1625 \nL 2419 4116 \nz\nM 2253 4666 \nL 3047 4666 \nL 3047 1625 \nL 3713 1625 \nL 3713 1100 \nL 3047 1100 \nL 3047 0 \nL 2419 0 \nL 2419 1100 \nL 313 1100 \nL 313 1709 \nL 2253 4666 \nz\n\" transform=\"scale(0.015625)\"/>\n       </defs>\n       <use xlink:href=\"#DejaVuSans-34\"/>\n       <use xlink:href=\"#DejaVuSans-30\" x=\"63.623047\"/>\n       <use xlink:href=\"#DejaVuSans-30\" x=\"127.246094\"/>\n      </g>\n     </g>\n    </g>\n    <g id=\"ytick_4\">\n     <g id=\"line2d_12\">\n      <g>\n       <use xlink:href=\"#m2fe84d983e\" x=\"39.65\" y=\"220.249219\" style=\"stroke: #000000; stroke-width: 0.8\"/>\n      </g>\n     </g>\n     <g id=\"text_12\">\n      <!-- 600 -->\n      <g transform=\"translate(13.5625 224.048438)scale(0.1 -0.1)\">\n       <defs>\n        <path id=\"DejaVuSans-36\" d=\"M 2113 2584 \nQ 1688 2584 1439 2293 \nQ 1191 2003 1191 1497 \nQ 1191 994 1439 701 \nQ 1688 409 2113 409 \nQ 2538 409 2786 701 \nQ 3034 994 3034 1497 \nQ 3034 2003 2786 2293 \nQ 2538 2584 2113 2584 \nz\nM 3366 4563 \nL 3366 3988 \nQ 3128 4100 2886 4159 \nQ 2644 4219 2406 4219 \nQ 1781 4219 1451 3797 \nQ 1122 3375 1075 2522 \nQ 1259 2794 1537 2939 \nQ 1816 3084 2150 3084 \nQ 2853 3084 3261 2657 \nQ 3669 2231 3669 1497 \nQ 3669 778 3244 343 \nQ 2819 -91 2113 -91 \nQ 1303 -91 875 529 \nQ 447 1150 447 2328 \nQ 447 3434 972 4092 \nQ 1497 4750 2381 4750 \nQ 2619 4750 2861 4703 \nQ 3103 4656 3366 4563 \nz\n\" transform=\"scale(0.015625)\"/>\n       </defs>\n       <use xlink:href=\"#DejaVuSans-36\"/>\n       <use xlink:href=\"#DejaVuSans-30\" x=\"63.623047\"/>\n       <use xlink:href=\"#DejaVuSans-30\" x=\"127.246094\"/>\n      </g>\n     </g>\n    </g>\n    <g id=\"ytick_5\">\n     <g id=\"line2d_13\">\n      <g>\n       <use xlink:href=\"#m2fe84d983e\" x=\"39.65\" y=\"289.999219\" style=\"stroke: #000000; stroke-width: 0.8\"/>\n      </g>\n     </g>\n     <g id=\"text_13\">\n      <!-- 800 -->\n      <g transform=\"translate(13.5625 293.798438)scale(0.1 -0.1)\">\n       <defs>\n        <path id=\"DejaVuSans-38\" d=\"M 2034 2216 \nQ 1584 2216 1326 1975 \nQ 1069 1734 1069 1313 \nQ 1069 891 1326 650 \nQ 1584 409 2034 409 \nQ 2484 409 2743 651 \nQ 3003 894 3003 1313 \nQ 3003 1734 2745 1975 \nQ 2488 2216 2034 2216 \nz\nM 1403 2484 \nQ 997 2584 770 2862 \nQ 544 3141 544 3541 \nQ 544 4100 942 4425 \nQ 1341 4750 2034 4750 \nQ 2731 4750 3128 4425 \nQ 3525 4100 3525 3541 \nQ 3525 3141 3298 2862 \nQ 3072 2584 2669 2484 \nQ 3125 2378 3379 2068 \nQ 3634 1759 3634 1313 \nQ 3634 634 3220 271 \nQ 2806 -91 2034 -91 \nQ 1263 -91 848 271 \nQ 434 634 434 1313 \nQ 434 1759 690 2068 \nQ 947 2378 1403 2484 \nz\nM 1172 3481 \nQ 1172 3119 1398 2916 \nQ 1625 2713 2034 2713 \nQ 2441 2713 2670 2916 \nQ 2900 3119 2900 3481 \nQ 2900 3844 2670 4047 \nQ 2441 4250 2034 4250 \nQ 1625 4250 1398 4047 \nQ 1172 3844 1172 3481 \nz\n\" transform=\"scale(0.015625)\"/>\n       </defs>\n       <use xlink:href=\"#DejaVuSans-38\"/>\n       <use xlink:href=\"#DejaVuSans-30\" x=\"63.623047\"/>\n       <use xlink:href=\"#DejaVuSans-30\" x=\"127.246094\"/>\n      </g>\n     </g>\n    </g>\n    <g id=\"ytick_6\">\n     <g id=\"line2d_14\">\n      <g>\n       <use xlink:href=\"#m2fe84d983e\" x=\"39.65\" y=\"359.749219\" style=\"stroke: #000000; stroke-width: 0.8\"/>\n      </g>\n     </g>\n     <g id=\"text_14\">\n      <!-- 1000 -->\n      <g transform=\"translate(7.2 363.548438)scale(0.1 -0.1)\">\n       <use xlink:href=\"#DejaVuSans-31\"/>\n       <use xlink:href=\"#DejaVuSans-30\" x=\"63.623047\"/>\n       <use xlink:href=\"#DejaVuSans-30\" x=\"127.246094\"/>\n       <use xlink:href=\"#DejaVuSans-30\" x=\"190.869141\"/>\n      </g>\n     </g>\n    </g>\n   </g>\n   <g id=\"patch_3\">\n    <path d=\"M 39.65 387.474844 \nL 39.65 10.824844 \n\" style=\"fill: none; stroke: #000000; stroke-width: 0.8; stroke-linejoin: miter; stroke-linecap: square\"/>\n   </g>\n   <g id=\"patch_4\">\n    <path d=\"M 709.25 387.474844 \nL 709.25 10.824844 \n\" style=\"fill: none; stroke: #000000; stroke-width: 0.8; stroke-linejoin: miter; stroke-linecap: square\"/>\n   </g>\n   <g id=\"patch_5\">\n    <path d=\"M 39.65 387.474844 \nL 709.25 387.474844 \n\" style=\"fill: none; stroke: #000000; stroke-width: 0.8; stroke-linejoin: miter; stroke-linecap: square\"/>\n   </g>\n   <g id=\"patch_6\">\n    <path d=\"M 39.65 10.824844 \nL 709.25 10.824844 \n\" style=\"fill: none; stroke: #000000; stroke-width: 0.8; stroke-linejoin: miter; stroke-linecap: square\"/>\n   </g>\n  </g>\n </g>\n <defs>\n  <clipPath id=\"p4429fe08e0\">\n   <rect x=\"39.65\" y=\"10.824844\" width=\"669.6\" height=\"376.65\"/>\n  </clipPath>\n </defs>\n</svg>\n",
      "image/png": "[encoded data removed]"
     },
     "metadata": {
      "needs_background": "light"
     }
    }
   ],
   "source": [
    "IMG_ROOT ='/Users/sm/Downloads/차선-횡단보도 인지 영상(수도권)/Training/[원천]d_1920_1080_daylight_train_1'\n",
    "\n",
    "error_coord = []\n",
    "point = 0\n",
    "\n",
    "image = cv2.imread(os.path.join(IMG_ROOT, '14277614.jpg'))\n",
    "image = cv2.cvtColor(image, cv2.COLOR_BGR2RGB)\n",
    "\n",
    "for anno in get_info[0]['annotations']:\n",
    "\n",
    "    if anno['class'] == 'crosswalk':\n",
    "        temp = []\n",
    "        point+=1\n",
    "        for coord in anno['data']:\n",
    "            temp.append([coord['x'], coord['y']])\n",
    "\n",
    "        error_coord.append(np.array(temp))\n",
    "\n",
    "dummy = np.zeros_like(image)\n",
    "\n",
    "fillpoly_proportion = []\n",
    "\n",
    "for i in error_coord:\n",
    "    dummy = cv2.fillPoly(dummy, [i], 255)\n",
    "    image = cv2.polylines(image, [i], True, (255,0,0), 5)\n",
    "    _, counts = np.unique(dummy, return_counts=True)\n",
    "    fillpoly_proportion.append(counts[-1]/(3*1920*1080)*100)\n",
    "\n",
    "#여기 있는 성분으로 몇퍼센트 이하의 좌표를 거를건지 확인\n",
    "print(fillpoly_proportion)\n",
    "print(f'# annotations : {point}\\t detect coordinate : {len(error_coord)}')\n",
    "plt.figure(figsize=(12,9))\n",
    "plt.imshow(dummy)\n"
   ]
  },
  {
   "cell_type": "code",
   "execution_count": 9,
   "metadata": {},
   "outputs": [
    {
     "output_type": "stream",
     "name": "stdout",
     "text": [
      "80.2 ms ± 727 µs per loop (mean ± std. dev. of 7 runs, 10 loops each)\n"
     ]
    }
   ],
   "source": [
    "%%timeit\n",
    "\n",
    "dummy = np.zeros((1080,1920))\n",
    "dummy = cv2.fillPoly(dummy, [np.array(get_dist.iloc[0]['coord'])], 255)\n",
    "_, counts = np.unique(dummy, return_counts=True)\n",
    "# print(round(counts[-1]*100/(1920*1080),2))"
   ]
  },
  {
   "cell_type": "code",
   "execution_count": 30,
   "metadata": {},
   "outputs": [],
   "source": [
    "def calculate_area(coord_list):\n",
    "    dummy = np.zeros((1080,1920))\n",
    "    dummy = cv2.fillPoly(dummy, [np.array(coord_list)], 255)\n",
    "    _, counts = np.where(dummy==255)\n",
    "    return round(len(counts)*100/(1920*1080),2)\n",
    "\n",
    "# get_dist['area'] = get_dist.apply(calculate_area, axis=1)"
   ]
  },
  {
   "cell_type": "code",
   "execution_count": 21,
   "metadata": {},
   "outputs": [
    {
     "output_type": "error",
     "ename": "SyntaxError",
     "evalue": "invalid syntax (804413242.py, line 3)",
     "traceback": [
      "\u001b[0;36m  File \u001b[0;32m\"/var/folders/h9/r8r6r6md7wsdy0x43cwkg1zm0000gn/T/ipykernel_87844/804413242.py\"\u001b[0;36m, line \u001b[0;32m3\u001b[0m\n\u001b[0;31m    prun -f get_dist.apply(calculate_area, axis=1)\u001b[0m\n\u001b[0m            ^\u001b[0m\n\u001b[0;31mSyntaxError\u001b[0m\u001b[0;31m:\u001b[0m invalid syntax\n"
     ]
    }
   ],
   "source": [
    "calculate_area(get_dist['coord'].values, )"
   ]
  },
  {
   "cell_type": "code",
   "execution_count": 28,
   "metadata": {},
   "outputs": [
    {
     "output_type": "stream",
     "name": "stderr",
     "text": [
      "  1%|          | 969/179417 [01:17<4:07:18, 12.03it/s]"
     ]
    }
   ],
   "source": [
    "for_series = []\n",
    "for i in tqdm(get_dist['coord'].values):\n",
    "    for_series.append(calculate_area(i))"
   ]
  },
  {
   "cell_type": "code",
   "execution_count": 31,
   "metadata": {},
   "outputs": [
    {
     "output_type": "stream",
     "name": "stderr",
     "text": [
      " 10%|█         | 18277/179417 [03:30<30:30, 88.04it/s]"
     ]
    }
   ],
   "source": [
    "for_series = []\n",
    "for i in tqdm(get_dist['coord'].values):\n",
    "    for_series.append(calculate_area(i))"
   ]
  },
  {
   "cell_type": "code",
   "execution_count": 10,
   "metadata": {},
   "outputs": [],
   "source": [
    "%load_ext line_profiler"
   ]
  },
  {
   "cell_type": "code",
   "execution_count": 29,
   "metadata": {},
   "outputs": [
    {
     "output_type": "stream",
     "text": [
      "Timer unit: 1e-06 s\n",
      "\n",
      "Total time: 0.086156 s\n",
      "File: /var/folders/h9/r8r6r6md7wsdy0x43cwkg1zm0000gn/T/ipykernel_13386/967336575.py\n",
      "Function: calculate_area at line 1\n",
      "\n",
      "Line #      Hits         Time  Per Hit   % Time  Line Contents\n",
      "==============================================================\n",
      "     1                                           def calculate_area(coord_list):\n",
      "     2         1       1897.0   1897.0      2.2      dummy = np.zeros((1080,1920))\n",
      "     3         1        124.0    124.0      0.1      dummy = cv2.fillPoly(dummy, [np.array(coord_list)], 255)\n",
      "     4         1      84096.0  84096.0     97.6      _, counts = np.unique(dummy, return_counts=True)\n",
      "     5         1         39.0     39.0      0.0      return round(counts[-1]*100/(1920*1080),2)"
     ],
     "name": "stdout"
    }
   ],
   "source": [
    "%lprun -f calculate_area calculate_area(get_dist.iloc[0]['coord'])"
   ]
  },
  {
   "cell_type": "code",
   "execution_count": 27,
   "metadata": {},
   "outputs": [
    {
     "output_type": "stream",
     "text": [
      "Timer unit: 1e-06 s\n",
      "\n",
      "Total time: 0.018796 s\n",
      "File: /var/folders/h9/r8r6r6md7wsdy0x43cwkg1zm0000gn/T/ipykernel_13386/2201740890.py\n",
      "Function: calculate_area at line 1\n",
      "\n",
      "Line #      Hits         Time  Per Hit   % Time  Line Contents\n",
      "==============================================================\n",
      "     1                                           def calculate_area(coord_list):\n",
      "     2         1        265.0    265.0      1.4      dummy = np.zeros((1080,1920))\n",
      "     3         1        878.0    878.0      4.7      dummy = cv2.fillPoly(dummy, [np.array(coord_list)], 255)\n",
      "     4         1      17628.0  17628.0     93.8      _, counts = np.where(dummy==255)\n",
      "     5         1         25.0     25.0      0.1      return round(len(counts)*100/(1920*1080),2)"
     ],
     "name": "stdout"
    }
   ],
   "source": [
    "%lprun -f calculate_area calculate_area(get_dist.iloc[0]['coord'])"
   ]
  },
  {
   "cell_type": "code",
   "execution_count": 23,
   "metadata": {},
   "outputs": [
    {
     "output_type": "stream",
     "name": "stdout",
     "text": [
      "2073600\n2073600\n"
     ]
    }
   ],
   "source": [
    "dummy = np.zeros([1080,1920])\n",
    "a,b = np.where(dummy==0)\n",
    "print(len(a))\n",
    "print(len(b))"
   ]
  },
  {
   "cell_type": "code",
   "execution_count": null,
   "metadata": {},
   "outputs": [],
   "source": []
  }
 ]
}