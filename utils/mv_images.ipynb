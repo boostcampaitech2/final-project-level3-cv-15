{
 "cells": [
  {
   "cell_type": "code",
   "execution_count": 1,
   "id": "402ebe04-e4f2-4a63-80af-a8d71dc71f3a",
   "metadata": {},
   "outputs": [],
   "source": [
    "import os\n",
    "from tqdm import tqdm\n",
    "import pandas as pd\n",
    "import shutil"
   ]
  },
  {
   "cell_type": "markdown",
   "id": "42f6e5dc-9de3-4653-a6ce-f8a3eda652e7",
   "metadata": {},
   "source": [
    "# 학습에 쓰일 이미지와 GT를 옮겨봅시다"
   ]
  },
  {
   "cell_type": "code",
   "execution_count": 2,
   "id": "ee497da8-165a-45ba-a3b2-5561a880389b",
   "metadata": {},
   "outputs": [],
   "source": [
    "CSV_ROOT = '/opt/ml/segmentaiton_csv_V1/csv'\n",
    "IMAGE_ROOT = '/opt/ml/lab/data'\n",
    "GT_ROOT = '/opt/ml/lab/gt'"
   ]
  },
  {
   "cell_type": "code",
   "execution_count": 3,
   "id": "9d21fcb7-dca7-4424-9500-f425425c6e1c",
   "metadata": {},
   "outputs": [
    {
     "output_type": "error",
     "ename": "AttributeError",
     "evalue": "module 'os' has no attribute 'exists'",
     "traceback": [
      "\u001b[0;31m---------------------------------------------------------------------------\u001b[0m",
      "\u001b[0;31mAttributeError\u001b[0m                            Traceback (most recent call last)",
      "\u001b[0;32m/tmp/ipykernel_18518/4204828987.py\u001b[0m in \u001b[0;36m<module>\u001b[0;34m\u001b[0m\n\u001b[0;32m----> 1\u001b[0;31m \u001b[0;32mif\u001b[0m \u001b[0;32mnot\u001b[0m \u001b[0mos\u001b[0m\u001b[0;34m.\u001b[0m\u001b[0mexists\u001b[0m\u001b[0;34m(\u001b[0m\u001b[0mCSV_ROOT\u001b[0m\u001b[0;34m)\u001b[0m\u001b[0;34m:\u001b[0m\u001b[0;34m\u001b[0m\u001b[0;34m\u001b[0m\u001b[0m\n\u001b[0m\u001b[1;32m      2\u001b[0m     \u001b[0mos\u001b[0m\u001b[0;34m.\u001b[0m\u001b[0mmkdirs\u001b[0m\u001b[0;34m(\u001b[0m\u001b[0mCSV_ROOT\u001b[0m\u001b[0;34m)\u001b[0m\u001b[0;34m\u001b[0m\u001b[0;34m\u001b[0m\u001b[0m\n",
      "\u001b[0;31mAttributeError\u001b[0m: module 'os' has no attribute 'exists'"
     ]
    }
   ],
   "source": [
    "if not os.exists(CSV_ROOT):\n",
    "    os.mkdirs(CSV_ROOT)"
   ]
  },
  {
   "cell_type": "code",
   "execution_count": 3,
   "id": "9e7dd245-558a-4dc0-8f4f-910d9c9f45d3",
   "metadata": {},
   "outputs": [
    {
     "output_type": "stream",
     "name": "stdout",
     "text": [
      "['train_5.csv', 'train_4.csv', 'train_3.csv', 'train_1.csv', 'train_2.csv']\n['valid_4.csv', 'valid_2.csv', 'valid_5.csv', 'valid_1.csv', 'valid_3.csv']\n"
     ]
    }
   ],
   "source": [
    "# segmentaiton_csv_V1/csv/train/train_1.csv\n",
    "TRAIN_PATH = os.path.join(CSV_ROOT,'train')\n",
    "VALID_PATH = os.path.join(CSV_ROOT,'valid')\n",
    "train_csv = [i for i in os.listdir(TRAIN_PATH) if i.endswith('.csv')]\n",
    "valid_csv = [i for i in os.listdir(VALID_PATH) if i.endswith('.csv')]\n",
    "print(train_csv)\n",
    "print(valid_csv)"
   ]
  },
  {
   "cell_type": "markdown",
   "id": "fda209dd-577c-46ae-8d2b-4c11e6ce84d4",
   "metadata": {},
   "source": [
    "# 가장 중요한 test dataset 을 빼봅시다"
   ]
  },
  {
   "cell_type": "code",
   "execution_count": 35,
   "id": "3fff9dfc-ca4e-47e9-8552-0a7e5129c0fc",
   "metadata": {},
   "outputs": [
    {
     "name": "stdout",
     "output_type": "stream",
     "text": [
      "189\n",
      "copy images: 189\n",
      "copy gt images: 189\n"
     ]
    }
   ],
   "source": [
    "# def copy_images(dataframe):\n",
    "\n",
    "df = pd.read_csv('/opt/ml/test_dataset.csv')\n",
    "print(len(df))\n",
    "dir_list= [os.path.join('/opt/ml/segmentaiton_csv_V1/test','images'), os.path.join('/opt/ml/segmentaiton_csv_V1/test','gt')]\n",
    "\n",
    "for i in dir_list:\n",
    "    if not os.path.exists(i):\n",
    "        os.makedirs(i)\n",
    "\n",
    "for item in df.to_dict('records'):\n",
    "    #image copy\n",
    "\n",
    "    if item['file_name'] == 'MP_SEL_SUR_002578.jpg':\n",
    "        print(f'file name : {item[\"file_name\"]} is deprecated')\n",
    "        continue\n",
    "\n",
    "    shutil.copy(\n",
    "        os.path.join(IMAGE_ROOT, item['file_name']),\n",
    "        os.path.join(dir_list[0], item['file_name'])\n",
    "    )\n",
    "    #gt copy\n",
    "    shutil.copy(\n",
    "        os.path.join(GT_ROOT, item['file_name'].split('.')[0]+'.png'), \n",
    "        os.path.join(dir_list[1], item['file_name'].split('.')[0]+'.png')\n",
    "    )\n",
    "\n",
    "print(f\"copy images: {len([i for i in os.listdir(dir_list[0]) if i.endswith('.jpg')])}\")\n",
    "print(f\"copy gt images: {len([i for i in os.listdir(dir_list[1]) if i.endswith('.png')])}\")"
   ]
  },
  {
   "cell_type": "code",
   "execution_count": 4,
   "id": "0557646c-0fbd-4571-bedc-1a32f881f201",
   "metadata": {},
   "outputs": [],
   "source": [
    "def copy_images(dataframe_locate, save_path):\n",
    "\n",
    "    df = pd.read_csv(dataframe_locate)\n",
    "    print(f\"{dataframe_locate.split('/')[-1]} : {len(df)}\")\n",
    "    dir_list= [os.path.join(save_path,'images'), os.path.join(save_path,'gt')]\n",
    "\n",
    "    for i in dir_list:\n",
    "        if not os.path.exists(i):\n",
    "            os.makedirs(i)\n",
    "\n",
    "    for item in df.to_dict('records'):\n",
    "        #image copy\n",
    "\n",
    "        if item['file_name'] == 'MP_SEL_SUR_002578.jpg':\n",
    "            print(f'file name : {item[\"file_name\"]} is deprecated')\n",
    "            continue\n",
    "        \n",
    "        shutil.copy(\n",
    "            os.path.join(IMAGE_ROOT, item['file_name']),\n",
    "            os.path.join(dir_list[0], item['file_name'])\n",
    "        )\n",
    "        #gt copy\n",
    "        shutil.copy(\n",
    "            os.path.join(GT_ROOT, item['file_name'].split('.')[0]+'.png'), \n",
    "            os.path.join(dir_list[1], item['file_name'].split('.')[0]+'.png')\n",
    "        )\n",
    "\n",
    "    print(f\"copy images: {len([i for i in os.listdir(dir_list[0]) if i.endswith('.jpg')])}\")\n",
    "    print(f\"copy gt images: {len([i for i in os.listdir(dir_list[1]) if i.endswith('.png')])}\")"
   ]
  },
  {
   "cell_type": "code",
   "execution_count": 5,
   "id": "af9afc5a-b682-412f-9445-feb69ba56556",
   "metadata": {},
   "outputs": [
    {
     "output_type": "stream",
     "name": "stdout",
     "text": [
      "train_5.csv : 1365\n",
      "file name : MP_SEL_SUR_002578.jpg is deprecated\n",
      "copy images: 1364\n",
      "copy gt images: 1364\n",
      "train_4.csv : 1365\n",
      "file name : MP_SEL_SUR_002578.jpg is deprecated\n",
      "copy images: 1364\n",
      "copy gt images: 1364\n",
      "train_3.csv : 1366\n",
      "file name : MP_SEL_SUR_002578.jpg is deprecated\n",
      "copy images: 1365\n",
      "copy gt images: 1365\n",
      "train_1.csv : 1366\n",
      "file name : MP_SEL_SUR_002578.jpg is deprecated\n",
      "copy images: 1365\n",
      "copy gt images: 1365\n",
      "train_2.csv : 1366\n",
      "copy images: 1366\n",
      "copy gt images: 1366\n",
      "valid_4.csv : 342\n",
      "copy images: 342\n",
      "copy gt images: 342\n",
      "valid_2.csv : 341\n",
      "file name : MP_SEL_SUR_002578.jpg is deprecated\n",
      "copy images: 340\n",
      "copy gt images: 340\n",
      "valid_5.csv : 342\n",
      "copy images: 342\n",
      "copy gt images: 342\n",
      "valid_1.csv : 341\n",
      "copy images: 341\n",
      "copy gt images: 341\n",
      "valid_3.csv : 341\n",
      "copy images: 341\n",
      "copy gt images: 341\n"
     ]
    }
   ],
   "source": [
    "for i in train_csv:\n",
    "    copy_images(\n",
    "        os.path.join(TRAIN_PATH, i), \n",
    "        os.path.join('/opt/ml/segmentaiton_csv_V1', i.split('.')[0])\n",
    "    )\n",
    "for i in valid_csv:\n",
    "    copy_images(\n",
    "        os.path.join(VALID_PATH, i), \n",
    "        os.path.join('/opt/ml/segmentaiton_csv_V1', i.split('.')[0])\n",
    "    )\n",
    "    "
   ]
  },
  {
   "cell_type": "code",
   "execution_count": null,
   "id": "afda89e2-99e8-4851-956d-3c0d85d23bd6",
   "metadata": {},
   "outputs": [],
   "source": []
  }
 ],
 "metadata": {
  "kernelspec": {
   "display_name": "mmseg",
   "language": "python",
   "name": "mmseg"
  },
  "language_info": {
   "codemirror_mode": {
    "name": "ipython",
    "version": 3
   },
   "file_extension": ".py",
   "mimetype": "text/x-python",
   "name": "python",
   "nbconvert_exporter": "python",
   "pygments_lexer": "ipython3",
   "version": "3.7.11-final"
  }
 },
 "nbformat": 4,
 "nbformat_minor": 5
}