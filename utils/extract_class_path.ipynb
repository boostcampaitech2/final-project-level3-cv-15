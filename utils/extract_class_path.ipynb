{
 "metadata": {
  "language_info": {
   "codemirror_mode": {
    "name": "ipython",
    "version": 3
   },
   "file_extension": ".py",
   "mimetype": "text/x-python",
   "name": "python",
   "nbconvert_exporter": "python",
   "pygments_lexer": "ipython3",
   "version": "3.8.8-final"
  },
  "orig_nbformat": 2,
  "kernelspec": {
   "name": "final_project",
   "display_name": "final_project",
   "language": "python"
  }
 },
 "nbformat": 4,
 "nbformat_minor": 2,
 "cells": [
  {
   "cell_type": "code",
   "execution_count": 1,
   "metadata": {},
   "outputs": [],
   "source": [
    "import pandas as pd\n",
    "import numpy as np\n",
    "from tqdm import tqdm"
   ]
  },
  {
   "source": [
    "## 특정 클래스를 입력하먼 그 클래스에 해당하는 이미지가 어느 압축파일의 어떤 폴더안에 있는지 정보추출"
   ],
   "cell_type": "markdown",
   "metadata": {}
  },
  {
   "cell_type": "code",
   "execution_count": 2,
   "metadata": {},
   "outputs": [
    {
     "output_type": "execute_result",
     "data": {
      "text/plain": [
       "        root_folder sub_folder     xml_name          file_name  occluded  \\\n",
       "0        Bbox_5_new  Bbox_0425  0724_09.xml  MP_SEL_083801.jpg         0   \n",
       "1        Bbox_5_new  Bbox_0425  0724_09.xml  MP_SEL_083801.jpg         1   \n",
       "2        Bbox_5_new  Bbox_0425  0724_09.xml  MP_SEL_083801.jpg         1   \n",
       "3        Bbox_5_new  Bbox_0425  0724_09.xml  MP_SEL_083801.jpg         1   \n",
       "4        Bbox_5_new  Bbox_0425  0724_09.xml  MP_SEL_083801.jpg         0   \n",
       "...             ...        ...          ...                ...       ...   \n",
       "1175128  Bbox_6_new  Bbox_0489  0731_16.xml  MP_KSC_015200.jpg         1   \n",
       "1175129  Bbox_6_new  Bbox_0489  0731_16.xml  MP_KSC_015200.jpg         0   \n",
       "1175130  Bbox_6_new  Bbox_0489  0731_16.xml  MP_KSC_015200.jpg         1   \n",
       "1175131  Bbox_6_new  Bbox_0489  0731_16.xml  MP_KSC_015200.jpg         0   \n",
       "1175132  Bbox_6_new  Bbox_0489  0731_16.xml  MP_KSC_015200.jpg         0   \n",
       "\n",
       "            classes                                         box  \n",
       "0            person  ['1103.81', '302.24', '1132.94', '413.79']  \n",
       "1               car   ['996.33', '331.70', '1064.00', '376.74']  \n",
       "2               car  ['1453.76', '303.06', '1920.00', '582.54']  \n",
       "3               car  ['1239.26', '308.36', '1489.12', '452.03']  \n",
       "4               car   ['926.36', '322.08', '1004.51', '381.65']  \n",
       "...             ...                                         ...  \n",
       "1175128         car      ['0.00', '314.23', '356.50', '735.70']  \n",
       "1175129  motorcycle  ['1379.80', '363.16', '1552.34', '592.44']  \n",
       "1175130         car     ['99.80', '344.00', '732.00', '586.90']  \n",
       "1175131      person  ['1130.01', '377.06', '1184.10', '520.30']  \n",
       "1175132      person  ['1172.43', '373.72', '1227.20', '521.20']  \n",
       "\n",
       "[1175133 rows x 7 columns]"
      ],
      "text/html": "<div>\n<style scoped>\n    .dataframe tbody tr th:only-of-type {\n        vertical-align: middle;\n    }\n\n    .dataframe tbody tr th {\n        vertical-align: top;\n    }\n\n    .dataframe thead th {\n        text-align: right;\n    }\n</style>\n<table border=\"1\" class=\"dataframe\">\n  <thead>\n    <tr style=\"text-align: right;\">\n      <th></th>\n      <th>root_folder</th>\n      <th>sub_folder</th>\n      <th>xml_name</th>\n      <th>file_name</th>\n      <th>occluded</th>\n      <th>classes</th>\n      <th>box</th>\n    </tr>\n  </thead>\n  <tbody>\n    <tr>\n      <th>0</th>\n      <td>Bbox_5_new</td>\n      <td>Bbox_0425</td>\n      <td>0724_09.xml</td>\n      <td>MP_SEL_083801.jpg</td>\n      <td>0</td>\n      <td>person</td>\n      <td>['1103.81', '302.24', '1132.94', '413.79']</td>\n    </tr>\n    <tr>\n      <th>1</th>\n      <td>Bbox_5_new</td>\n      <td>Bbox_0425</td>\n      <td>0724_09.xml</td>\n      <td>MP_SEL_083801.jpg</td>\n      <td>1</td>\n      <td>car</td>\n      <td>['996.33', '331.70', '1064.00', '376.74']</td>\n    </tr>\n    <tr>\n      <th>2</th>\n      <td>Bbox_5_new</td>\n      <td>Bbox_0425</td>\n      <td>0724_09.xml</td>\n      <td>MP_SEL_083801.jpg</td>\n      <td>1</td>\n      <td>car</td>\n      <td>['1453.76', '303.06', '1920.00', '582.54']</td>\n    </tr>\n    <tr>\n      <th>3</th>\n      <td>Bbox_5_new</td>\n      <td>Bbox_0425</td>\n      <td>0724_09.xml</td>\n      <td>MP_SEL_083801.jpg</td>\n      <td>1</td>\n      <td>car</td>\n      <td>['1239.26', '308.36', '1489.12', '452.03']</td>\n    </tr>\n    <tr>\n      <th>4</th>\n      <td>Bbox_5_new</td>\n      <td>Bbox_0425</td>\n      <td>0724_09.xml</td>\n      <td>MP_SEL_083801.jpg</td>\n      <td>0</td>\n      <td>car</td>\n      <td>['926.36', '322.08', '1004.51', '381.65']</td>\n    </tr>\n    <tr>\n      <th>...</th>\n      <td>...</td>\n      <td>...</td>\n      <td>...</td>\n      <td>...</td>\n      <td>...</td>\n      <td>...</td>\n      <td>...</td>\n    </tr>\n    <tr>\n      <th>1175128</th>\n      <td>Bbox_6_new</td>\n      <td>Bbox_0489</td>\n      <td>0731_16.xml</td>\n      <td>MP_KSC_015200.jpg</td>\n      <td>1</td>\n      <td>car</td>\n      <td>['0.00', '314.23', '356.50', '735.70']</td>\n    </tr>\n    <tr>\n      <th>1175129</th>\n      <td>Bbox_6_new</td>\n      <td>Bbox_0489</td>\n      <td>0731_16.xml</td>\n      <td>MP_KSC_015200.jpg</td>\n      <td>0</td>\n      <td>motorcycle</td>\n      <td>['1379.80', '363.16', '1552.34', '592.44']</td>\n    </tr>\n    <tr>\n      <th>1175130</th>\n      <td>Bbox_6_new</td>\n      <td>Bbox_0489</td>\n      <td>0731_16.xml</td>\n      <td>MP_KSC_015200.jpg</td>\n      <td>1</td>\n      <td>car</td>\n      <td>['99.80', '344.00', '732.00', '586.90']</td>\n    </tr>\n    <tr>\n      <th>1175131</th>\n      <td>Bbox_6_new</td>\n      <td>Bbox_0489</td>\n      <td>0731_16.xml</td>\n      <td>MP_KSC_015200.jpg</td>\n      <td>0</td>\n      <td>person</td>\n      <td>['1130.01', '377.06', '1184.10', '520.30']</td>\n    </tr>\n    <tr>\n      <th>1175132</th>\n      <td>Bbox_6_new</td>\n      <td>Bbox_0489</td>\n      <td>0731_16.xml</td>\n      <td>MP_KSC_015200.jpg</td>\n      <td>0</td>\n      <td>person</td>\n      <td>['1172.43', '373.72', '1227.20', '521.20']</td>\n    </tr>\n  </tbody>\n</table>\n<p>1175133 rows × 7 columns</p>\n</div>"
     },
     "metadata": {},
     "execution_count": 2
    }
   ],
   "source": [
    "df = pd.read_csv('XML_filtered(1_13).csv')\n",
    "df"
   ]
  },
  {
   "cell_type": "code",
   "execution_count": 3,
   "metadata": {},
   "outputs": [
    {
     "output_type": "stream",
     "name": "stdout",
     "text": [
      "car : 554925, 47.22%\nperson : 296748, 25.25%\ntraffic_light : 106971, 9.10%\ntruck : 94191, 8.02%\nmotorcycle : 42920, 3.65%\nbicycle : 37138, 3.16%\nbus : 32820, 2.79%\ncarrier : 6904, 0.59%\nstroller : 1389, 0.12%\nscooter : 641, 0.05%\nwheelchair : 486, 0.04%\n"
     ]
    }
   ],
   "source": [
    "total_annotations = len(df)\n",
    "for k,v in df['classes'].value_counts().to_dict().items():\n",
    "    print(f'{k} : {v}, {v/total_annotations*100:.2f}%')\n"
   ]
  },
  {
   "cell_type": "code",
   "execution_count": 4,
   "metadata": {},
   "outputs": [
    {
     "output_type": "execute_result",
     "data": {
      "text/plain": [
       "         root_folder sub_folder     xml_name           file_name  occluded  \\\n",
       "4291     Bbox_11_new  Bbox_0741  0827_08.xml  MP_SEL_B042858.jpg         0   \n",
       "20646    Bbox_13_new  Bbox_0837  0917_01.xml  MP_SEL_B073940.jpg         1   \n",
       "22611    Bbox_13_new  Bbox_0833  0916_16.xml  MP_SEL_B072742.jpg         0   \n",
       "29734     Bbox_7_new  Bbox_0534  0801_45.xml   MP_SEL_093329.jpg         0   \n",
       "33409    Bbox_12_new  Bbox_0784  0903_16.xml  MP_SEL_B055689.jpg         0   \n",
       "...              ...        ...          ...                 ...       ...   \n",
       "1164826   Bbox_3_new  Bbox_0262  0712_02.xml   MP_SEL_047185.jpg         1   \n",
       "1167519  Bbox_13_new  Bbox_0839  0917_03.xml  MP_SEL_B074371.jpg         1   \n",
       "1169456   Bbox_2_new  Bbox_0197  0708_17.xml   MP_SEL_034201.jpg         0   \n",
       "1175036   Bbox_6_new  Bbox_0489  0731_16.xml   MP_KSC_015187.jpg         1   \n",
       "1175045   Bbox_6_new  Bbox_0489  0731_16.xml   MP_KSC_015188.jpg         1   \n",
       "\n",
       "            classes                                         box  \n",
       "4291     wheelchair   ['985.80', '579.12', '1060.20', '719.10']  \n",
       "20646    wheelchair  ['1323.28', '562.37', '1690.94', '907.43']  \n",
       "22611    wheelchair   ['453.30', '497.46', '877.10', '1077.20']  \n",
       "29734    wheelchair    ['169.00', '554.50', '410.20', '900.00']  \n",
       "33409    wheelchair    ['650.99', '439.42', '745.80', '590.40']  \n",
       "...             ...                                         ...  \n",
       "1164826  wheelchair    ['185.04', '572.41', '235.99', '637.59']  \n",
       "1167519  wheelchair    ['448.90', '438.68', '530.92', '531.10']  \n",
       "1169456  wheelchair  ['1330.95', '496.72', '1559.67', '784.99']  \n",
       "1175036  wheelchair    ['771.76', '451.93', '931.42', '565.70']  \n",
       "1175045  wheelchair    ['431.00', '448.95', '694.34', '675.23']  \n",
       "\n",
       "[486 rows x 7 columns]"
      ],
      "text/html": "<div>\n<style scoped>\n    .dataframe tbody tr th:only-of-type {\n        vertical-align: middle;\n    }\n\n    .dataframe tbody tr th {\n        vertical-align: top;\n    }\n\n    .dataframe thead th {\n        text-align: right;\n    }\n</style>\n<table border=\"1\" class=\"dataframe\">\n  <thead>\n    <tr style=\"text-align: right;\">\n      <th></th>\n      <th>root_folder</th>\n      <th>sub_folder</th>\n      <th>xml_name</th>\n      <th>file_name</th>\n      <th>occluded</th>\n      <th>classes</th>\n      <th>box</th>\n    </tr>\n  </thead>\n  <tbody>\n    <tr>\n      <th>4291</th>\n      <td>Bbox_11_new</td>\n      <td>Bbox_0741</td>\n      <td>0827_08.xml</td>\n      <td>MP_SEL_B042858.jpg</td>\n      <td>0</td>\n      <td>wheelchair</td>\n      <td>['985.80', '579.12', '1060.20', '719.10']</td>\n    </tr>\n    <tr>\n      <th>20646</th>\n      <td>Bbox_13_new</td>\n      <td>Bbox_0837</td>\n      <td>0917_01.xml</td>\n      <td>MP_SEL_B073940.jpg</td>\n      <td>1</td>\n      <td>wheelchair</td>\n      <td>['1323.28', '562.37', '1690.94', '907.43']</td>\n    </tr>\n    <tr>\n      <th>22611</th>\n      <td>Bbox_13_new</td>\n      <td>Bbox_0833</td>\n      <td>0916_16.xml</td>\n      <td>MP_SEL_B072742.jpg</td>\n      <td>0</td>\n      <td>wheelchair</td>\n      <td>['453.30', '497.46', '877.10', '1077.20']</td>\n    </tr>\n    <tr>\n      <th>29734</th>\n      <td>Bbox_7_new</td>\n      <td>Bbox_0534</td>\n      <td>0801_45.xml</td>\n      <td>MP_SEL_093329.jpg</td>\n      <td>0</td>\n      <td>wheelchair</td>\n      <td>['169.00', '554.50', '410.20', '900.00']</td>\n    </tr>\n    <tr>\n      <th>33409</th>\n      <td>Bbox_12_new</td>\n      <td>Bbox_0784</td>\n      <td>0903_16.xml</td>\n      <td>MP_SEL_B055689.jpg</td>\n      <td>0</td>\n      <td>wheelchair</td>\n      <td>['650.99', '439.42', '745.80', '590.40']</td>\n    </tr>\n    <tr>\n      <th>...</th>\n      <td>...</td>\n      <td>...</td>\n      <td>...</td>\n      <td>...</td>\n      <td>...</td>\n      <td>...</td>\n      <td>...</td>\n    </tr>\n    <tr>\n      <th>1164826</th>\n      <td>Bbox_3_new</td>\n      <td>Bbox_0262</td>\n      <td>0712_02.xml</td>\n      <td>MP_SEL_047185.jpg</td>\n      <td>1</td>\n      <td>wheelchair</td>\n      <td>['185.04', '572.41', '235.99', '637.59']</td>\n    </tr>\n    <tr>\n      <th>1167519</th>\n      <td>Bbox_13_new</td>\n      <td>Bbox_0839</td>\n      <td>0917_03.xml</td>\n      <td>MP_SEL_B074371.jpg</td>\n      <td>1</td>\n      <td>wheelchair</td>\n      <td>['448.90', '438.68', '530.92', '531.10']</td>\n    </tr>\n    <tr>\n      <th>1169456</th>\n      <td>Bbox_2_new</td>\n      <td>Bbox_0197</td>\n      <td>0708_17.xml</td>\n      <td>MP_SEL_034201.jpg</td>\n      <td>0</td>\n      <td>wheelchair</td>\n      <td>['1330.95', '496.72', '1559.67', '784.99']</td>\n    </tr>\n    <tr>\n      <th>1175036</th>\n      <td>Bbox_6_new</td>\n      <td>Bbox_0489</td>\n      <td>0731_16.xml</td>\n      <td>MP_KSC_015187.jpg</td>\n      <td>1</td>\n      <td>wheelchair</td>\n      <td>['771.76', '451.93', '931.42', '565.70']</td>\n    </tr>\n    <tr>\n      <th>1175045</th>\n      <td>Bbox_6_new</td>\n      <td>Bbox_0489</td>\n      <td>0731_16.xml</td>\n      <td>MP_KSC_015188.jpg</td>\n      <td>1</td>\n      <td>wheelchair</td>\n      <td>['431.00', '448.95', '694.34', '675.23']</td>\n    </tr>\n  </tbody>\n</table>\n<p>486 rows × 7 columns</p>\n</div>"
     },
     "metadata": {},
     "execution_count": 4
    }
   ],
   "source": [
    "wheel_chair_df = df[df['classes']=='wheelchair']\n",
    "wheel_chair_df"
   ]
  },
  {
   "cell_type": "code",
   "execution_count": 5,
   "metadata": {},
   "outputs": [
    {
     "output_type": "execute_result",
     "data": {
      "text/plain": [
       "         root_folder sub_folder     xml_name           file_name  occluded  \\\n",
       "29734     Bbox_7_new  Bbox_0534  0801_45.xml   MP_SEL_093329.jpg         0   \n",
       "53189     Bbox_8_new  Bbox_0608  0810_27.xml   MP_SEL_119955.jpg         1   \n",
       "72991     Bbox_9_new  Bbox_0688  0820_22.xml  MP_SEL_B025840.jpg         0   \n",
       "76289    Bbox_10_new  Bbox_0720  0826_11.xml  MP_SEL_B035467.jpg         1   \n",
       "81437     Bbox_7_new  Bbox_0589  0809_14.xml  MP_SEL_B003417.jpg         0   \n",
       "...              ...        ...          ...                 ...       ...   \n",
       "1152135   Bbox_8_new  Bbox_0631  0812_19.xml   MP_SEL_122005.jpg         1   \n",
       "1158311   Bbox_8_new  Bbox_0599  0810_07.xml   MP_SEL_116887.jpg         0   \n",
       "1159371   Bbox_8_new  Bbox_0599  0810_07.xml   MP_SEL_117065.jpg         0   \n",
       "1175036   Bbox_6_new  Bbox_0489  0731_16.xml   MP_KSC_015187.jpg         1   \n",
       "1175045   Bbox_6_new  Bbox_0489  0731_16.xml   MP_KSC_015188.jpg         1   \n",
       "\n",
       "            classes                                         box  \n",
       "29734    wheelchair    ['169.00', '554.50', '410.20', '900.00']  \n",
       "53189    wheelchair  ['1743.92', '401.43', '1812.48', '462.77']  \n",
       "72991    wheelchair   ['898.63', '551.71', '1003.60', '707.90']  \n",
       "76289    wheelchair    ['623.00', '545.24', '738.60', '766.10']  \n",
       "81437    wheelchair   ['982.46', '437.76', '1036.40', '509.20']  \n",
       "...             ...                                         ...  \n",
       "1152135  wheelchair   ['930.20', '468.00', '1020.00', '593.00']  \n",
       "1158311  wheelchair    ['354.08', '464.53', '438.50', '535.50']  \n",
       "1159371  wheelchair    ['670.65', '451.99', '918.87', '884.00']  \n",
       "1175036  wheelchair    ['771.76', '451.93', '931.42', '565.70']  \n",
       "1175045  wheelchair    ['431.00', '448.95', '694.34', '675.23']  \n",
       "\n",
       "[189 rows x 7 columns]"
      ],
      "text/html": "<div>\n<style scoped>\n    .dataframe tbody tr th:only-of-type {\n        vertical-align: middle;\n    }\n\n    .dataframe tbody tr th {\n        vertical-align: top;\n    }\n\n    .dataframe thead th {\n        text-align: right;\n    }\n</style>\n<table border=\"1\" class=\"dataframe\">\n  <thead>\n    <tr style=\"text-align: right;\">\n      <th></th>\n      <th>root_folder</th>\n      <th>sub_folder</th>\n      <th>xml_name</th>\n      <th>file_name</th>\n      <th>occluded</th>\n      <th>classes</th>\n      <th>box</th>\n    </tr>\n  </thead>\n  <tbody>\n    <tr>\n      <th>29734</th>\n      <td>Bbox_7_new</td>\n      <td>Bbox_0534</td>\n      <td>0801_45.xml</td>\n      <td>MP_SEL_093329.jpg</td>\n      <td>0</td>\n      <td>wheelchair</td>\n      <td>['169.00', '554.50', '410.20', '900.00']</td>\n    </tr>\n    <tr>\n      <th>53189</th>\n      <td>Bbox_8_new</td>\n      <td>Bbox_0608</td>\n      <td>0810_27.xml</td>\n      <td>MP_SEL_119955.jpg</td>\n      <td>1</td>\n      <td>wheelchair</td>\n      <td>['1743.92', '401.43', '1812.48', '462.77']</td>\n    </tr>\n    <tr>\n      <th>72991</th>\n      <td>Bbox_9_new</td>\n      <td>Bbox_0688</td>\n      <td>0820_22.xml</td>\n      <td>MP_SEL_B025840.jpg</td>\n      <td>0</td>\n      <td>wheelchair</td>\n      <td>['898.63', '551.71', '1003.60', '707.90']</td>\n    </tr>\n    <tr>\n      <th>76289</th>\n      <td>Bbox_10_new</td>\n      <td>Bbox_0720</td>\n      <td>0826_11.xml</td>\n      <td>MP_SEL_B035467.jpg</td>\n      <td>1</td>\n      <td>wheelchair</td>\n      <td>['623.00', '545.24', '738.60', '766.10']</td>\n    </tr>\n    <tr>\n      <th>81437</th>\n      <td>Bbox_7_new</td>\n      <td>Bbox_0589</td>\n      <td>0809_14.xml</td>\n      <td>MP_SEL_B003417.jpg</td>\n      <td>0</td>\n      <td>wheelchair</td>\n      <td>['982.46', '437.76', '1036.40', '509.20']</td>\n    </tr>\n    <tr>\n      <th>...</th>\n      <td>...</td>\n      <td>...</td>\n      <td>...</td>\n      <td>...</td>\n      <td>...</td>\n      <td>...</td>\n      <td>...</td>\n    </tr>\n    <tr>\n      <th>1152135</th>\n      <td>Bbox_8_new</td>\n      <td>Bbox_0631</td>\n      <td>0812_19.xml</td>\n      <td>MP_SEL_122005.jpg</td>\n      <td>1</td>\n      <td>wheelchair</td>\n      <td>['930.20', '468.00', '1020.00', '593.00']</td>\n    </tr>\n    <tr>\n      <th>1158311</th>\n      <td>Bbox_8_new</td>\n      <td>Bbox_0599</td>\n      <td>0810_07.xml</td>\n      <td>MP_SEL_116887.jpg</td>\n      <td>0</td>\n      <td>wheelchair</td>\n      <td>['354.08', '464.53', '438.50', '535.50']</td>\n    </tr>\n    <tr>\n      <th>1159371</th>\n      <td>Bbox_8_new</td>\n      <td>Bbox_0599</td>\n      <td>0810_07.xml</td>\n      <td>MP_SEL_117065.jpg</td>\n      <td>0</td>\n      <td>wheelchair</td>\n      <td>['670.65', '451.99', '918.87', '884.00']</td>\n    </tr>\n    <tr>\n      <th>1175036</th>\n      <td>Bbox_6_new</td>\n      <td>Bbox_0489</td>\n      <td>0731_16.xml</td>\n      <td>MP_KSC_015187.jpg</td>\n      <td>1</td>\n      <td>wheelchair</td>\n      <td>['771.76', '451.93', '931.42', '565.70']</td>\n    </tr>\n    <tr>\n      <th>1175045</th>\n      <td>Bbox_6_new</td>\n      <td>Bbox_0489</td>\n      <td>0731_16.xml</td>\n      <td>MP_KSC_015188.jpg</td>\n      <td>1</td>\n      <td>wheelchair</td>\n      <td>['431.00', '448.95', '694.34', '675.23']</td>\n    </tr>\n  </tbody>\n</table>\n<p>189 rows × 7 columns</p>\n</div>"
     },
     "metadata": {},
     "execution_count": 5
    }
   ],
   "source": [
    "#특정 zip 에 존재하는 wheelchair box 개수 파악\n",
    "target = ['Bbox_6_new', 'Bbox_7_new', 'Bbox_8_new', 'Bbox_9_new','Bbox_10_new']\n",
    "wheel_chair_df[wheel_chair_df['root_folder'].isin(target)]"
   ]
  },
  {
   "cell_type": "code",
   "execution_count": 6,
   "metadata": {},
   "outputs": [
    {
     "output_type": "stream",
     "name": "stdout",
     "text": [
      "['Bbox_10_new', 'Bbox_11_new', 'Bbox_12_new', 'Bbox_13_new', 'Bbox_1_new', 'Bbox_2_new', 'Bbox_3_new', 'Bbox_4_new', 'Bbox_5_new', 'Bbox_6_new', 'Bbox_7_new', 'Bbox_8_new', 'Bbox_9_new']\n"
     ]
    }
   ],
   "source": [
    "# carrier 갯수를 파악해야한다.\n",
    "carrier_df = df[df['classes']=='carrier']\n",
    "# 혹시나 빠지는 zip file 이 있는지 확인\n",
    "print(sorted(set(carrier_df['root_folder'].to_list())))"
   ]
  },
  {
   "cell_type": "code",
   "execution_count": 7,
   "metadata": {},
   "outputs": [
    {
     "output_type": "execute_result",
     "data": {
      "text/plain": [
       "             sub_folder  xml_name  file_name  occluded  classes  box\n",
       "root_folder                                                         \n",
       "Bbox_10_new         407       407        407       407      407  407\n",
       "Bbox_11_new         557       557        557       557      557  557\n",
       "Bbox_12_new         479       479        479       479      479  479\n",
       "Bbox_13_new         398       398        398       398      398  398\n",
       "Bbox_1_new          659       659        659       659      659  659\n",
       "Bbox_2_new          628       628        628       628      628  628\n",
       "Bbox_3_new          583       583        583       583      583  583\n",
       "Bbox_4_new          531       531        531       531      531  531\n",
       "Bbox_5_new          457       457        457       457      457  457\n",
       "Bbox_6_new          544       544        544       544      544  544\n",
       "Bbox_7_new          646       646        646       646      646  646\n",
       "Bbox_8_new          534       534        534       534      534  534\n",
       "Bbox_9_new          481       481        481       481      481  481"
      ],
      "text/html": "<div>\n<style scoped>\n    .dataframe tbody tr th:only-of-type {\n        vertical-align: middle;\n    }\n\n    .dataframe tbody tr th {\n        vertical-align: top;\n    }\n\n    .dataframe thead th {\n        text-align: right;\n    }\n</style>\n<table border=\"1\" class=\"dataframe\">\n  <thead>\n    <tr style=\"text-align: right;\">\n      <th></th>\n      <th>sub_folder</th>\n      <th>xml_name</th>\n      <th>file_name</th>\n      <th>occluded</th>\n      <th>classes</th>\n      <th>box</th>\n    </tr>\n    <tr>\n      <th>root_folder</th>\n      <th></th>\n      <th></th>\n      <th></th>\n      <th></th>\n      <th></th>\n      <th></th>\n    </tr>\n  </thead>\n  <tbody>\n    <tr>\n      <th>Bbox_10_new</th>\n      <td>407</td>\n      <td>407</td>\n      <td>407</td>\n      <td>407</td>\n      <td>407</td>\n      <td>407</td>\n    </tr>\n    <tr>\n      <th>Bbox_11_new</th>\n      <td>557</td>\n      <td>557</td>\n      <td>557</td>\n      <td>557</td>\n      <td>557</td>\n      <td>557</td>\n    </tr>\n    <tr>\n      <th>Bbox_12_new</th>\n      <td>479</td>\n      <td>479</td>\n      <td>479</td>\n      <td>479</td>\n      <td>479</td>\n      <td>479</td>\n    </tr>\n    <tr>\n      <th>Bbox_13_new</th>\n      <td>398</td>\n      <td>398</td>\n      <td>398</td>\n      <td>398</td>\n      <td>398</td>\n      <td>398</td>\n    </tr>\n    <tr>\n      <th>Bbox_1_new</th>\n      <td>659</td>\n      <td>659</td>\n      <td>659</td>\n      <td>659</td>\n      <td>659</td>\n      <td>659</td>\n    </tr>\n    <tr>\n      <th>Bbox_2_new</th>\n      <td>628</td>\n      <td>628</td>\n      <td>628</td>\n      <td>628</td>\n      <td>628</td>\n      <td>628</td>\n    </tr>\n    <tr>\n      <th>Bbox_3_new</th>\n      <td>583</td>\n      <td>583</td>\n      <td>583</td>\n      <td>583</td>\n      <td>583</td>\n      <td>583</td>\n    </tr>\n    <tr>\n      <th>Bbox_4_new</th>\n      <td>531</td>\n      <td>531</td>\n      <td>531</td>\n      <td>531</td>\n      <td>531</td>\n      <td>531</td>\n    </tr>\n    <tr>\n      <th>Bbox_5_new</th>\n      <td>457</td>\n      <td>457</td>\n      <td>457</td>\n      <td>457</td>\n      <td>457</td>\n      <td>457</td>\n    </tr>\n    <tr>\n      <th>Bbox_6_new</th>\n      <td>544</td>\n      <td>544</td>\n      <td>544</td>\n      <td>544</td>\n      <td>544</td>\n      <td>544</td>\n    </tr>\n    <tr>\n      <th>Bbox_7_new</th>\n      <td>646</td>\n      <td>646</td>\n      <td>646</td>\n      <td>646</td>\n      <td>646</td>\n      <td>646</td>\n    </tr>\n    <tr>\n      <th>Bbox_8_new</th>\n      <td>534</td>\n      <td>534</td>\n      <td>534</td>\n      <td>534</td>\n      <td>534</td>\n      <td>534</td>\n    </tr>\n    <tr>\n      <th>Bbox_9_new</th>\n      <td>481</td>\n      <td>481</td>\n      <td>481</td>\n      <td>481</td>\n      <td>481</td>\n      <td>481</td>\n    </tr>\n  </tbody>\n</table>\n</div>"
     },
     "metadata": {},
     "execution_count": 7
    }
   ],
   "source": [
    "carrier_df.groupby('root_folder').count()"
   ]
  },
  {
   "cell_type": "code",
   "execution_count": 8,
   "metadata": {},
   "outputs": [
    {
     "output_type": "stream",
     "name": "stdout",
     "text": [
      "['person', 'car', 'truck', 'motorcycle', 'bicycle', 'carrier', 'bus', 'traffic_light', 'scooter', 'stroller', 'wheelchair']\n"
     ]
    }
   ],
   "source": [
    "print(df['classes'].drop_duplicates().to_list())"
   ]
  },
  {
   "cell_type": "code",
   "execution_count": 27,
   "metadata": {},
   "outputs": [
    {
     "output_type": "execute_result",
     "data": {
      "text/plain": [
       "{'car': 1060,\n",
       " 'person': 565,\n",
       " 'truck': 208,\n",
       " 'traffic_light': 113,\n",
       " 'bicycle': 86,\n",
       " 'motorcycle': 75,\n",
       " 'bus': 33,\n",
       " 'carrier': 7,\n",
       " 'scooter': 2}"
      ]
     },
     "metadata": {},
     "execution_count": 27
    }
   ],
   "source": [
    "df[df['sub_folder']==f_name]['classes'].value_counts().to_dict()\n"
   ]
  },
  {
   "cell_type": "code",
   "execution_count": 32,
   "metadata": {},
   "outputs": [
    {
     "output_type": "stream",
     "name": "stdout",
     "text": [
      "65.3 ms ± 2.71 ms per loop (mean ± std. dev. of 7 runs, 10 loops each)\n"
     ]
    }
   ],
   "source": [
    "%%timeit\n",
    "\n",
    "df[df['file_name'] == 'MP_SEL_093329.jpg'].values"
   ]
  },
  {
   "cell_type": "code",
   "execution_count": 33,
   "metadata": {},
   "outputs": [
    {
     "output_type": "stream",
     "name": "stdout",
     "text": [
      "65.9 ms ± 3.55 ms per loop (mean ± std. dev. of 7 runs, 10 loops each)\n"
     ]
    }
   ],
   "source": [
    "%%timeit\n",
    "df[df['file_name'] == 'MP_SEL_093329.jpg'].to_dict('records')"
   ]
  },
  {
   "cell_type": "code",
   "execution_count": 21,
   "metadata": {},
   "outputs": [
    {
     "output_type": "stream",
     "name": "stderr",
     "text": [
      "1175133it [00:05, 196980.75it/s]\n"
     ]
    },
    {
     "output_type": "execute_result",
     "data": {
      "text/plain": [
       "        root_folder sub_folder          file_name  person  car  truck  \\\n",
       "0        Bbox_5_new  Bbox_0425  MP_SEL_083801.jpg       1    0      0   \n",
       "1        Bbox_5_new  Bbox_0425  MP_SEL_083801.jpg       0    1      0   \n",
       "2        Bbox_5_new  Bbox_0425  MP_SEL_083801.jpg       0    1      0   \n",
       "3        Bbox_5_new  Bbox_0425  MP_SEL_083801.jpg       0    1      0   \n",
       "4        Bbox_5_new  Bbox_0425  MP_SEL_083801.jpg       0    1      0   \n",
       "...             ...        ...                ...     ...  ...    ...   \n",
       "1175128  Bbox_6_new  Bbox_0489  MP_KSC_015200.jpg       0    1      0   \n",
       "1175129  Bbox_6_new  Bbox_0489  MP_KSC_015200.jpg       0    0      0   \n",
       "1175130  Bbox_6_new  Bbox_0489  MP_KSC_015200.jpg       0    1      0   \n",
       "1175131  Bbox_6_new  Bbox_0489  MP_KSC_015200.jpg       1    0      0   \n",
       "1175132  Bbox_6_new  Bbox_0489  MP_KSC_015200.jpg       1    0      0   \n",
       "\n",
       "         motorcycle  bicycle  carrier  bus  traffic_light  scooter  stroller  \\\n",
       "0                 0        0        0    0              0        0         0   \n",
       "1                 0        0        0    0              0        0         0   \n",
       "2                 0        0        0    0              0        0         0   \n",
       "3                 0        0        0    0              0        0         0   \n",
       "4                 0        0        0    0              0        0         0   \n",
       "...             ...      ...      ...  ...            ...      ...       ...   \n",
       "1175128           0        0        0    0              0        0         0   \n",
       "1175129           1        0        0    0              0        0         0   \n",
       "1175130           0        0        0    0              0        0         0   \n",
       "1175131           0        0        0    0              0        0         0   \n",
       "1175132           0        0        0    0              0        0         0   \n",
       "\n",
       "         wheelchair  \n",
       "0                 0  \n",
       "1                 0  \n",
       "2                 0  \n",
       "3                 0  \n",
       "4                 0  \n",
       "...             ...  \n",
       "1175128           0  \n",
       "1175129           0  \n",
       "1175130           0  \n",
       "1175131           0  \n",
       "1175132           0  \n",
       "\n",
       "[1175133 rows x 14 columns]"
      ],
      "text/html": "<div>\n<style scoped>\n    .dataframe tbody tr th:only-of-type {\n        vertical-align: middle;\n    }\n\n    .dataframe tbody tr th {\n        vertical-align: top;\n    }\n\n    .dataframe thead th {\n        text-align: right;\n    }\n</style>\n<table border=\"1\" class=\"dataframe\">\n  <thead>\n    <tr style=\"text-align: right;\">\n      <th></th>\n      <th>root_folder</th>\n      <th>sub_folder</th>\n      <th>file_name</th>\n      <th>person</th>\n      <th>car</th>\n      <th>truck</th>\n      <th>motorcycle</th>\n      <th>bicycle</th>\n      <th>carrier</th>\n      <th>bus</th>\n      <th>traffic_light</th>\n      <th>scooter</th>\n      <th>stroller</th>\n      <th>wheelchair</th>\n    </tr>\n  </thead>\n  <tbody>\n    <tr>\n      <th>0</th>\n      <td>Bbox_5_new</td>\n      <td>Bbox_0425</td>\n      <td>MP_SEL_083801.jpg</td>\n      <td>1</td>\n      <td>0</td>\n      <td>0</td>\n      <td>0</td>\n      <td>0</td>\n      <td>0</td>\n      <td>0</td>\n      <td>0</td>\n      <td>0</td>\n      <td>0</td>\n      <td>0</td>\n    </tr>\n    <tr>\n      <th>1</th>\n      <td>Bbox_5_new</td>\n      <td>Bbox_0425</td>\n      <td>MP_SEL_083801.jpg</td>\n      <td>0</td>\n      <td>1</td>\n      <td>0</td>\n      <td>0</td>\n      <td>0</td>\n      <td>0</td>\n      <td>0</td>\n      <td>0</td>\n      <td>0</td>\n      <td>0</td>\n      <td>0</td>\n    </tr>\n    <tr>\n      <th>2</th>\n      <td>Bbox_5_new</td>\n      <td>Bbox_0425</td>\n      <td>MP_SEL_083801.jpg</td>\n      <td>0</td>\n      <td>1</td>\n      <td>0</td>\n      <td>0</td>\n      <td>0</td>\n      <td>0</td>\n      <td>0</td>\n      <td>0</td>\n      <td>0</td>\n      <td>0</td>\n      <td>0</td>\n    </tr>\n    <tr>\n      <th>3</th>\n      <td>Bbox_5_new</td>\n      <td>Bbox_0425</td>\n      <td>MP_SEL_083801.jpg</td>\n      <td>0</td>\n      <td>1</td>\n      <td>0</td>\n      <td>0</td>\n      <td>0</td>\n      <td>0</td>\n      <td>0</td>\n      <td>0</td>\n      <td>0</td>\n      <td>0</td>\n      <td>0</td>\n    </tr>\n    <tr>\n      <th>4</th>\n      <td>Bbox_5_new</td>\n      <td>Bbox_0425</td>\n      <td>MP_SEL_083801.jpg</td>\n      <td>0</td>\n      <td>1</td>\n      <td>0</td>\n      <td>0</td>\n      <td>0</td>\n      <td>0</td>\n      <td>0</td>\n      <td>0</td>\n      <td>0</td>\n      <td>0</td>\n      <td>0</td>\n    </tr>\n    <tr>\n      <th>...</th>\n      <td>...</td>\n      <td>...</td>\n      <td>...</td>\n      <td>...</td>\n      <td>...</td>\n      <td>...</td>\n      <td>...</td>\n      <td>...</td>\n      <td>...</td>\n      <td>...</td>\n      <td>...</td>\n      <td>...</td>\n      <td>...</td>\n      <td>...</td>\n    </tr>\n    <tr>\n      <th>1175128</th>\n      <td>Bbox_6_new</td>\n      <td>Bbox_0489</td>\n      <td>MP_KSC_015200.jpg</td>\n      <td>0</td>\n      <td>1</td>\n      <td>0</td>\n      <td>0</td>\n      <td>0</td>\n      <td>0</td>\n      <td>0</td>\n      <td>0</td>\n      <td>0</td>\n      <td>0</td>\n      <td>0</td>\n    </tr>\n    <tr>\n      <th>1175129</th>\n      <td>Bbox_6_new</td>\n      <td>Bbox_0489</td>\n      <td>MP_KSC_015200.jpg</td>\n      <td>0</td>\n      <td>0</td>\n      <td>0</td>\n      <td>1</td>\n      <td>0</td>\n      <td>0</td>\n      <td>0</td>\n      <td>0</td>\n      <td>0</td>\n      <td>0</td>\n      <td>0</td>\n    </tr>\n    <tr>\n      <th>1175130</th>\n      <td>Bbox_6_new</td>\n      <td>Bbox_0489</td>\n      <td>MP_KSC_015200.jpg</td>\n      <td>0</td>\n      <td>1</td>\n      <td>0</td>\n      <td>0</td>\n      <td>0</td>\n      <td>0</td>\n      <td>0</td>\n      <td>0</td>\n      <td>0</td>\n      <td>0</td>\n      <td>0</td>\n    </tr>\n    <tr>\n      <th>1175131</th>\n      <td>Bbox_6_new</td>\n      <td>Bbox_0489</td>\n      <td>MP_KSC_015200.jpg</td>\n      <td>1</td>\n      <td>0</td>\n      <td>0</td>\n      <td>0</td>\n      <td>0</td>\n      <td>0</td>\n      <td>0</td>\n      <td>0</td>\n      <td>0</td>\n      <td>0</td>\n      <td>0</td>\n    </tr>\n    <tr>\n      <th>1175132</th>\n      <td>Bbox_6_new</td>\n      <td>Bbox_0489</td>\n      <td>MP_KSC_015200.jpg</td>\n      <td>1</td>\n      <td>0</td>\n      <td>0</td>\n      <td>0</td>\n      <td>0</td>\n      <td>0</td>\n      <td>0</td>\n      <td>0</td>\n      <td>0</td>\n      <td>0</td>\n      <td>0</td>\n    </tr>\n  </tbody>\n</table>\n<p>1175133 rows × 14 columns</p>\n</div>"
     },
     "metadata": {},
     "execution_count": 21
    }
   ],
   "source": [
    "for_dataframe = []\n",
    "dataframe_class = ['root_folder', 'sub_folder', 'file_name', 'person', 'car', 'truck','motorcycle', 'bicycle', 'carrier', 'bus', 'traffic_light', 'scooter', 'stroller', 'wheelchair']\n",
    "# https://blog.naver.com/PostView.nhn?blogId=esak97&logNo=221715216490\n",
    "for i in tqdm(df.itertuples()):\n",
    "    class_counts=dict(person=0, car=0, truck=0, motorcycle=0, bicycle=0, carrier=0, bus=0, traffic_light=0, scooter=0, stroller=0, wheelchair=0)\n",
    "    temp = [getattr(i,'root_folder'), getattr(i,'sub_folder'), getattr(i,'file_name')]\n",
    "    class_counts[getattr(i,'classes')]+=1\n",
    "    temp.extend(list(class_counts.values()))\n",
    "    for_dataframe.append(temp)\n",
    "\n",
    "a = pd.DataFrame(for_dataframe, columns=dataframe_class)\n",
    "a"
   ]
  },
  {
   "cell_type": "code",
   "execution_count": 29,
   "metadata": {},
   "outputs": [
    {
     "output_type": "execute_result",
     "data": {
      "text/plain": [
       "            person  car  truck  motorcycle  bicycle  carrier  bus  \\\n",
       "sub_folder                                                          \n",
       "Bbox_0001       72  538     89          17        9        2   10   \n",
       "Bbox_0002      114  521     94          18       21        1   21   \n",
       "Bbox_0003       97  488     64          25       24        9   24   \n",
       "Bbox_0004      266  442     73          22       24        9   10   \n",
       "Bbox_0005       61  244     38          11        6        6    6   \n",
       "...            ...  ...    ...         ...      ...      ...  ...   \n",
       "Bbox_0856      321  847    155          35       19        4   52   \n",
       "Bbox_0857      343  891    136          46       61        3   47   \n",
       "Bbox_0858      221  797    164          39       30        3   58   \n",
       "Bbox_0859      378  853    138          46       33        9   59   \n",
       "Bbox_0860      313  711    113          48       32        7   42   \n",
       "\n",
       "            traffic_light  scooter  stroller  wheelchair  \n",
       "sub_folder                                                \n",
       "Bbox_0001              26        0         2           2  \n",
       "Bbox_0002              32        0         4           1  \n",
       "Bbox_0003              61        0         0           0  \n",
       "Bbox_0004              23        0         1           3  \n",
       "Bbox_0005               6        0         0           0  \n",
       "...                   ...      ...       ...         ...  \n",
       "Bbox_0856             166        0         0           1  \n",
       "Bbox_0857             175        0         1           2  \n",
       "Bbox_0858             166        0         2           0  \n",
       "Bbox_0859             129        0         1           0  \n",
       "Bbox_0860              99        0         2           0  \n",
       "\n",
       "[860 rows x 11 columns]"
      ],
      "text/html": "<div>\n<style scoped>\n    .dataframe tbody tr th:only-of-type {\n        vertical-align: middle;\n    }\n\n    .dataframe tbody tr th {\n        vertical-align: top;\n    }\n\n    .dataframe thead th {\n        text-align: right;\n    }\n</style>\n<table border=\"1\" class=\"dataframe\">\n  <thead>\n    <tr style=\"text-align: right;\">\n      <th></th>\n      <th>person</th>\n      <th>car</th>\n      <th>truck</th>\n      <th>motorcycle</th>\n      <th>bicycle</th>\n      <th>carrier</th>\n      <th>bus</th>\n      <th>traffic_light</th>\n      <th>scooter</th>\n      <th>stroller</th>\n      <th>wheelchair</th>\n    </tr>\n    <tr>\n      <th>sub_folder</th>\n      <th></th>\n      <th></th>\n      <th></th>\n      <th></th>\n      <th></th>\n      <th></th>\n      <th></th>\n      <th></th>\n      <th></th>\n      <th></th>\n      <th></th>\n    </tr>\n  </thead>\n  <tbody>\n    <tr>\n      <th>Bbox_0001</th>\n      <td>72</td>\n      <td>538</td>\n      <td>89</td>\n      <td>17</td>\n      <td>9</td>\n      <td>2</td>\n      <td>10</td>\n      <td>26</td>\n      <td>0</td>\n      <td>2</td>\n      <td>2</td>\n    </tr>\n    <tr>\n      <th>Bbox_0002</th>\n      <td>114</td>\n      <td>521</td>\n      <td>94</td>\n      <td>18</td>\n      <td>21</td>\n      <td>1</td>\n      <td>21</td>\n      <td>32</td>\n      <td>0</td>\n      <td>4</td>\n      <td>1</td>\n    </tr>\n    <tr>\n      <th>Bbox_0003</th>\n      <td>97</td>\n      <td>488</td>\n      <td>64</td>\n      <td>25</td>\n      <td>24</td>\n      <td>9</td>\n      <td>24</td>\n      <td>61</td>\n      <td>0</td>\n      <td>0</td>\n      <td>0</td>\n    </tr>\n    <tr>\n      <th>Bbox_0004</th>\n      <td>266</td>\n      <td>442</td>\n      <td>73</td>\n      <td>22</td>\n      <td>24</td>\n      <td>9</td>\n      <td>10</td>\n      <td>23</td>\n      <td>0</td>\n      <td>1</td>\n      <td>3</td>\n    </tr>\n    <tr>\n      <th>Bbox_0005</th>\n      <td>61</td>\n      <td>244</td>\n      <td>38</td>\n      <td>11</td>\n      <td>6</td>\n      <td>6</td>\n      <td>6</td>\n      <td>6</td>\n      <td>0</td>\n      <td>0</td>\n      <td>0</td>\n    </tr>\n    <tr>\n      <th>...</th>\n      <td>...</td>\n      <td>...</td>\n      <td>...</td>\n      <td>...</td>\n      <td>...</td>\n      <td>...</td>\n      <td>...</td>\n      <td>...</td>\n      <td>...</td>\n      <td>...</td>\n      <td>...</td>\n    </tr>\n    <tr>\n      <th>Bbox_0856</th>\n      <td>321</td>\n      <td>847</td>\n      <td>155</td>\n      <td>35</td>\n      <td>19</td>\n      <td>4</td>\n      <td>52</td>\n      <td>166</td>\n      <td>0</td>\n      <td>0</td>\n      <td>1</td>\n    </tr>\n    <tr>\n      <th>Bbox_0857</th>\n      <td>343</td>\n      <td>891</td>\n      <td>136</td>\n      <td>46</td>\n      <td>61</td>\n      <td>3</td>\n      <td>47</td>\n      <td>175</td>\n      <td>0</td>\n      <td>1</td>\n      <td>2</td>\n    </tr>\n    <tr>\n      <th>Bbox_0858</th>\n      <td>221</td>\n      <td>797</td>\n      <td>164</td>\n      <td>39</td>\n      <td>30</td>\n      <td>3</td>\n      <td>58</td>\n      <td>166</td>\n      <td>0</td>\n      <td>2</td>\n      <td>0</td>\n    </tr>\n    <tr>\n      <th>Bbox_0859</th>\n      <td>378</td>\n      <td>853</td>\n      <td>138</td>\n      <td>46</td>\n      <td>33</td>\n      <td>9</td>\n      <td>59</td>\n      <td>129</td>\n      <td>0</td>\n      <td>1</td>\n      <td>0</td>\n    </tr>\n    <tr>\n      <th>Bbox_0860</th>\n      <td>313</td>\n      <td>711</td>\n      <td>113</td>\n      <td>48</td>\n      <td>32</td>\n      <td>7</td>\n      <td>42</td>\n      <td>99</td>\n      <td>0</td>\n      <td>2</td>\n      <td>0</td>\n    </tr>\n  </tbody>\n</table>\n<p>860 rows × 11 columns</p>\n</div>"
     },
     "metadata": {},
     "execution_count": 29
    }
   ],
   "source": [
    "a.groupby('sub_folder').sum()"
   ]
  },
  {
   "cell_type": "code",
   "execution_count": 33,
   "metadata": {},
   "outputs": [
    {
     "output_type": "execute_result",
     "data": {
      "text/plain": [
       "         root_folder sub_folder\n",
       "0         Bbox_5_new  Bbox_0425\n",
       "2149     Bbox_12_new  Bbox_0808\n",
       "3452     Bbox_11_new  Bbox_0741\n",
       "5313      Bbox_1_new  Bbox_0006\n",
       "5850      Bbox_8_new  Bbox_0597\n",
       "...              ...        ...\n",
       "1167379  Bbox_13_new  Bbox_0839\n",
       "1169251   Bbox_2_new  Bbox_0197\n",
       "1169743   Bbox_1_new  Bbox_0150\n",
       "1171655   Bbox_9_new  Bbox_0675\n",
       "1173055   Bbox_6_new  Bbox_0489\n",
       "\n",
       "[860 rows x 2 columns]"
      ],
      "text/html": "<div>\n<style scoped>\n    .dataframe tbody tr th:only-of-type {\n        vertical-align: middle;\n    }\n\n    .dataframe tbody tr th {\n        vertical-align: top;\n    }\n\n    .dataframe thead th {\n        text-align: right;\n    }\n</style>\n<table border=\"1\" class=\"dataframe\">\n  <thead>\n    <tr style=\"text-align: right;\">\n      <th></th>\n      <th>root_folder</th>\n      <th>sub_folder</th>\n    </tr>\n  </thead>\n  <tbody>\n    <tr>\n      <th>0</th>\n      <td>Bbox_5_new</td>\n      <td>Bbox_0425</td>\n    </tr>\n    <tr>\n      <th>2149</th>\n      <td>Bbox_12_new</td>\n      <td>Bbox_0808</td>\n    </tr>\n    <tr>\n      <th>3452</th>\n      <td>Bbox_11_new</td>\n      <td>Bbox_0741</td>\n    </tr>\n    <tr>\n      <th>5313</th>\n      <td>Bbox_1_new</td>\n      <td>Bbox_0006</td>\n    </tr>\n    <tr>\n      <th>5850</th>\n      <td>Bbox_8_new</td>\n      <td>Bbox_0597</td>\n    </tr>\n    <tr>\n      <th>...</th>\n      <td>...</td>\n      <td>...</td>\n    </tr>\n    <tr>\n      <th>1167379</th>\n      <td>Bbox_13_new</td>\n      <td>Bbox_0839</td>\n    </tr>\n    <tr>\n      <th>1169251</th>\n      <td>Bbox_2_new</td>\n      <td>Bbox_0197</td>\n    </tr>\n    <tr>\n      <th>1169743</th>\n      <td>Bbox_1_new</td>\n      <td>Bbox_0150</td>\n    </tr>\n    <tr>\n      <th>1171655</th>\n      <td>Bbox_9_new</td>\n      <td>Bbox_0675</td>\n    </tr>\n    <tr>\n      <th>1173055</th>\n      <td>Bbox_6_new</td>\n      <td>Bbox_0489</td>\n    </tr>\n  </tbody>\n</table>\n<p>860 rows × 2 columns</p>\n</div>"
     },
     "metadata": {},
     "execution_count": 33
    }
   ],
   "source": [
    "df[['root_folder','sub_folder']].drop_duplicates()"
   ]
  },
  {
   "cell_type": "code",
   "execution_count": 36,
   "metadata": {},
   "outputs": [],
   "source": [
    "final_result = pd.merge(left=df[['root_folder','sub_folder']].drop_duplicates(), right=a.groupby('sub_folder').sum(), how='inner', on='sub_folder')"
   ]
  },
  {
   "cell_type": "code",
   "execution_count": 39,
   "metadata": {},
   "outputs": [],
   "source": [
    "final_result.sort_values(by=['scooter'], ascending=False).to_csv('xml_1_to_13_sum.csv', sep=',', index=False)"
   ]
  },
  {
   "cell_type": "code",
   "execution_count": 43,
   "metadata": {},
   "outputs": [
    {
     "output_type": "stream",
     "name": "stdout",
     "text": [
      "344 ms ± 12.2 ms per loop (mean ± std. dev. of 7 runs, 1 loop each)\n"
     ]
    }
   ],
   "source": [
    "%%timeit\n",
    "\n",
    "pd.get_dummies(df, columns=['classes'])"
   ]
  },
  {
   "cell_type": "code",
   "execution_count": 45,
   "metadata": {},
   "outputs": [
    {
     "output_type": "execute_result",
     "data": {
      "text/plain": [
       "    root_folder sub_folder  person   car  truck  motorcycle  bicycle  carrier  \\\n",
       "0    Bbox_2_new  Bbox_0250     764   468     64          74       55        2   \n",
       "1    Bbox_4_new  Bbox_0404    1540  1294    243         103       64        1   \n",
       "2   Bbox_11_new  Bbox_0745     277   745     83          99       86       20   \n",
       "3    Bbox_2_new  Bbox_0163     501   738    156         112      116        8   \n",
       "4    Bbox_6_new  Bbox_0522     752   843    202         169      188       18   \n",
       "5    Bbox_1_new  Bbox_0047     229   232     39          14       20        1   \n",
       "6    Bbox_6_new  Bbox_0490     710   988     83          32      108       11   \n",
       "7    Bbox_4_new  Bbox_0342     740   688    135          80       58       26   \n",
       "8    Bbox_6_new  Bbox_0472     205   378     77          24       16        5   \n",
       "9    Bbox_4_new  Bbox_0387    1316   733    113          62       91       14   \n",
       "10   Bbox_5_new  Bbox_0447     215   158     40           7        1        6   \n",
       "11   Bbox_2_new  Bbox_0182     553   611     79          77       76        9   \n",
       "12   Bbox_3_new  Bbox_0290     755  1461    165          94       99        4   \n",
       "13   Bbox_2_new  Bbox_0168     432   690     77          54       64       11   \n",
       "14  Bbox_11_new  Bbox_0741     675   737     85         109       57       13   \n",
       "15   Bbox_2_new  Bbox_0187     617   371     58          24       48        7   \n",
       "16   Bbox_2_new  Bbox_0238     307   669     88          51       23        9   \n",
       "17   Bbox_2_new  Bbox_0157     345   690    125          25       50        7   \n",
       "18   Bbox_2_new  Bbox_0181     555   710    122          60       43       14   \n",
       "19   Bbox_2_new  Bbox_0189     309  1039    158         139      112       20   \n",
       "\n",
       "    bus  traffic_light  scooter  stroller  wheelchair  \n",
       "0    36             59       13         4           0  \n",
       "1   152            223       13         3           0  \n",
       "2    19             96        9         3           1  \n",
       "3    31            155        9         1           0  \n",
       "4    60            251        7         7           4  \n",
       "5     6             16        7         4           1  \n",
       "6    51            180        7         9           0  \n",
       "7    20             90        6         0           0  \n",
       "8    77            280        6         0           0  \n",
       "9    53            234        6         2           0  \n",
       "10    7            150        6         3           0  \n",
       "11   67            118        6         1           1  \n",
       "12    8              7        6         4           0  \n",
       "13   23             61        6         3           0  \n",
       "14   34            143        6         1           1  \n",
       "15   30            127        6         1           1  \n",
       "16   12             23        5        10           1  \n",
       "17   38            101        5         2           0  \n",
       "18   58             92        5         0           1  \n",
       "19   34             95        5         3           1  "
      ],
      "text/html": "<div>\n<style scoped>\n    .dataframe tbody tr th:only-of-type {\n        vertical-align: middle;\n    }\n\n    .dataframe tbody tr th {\n        vertical-align: top;\n    }\n\n    .dataframe thead th {\n        text-align: right;\n    }\n</style>\n<table border=\"1\" class=\"dataframe\">\n  <thead>\n    <tr style=\"text-align: right;\">\n      <th></th>\n      <th>root_folder</th>\n      <th>sub_folder</th>\n      <th>person</th>\n      <th>car</th>\n      <th>truck</th>\n      <th>motorcycle</th>\n      <th>bicycle</th>\n      <th>carrier</th>\n      <th>bus</th>\n      <th>traffic_light</th>\n      <th>scooter</th>\n      <th>stroller</th>\n      <th>wheelchair</th>\n    </tr>\n  </thead>\n  <tbody>\n    <tr>\n      <th>0</th>\n      <td>Bbox_2_new</td>\n      <td>Bbox_0250</td>\n      <td>764</td>\n      <td>468</td>\n      <td>64</td>\n      <td>74</td>\n      <td>55</td>\n      <td>2</td>\n      <td>36</td>\n      <td>59</td>\n      <td>13</td>\n      <td>4</td>\n      <td>0</td>\n    </tr>\n    <tr>\n      <th>1</th>\n      <td>Bbox_4_new</td>\n      <td>Bbox_0404</td>\n      <td>1540</td>\n      <td>1294</td>\n      <td>243</td>\n      <td>103</td>\n      <td>64</td>\n      <td>1</td>\n      <td>152</td>\n      <td>223</td>\n      <td>13</td>\n      <td>3</td>\n      <td>0</td>\n    </tr>\n    <tr>\n      <th>2</th>\n      <td>Bbox_11_new</td>\n      <td>Bbox_0745</td>\n      <td>277</td>\n      <td>745</td>\n      <td>83</td>\n      <td>99</td>\n      <td>86</td>\n      <td>20</td>\n      <td>19</td>\n      <td>96</td>\n      <td>9</td>\n      <td>3</td>\n      <td>1</td>\n    </tr>\n    <tr>\n      <th>3</th>\n      <td>Bbox_2_new</td>\n      <td>Bbox_0163</td>\n      <td>501</td>\n      <td>738</td>\n      <td>156</td>\n      <td>112</td>\n      <td>116</td>\n      <td>8</td>\n      <td>31</td>\n      <td>155</td>\n      <td>9</td>\n      <td>1</td>\n      <td>0</td>\n    </tr>\n    <tr>\n      <th>4</th>\n      <td>Bbox_6_new</td>\n      <td>Bbox_0522</td>\n      <td>752</td>\n      <td>843</td>\n      <td>202</td>\n      <td>169</td>\n      <td>188</td>\n      <td>18</td>\n      <td>60</td>\n      <td>251</td>\n      <td>7</td>\n      <td>7</td>\n      <td>4</td>\n    </tr>\n    <tr>\n      <th>5</th>\n      <td>Bbox_1_new</td>\n      <td>Bbox_0047</td>\n      <td>229</td>\n      <td>232</td>\n      <td>39</td>\n      <td>14</td>\n      <td>20</td>\n      <td>1</td>\n      <td>6</td>\n      <td>16</td>\n      <td>7</td>\n      <td>4</td>\n      <td>1</td>\n    </tr>\n    <tr>\n      <th>6</th>\n      <td>Bbox_6_new</td>\n      <td>Bbox_0490</td>\n      <td>710</td>\n      <td>988</td>\n      <td>83</td>\n      <td>32</td>\n      <td>108</td>\n      <td>11</td>\n      <td>51</td>\n      <td>180</td>\n      <td>7</td>\n      <td>9</td>\n      <td>0</td>\n    </tr>\n    <tr>\n      <th>7</th>\n      <td>Bbox_4_new</td>\n      <td>Bbox_0342</td>\n      <td>740</td>\n      <td>688</td>\n      <td>135</td>\n      <td>80</td>\n      <td>58</td>\n      <td>26</td>\n      <td>20</td>\n      <td>90</td>\n      <td>6</td>\n      <td>0</td>\n      <td>0</td>\n    </tr>\n    <tr>\n      <th>8</th>\n      <td>Bbox_6_new</td>\n      <td>Bbox_0472</td>\n      <td>205</td>\n      <td>378</td>\n      <td>77</td>\n      <td>24</td>\n      <td>16</td>\n      <td>5</td>\n      <td>77</td>\n      <td>280</td>\n      <td>6</td>\n      <td>0</td>\n      <td>0</td>\n    </tr>\n    <tr>\n      <th>9</th>\n      <td>Bbox_4_new</td>\n      <td>Bbox_0387</td>\n      <td>1316</td>\n      <td>733</td>\n      <td>113</td>\n      <td>62</td>\n      <td>91</td>\n      <td>14</td>\n      <td>53</td>\n      <td>234</td>\n      <td>6</td>\n      <td>2</td>\n      <td>0</td>\n    </tr>\n    <tr>\n      <th>10</th>\n      <td>Bbox_5_new</td>\n      <td>Bbox_0447</td>\n      <td>215</td>\n      <td>158</td>\n      <td>40</td>\n      <td>7</td>\n      <td>1</td>\n      <td>6</td>\n      <td>7</td>\n      <td>150</td>\n      <td>6</td>\n      <td>3</td>\n      <td>0</td>\n    </tr>\n    <tr>\n      <th>11</th>\n      <td>Bbox_2_new</td>\n      <td>Bbox_0182</td>\n      <td>553</td>\n      <td>611</td>\n      <td>79</td>\n      <td>77</td>\n      <td>76</td>\n      <td>9</td>\n      <td>67</td>\n      <td>118</td>\n      <td>6</td>\n      <td>1</td>\n      <td>1</td>\n    </tr>\n    <tr>\n      <th>12</th>\n      <td>Bbox_3_new</td>\n      <td>Bbox_0290</td>\n      <td>755</td>\n      <td>1461</td>\n      <td>165</td>\n      <td>94</td>\n      <td>99</td>\n      <td>4</td>\n      <td>8</td>\n      <td>7</td>\n      <td>6</td>\n      <td>4</td>\n      <td>0</td>\n    </tr>\n    <tr>\n      <th>13</th>\n      <td>Bbox_2_new</td>\n      <td>Bbox_0168</td>\n      <td>432</td>\n      <td>690</td>\n      <td>77</td>\n      <td>54</td>\n      <td>64</td>\n      <td>11</td>\n      <td>23</td>\n      <td>61</td>\n      <td>6</td>\n      <td>3</td>\n      <td>0</td>\n    </tr>\n    <tr>\n      <th>14</th>\n      <td>Bbox_11_new</td>\n      <td>Bbox_0741</td>\n      <td>675</td>\n      <td>737</td>\n      <td>85</td>\n      <td>109</td>\n      <td>57</td>\n      <td>13</td>\n      <td>34</td>\n      <td>143</td>\n      <td>6</td>\n      <td>1</td>\n      <td>1</td>\n    </tr>\n    <tr>\n      <th>15</th>\n      <td>Bbox_2_new</td>\n      <td>Bbox_0187</td>\n      <td>617</td>\n      <td>371</td>\n      <td>58</td>\n      <td>24</td>\n      <td>48</td>\n      <td>7</td>\n      <td>30</td>\n      <td>127</td>\n      <td>6</td>\n      <td>1</td>\n      <td>1</td>\n    </tr>\n    <tr>\n      <th>16</th>\n      <td>Bbox_2_new</td>\n      <td>Bbox_0238</td>\n      <td>307</td>\n      <td>669</td>\n      <td>88</td>\n      <td>51</td>\n      <td>23</td>\n      <td>9</td>\n      <td>12</td>\n      <td>23</td>\n      <td>5</td>\n      <td>10</td>\n      <td>1</td>\n    </tr>\n    <tr>\n      <th>17</th>\n      <td>Bbox_2_new</td>\n      <td>Bbox_0157</td>\n      <td>345</td>\n      <td>690</td>\n      <td>125</td>\n      <td>25</td>\n      <td>50</td>\n      <td>7</td>\n      <td>38</td>\n      <td>101</td>\n      <td>5</td>\n      <td>2</td>\n      <td>0</td>\n    </tr>\n    <tr>\n      <th>18</th>\n      <td>Bbox_2_new</td>\n      <td>Bbox_0181</td>\n      <td>555</td>\n      <td>710</td>\n      <td>122</td>\n      <td>60</td>\n      <td>43</td>\n      <td>14</td>\n      <td>58</td>\n      <td>92</td>\n      <td>5</td>\n      <td>0</td>\n      <td>1</td>\n    </tr>\n    <tr>\n      <th>19</th>\n      <td>Bbox_2_new</td>\n      <td>Bbox_0189</td>\n      <td>309</td>\n      <td>1039</td>\n      <td>158</td>\n      <td>139</td>\n      <td>112</td>\n      <td>20</td>\n      <td>34</td>\n      <td>95</td>\n      <td>5</td>\n      <td>3</td>\n      <td>1</td>\n    </tr>\n  </tbody>\n</table>\n</div>"
     },
     "metadata": {},
     "execution_count": 45
    }
   ],
   "source": [
    "test = pd.read_csv('/Users/sm/Documents/workspace/final-project-level3-cv-15/utils/xml_1_to_13_sum.csv')\n",
    "test[:20]"
   ]
  },
  {
   "cell_type": "code",
   "execution_count": null,
   "metadata": {},
   "outputs": [],
   "source": []
  }
 ]
}