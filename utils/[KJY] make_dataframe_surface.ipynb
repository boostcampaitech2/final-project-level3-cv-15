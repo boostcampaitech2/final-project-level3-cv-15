{
 "cells": [
  {
   "cell_type": "code",
   "execution_count": 1,
   "metadata": {},
   "outputs": [],
   "source": [
    "import xmltodict\n",
    "import json\n",
    "from tqdm import tqdm\n",
    "import pandas as pd\n",
    "import os"
   ]
  },
  {
   "cell_type": "markdown",
   "metadata": {},
   "source": [
    "# xml 안에서 데이터 추출\n",
    "- 원하는 데이터들만 json type 으로 변경하고 그에 대한 분포를 dataframe 형태로 만들자\n",
    "- 필요없는 이미지 리스트를 만들어 놓는게 좋을까 고민은 해볼 것(data root 경로를 뺀 상태에서 이미지 리스트를 파일로 저장해두자)"
   ]
  },
  {
   "cell_type": "code",
   "execution_count": 2,
   "metadata": {},
   "outputs": [
    {
     "name": "stdout",
     "output_type": "stream",
     "text": [
      "800\n",
      "Surface_3-Surface_433-573_SM1022_IMT04.xml\n"
     ]
    }
   ],
   "source": [
    "XML_DIR = '/opt/ml/data/team_github/xml'\n",
    "XML_LIST = [i for i in os.listdir(XML_DIR) if i.endswith('.xml')]\n",
    "print(len(XML_LIST))\n",
    "print(XML_LIST[0])"
   ]
  },
  {
   "cell_type": "code",
   "execution_count": 12,
   "metadata": {},
   "outputs": [],
   "source": [
    "# 전체 정보를 가져와서 data frame 형태로 만들어야 한다. -> 그래야 추후에 이미지 검증에도 활용 가능하다\n",
    "# 그 다음에 필요한 클래스를 가지는 좌표를 가진 이미지만 쿼리를 통해서 빼낸다.\n",
    "# 주석 처리한 print 는 검증용이니 확인해보셔도 좋을 것 같아요\n",
    "def extract_xml_info(xml_file):\n",
    "    with open(os.path.join(XML_DIR, xml_file), 'r') as f:\n",
    "        #xml 모양의 str 이어야 동작된다.\n",
    "        raw_xml = xmltodict.parse(f.read())\n",
    "        #자주 사용한 json dict 로 변환하기 위함(ordereddict 가 반환되어 그렇슴)\n",
    "        raw_xml = json.dumps(raw_xml)\n",
    "        xml_to_json = json.loads(raw_xml)\n",
    "\n",
    "    root_folder, sub_folder, xml_name = xml_file.split('-')\n",
    "    # print(root_folder, sub_folder, xml_name)\n",
    "    # print(f\"#images : {len(xml_to_json['annotations']['image'])}\")\n",
    "    #for dataframe\n",
    "    return_list = []\n",
    "    # 이미지 별로\n",
    "    # box_count = 0\n",
    "\n",
    "    for image in xml_to_json['annotations']['image']:\n",
    "        # segmetnation : dict_keys(['@id', '@name', '@width', '@height', 'polygon'])\n",
    "        # {'@label': 'roadway', '@occluded': '0', '@points': '', '@z_order': '2', 'attribute': {'@name': 'attribute', '#text': 'normal'}}\n",
    "        iserror = False\n",
    "        temp_list = []\n",
    "        \n",
    "        if 'polygon' not in image.keys():\n",
    "            print(root_folder, sub_folder, xml_name, image['@name'])\n",
    "            continue\n",
    "\n",
    "        if type(image['polygon']) != list:\n",
    "            # extend 하는 경우에 리스트가 풀어져서 합쳐지기 때문에 dim=2 여야한다.\n",
    "\n",
    "            attribute = image['polygon']['attribute']['#text'] if 'attribute' in image['polygon'].keys() else \"None\"\n",
    "\n",
    "            temp_list = [[root_folder, sub_folder, xml_name, image['@name'],\n",
    "\n",
    "                        image['polygon']['@label'], image['polygon']['@occluded'],\n",
    "                        image['polygon']['@points'], attribute,\n",
    "                        ]]\n",
    "        else:\n",
    "            for polygon in image['polygon']:\n",
    "                \n",
    "                # if type(polygon) != dict:\n",
    "                #     print(root_folder, sub_folder, xml_name, image['@name'], polygon)\n",
    "\n",
    "                try:\n",
    "                    attribute = polygon['attribute']['#text'] if 'attribute' in polygon.keys() else \"None\"\n",
    "                except Exception as ex:\n",
    "                    iserror = True\n",
    "                    print(root_folder, sub_folder, xml_name, image['@name'], polygon, ex)\n",
    "                \n",
    "                if iserror:\n",
    "                    continue\n",
    "\n",
    "                polygon_info = [root_folder, sub_folder, xml_name, image['@name'],\n",
    "                                polygon['@occluded'], polygon['@label'],\n",
    "                                polygon['@points'], attribute,\n",
    "                            ]\n",
    "                temp_list.append(polygon_info)\n",
    "\n",
    "        # 모은 정보를 리턴할 리스트에 extend\n",
    "        # box_count += len(temp_list)\n",
    "        return_list.extend(temp_list)\n",
    "    # print(f'before extracting #box : {box_count}\\t after #box : {len(return_list)}')\n",
    "    return return_list"
   ]
  },
  {
   "cell_type": "code",
   "execution_count": 13,
   "metadata": {},
   "outputs": [
    {
     "name": "stderr",
     "output_type": "stream",
     "text": [
      " 83%|████████▎ | 661/800 [00:07<00:01, 106.82it/s]"
     ]
    },
    {
     "name": "stdout",
     "output_type": "stream",
     "text": [
      "Surface_1 Surface_095 126_SM1001_IMT15.xml MP_SEL_SUR_006997.jpg\n",
      "Surface_1 Surface_095 126_SM1001_IMT15.xml MP_SEL_SUR_006998.jpg\n",
      "Surface_1 Surface_095 126_SM1001_IMT15.xml MP_SEL_SUR_007001.jpg\n"
     ]
    },
    {
     "name": "stderr",
     "output_type": "stream",
     "text": [
      " 86%|████████▌ | 685/800 [00:07<00:01, 110.64it/s]"
     ]
    },
    {
     "name": "stdout",
     "output_type": "stream",
     "text": [
      "Surface_5 Surface_700 705_SM1104_03.xml MP_SEL_SUR_036052.jpg {'@label': 'alley', '@occluded': '0', '@points': '1378.38,0.00;1319.78,209.95;1178.16,185.53;1164.70,238.10;1023.52,198.55;849.35,159.48;673.54,123.67;512.39,96.00;479.30,93.30;473.32,0.00', '@z_order': '1', 'attribute': [{'@name': 'attribute', '#text': 'blocks'}, {'@name': 'attribute', '#text': 'normal'}]} list indices must be integers or slices, not str\n"
     ]
    },
    {
     "name": "stderr",
     "output_type": "stream",
     "text": [
      "100%|██████████| 800/800 [00:08<00:00, 90.95it/s] "
     ]
    },
    {
     "name": "stdout",
     "output_type": "stream",
     "text": [
      "\n",
      "181794\n"
     ]
    },
    {
     "name": "stderr",
     "output_type": "stream",
     "text": [
      "\n"
     ]
    }
   ],
   "source": [
    "all_info = []\n",
    "from tqdm import tqdm\n",
    "for x in tqdm(XML_LIST):\n",
    "    all_info.extend(extract_xml_info(x))\n",
    "print()\n",
    "print(len(all_info))"
   ]
  },
  {
   "cell_type": "code",
   "execution_count": 14,
   "metadata": {},
   "outputs": [],
   "source": [
    "import pandas as pd\n",
    "\n",
    "columns = ['root_folder', 'sub_folder', 'xml_name', 'file_name', 'occluded', 'classes', 'polygon', 'subclass']\n",
    "target_list = ('crosswalk')\n",
    "\n",
    "pandas_dict = pd.DataFrame(all_info, columns=columns)\n",
    "\n",
    "pandas_dict.to_csv('crosswalk_temp.csv' ,header=True, index=False)"
   ]
  },
  {
   "cell_type": "code",
   "execution_count": 15,
   "metadata": {},
   "outputs": [
    {
     "name": "stdout",
     "output_type": "stream",
     "text": [
      "total data : 181794\t target data : 4887\n"
     ]
    }
   ],
   "source": [
    "target_frame = pandas_dict[pandas_dict['subclass'] == 'crosswalk']\n",
    "print(f'total data : {len(pandas_dict)}\\t target data : {len(target_frame)}')"
   ]
  },
  {
   "cell_type": "code",
   "execution_count": 16,
   "metadata": {},
   "outputs": [],
   "source": [
    "target_frame.to_csv('crosswalk.csv', header=True, index=False)"
   ]
  },
  {
   "cell_type": "code",
   "execution_count": null,
   "metadata": {},
   "outputs": [],
   "source": []
  }
 ],
 "metadata": {
  "interpreter": {
   "hash": "981f108a204f421f158e0977940335d851edffa6dd3586828a3e1aec045160e4"
  },
  "kernelspec": {
   "display_name": "final_project",
   "language": "python",
   "name": "python3"
  },
  "language_info": {
   "codemirror_mode": {
    "name": "ipython",
    "version": 3
   },
   "file_extension": ".py",
   "mimetype": "text/x-python",
   "name": "python",
   "nbconvert_exporter": "python",
   "pygments_lexer": "ipython3",
   "version": "3.7.11"
  },
  "orig_nbformat": 2
 },
 "nbformat": 4,
 "nbformat_minor": 2
}
